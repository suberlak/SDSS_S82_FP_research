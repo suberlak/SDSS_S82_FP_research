{
 "cells": [
  {
   "cell_type": "markdown",
   "metadata": {},
   "source": [
    "## Illustrate light curve seasons"
   ]
  },
  {
   "cell_type": "markdown",
   "metadata": {},
   "source": [
    "### Necessary imports"
   ]
  },
  {
   "cell_type": "code",
   "execution_count": 2,
   "metadata": {
    "collapsed": true
   },
   "outputs": [],
   "source": [
    "import pandas as pd\n",
    "pd.options.display.max_columns = 999\n",
    "from itertools import product\n",
    "import numpy as np\n",
    "import os \n",
    "import sys\n",
    "import matplotlib.pyplot as plt \n",
    "import matplotlib.gridspec as gridspec\n",
    "from matplotlib import rcParams\n",
    "import pandas as pd\n",
    "from scipy.stats import binned_statistic_2d\n",
    "from astropy.table import Table\n",
    "from astropy.table import vstack\n",
    "from astropy.table import Column\n",
    "\n",
    "import datetime\n",
    "\n",
    "import matplotlib.pyplot as plt\n",
    "from matplotlib import rcParams      \n",
    "rcParams['ytick.labelsize'] = 15\n",
    "rcParams['xtick.labelsize'] = 15\n",
    "rcParams['axes.labelsize'] = 20\n",
    "rcParams['axes.linewidth'] = 2\n",
    "rcParams['font.size'] = 15\n",
    "rcParams['axes.titlesize'] = 20"
   ]
  },
  {
   "cell_type": "markdown",
   "metadata": {},
   "source": [
    "### Read in a few  light curves ..."
   ]
  },
  {
   "cell_type": "code",
   "execution_count": 13,
   "metadata": {
    "collapsed": false
   },
   "outputs": [],
   "source": [
    "# Photometry in each small square patch was saved to  \n",
    "#  /rawDataFP/\n",
    "\n",
    "# When it was  sorted according to objID, the result was saved to \n",
    "#  /rawDataFPSplit/ \n",
    "#  g176_181  means   g filter,  from patch 176 to 181.  \n",
    "\n",
    "# easier to read with Pandas because I can limit nrows...\n",
    "DirIn = '../raw_data/rawDataFPSplit/'\n",
    "fp = pd.read_csv(DirIn + 'g00_21.csv.gz', nrows=2000)\n",
    "\n",
    "# then convert to AstroPy Table because it's much easier to handle ....\n",
    "fp_table = Table.from_pandas(fp)"
   ]
  },
  {
   "cell_type": "code",
   "execution_count": 14,
   "metadata": {
    "collapsed": false
   },
   "outputs": [],
   "source": [
    "objects = np.unique(fp_table['objectId'].data)\n",
    "mask = fp_table['objectId'].data == objects[0]\n",
    "# choose that one object data \n",
    "fp_object = fp_table[mask]"
   ]
  },
  {
   "cell_type": "code",
   "execution_count": 15,
   "metadata": {
    "collapsed": false
   },
   "outputs": [
    {
     "data": {
      "text/html": [
       "&lt;Table length=72&gt;\n",
       "<table id=\"table4651588744\" class=\"table-striped table-bordered table-condensed\">\n",
       "<thead><tr><th>id</th><th>objectId</th><th>exposure_id</th><th>mjd</th><th>psfFlux</th><th>psfFluxErr</th></tr></thead>\n",
       "<thead><tr><th>int64</th><th>int64</th><th>int64</th><th>float64</th><th>float64</th><th>float64</th></tr></thead>\n",
       "<tr><td>117783463527976604</td><td>216172782516437336</td><td>1755110376</td><td>51819.3563677</td><td>1.03803248351e-29</td><td>4.13446800369e-30</td></tr>\n",
       "<tr><td>223144362022804086</td><td>216172782516437336</td><td>3325110108</td><td>52522.3177491</td><td>2.04152426121e-29</td><td>4.64365604013e-30</td></tr>\n",
       "<tr><td>225493189241344494</td><td>216172782516437336</td><td>3360110361</td><td>52552.3132465</td><td>2.14556268438e-29</td><td>4.68142594621e-30</td></tr>\n",
       "<tr><td>227372234614769093</td><td>216172782516437336</td><td>3388110319</td><td>52558.3215413</td><td>1.54934787718e-29</td><td>4.67848473071e-30</td></tr>\n",
       "<tr><td>230459244640475912</td><td>216172782516437336</td><td>3434110353</td><td>52577.2093169</td><td>2.15435257072e-29</td><td>3.41845512626e-30</td></tr>\n",
       "<tr><td>232539611304299527</td><td>216172782516437336</td><td>3465110232</td><td>52586.2125967</td><td>1.28615503495e-29</td><td>3.9066436556e-30</td></tr>\n",
       "<tr><td>278173630637020086</td><td>216172782516437336</td><td>4145110110</td><td>52910.2931717</td><td>1.48143367624e-29</td><td>2.95176018477e-30</td></tr>\n",
       "<tr><td>281327763753802251</td><td>216172782516437336</td><td>4192110356</td><td>52931.2234663</td><td>2.44926303249e-29</td><td>4.55722491851e-30</td></tr>\n",
       "<tr><td>282065964546136376</td><td>216172782516437336</td><td>4203110405</td><td>52935.220414</td><td>1.09313411102e-29</td><td>3.37328795527e-30</td></tr>\n",
       "<tr><td>285018734630797813</td><td>216172782516437336</td><td>4247110108</td><td>52959.1634326</td><td>1.10426710804e-29</td><td>2.7771647584e-30</td></tr>\n",
       "<tr><td>...</td><td>...</td><td>...</td><td>...</td><td>...</td><td>...</td></tr>\n",
       "<tr><td>473594663744308926</td><td>216172782516437336</td><td>7057110425</td><td>54387.3257809</td><td>1.55035698808e-29</td><td>5.21239010818e-30</td></tr>\n",
       "<tr><td>475406603340743103</td><td>216172782516437336</td><td>7084110429</td><td>54394.308391</td><td>1.5741009965e-29</td><td>1.10229495436e-29</td></tr>\n",
       "<tr><td>475406603407858956</td><td>216172782516437336</td><td>7084110430</td><td>54394.3088057</td><td>1.30923791797e-29</td><td>1.07330013562e-29</td></tr>\n",
       "<tr><td>476547451814154993</td><td>216172782516437336</td><td>7101110396</td><td>54402.3190972</td><td>8.32295145756e-30</td><td>1.38839055046e-29</td></tr>\n",
       "<tr><td>478090957900743153</td><td>216172782516437336</td><td>7124110429</td><td>54407.2361978</td><td>2.46461156799e-29</td><td>9.6992305634e-30</td></tr>\n",
       "<tr><td>478896257826293118</td><td>216172782516437336</td><td>7136110333</td><td>54411.1911641</td><td>2.65965419513e-30</td><td>3.16076769594e-30</td></tr>\n",
       "<tr><td>479500244648727859</td><td>216172782516437336</td><td>7145110438</td><td>54413.2321082</td><td>1.21139986542e-29</td><td>5.32727271349e-30</td></tr>\n",
       "<tr><td>480372632835853190</td><td>216172782516437336</td><td>7158110035</td><td>54417.2337912</td><td>2.18766647465e-29</td><td>3.8854316925e-30</td></tr>\n",
       "<tr><td>480573987143816471</td><td>216172782516437336</td><td>7161110448</td><td>54418.2321912</td><td>1.40045005059e-29</td><td>3.38703183235e-30</td></tr>\n",
       "<tr><td>481379292236745355</td><td>216172782516437336</td><td>7173110429</td><td>54422.2366349</td><td>2.7260542826e-29</td><td>8.60264902079e-30</td></tr>\n",
       "</table>"
      ],
      "text/plain": [
       "<Table length=72>\n",
       "        id              objectId      ...      psfFlux          psfFluxErr   \n",
       "      int64              int64        ...      float64           float64     \n",
       "------------------ ------------------ ... ----------------- -----------------\n",
       "117783463527976604 216172782516437336 ... 1.03803248351e-29 4.13446800369e-30\n",
       "223144362022804086 216172782516437336 ... 2.04152426121e-29 4.64365604013e-30\n",
       "225493189241344494 216172782516437336 ... 2.14556268438e-29 4.68142594621e-30\n",
       "227372234614769093 216172782516437336 ... 1.54934787718e-29 4.67848473071e-30\n",
       "230459244640475912 216172782516437336 ... 2.15435257072e-29 3.41845512626e-30\n",
       "232539611304299527 216172782516437336 ... 1.28615503495e-29  3.9066436556e-30\n",
       "278173630637020086 216172782516437336 ... 1.48143367624e-29 2.95176018477e-30\n",
       "281327763753802251 216172782516437336 ... 2.44926303249e-29 4.55722491851e-30\n",
       "282065964546136376 216172782516437336 ... 1.09313411102e-29 3.37328795527e-30\n",
       "285018734630797813 216172782516437336 ... 1.10426710804e-29  2.7771647584e-30\n",
       "               ...                ... ...               ...               ...\n",
       "473594663744308926 216172782516437336 ... 1.55035698808e-29 5.21239010818e-30\n",
       "475406603340743103 216172782516437336 ...  1.5741009965e-29 1.10229495436e-29\n",
       "475406603407858956 216172782516437336 ... 1.30923791797e-29 1.07330013562e-29\n",
       "476547451814154993 216172782516437336 ... 8.32295145756e-30 1.38839055046e-29\n",
       "478090957900743153 216172782516437336 ... 2.46461156799e-29  9.6992305634e-30\n",
       "478896257826293118 216172782516437336 ... 2.65965419513e-30 3.16076769594e-30\n",
       "479500244648727859 216172782516437336 ... 1.21139986542e-29 5.32727271349e-30\n",
       "480372632835853190 216172782516437336 ... 2.18766647465e-29  3.8854316925e-30\n",
       "480573987143816471 216172782516437336 ... 1.40045005059e-29 3.38703183235e-30\n",
       "481379292236745355 216172782516437336 ...  2.7260542826e-29 8.60264902079e-30"
      ]
     },
     "execution_count": 15,
     "metadata": {},
     "output_type": "execute_result"
    }
   ],
   "source": [
    "# meaning forced photometry for an object...\n",
    "fp_object"
   ]
  },
  {
   "cell_type": "markdown",
   "metadata": {},
   "source": [
    "### Calculate seasonal averages ... "
   ]
  },
  {
   "cell_type": "code",
   "execution_count": 16,
   "metadata": {
    "collapsed": true
   },
   "outputs": [],
   "source": [
    "# Use the code from processPatch2.py \n",
    "\n",
    "# 2.1 :  make a new column to designate seasons...\n",
    "fp_object['season'] = np.nan"
   ]
  },
  {
   "cell_type": "code",
   "execution_count": 21,
   "metadata": {
    "collapsed": false
   },
   "outputs": [],
   "source": [
    "from astropy.time import Time\n",
    "# I make a list of boundaries between season start / end : \n",
    "# season_bounds\n",
    "# first it's a list with 2005-08-01 , 2006-08-01, etc...\n",
    "season_bounds = [str(year)+'-08-01 00:00:00.000' for year in \n",
    "                                           np.arange(2005,2009)]\n",
    "# Then I insert a very early date at the beginning of the list, \n",
    "season_bounds.insert(0,'1990-08-01 00:00:00.000' )\n",
    "# so that all epochs between\n",
    "# 1990 and 2005 are clustered together.\n",
    "# Thus 1990-08-01 - 2005-08-01  is Season1\n",
    "# 2005-2006  : Season2 ;  2006-2007 : Season3, etc.  \n",
    "# raw photometry is averaged here WITHIN each Season. \n",
    "\n",
    "# Use AstroPy Time module\n",
    "cutDates = Time(season_bounds, format='iso')\n",
    "seasons = np.arange(len(cutDates))+0 \n",
    "\n",
    "# Assign value of a season for each row...\n",
    "for i in range(len(cutDates.mjd)-1):\n",
    "    mask = (fp_object['mjd'].data > cutDates[i].mjd) * \\\n",
    "           (fp_object['mjd'].data < cutDates[i+1].mjd)\n",
    "    fp_object['season'][mask]  = seasons[i]  \n",
    "# this is better than raw_data[mask]['season'] : \n",
    "# somehow the order  matters \n"
   ]
  },
  {
   "cell_type": "code",
   "execution_count": 24,
   "metadata": {
    "collapsed": false
   },
   "outputs": [],
   "source": []
  },
  {
   "cell_type": "code",
   "execution_count": 134,
   "metadata": {
    "collapsed": false
   },
   "outputs": [
    {
     "data": {
      "image/png": "[encoded data removed]",
      "text/plain": [
       "<matplotlib.figure.Figure at 0x11b945e80>"
      ]
     },
     "metadata": {},
     "output_type": "display_data"
    }
   ],
   "source": [
    "# Use the variability functions to illustrate how we calculate seasonal averages\n",
    "path_to_home = '/Users/chris/GradResearch/'\n",
    "sys.path.insert(0, path_to_home + 'SDSS_S82_FP_research/packages/')\n",
    "import variabilityFunctions as varF\n",
    "\n",
    "# Illustrate the seasons, and plot seasonal mean and median ...\n",
    "fp_time = Time(fp_object['mjd'].data, format='mjd')\n",
    "\n",
    "%matplotlib inline\n",
    "fig,ax = plt.subplots(1,1, figsize=(8,6))\n",
    "f = 1e23*1e4\n",
    "Flux,FluxErr = f*fp_object['psfFlux'],f*fp_object['psfFluxErr']\n",
    "ax.scatter(fp_time.datetime, Flux, alpha=0.7)\n",
    "ax.errorbar(fp_time.datetime, Flux, \n",
    "            FluxErr, linestyle='None', color='g', lw=1, alpha=0.5 )\n",
    "\n",
    "# I mark vertically 1st of August of each year: \n",
    "# time between that is a season...    \n",
    "for date in cutDates.datetime[1:]:\n",
    "    ax.axvline(x = date, linestyle='--')\n",
    "    \n",
    "    \n",
    "ax.set_ylabel('Flux '+r'$ [10^{4} \\,\\,\\mathrm{Jansky}]$', fontsize=15)\n",
    "ax.tick_params(axis='both', which='major', labelsize=15)   \n",
    "fig.autofmt_xdate()\n",
    "\n",
    "# Calculate seasonal averages ... \n",
    "season_avg = {'meanMJD':np.ones(4, dtype=float),\n",
    "              'meanFlux':np.ones(4, dtype=float),\n",
    "              'meanFluxErr':np.ones(4, dtype=float),\n",
    "              'medianFlux':np.ones(4, dtype=float),\n",
    "              'medianFluxErr':np.ones(4, dtype=float)\n",
    "             }\n",
    "\n",
    "for season in seasons[:-1] : \n",
    "    mask = fp_object['season'].data == season\n",
    "    meanMJD = np.mean(fp_object['mjd'].data[mask])\n",
    "    season_avg['meanMJD'][season] =meanMJD\n",
    "    \n",
    "    Flux = f*fp_object['psfFlux'][mask].data\n",
    "    FluxErr =f* fp_object['psfFluxErr'][mask].data\n",
    "    \n",
    "    FluxWMean = varF.calcWeightedMean(Flux,FluxErr)\n",
    "    FluxWMeanErr = varF.calcWeightedMeanErr(FluxErr)\n",
    "    FluxMedian =  varF.calcMedian(Flux),\n",
    "    FluxMedianErr = np.sqrt(np.pi / 2)*FluxWMeanErr,\n",
    "    \n",
    "    season_avg['meanFlux'][season] = FluxWMean\n",
    "    season_avg['meanFluxErr'][season] = FluxWMeanErr\n",
    "    season_avg['medianFlux'][season] = FluxMedian[0]\n",
    "    season_avg['medianFluxErr'][season] = FluxMedianErr[0]\n",
    "season_table = Table(season_avg)\n",
    "season_mean_time = Time(season_table['meanMJD'], format='mjd')\n",
    "\n",
    "overplot_seasonal_mean = False\n",
    "if overplot_seasonal_mean :\n",
    "    ax.scatter(season_mean_time.datetime, season_table['meanFlux'], alpha=0.7)\n",
    "    ax.errorbar(season_mean_time.datetime, season_table['meanFlux'],\n",
    "                season_table['meanFluxErr'] , linestyle='None', \n",
    "                color='red', lw=2, alpha=0.5)\n",
    "\n",
    "overplot_seasonal_median = True\n",
    "if overplot_seasonal_median :\n",
    "    ax.scatter(season_mean_time.datetime, season_table['medianFlux'], \n",
    "               alpha=1, color='orange',s=43)\n",
    "    ax.errorbar(season_mean_time.datetime, season_table['medianFlux'],\n",
    "                season_table['medianFluxErr'] , linestyle='None', \n",
    "                color='red', lw=2, alpha=0.5)\n",
    "\n",
    "ax.set_title('objectId = '+str(objects[0]))\n",
    "plt.savefig('../data_products/Fig_illustrate_lighcurve_seasonal.png', bbox_inches='tight')"
   ]
  },
  {
   "cell_type": "code",
   "execution_count": 112,
   "metadata": {
    "collapsed": false
   },
   "outputs": [
    {
     "data": {
      "text/plain": [
       "array([datetime.datetime(2003, 5, 8, 16, 48, 13, 841944),\n",
       "       datetime.datetime(2005, 10, 24, 14, 18, 39, 679163),\n",
       "       datetime.datetime(2006, 10, 20, 3, 23, 10, 625169),\n",
       "       datetime.datetime(2007, 10, 22, 14, 41, 13, 987104)], dtype=object)"
      ]
     },
     "execution_count": 112,
     "metadata": {},
     "output_type": "execute_result"
    }
   ],
   "source": [
    "season_mean_time.datetime"
   ]
  },
  {
   "cell_type": "code",
   "execution_count": 107,
   "metadata": {
    "collapsed": false
   },
   "outputs": [
    {
     "data": {
      "text/plain": [
       "1.2144539468491235e-30"
      ]
     },
     "execution_count": 107,
     "metadata": {},
     "output_type": "execute_result"
    }
   ],
   "source": [
    "FluxWMeanErr"
   ]
  },
  {
   "cell_type": "code",
   "execution_count": null,
   "metadata": {
    "collapsed": true
   },
   "outputs": [],
   "source": []
  }
 ],
 "metadata": {
  "kernelspec": {
   "display_name": "Python 3",
   "language": "python",
   "name": "python3"
  },
  "language_info": {
   "codemirror_mode": {
    "name": "ipython",
    "version": 3
   },
   "file_extension": ".py",
   "mimetype": "text/x-python",
   "name": "python",
   "nbconvert_exporter": "python",
   "pygments_lexer": "ipython3",
   "version": "3.6.0"
  }
 },
 "nbformat": 4,
 "nbformat_minor": 2
}

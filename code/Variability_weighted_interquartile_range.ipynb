{
 "cells": [
  {
   "cell_type": "code",
   "execution_count": 5,
   "metadata": {
    "collapsed": true
   },
   "outputs": [],
   "source": [
    "import numpy as np \n",
    "import matplotlib.pyplot as plt \n",
    "import sys"
   ]
  },
  {
   "cell_type": "markdown",
   "metadata": {},
   "source": [
    "Aim : Compare 'code 1' vs 'code 2' approaches to calculating Inter Quartile Range (IQR).  I need that because one of the things I need to calculate for the posterior PDF in calculating $\\mu$, $\\sigma$ using the AstroML 5.8 approach, is the median, which essentially requires a weighted IQR. "
   ]
  },
  {
   "cell_type": "markdown",
   "metadata": {},
   "source": [
    "## code 1 : weighted stats package "
   ]
  },
  {
   "cell_type": "code",
   "execution_count": 121,
   "metadata": {
    "collapsed": false
   },
   "outputs": [],
   "source": [
    "# code for median : a bit more complex... Use that for now : \n",
    "#https://github.com/tinybike/weightedstats/blob/master/weightedstats/__init__.py\n",
    "# https://pypi.python.org/pypi/weightedstats/0.2    \n",
    "import weightedstats as ws\n",
    "\n",
    "# usage  : \n",
    "#ws.numpy_weighted_median(data, weights)\n",
    "# marginally faster (72 microseconds vs 80 microseconds  for a lightcurve of N=100 points)\n",
    "\n",
    "    "
   ]
  },
  {
   "cell_type": "code",
   "execution_count": 127,
   "metadata": {
    "collapsed": false
   },
   "outputs": [
    {
     "data": {
      "text/plain": [
       "0.0"
      ]
     },
     "execution_count": 127,
     "metadata": {},
     "output_type": "execute_result"
    }
   ],
   "source": [
    "# Try executing this code line by line, to find out what does it do...\n",
    "\n",
    "# This is a pdf of a Gaussian. Thus by all means, we expect the mean and median to be 0. \n",
    "x = np.linspace(norm.ppf(0.01),\n",
    "              norm.ppf(0.99), 100)\n",
    "y = norm.pdf(x)\n",
    "\n",
    "data = x\n",
    "weights = y\n",
    "\n",
    "ws.numpy_weighted_median(x,y)\n"
   ]
  },
  {
   "cell_type": "code",
   "execution_count": 6,
   "metadata": {
    "collapsed": false
   },
   "outputs": [
    {
     "name": "stdout",
     "output_type": "stream",
     "text": [
      "10000 loops, best of 3: 72.4 µs per loop\n"
     ]
    }
   ],
   "source": [
    "result = %timeit -o ws.numpy_weighted_median(a,w)\n",
    "t_msec = result.best*1000"
   ]
  },
  {
   "cell_type": "code",
   "execution_count": 8,
   "metadata": {
    "collapsed": false
   },
   "outputs": [
    {
     "name": "stdout",
     "output_type": "stream",
     "text": [
      "10000 loops, best of 3: 80 µs per loop\n"
     ]
    }
   ],
   "source": [
    "result = %timeit -o ws.weighted_median(a,w)\n",
    "t_msec = result.best*1000"
   ]
  },
  {
   "cell_type": "markdown",
   "metadata": {},
   "source": [
    "## code 2 : weighted quantile "
   ]
  },
  {
   "cell_type": "code",
   "execution_count": 70,
   "metadata": {
    "collapsed": true
   },
   "outputs": [],
   "source": [
    "def quantile_1D(data, weights, quantile):\n",
    "    \"\"\"\n",
    "    Compute the weighted quantile of a 1D numpy array.\n",
    "    Parameters\n",
    "    ----------\n",
    "    data : ndarray\n",
    "        Input array (one dimension).\n",
    "    weights : ndarray\n",
    "        Array with the weights of the same size of `data`.\n",
    "    quantile : float\n",
    "        Quantile to compute. It must have a value between 0 and 1.\n",
    "    Returns\n",
    "    -------\n",
    "    quantile_1D : float\n",
    "        The output value.\n",
    "    \"\"\"\n",
    "    # Check the data\n",
    "    if not isinstance(data, np.matrix):\n",
    "        data = np.asarray(data)\n",
    "    if not isinstance(weights, np.matrix):\n",
    "        weights = np.asarray(weights)\n",
    "    nd = data.ndim\n",
    "    if nd != 1:\n",
    "        raise TypeError(\"data must be a one dimensional array\")\n",
    "    ndw = weights.ndim\n",
    "    if ndw != 1:\n",
    "        raise TypeError(\"weights must be a one dimensional array\")\n",
    "    if data.shape != weights.shape:\n",
    "        raise TypeError(\"the length of data and weights must be the same\")\n",
    "    if ((quantile > 1.) or (quantile < 0.)):\n",
    "        raise ValueError(\"quantile must have a value between 0. and 1.\")\n",
    "    # Sort the data\n",
    "    ind_sorted = np.argsort(data)\n",
    "    sorted_data = data[ind_sorted]\n",
    "    sorted_weights = weights[ind_sorted]\n",
    "    # Compute the auxiliary arrays\n",
    "    Sn = np.cumsum(sorted_weights)\n",
    "    # TODO: Check that the weights do not sum zero\n",
    "    #assert Sn != 0, \"The sum of the weights must not be zero\"\n",
    "    # -0.5*sorted_weights\n",
    "    Pn = (Sn)/np.sum(sorted_weights)\n",
    "    # Get the value of the weighted median\n",
    "    return np.interp(quantile, Pn, sorted_data)"
   ]
  },
  {
   "cell_type": "code",
   "execution_count": 11,
   "metadata": {
    "collapsed": false
   },
   "outputs": [
    {
     "name": "stdout",
     "output_type": "stream",
     "text": [
      "The slowest run took 5.86 times longer than the fastest. This could mean that an intermediate result is being cached.\n",
      "100000 loops, best of 3: 14.8 µs per loop\n"
     ]
    }
   ],
   "source": [
    "result = %timeit -o quantile_1D(a,w, 0.5)"
   ]
  },
  {
   "cell_type": "markdown",
   "metadata": {},
   "source": [
    "so it is faster than the ws.numpy_weighted_median code... Check whether they are consistent! \n",
    "\n"
   ]
  },
  {
   "cell_type": "code",
   "execution_count": 52,
   "metadata": {
    "collapsed": false
   },
   "outputs": [],
   "source": [
    "iterations = 100000\n",
    "code_1_median = np.zeros(iterations)\n",
    "code_2_median = np.zeros(iterations)\n",
    "\n",
    "for i in range(int(iterations)):\n",
    "    # we draw 70 pts because that's how many points we have \n",
    "    # on a posterior PDF grid in AstroML 5.8 \n",
    "    d = np.random.normal(loc=0.0, scale=1.0, size=70)\n",
    "    w = np.ones_like(d)\n",
    "    w = np.random.random(70)\n",
    "    code_1_median[i] = ws.numpy_weighted_median(d,w)\n",
    "    code_2_median[i] = quantile_1D(d,w,0.5)\n"
   ]
  },
  {
   "cell_type": "code",
   "execution_count": 84,
   "metadata": {
    "collapsed": true
   },
   "outputs": [],
   "source": []
  },
  {
   "cell_type": "code",
   "execution_count": 89,
   "metadata": {
    "collapsed": false
   },
   "outputs": [
    {
     "data": {
      "text/plain": [
       "0.20878593868819043"
      ]
     },
     "execution_count": 89,
     "metadata": {},
     "output_type": "execute_result"
    }
   ],
   "source": [
    "np.mean(y)"
   ]
  },
  {
   "cell_type": "code",
   "execution_count": 128,
   "metadata": {
    "collapsed": false
   },
   "outputs": [
    {
     "data": {
      "text/plain": [
       "<matplotlib.collections.PathCollection at 0x11ace0438>"
      ]
     },
     "execution_count": 128,
     "metadata": {},
     "output_type": "execute_result"
    },
    {
     "data": {
      "image/png": "[encoded data removed]",
      "text/plain": [
       "<matplotlib.figure.Figure at 0x11ace00b8>"
      ]
     },
     "metadata": {},
     "output_type": "display_data"
    }
   ],
   "source": [
    "from scipy.stats import norm\n",
    "\n",
    "x = np.linspace(norm.ppf(0.01),\n",
    "              norm.ppf(0.99), 100)\n",
    "fig,ax = plt.subplots()\n",
    "ax.scatter(x, norm.pdf(x),label='norm pdf')"
   ]
  },
  {
   "cell_type": "code",
   "execution_count": 228,
   "metadata": {
    "collapsed": false
   },
   "outputs": [],
   "source": [
    "iterations = 10000\n",
    "code_1_median = np.zeros(iterations)\n",
    "code_2_median = np.zeros(iterations)\n",
    "\n",
    "\n",
    "for i in range(int(iterations)):\n",
    "    d = np.linspace(norm.ppf(0.01), norm.ppf(0.99), 100)\n",
    "    w  = norm.pdf(x)\n",
    "    code_1_median[i] = calcWeightedPercentile(d,w)\n",
    "    #code_2_median[i] = quantile_1D(d,w,0.5)"
   ]
  },
  {
   "cell_type": "code",
   "execution_count": 229,
   "metadata": {
    "collapsed": false
   },
   "outputs": [
    {
     "data": {
      "text/plain": [
       "array([ 0.,  0.,  0., ...,  0.,  0.,  0.])"
      ]
     },
     "execution_count": 229,
     "metadata": {},
     "output_type": "execute_result"
    }
   ],
   "source": [
    "code_1_median"
   ]
  },
  {
   "cell_type": "markdown",
   "metadata": {},
   "source": [
    "## Conclusion"
   ]
  },
  {
   "cell_type": "markdown",
   "metadata": {},
   "source": [
    "code 1 performs well , and I wouldn't worry about why code 2 doesn't do what I would expect. After all, there may be plenty of other codes, and I don't need to justify why I use one over the other.  In fact, I understand what the first one does, and it makes sense, so I just expand its functionality to calculate any percentile, not just median. "
   ]
  },
  {
   "cell_type": "code",
   "execution_count": 6,
   "metadata": {
    "collapsed": true
   },
   "outputs": [],
   "source": [
    "def calcWeightedPercentile(data, weights=None, percentile = 50):\n",
    "    \"\"\"Calculate the weighted percentile of an array\n",
    "    Given a vector V, a q-th percentile of V is the value q/100 \n",
    "    of the way from minimum to maximum of the sorted array V.  \n",
    "    With weights , we find the q/100 point of the sorted weights,\n",
    "    and take that value of the data. \n",
    "    \"\"\"\n",
    "    import numpy as np\n",
    "    # if there are actually no weights, then pass it on to regular percentile \n",
    "    if weights is None:\n",
    "        return np.percentile(np.array(data).flatten(), percentile)\n",
    "    data, weights = np.array(data).flatten(), np.array(weights).flatten()\n",
    "    if any(weights > 0):\n",
    "        # 1) sort the data and weights: \n",
    "        # first : zip(data,weights) gives a list of tuples: [(data1, weight1),(data2,weight2), ()....]\n",
    "        # second: sorted sorts these according to data : \n",
    "        # example: data = [  2,   5,   1,   7,    3]  ,  \n",
    "        #       weights = [0.1, 0.2, 0.3, 0.1, 0.05]\n",
    "        # sorted(zip(data,weights))  yields [(1, 0.3), (2, 0.1), (3, 0.05), (5, 0.2), (7, 0.1)] \n",
    "        sorted_data, sorted_weights = map(np.array, zip(*sorted(zip(data, weights))))\n",
    "        \n",
    "        # 2) calculate the fraction to which we need to go. For median fraction=0.5\n",
    "        fraction =  percentile / 100.0\n",
    "        midpoint = fraction * sum(sorted_weights)\n",
    "        \n",
    "        # 3) check here if there is any weight that is way bigger than the rest, i.e. \n",
    "        # given the sum of sorted_weights, is there any weight that contributes more than the \n",
    "        # fraction point q/100 ? If there is , then q/100 will be on the datapoint corresponding to \n",
    "        # that weight  \n",
    "        # example : data = [  2,   5,   1,   7,    3] ,  \n",
    "        #         weights = [0.1, 10, 0.3, 0.2, 0.05])\n",
    "        # for 50-th percentile, midpoint = 5.32 , so we see that the datapoint 5 has such a large weight \n",
    "        # that indeed any(weights > midpoint) == True ,  so that we want to return \n",
    "        # the datapoint with that huge weight . \n",
    "        # Note : It does not happen if there are two or more points \n",
    "        # in a dataset with large weight, so this if statement is only catching the case of one datapoint\n",
    "        # with weightmuch greater than other points \n",
    "        if any(weights > midpoint):\n",
    "            return (data[weights == np.max(weights)])[0]\n",
    "        \n",
    "        # 4) if there isn't any datapoint with exceedingly large weight, \n",
    "        # then calculate the cumulative sum of weights, and find out the \n",
    "        # datapoint corresponding to the position just below the midpoint \n",
    "        cumulative_weight = np.cumsum(sorted_weights)\n",
    "        below_midpoint_index = np.where(cumulative_weight <= midpoint)[0][-1]\n",
    "        \n",
    "        # 5) if this is almost the same, then return that value \n",
    "        if cumulative_weight[below_midpoint_index] - midpoint < sys.float_info.epsilon:\n",
    "            return np.mean(sorted_data[below_midpoint_index:below_midpoint_index+2])\n",
    "        return sorted_data[below_midpoint_index+1]\n",
    "    "
   ]
  },
  {
   "cell_type": "code",
   "execution_count": 51,
   "metadata": {
    "collapsed": false
   },
   "outputs": [
    {
     "data": {
      "image/png": "[encoded data removed]",
      "text/plain": [
       "<matplotlib.figure.Figure at 0x116723518>"
      ]
     },
     "metadata": {},
     "output_type": "display_data"
    }
   ],
   "source": [
    "%matplotlib inline\n",
    "\n",
    "from matplotlib import rcParams      \n",
    "rcParams['ytick.labelsize'] = 20\n",
    "rcParams['xtick.labelsize'] = 20\n",
    "rcParams['axes.labelsize'] = 25\n",
    "rcParams['axes.linewidth'] = 2\n",
    "rcParams['font.size'] = 20\n",
    "\n",
    "\n",
    "data = [  2,   5,   1,   7,    3]\n",
    "weights = [0.1, 0.6, 0.3, 0.2, 0.05]\n",
    "data, weights = np.array(data).flatten(), np.array(weights).flatten()\n",
    "sorted_data, sorted_weights = map(np.array, zip(*sorted(zip(data, weights))))\n",
    "\n",
    "plt.scatter(data,weights, s=100)\n",
    "plt.ylabel('weights')\n",
    "plt.xlabel('data')\n",
    "plt.grid()\n",
    "plt.tight_layout()\n",
    "plt.savefig('../data_products/01.25_IQR_illustrate_dataset.png')"
   ]
  },
  {
   "cell_type": "code",
   "execution_count": 44,
   "metadata": {
    "collapsed": false
   },
   "outputs": [
    {
     "data": {
      "text/plain": [
       "array([1, 2, 3, 5, 7])"
      ]
     },
     "execution_count": 44,
     "metadata": {},
     "output_type": "execute_result"
    }
   ],
   "source": [
    "sorted_data"
   ]
  },
  {
   "cell_type": "code",
   "execution_count": 46,
   "metadata": {
    "collapsed": false
   },
   "outputs": [
    {
     "data": {
      "text/plain": [
       "0.625"
      ]
     },
     "execution_count": 46,
     "metadata": {},
     "output_type": "execute_result"
    }
   ],
   "source": [
    "midpoint"
   ]
  },
  {
   "cell_type": "code",
   "execution_count": 53,
   "metadata": {
    "collapsed": false
   },
   "outputs": [
    {
     "data": {
      "image/png": "[encoded data removed]",
      "text/plain": [
       "<matplotlib.figure.Figure at 0x117b10ba8>"
      ]
     },
     "metadata": {},
     "output_type": "display_data"
    }
   ],
   "source": [
    "%matplotlib inline\n",
    "data = [  2,   5,   1,   7,    3]\n",
    "weights = [0.1, 0.6, 0.3, 0.2, 0.05]\n",
    "data, weights = np.array(data).flatten(), np.array(weights).flatten()\n",
    "sorted_data, sorted_weights = map(np.array, zip(*sorted(zip(data, weights))))\n",
    "\n",
    "percentile = 50 \n",
    "fraction =  percentile / 100.0\n",
    "midpoint = fraction * sum(sorted_weights)\n",
    "\n",
    "cumulative_weight = np.cumsum(sorted_weights)\n",
    "below_midpoint_index = np.where(cumulative_weight <= midpoint)[0][-1]\n",
    "        \n",
    "\n",
    "plt.plot(sorted_data, cumulative_weight, ls='--', lw=4)\n",
    "plt.scatter(sorted_data, cumulative_weight, s=100)\n",
    "plt.plot(sorted_data[below_midpoint_index],cumulative_weight[below_midpoint_index], marker='d',\n",
    "             c='orange', lw=0, markersize=15)\n",
    "plt.axhline(midpoint, ls='--', color='red', lw=4)   \n",
    "plt.plot(sorted_data[below_midpoint_index+1],cumulative_weight[below_midpoint_index+1], marker='d',\n",
    "             c='green', lw=0, markersize=15)\n",
    "plt.xlabel('sorted data')\n",
    "plt.ylabel('cum weights')\n",
    "\n",
    "if cumulative_weight[below_midpoint_index] - midpoint < sys.float_info.epsilon:\n",
    "    median =  np.mean(sorted_data[below_midpoint_index:below_midpoint_index+2])\n",
    "else:\n",
    "    median  = sorted_data[below_midpoint_index+1]\n",
    "    \n",
    "plt.axvline(median, ls='-.', lw=4, c='magenta')\n",
    "plt.grid()\n",
    "plt.tight_layout()\n",
    "plt.savefig('../data_products/01.25_IQR_illustrate.png')"
   ]
  },
  {
   "cell_type": "markdown",
   "metadata": {},
   "source": [
    "Above is the illustration of that code : the horizontal red dashed line is the midpoint : $q / 100 * \\sum{(sorted \\, weights)}$.  The orange diamond marks the last point below midpoint : sorted_data[below_midpoint_index].   If the y value of the orange point is smaller than  the midpoint line, then we return the mean of orange and green points (magenta line). Otherwise, we return the x-value  of  the green point.  "
   ]
  },
  {
   "cell_type": "markdown",
   "metadata": {},
   "source": [
    "Simulate  : a Gaussian PDF : median ought be 0. "
   ]
  },
  {
   "cell_type": "code",
   "execution_count": 254,
   "metadata": {
    "collapsed": false
   },
   "outputs": [],
   "source": [
    "iterations = 10000\n",
    "code_1_median = np.zeros(iterations)\n",
    "\n",
    "for i in range(int(iterations)):\n",
    "    d = np.linspace(norm.ppf(0.01), norm.ppf(0.99), 100)\n",
    "    w  = norm.pdf(x)\n",
    "    code_1_median[i] = calcWeightedPercentile(d,w)\n",
    "   "
   ]
  },
  {
   "cell_type": "code",
   "execution_count": 9,
   "metadata": {
    "collapsed": false
   },
   "outputs": [
    {
     "data": {
      "text/plain": [
       "'/Users/chris/GradResearch/SDSS_S82_FP_research/code'"
      ]
     },
     "execution_count": 9,
     "metadata": {},
     "output_type": "execute_result"
    }
   ],
   "source": [
    "pwd"
   ]
  },
  {
   "cell_type": "markdown",
   "metadata": {},
   "source": [
    "Works well!   I conclude this as finished. I add this function to variabilityFunction.py package \n",
    "\n"
   ]
  },
  {
   "cell_type": "code",
   "execution_count": null,
   "metadata": {
    "collapsed": true
   },
   "outputs": [],
   "source": []
  }
 ],
 "metadata": {
  "anaconda-cloud": {},
  "kernelspec": {
   "display_name": "Python [Root]",
   "language": "python",
   "name": "Python [Root]"
  },
  "language_info": {
   "codemirror_mode": {
    "name": "ipython",
    "version": 3
   },
   "file_extension": ".py",
   "mimetype": "text/x-python",
   "name": "python",
   "nbconvert_exporter": "python",
   "pygments_lexer": "ipython3",
   "version": "3.5.2"
  }
 },
 "nbformat": 4,
 "nbformat_minor": 0
}

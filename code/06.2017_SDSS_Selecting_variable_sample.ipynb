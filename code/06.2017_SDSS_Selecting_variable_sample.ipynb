{
 "cells": [
  {
   "cell_type": "markdown",
   "metadata": {},
   "source": [
    "# Differential Counts"
   ]
  },
  {
   "cell_type": "markdown",
   "metadata": {},
   "source": [
    "I take code from 03.2017_SDSS_S82_Hess_diagrams,  to make all more manageable.\n",
    "\n",
    "Anything here is meant to directly reproduce Fig.1  from Ivezic+2004 : differential counts of objects, selected by color cuts, or chi2 and color, cuts. "
   ]
  },
  {
   "cell_type": "markdown",
   "metadata": {},
   "source": [
    "## Read-in the data "
   ]
  },
  {
   "cell_type": "code",
   "execution_count": 2,
   "metadata": {
    "collapsed": true
   },
   "outputs": [],
   "source": [
    "import pandas as pd\n",
    "pd.options.display.max_columns = 999\n",
    "from itertools import product\n",
    "import numpy as np\n",
    "import os \n",
    "import sys\n",
    "import matplotlib.pyplot as plt \n",
    "import matplotlib.gridspec as gridspec\n",
    "from matplotlib import rcParams\n",
    "\n",
    "from scipy.stats import binned_statistic_2d\n",
    "from astropy.table import Table\n",
    "from astropy.table import vstack\n",
    "from astropy.table import Column\n",
    "\n",
    "import datetime"
   ]
  },
  {
   "cell_type": "code",
   "execution_count": 4,
   "metadata": {
    "collapsed": false
   },
   "outputs": [
    {
     "name": "stdout",
     "output_type": "stream",
     "text": [
      "CPU times: user 1 µs, sys: 0 ns, total: 1 µs\n",
      "Wall time: 4.77 µs\n",
      "CPU times: user 1e+03 ns, sys: 0 ns, total: 1e+03 ns\n",
      "Wall time: 4.05 µs\n",
      "We have 5748625 rows\n"
     ]
    }
   ],
   "source": [
    "%time \n",
    "# NCSA \n",
    "# using astropy Table : discussion about speed \n",
    "# https://github.com/astropy/astropy/issues/3334 \n",
    "\n",
    "# In the last resort : line-by-line ascii approach\n",
    "# http://hea-www.harvard.edu/~aldcroft/tmp/p4a/hamogu/html/files/asciifiles.html\n",
    "    \n",
    "# old processing ( using old error even for faint objects, instead of \n",
    "# using the new faintRMS ).  \n",
    "# fname1 =  'Var_ugriz_11_patches_NCSA_narrow.csv' \n",
    "# fname2 =  'Var_ugriz_11_patches_IN2P3_narrow.csv.gz' \n",
    "\n",
    "fname1 = 'VarD_ugriz_11_patches_NCSA_narrow_all.csv.gz'\n",
    "fname2 = 'VarD_ugriz_11_patches_IN2P3_narrow_all.csv.gz'\n",
    "\n",
    "DirIn = '../data_products/varMetricsMerged/'\n",
    "\n",
    "\n",
    "nrows = 3e6\n",
    "if nrows  : # if we want to limit the number of rows read in ... \n",
    "    # NCSA\n",
    "    data1_df = pd.read_csv(DirIn+fname1, compression='gzip', \n",
    "                     nrows=nrows )\n",
    "    data1 = Table.from_pandas(data1_df)\n",
    "    # IN2P3\n",
    "    data2_df = pd.read_csv(DirIn+fname2, compression='gzip', \n",
    "                     nrows=nrows )\n",
    "    data2 = Table.from_pandas(data2_df)\n",
    "    \n",
    "else : # if no need to limit number of rows ... \n",
    "    data1 = Table.read(DirIn+fname1, format='csv')\n",
    "    data2 = Table.read(DirIn+fname2, format='csv')\n",
    "\n",
    "%time\n",
    "# add a column saying which site is the data from ... \n",
    "new_col = Column(name='site',data= np.zeros_like(data1['patch']))\n",
    "new_col[:] = 'NCSA'\n",
    "data1.add_column(new_col)\n",
    "\n",
    "# add a column saying which site is the data from ... \n",
    "new_col = Column(name='site',data= np.zeros_like(data2['patch']))\n",
    "new_col[:] = 'IN2P3'\n",
    "data2.add_column(new_col)\n",
    "\n",
    "# Identical columns :\n",
    "assert np.sum(np.in1d(data1.colnames, data2.colnames)) == len(data1.colnames)\n",
    "\n",
    "# stack the two vertically ( rows over rows,  since the columns ARE IDENTICAL )\n",
    "# this is even faster than any other merge, etc. \n",
    "data = vstack([data1, data2])\n",
    "\n",
    "print('We have %d rows'%len(data))"
   ]
  },
  {
   "cell_type": "markdown",
   "metadata": {},
   "source": [
    "## Plot the Fig.1 Ivezic+2004 : differential counts "
   ]
  },
  {
   "cell_type": "code",
   "execution_count": null,
   "metadata": {
    "collapsed": true
   },
   "outputs": [],
   "source": [
    "# Find out what is the area by plotting the scatter of ra, dec \n",
    "\n",
    "plt.scatter(data['ra'][m], data['decl'][m], s=0.02)"
   ]
  },
  {
   "cell_type": "code",
   "execution_count": null,
   "metadata": {
    "collapsed": true
   },
   "outputs": [],
   "source": [
    "def plot_diff_counts(intercept):\n",
    "    ''' A convenience function to plot the differential counts, \n",
    "    i.e. bottom two panels of Fig.1 of Ivezic+2004.  \n",
    "    \n",
    "    Input : \n",
    "    --------\n",
    "    mag :  magnitude along which to plot the counts \n",
    "    \n",
    "    \n",
    "    '''"
   ]
  },
  {
   "cell_type": "code",
   "execution_count": null,
   "metadata": {
    "collapsed": true
   },
   "outputs": [],
   "source": [
    "def plot_all_panels(data=None, var=None, bounds=None, area=None):\n",
    "    ''' A convenience function to plot all four panels \n",
    "    from Fig.1 Ivezic+2004. We use a function \n",
    "    plot_diff_counts() to plot the differential counts\n",
    "    (bottom two panels). \n",
    "    \n",
    "    Input: \n",
    "    ------\n",
    "    data :  an AstroPy Table that contains columns with  {u,g,r}+'psfMean_all' , \n",
    "    'g'+{chi2DOF, chi2R}+'_all', i.e. all data to plot . Default : None\n",
    "    \n",
    "    var : a string that defines how we should cut on variability. NOTE : \n",
    "    this applies to ALL the data before plotting, not just selecting QSO! \n",
    "    Possible choices include  's0',  's0a', 's1', 's2a', 's2b' : all these\n",
    "    denote different regions in chi2R - chi2DOF space . Default : None. \n",
    "    If var= None, we select only by color.  \n",
    "    \n",
    "    bounds : a float or tuple of floats,  that defines chi2 bounds needed \n",
    "    for different regions.  For 's0', 's1', 's2a',  bounds is a float, \n",
    "    by default = 2 .   For 's0a', it is a tuple of floats  : [1,1.5],  \n",
    "    [1.5,2] are possible choices\n",
    "    \n",
    "    intercept :  a pair of floats allowing to move the diagonal lines \n",
    "    on bottom two plots (differential counts) up or down.  It is a tuple\n",
    "    [intercept1,  intercept2], where the first value defines the intercept \n",
    "    for the left line (with slope 0.75), and the second value : for the \n",
    "    right line (with slope 0.30) - see Ivezic+2004 Fig.1 for explanation. \n",
    "    \n",
    "    area : area of the patch of the sky from which the data comes , \n",
    "    to calculate differential counts [ in square degrees]. \n",
    "    \n",
    "    Returns : \n",
    "    ------\n",
    "    None\n",
    "    '''\n",
    "    # make aliases for the data ... \n",
    "    \n",
    "    chi2R = data['gchi2R'+suffix].data.data\n",
    "    chi2DOF = data['gchi2DOF'+suffix].data.data\n",
    "    extendedness = data['extendedness'].data.data\n",
    "    g = data['gpsfMean'+suffix].data.data\n",
    "    r = data['rpsfMean'+suffix].data.data\n",
    "    u = data['upsfMean'+suffix].data.data\n",
    "\n",
    "    \n",
    "    # general cuts : magnitude and color  \n",
    "    mask_ext = extendedness == e \n",
    "    mask_ug = (-0.5 < (u-g)) * ((u-g) < 1.5) \n",
    "    mask_u  = u < 23.5\n",
    "    mask_color = mask_ug * mask_u \n",
    "   \n",
    "    print('The area is %.3f sq.degrees'%area)  \n",
    "    \n",
    "    title_color = \n",
    "    \n",
    "    if var :  \n",
    "        # add variability  cuts ... \n",
    "        if var is 's0' :\n",
    "            \n",
    "            title_var = \n",
    "            mask_var = \n",
    "            \n",
    "        if var is 's0a' : \n",
    "            \n",
    "        if var is 's1' : \n",
    "            \n",
    "        if var is 's2a':  \n",
    "            \n",
    "            \n",
    "            \n",
    "        if var is 's2b' : \n",
    "        \n",
    "        \n",
    "        m = mask_color * mask_ext * mask_var \n",
    "    else :\n",
    "        m = mask_color * mask_ext \n",
    "    \n",
    "    nObj = np.sum(m)\n",
    "    print('We have %d objects to start with '%nObj)\n",
    "    \n",
    "    # initialize plotting space \n",
    "    fig,axs = plt.subplots(2,2,figsize=(12,12))\n",
    "    ax = np.ravel(axs)\n",
    "    # plot settings : linewidth, linestyle, density and dash length ,\n",
    "    # dot size \n",
    "    lw = 2; ls = '--' ; dashes = (5, 5); size=0.002\n",
    "    \n",
    "    \n",
    "    # plot upper left panel  : u-g vs u \n",
    "    ug = u[m]-g[m]\n",
    "    gr = g[m]-r[m]\n",
    "    u = u[m]\n",
    "    ax[0].scatter(ug,u, s=size)\n",
    "    ax[0].invert_yaxis()\n",
    "    ax[0].set_xlabel('u-g')\n",
    "    ax[0].set_ylabel('u')\n",
    "    # plot the two vertical lines at u=0.6 and 0.8 \n",
    "    ax[0].axvline(0.6, lw=lw, ls=ls, c='r', dashes=dashes)\n",
    "    ax[0].axvline(0.8, lw=lw, ls=ls, c='r', dashes=dashes)\n",
    "\n",
    "    # plot upper right panel : u-g vs g-r \n",
    "    ax[1].scatter(ug,gr, s=size)\n",
    "    ax[1].set_ylim(-0.6, 0.7)\n",
    "    # plot the two vertical lines at u=0.6 and 0.8 \n",
    "    ax[1].axvline(0.6, lw=lw, ls=ls, dashes=dashes)\n",
    "    ax[1].axvline(0.8, lw=lw, ls=ls, dashes=dashes)\n",
    "    ax[1].set_xlabel('u-g')\n",
    "    ax[1].set_ylabel('g-r')\n",
    "    # get the lims to plot the horizontal line \n",
    "    x1,x2 = ax[1].get_xlim()\n",
    "    \n",
    "    \n",
    "    \n",
    "    # plot bottom left and bottom right : diff counts \n",
    "    # in u and r \n",
    "    \n",
    "    # assemble all masks together \n",
    "    # settings for the diff counts\n",
    "    masks_diff_counts = [mask_qso, mask_trans, mask_hots]\n",
    "    \n",
    "    \n",
    "    for mag, label, ax in zip([u[m], r[m]], ['u','r'], [ax[2], ax[3]]):\n",
    "        plot_diff_counts(mag, )\n",
    "        \n",
    "        \n",
    "    colors = ['red', 'green', 'blue']\n",
    "    symbols = ['o', '^', 's'] # https://matplotlib.org/api/markers_api.html\n",
    "    sizes = [10,6,6]\n",
    "    dm = 0.2\n",
    "    nbins   = np.arange(17,24,dm)    \n",
    "        \n",
    "   \n",
    "    \n",
    "   \n",
    "    \n",
    "    \n",
    "    # plot a separate panel with diff counts in g  \n",
    "    \n",
    "    \n",
    "    \n",
    "        "
   ]
  },
  {
   "cell_type": "code",
   "execution_count": null,
   "metadata": {
    "collapsed": true
   },
   "outputs": [],
   "source": []
  },
  {
   "cell_type": "code",
   "execution_count": null,
   "metadata": {
    "collapsed": true
   },
   "outputs": [],
   "source": []
  },
  {
   "cell_type": "code",
   "execution_count": null,
   "metadata": {
    "collapsed": true
   },
   "outputs": [],
   "source": []
  },
  {
   "cell_type": "code",
   "execution_count": null,
   "metadata": {
    "collapsed": true
   },
   "outputs": [],
   "source": []
  },
  {
   "cell_type": "code",
   "execution_count": null,
   "metadata": {
    "collapsed": true
   },
   "outputs": [],
   "source": []
  },
  {
   "cell_type": "code",
   "execution_count": null,
   "metadata": {
    "collapsed": true
   },
   "outputs": [],
   "source": []
  }
 ],
 "metadata": {
  "kernelspec": {
   "display_name": "Python 3",
   "language": "python",
   "name": "python3"
  },
  "language_info": {
   "codemirror_mode": {
    "name": "ipython",
    "version": 3
   },
   "file_extension": ".py",
   "mimetype": "text/x-python",
   "name": "python",
   "nbconvert_exporter": "python",
   "pygments_lexer": "ipython3",
   "version": "3.6.0"
  }
 },
 "nbformat": 4,
 "nbformat_minor": 2
}

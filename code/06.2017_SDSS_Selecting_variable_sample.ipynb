{
 "cells": [
  {
   "cell_type": "markdown",
   "metadata": {},
   "source": [
    "# Differential Counts"
   ]
  },
  {
   "cell_type": "markdown",
   "metadata": {},
   "source": [
    "I take code from 03.2017_SDSS_S82_Hess_diagrams,  to make all more manageable.\n",
    "\n",
    "Anything here is meant to directly reproduce Fig.1  from Ivezic+2004 : differential counts of objects, selected by color cuts, or chi2 and color, cuts. "
   ]
  },
  {
   "cell_type": "markdown",
   "metadata": {},
   "source": [
    "## Read-in the data "
   ]
  },
  {
   "cell_type": "code",
   "execution_count": 2,
   "metadata": {
    "collapsed": true
   },
   "outputs": [],
   "source": [
    "import pandas as pd\n",
    "pd.options.display.max_columns = 999\n",
    "from itertools import product\n",
    "import numpy as np\n",
    "import os \n",
    "import sys\n",
    "import matplotlib.pyplot as plt \n",
    "import matplotlib.gridspec as gridspec\n",
    "from matplotlib import rcParams\n",
    "\n",
    "from scipy.stats import binned_statistic_2d\n",
    "from astropy.table import Table\n",
    "from astropy.table import vstack\n",
    "from astropy.table import Column\n",
    "\n",
    "import datetime"
   ]
  },
  {
   "cell_type": "code",
   "execution_count": 4,
   "metadata": {
    "collapsed": false
   },
   "outputs": [
    {
     "name": "stdout",
     "output_type": "stream",
     "text": [
      "CPU times: user 1 µs, sys: 0 ns, total: 1 µs\n",
      "Wall time: 4.77 µs\n",
      "CPU times: user 1e+03 ns, sys: 0 ns, total: 1e+03 ns\n",
      "Wall time: 4.05 µs\n",
      "We have 5748625 rows\n"
     ]
    }
   ],
   "source": [
    "%time \n",
    "# NCSA \n",
    "# using astropy Table : discussion about speed \n",
    "# https://github.com/astropy/astropy/issues/3334 \n",
    "\n",
    "# In the last resort : line-by-line ascii approach\n",
    "# http://hea-www.harvard.edu/~aldcroft/tmp/p4a/hamogu/html/files/asciifiles.html\n",
    "    \n",
    "# old processing ( using old error even for faint objects, instead of \n",
    "# using the new faintRMS ).  \n",
    "# fname1 =  'Var_ugriz_11_patches_NCSA_narrow.csv' \n",
    "# fname2 =  'Var_ugriz_11_patches_IN2P3_narrow.csv.gz' \n",
    "\n",
    "fname1 = 'VarD_ugriz_11_patches_NCSA_narrow_all.csv.gz'\n",
    "fname2 = 'VarD_ugriz_11_patches_IN2P3_narrow_all.csv.gz'\n",
    "\n",
    "DirIn = '../data_products/varMetricsMerged/'\n",
    "\n",
    "\n",
    "nrows = 3e6\n",
    "if nrows  : # if we want to limit the number of rows read in ... \n",
    "    # NCSA\n",
    "    data1_df = pd.read_csv(DirIn+fname1, compression='gzip', \n",
    "                     nrows=nrows )\n",
    "    data1 = Table.from_pandas(data1_df)\n",
    "    # IN2P3\n",
    "    data2_df = pd.read_csv(DirIn+fname2, compression='gzip', \n",
    "                     nrows=nrows )\n",
    "    data2 = Table.from_pandas(data2_df)\n",
    "    \n",
    "else : # if no need to limit number of rows ... \n",
    "    data1 = Table.read(DirIn+fname1, format='csv')\n",
    "    data2 = Table.read(DirIn+fname2, format='csv')\n",
    "\n",
    "%time\n",
    "# add a column saying which site is the data from ... \n",
    "new_col = Column(name='site',data= np.zeros_like(data1['patch']))\n",
    "new_col[:] = 'NCSA'\n",
    "data1.add_column(new_col)\n",
    "\n",
    "# add a column saying which site is the data from ... \n",
    "new_col = Column(name='site',data= np.zeros_like(data2['patch']))\n",
    "new_col[:] = 'IN2P3'\n",
    "data2.add_column(new_col)\n",
    "\n",
    "# Identical columns :\n",
    "assert np.sum(np.in1d(data1.colnames, data2.colnames)) == len(data1.colnames)\n",
    "\n",
    "# stack the two vertically ( rows over rows,  since the columns ARE IDENTICAL )\n",
    "# this is even faster than any other merge, etc. \n",
    "data = vstack([data1, data2])\n",
    "\n",
    "print('We have %d rows'%len(data))"
   ]
  },
  {
   "cell_type": "markdown",
   "metadata": {},
   "source": [
    "## Plot the Fig.1 Ivezic+2004 : differential counts "
   ]
  },
  {
   "cell_type": "code",
   "execution_count": 6,
   "metadata": {
    "collapsed": false
   },
   "outputs": [
    {
     "data": {
      "text/plain": [
       "<matplotlib.collections.PathCollection at 0x1144c3b00>"
      ]
     },
     "execution_count": 6,
     "metadata": {},
     "output_type": "execute_result"
    },
    {
     "data": {
      "image/png": "[encoded data removed]",
      "text/plain": [
       "<matplotlib.figure.Figure at 0x114ea5240>"
      ]
     },
     "metadata": {},
     "output_type": "display_data"
    }
   ],
   "source": [
    "%matplotlib inline\n",
    "# Find out what is the area by plotting the scatter of ra, dec \n",
    "plt.scatter(data['ra'], data['decl'], s=0.002)"
   ]
  },
  {
   "cell_type": "code",
   "execution_count": 7,
   "metadata": {
    "collapsed": false
   },
   "outputs": [
    {
     "data": {
      "text/plain": [
       "<matplotlib.collections.PathCollection at 0x109bd4dd8>"
      ]
     },
     "execution_count": 7,
     "metadata": {},
     "output_type": "execute_result"
    },
    {
     "data": {
      "image/png": "[encoded data removed]",
      "text/plain": [
       "<matplotlib.figure.Figure at 0x114f159e8>"
      ]
     },
     "metadata": {},
     "output_type": "display_data"
    }
   ],
   "source": [
    "m = data['ra'] < 60\n",
    "plt.scatter(data['ra'][m], data['decl'][m],s=0.0002)"
   ]
  },
  {
   "cell_type": "code",
   "execution_count": 12,
   "metadata": {
    "collapsed": false
   },
   "outputs": [
    {
     "name": "stdout",
     "output_type": "stream",
     "text": [
      "4.95995352314 55.119819687\n",
      "Delta ra = 50.159866\n"
     ]
    }
   ],
   "source": [
    "m = data['ra'] < 60\n",
    "r1 = np.min(data['ra'][m])\n",
    "r2 = np.max(data['ra'][m])\n",
    "print(r1, r2)\n",
    "print('Delta ra = %f deg'%(r2-r1))"
   ]
  },
  {
   "cell_type": "code",
   "execution_count": 8,
   "metadata": {
    "collapsed": false
   },
   "outputs": [
    {
     "data": {
      "text/plain": [
       "<matplotlib.collections.PathCollection at 0x114d0f908>"
      ]
     },
     "execution_count": 8,
     "metadata": {},
     "output_type": "execute_result"
    },
    {
     "data": {
      "image/png": "[encoded data removed]",
      "text/plain": [
       "<matplotlib.figure.Figure at 0x114d619e8>"
      ]
     },
     "metadata": {},
     "output_type": "display_data"
    }
   ],
   "source": [
    "m = data['ra'] > 320\n",
    "plt.scatter(data['ra'][m], data['decl'][m],s=0.0002)"
   ]
  },
  {
   "cell_type": "code",
   "execution_count": 13,
   "metadata": {
    "collapsed": false
   },
   "outputs": [
    {
     "name": "stdout",
     "output_type": "stream",
     "text": [
      "323.579955965 359.999992892\n",
      "Delta ra = 36.420037 deg\n"
     ]
    }
   ],
   "source": [
    "m = data['ra'] > 320\n",
    "r1 = np.min(data['ra'][m])\n",
    "r2 = np.max(data['ra'][m])\n",
    "print(r1, r2)\n",
    "print('Delta ra = %f deg'%(r2-r1))"
   ]
  },
  {
   "cell_type": "code",
   "execution_count": 14,
   "metadata": {
    "collapsed": false
   },
   "outputs": [
    {
     "name": "stdout",
     "output_type": "stream",
     "text": [
      "-1.25669166355 1.25683099732\n",
      "2.51352266088\n"
     ]
    }
   ],
   "source": [
    "d1,d2 = np.min(data['decl']), np.max(data['decl'])\n",
    "print(d1,d2)\n",
    "print(d2-d1)"
   ]
  },
  {
   "cell_type": "code",
   "execution_count": null,
   "metadata": {
    "collapsed": true
   },
   "outputs": [],
   "source": []
  },
  {
   "cell_type": "code",
   "execution_count": null,
   "metadata": {
    "collapsed": true
   },
   "outputs": [],
   "source": [
    "from matplotlib.ticker import AutoMinorLocator\n",
    "\n",
    "def plot_diff_counts(mag,label, ax, masks_diff_counts, intercept):\n",
    "    ''' A convenience function to plot the differential counts, \n",
    "    i.e. bottom two panels of Fig.1 of Ivezic+2004.  \n",
    "    \n",
    "    Input : \n",
    "    --------\n",
    "    mag :  an array with  magnitudes along which to plot the counts \n",
    "    label : x-axis label : a string \n",
    "    ax : an axis on which to plot the diff counts \n",
    "    masks_diff_counts : a list of three masks, each should \n",
    "        have the same length as mag, in order \n",
    "        [qso, transitional, hot_stars]\n",
    "    \n",
    "    Returns:\n",
    "    --------\n",
    "    None\n",
    "    '''\n",
    "    \n",
    "    \n",
    "    colors = ['red', 'green', 'blue']  # symbol colors \n",
    "    symbols = ['o', '^', 's'] # https://matplotlib.org/api/markers_api.html\n",
    "    sizes = [10,6,6]  # symbol sizes \n",
    "    dm = 0.2 # the spacing for bins along x-axis \n",
    "    bins   = np.arange(17,24,dm)    \n",
    "\n",
    "    for mask, color, symbol, size in zip(masks_diff_counts, colors, symbols, sizes):\n",
    "        hist, bin_edges = np.histogram(mag[mask], bins=bins, density=False)\n",
    "        bin_centres = (bin_edges[:-1] + bin_edges[1:])/2\n",
    "        diff_counts = hist / (area * dm)\n",
    "        x = bin_centres\n",
    "        y = diff_counts\n",
    "        z = np.log10(diff_counts)\n",
    "        ax.plot(x,z, ls = '-', color=color, marker = symbol,\n",
    "                markersize=size ,mfc='none') \n",
    "        # errors \n",
    "        # http://faculty.washington.edu/stuve/log_error.pdf\n",
    "        stdev  = lambda x: np.std(x)\n",
    "        stats = binned_statistic( mag[mask], mag[mask], statistic=stdev, bins=nbins)\n",
    "        dy = stats[0] / np.sqrt(hist)  # https://en.wikipedia.org/wiki/Standard_error\n",
    "        dz= 0.434  * (dy / y)\n",
    "        ax.errorbar(x,z, dz, fmt='.k', capsize=0)\n",
    "    \n",
    "    # more steep diagonal line, the one on the left \n",
    "    ax.plot(x[x<22], 0.75*x[x<22] + intercept[0], dashes=dashes, color='blue')\n",
    "    # less steep diagonal line, the one on the right \n",
    "    ax.plot(x[x>18], 0.3*x[x>18] + intercept[1], dashes=dashes, color='blue')\n",
    "    \n",
    "    ax.set_ylabel('log(dN / dm / dA [mag'+r'$^{-1}$'+ 'deg'+r'$^{-2}$'+'])')\n",
    "    ax.set_xlabel(label)\n",
    "\n",
    "    # make ticks into the axis, longer and thicker... \n",
    "    minorLocator = AutoMinorLocator()\n",
    "    ax.xaxis.set_minor_locator(minorLocator)\n",
    "    minorLocator = AutoMinorLocator()\n",
    "    ax.yaxis.set_minor_locator(minorLocator)\n",
    "\n",
    "    ax.tick_params(which='both', direction='in', width='1')\n",
    "    ax.tick_params(which='major', length=10)\n",
    "    ax.tick_params(which='minor', length=5, color='black' ) \n",
    "    ax.yaxis.set_ticks_position('both')\n",
    "    ax.xaxis.set_ticks_position('both')\n",
    "\n"
   ]
  },
  {
   "cell_type": "code",
   "execution_count": null,
   "metadata": {
    "collapsed": true
   },
   "outputs": [],
   "source": [
    "\n",
    "area = (36.42 + 50.159866) * 2.513522\n",
    "def plot_all_panels(data=None, var=None, bounds=None, area=None, one_panel=False):\n",
    "    ''' A convenience function to plot all four panels \n",
    "    from Fig.1 Ivezic+2004. We use a function \n",
    "    plot_diff_counts() to plot the differential counts\n",
    "    (bottom two panels). \n",
    "    \n",
    "    Input: \n",
    "    ------\n",
    "    data :  an AstroPy Table that contains columns with  {u,g,r}+'psfMean_all' , \n",
    "    'g'+{chi2DOF, chi2R}+'_all', i.e. all data to plot . Default : None\n",
    "    \n",
    "    var : a string that defines how we should cut on variability. NOTE : \n",
    "    this applies to ALL the data before plotting, not just selecting QSO! \n",
    "    Possible choices include  's0',  's0a', 's1', 's2a', 's2b' : all these\n",
    "    denote different regions in chi2R - chi2DOF space . Default : None. \n",
    "    If var= None, we select only by color.  \n",
    "    \n",
    "    bounds : a float or tuple of floats,  that defines chi2 bounds needed \n",
    "    for different regions.  For 's0', 's1', 's2a',  bounds is a float, \n",
    "    by default = 2 .   For 's0a', it is a tuple of floats  : [1,1.5],  \n",
    "    [1.5,2] are possible choices\n",
    "    \n",
    "    intercept :  a pair of floats allowing to move the diagonal lines \n",
    "    on bottom two plots (differential counts) up or down.  It is a tuple\n",
    "    [intercept1,  intercept2], where the first value defines the intercept \n",
    "    for the left line (with slope 0.75), and the second value : for the \n",
    "    right line (with slope 0.30) - see Ivezic+2004 Fig.1 for explanation. \n",
    "    \n",
    "    area : area of the patch of the sky from which the data comes , \n",
    "    to calculate differential counts [ in square degrees]. \n",
    "    \n",
    "    Returns : \n",
    "    ------\n",
    "    None\n",
    "    '''\n",
    "    # make aliases for the data ... \n",
    "    \n",
    "    chi2R = data['gchi2R'+suffix].data.data\n",
    "    chi2DOF = data['gchi2DOF'+suffix].data.data\n",
    "    extendedness = data['extendedness'].data.data\n",
    "    g = data['gpsfMean'+suffix].data.data\n",
    "    r = data['rpsfMean'+suffix].data.data\n",
    "    u = data['upsfMean'+suffix].data.data\n",
    "\n",
    "    \n",
    "    # general cuts : magnitude and color  \n",
    "    mask_ext = extendedness == e \n",
    "    mask_ug = (-0.5 < (u-g)) * ((u-g) < 1.5) \n",
    "    mask_u  = u < 23.5\n",
    "    mask_color = mask_ug * mask_u \n",
    "    \n",
    "    print('The area is %.3f sq.degrees'%area)  \n",
    "    \n",
    "    color_title =  ' -0.5 < u-g < 1.5 ,  u< 23.5'\n",
    "    \n",
    "    if var :  \n",
    "        # add variability  cuts ...\n",
    "        # separation line : ax + b \n",
    "        a = 0.375\n",
    "        a_str = '{0:f}'.format(a).rstrip('0')\n",
    "        b = -0.25\n",
    "        b_str = '{0:+f}'.format(b).rstrip('0')\n",
    "        \n",
    "        if var is 's0' :\n",
    "            mask_var = (chi2R < bounds ) * ( chi2DOF < bounds )\n",
    "            var_title =  r'$ \\chi^{2}_{DOF,R}(g) < $' + str(bounds)\n",
    "        \n",
    "        if var is 's0a' : \n",
    "            mask_var =  (bounds[0]<chi2R)*(chi2R<bounds[1])\\\n",
    "                         *(bounds[0]<chi2DOF)*(chi2DOF<bounds[1])\n",
    "            var_title =str(bounds[0])+ r'$< \\chi^{2}_{DOF,R}(g) < $ '+ str(bounds[1])\n",
    "            \n",
    "        if var is 's1' : \n",
    "            mask_var = (chi2R > bounds ) * ( chi2DOF > bounds )\n",
    "            var_title = str(bounds)+ r'$< \\chi^{2}_{DOF,R}(g)$'\n",
    "        if var is 's2a':  \n",
    "            mask_var = (chi2R < bounds ) * ( chi2DOF > bounds )\\\n",
    "                    * (chi2R >a * chi2DOF +b)\n",
    "            var_title = str(bounds)+ r'$< \\chi^{2}_{DOF}(g),$ ' \\\n",
    "                        +r'$ \\chi^{2}_{R}(g)<$'+str(bounds)+', '\\\n",
    "                        +r'$ \\chi^{2}_{R}(g)>$'+a_str\\\n",
    "                        +r'$ \\chi^{2}_{DOF}(g)$'+b_str\n",
    "\n",
    "        if var is 's2b' : \n",
    "            mask_var = (chi2R < bounds ) * ( chi2DOF > bounds ) \\\n",
    "                    * (chi2R <a * chi2DOF +b)\n",
    "            var_title = str(bounds)+ r'$< \\chi^{2}_{DOF}(g),$ ' \\\n",
    "                        +r'$ \\chi^{2}_{R}(g)<$'+str(bounds)+', '\\\n",
    "                        +r'$ \\chi^{2}_{R}(g)<$'+a_str\\\n",
    "                        +r'$ \\chi^{2}_{DOF}(g)$'+b_str\n",
    "        \n",
    "        # combine all the masks \n",
    "        m = mask_color * mask_ext * mask_var \n",
    "        \n",
    "        # set the filename ... \n",
    "        if var in ['s1', 's2a', 's2b'] : \n",
    "            prenom = 'Fig1_'+var+'_gt_'+str(bounds)\n",
    "        if var is 's0a' : \n",
    "            prenom = 'Fig1_'+var+str(bounds[0])+'-'+str(bounds[1])\n",
    "        if var is 's0' : \n",
    "            prenom = 'Fig1_'+var+'_lt_'+str(bounds)\n",
    "        \n",
    "    else :\n",
    "        # set the filename and combine the masks \n",
    "        prenom = 'Fig1_only_color'\n",
    "        m = mask_color * mask_ext \n",
    "    \n",
    "    nObj = np.sum(m)\n",
    "    print('We have %d objects to start with '%nObj)\n",
    "    \n",
    "    # set the title for the top of the panel ... \n",
    "    suptitle = 'unresolved, n='+str(nObj)+ color_title+'\\n' + ' area='\\\n",
    "                +str(area)+'deg'+r'$^{2}$, ' \\\n",
    "                +var + ': '+ var_title\n",
    "            \n",
    "    #########################\n",
    "    # Plotting  four panels #\n",
    "    #########################\n",
    "    \n",
    "    # initialize plotting space \n",
    "    fig,axs = plt.subplots(2,2,figsize=(12,12))\n",
    "    ax = np.ravel(axs)\n",
    "    # plot settings : linewidth, linestyle, density and \n",
    "    # dash length , dot size \n",
    "    lw = 2; ls = '--' ; dashes = (5, 5); dotsize=0.002\n",
    "\n",
    "    # plot upper left panel  : u-g vs u \n",
    "    ug = u[m]-g[m]\n",
    "    gr = g[m]-r[m]\n",
    "    u = u[m]\n",
    "    ax[0].scatter(ug,u, s=dotsize)\n",
    "    ax[0].invert_yaxis()\n",
    "    ax[0].set_xlabel('u-g')\n",
    "    ax[0].set_ylabel('u')\n",
    "    # plot the two vertical lines at u=0.6 and 0.8 \n",
    "    ax[0].axvline(0.6, lw=lw, ls=ls, c='r', dashes=dashes)\n",
    "    ax[0].axvline(0.8, lw=lw, ls=ls, c='r', dashes=dashes)\n",
    "\n",
    "    # plot upper right panel : u-g vs g-r \n",
    "    ax[1].scatter(ug,gr, s=dotsize)\n",
    "    ax[1].set_ylim(-0.6, 0.7)\n",
    "    # plot the two vertical lines at u=0.6 and 0.8 \n",
    "    ax[1].axvline(0.6, lw=lw, ls=ls, dashes=dashes)\n",
    "    ax[1].axvline(0.8, lw=lw, ls=ls, dashes=dashes)\n",
    "    ax[1].set_xlabel('u-g')\n",
    "    ax[1].set_ylabel('g-r')\n",
    "    # get the lims to plot the horizontal line \n",
    "    xmin,xmax = ax[1].get_xlim()\n",
    "    x1,x2 = 0.3, 0.6\n",
    "    y1,y2 = -0.15, 0.02\n",
    "    # plot horizontal line from (xmin,y1) -->  (x2,y1), \n",
    "    ax[1].plot([xmin, x2], [y1,y1], ls=ls, lw=lw,  dashes=dashes)\n",
    "\n",
    "    # plot short diagonal line \n",
    "    ax[1].plot([x1,x2],[y1,y2],ls=ls, lw=lw, dashes=dashes)\n",
    "\n",
    "    # find out the equation of diagonal line y = ax + b\n",
    "    # to limit  g-r and u-g   , since \n",
    "    # g-r == y ,  and u-g == x ,  \n",
    "    # anything above the line  is y > ax + b,   \n",
    "    # and below the line y < ax + b \n",
    "    # which translates to gr >/< a*ug + b\n",
    "    a_slope = (y2-y1)/(x2-x1)\n",
    "    b_intercept = y1 - a_slope * x1\n",
    "\n",
    "    # select quasars by color cut \n",
    "    mask_qso = (ug < 0.6 ) * ( -0.15 < gr) * (gr > a_slope*ug + b_intercept)\n",
    "    ax[1].scatter(ug[mask_qso], gr[mask_qso], s=dotsize, c='r')\n",
    "\n",
    "    # select transitional region in color space \n",
    "    # between quasars and stars \n",
    "    mask_trans = (0.6 < ug) * ( ug < 0.8 ) \n",
    "    ax[1].scatter(ug[mask_trans], gr[mask_trans], s=dotsize, c='g')\n",
    "\n",
    "    # select hot stars, including the white dwarfs\n",
    "    # the triangle is to take care of the white \n",
    "    # dwarf branch \n",
    "    mask_triangle = gr < a_slope*ug + b_intercept\n",
    "    mask_bottom = (ug  < 0.6) * (gr < -0.15)\n",
    "    # logical or \n",
    "    mask_hots = mask_triangle | mask_bottom \n",
    "    ax[1].scatter(ug[mask_hots], gr[mask_hots], s=dotsize, c='blue')\n",
    "\n",
    "    # select the rest of objects \n",
    "    mask_rest = (0.8 < ug)\n",
    "    ax[1].scatter(ug[mask_rest], gr[mask_rest], s=dotsize, c='black')\n",
    "\n",
    "    # plot bottom left and bottom right : diff counts \n",
    "    # in u and r \n",
    "\n",
    "    # assemble all masks together: settings for the diff counts\n",
    "    masks_diff_counts = [mask_qso, mask_trans, mask_hots]\n",
    "    \n",
    "    for mag, label, ax in zip([u[m], r[m]], ['u','r'], [ax[2], ax[3]]):\n",
    "        plot_diff_counts(mag,label, ax, masks_diff_counts, intercept )\n",
    "        \n",
    "    fig.subplots_adjust(wspace=0.3)\n",
    "    fig.suptitle(suptitle, fontsize=18 )\n",
    "    name = outDir + prenom+'.png'\n",
    "    plt.savefig(name, bbox_inches='tight')\n",
    "    print('Saved as %s'%name)\n",
    "    \n",
    "    ##########################\n",
    "    # plot only counts in g  #\n",
    "    ##########################\n",
    "    \n",
    "    fig,ax = plt.subplots(1,1,figsize=(8,8))\n",
    "    mag = g[m] ; label = 'g'\n",
    "    plot_diff_counts(mag,label, ax, masks_diff_counts, intercept )\n",
    "    fig.suptitle(suptitle, fontsize=18 )\n",
    "    name = outDir + prenom+'_g.png'\n",
    "    plt.savefig(name, bbox_inches='tight')\n",
    "    print('Saved as %s'%name)"
   ]
  },
  {
   "cell_type": "code",
   "execution_count": 15,
   "metadata": {
    "collapsed": false
   },
   "outputs": [
    {
     "name": "stdout",
     "output_type": "stream",
     "text": [
      "We will save this figure in  /Users/chris/GradResearch/SDSS_S82_FP_research/data_products/Fig_Ivezic2004/2017-06-09/\n"
     ]
    }
   ],
   "source": [
    "\n",
    "outDir = os.path.join(os.getcwd()[:-4],'data_products/'+'Fig_Ivezic2004',\n",
    "                      datetime.datetime.now().strftime('%Y-%m-%d')+ '/')\n",
    "if not os.path.exists(outDir): os.system('mkdir %s' % outDir)\n",
    "print('We will save this figure in  %s'%outDir)\n"
   ]
  },
  {
   "cell_type": "code",
   "execution_count": null,
   "metadata": {
    "collapsed": true
   },
   "outputs": [],
   "source": [
    "plot_all_panels(data, var=None, bounds=None, intercept=[-15,-5] , area=area)"
   ]
  },
  {
   "cell_type": "code",
   "execution_count": null,
   "metadata": {
    "collapsed": true
   },
   "outputs": [],
   "source": []
  },
  {
   "cell_type": "code",
   "execution_count": null,
   "metadata": {
    "collapsed": true
   },
   "outputs": [],
   "source": []
  },
  {
   "cell_type": "code",
   "execution_count": null,
   "metadata": {
    "collapsed": true
   },
   "outputs": [],
   "source": []
  },
  {
   "cell_type": "code",
   "execution_count": null,
   "metadata": {
    "collapsed": true
   },
   "outputs": [],
   "source": []
  },
  {
   "cell_type": "code",
   "execution_count": null,
   "metadata": {
    "collapsed": true
   },
   "outputs": [],
   "source": []
  }
 ],
 "metadata": {
  "kernelspec": {
   "display_name": "Python 3",
   "language": "python",
   "name": "python3"
  },
  "language_info": {
   "codemirror_mode": {
    "name": "ipython",
    "version": 3
   },
   "file_extension": ".py",
   "mimetype": "text/x-python",
   "name": "python",
   "nbconvert_exporter": "python",
   "pygments_lexer": "ipython3",
   "version": "3.6.0"
  }
 },
 "nbformat": 4,
 "nbformat_minor": 2
}

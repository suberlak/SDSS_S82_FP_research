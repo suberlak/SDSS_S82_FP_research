{
 "cells": [
  {
   "cell_type": "markdown",
   "metadata": {},
   "source": [
    "# Differential Counts"
   ]
  },
  {
   "cell_type": "markdown",
   "metadata": {},
   "source": [
    "I take code from 03.2017_SDSS_S82_Hess_diagrams,  to make all more manageable.\n",
    "\n",
    "Anything here is meant to directly reproduce Fig.1  from Ivezic+2004 : differential counts of objects, selected by color cuts, or chi2 and color, cuts. "
   ]
  },
  {
   "cell_type": "markdown",
   "metadata": {},
   "source": [
    "## Read-in the data "
   ]
  },
  {
   "cell_type": "code",
   "execution_count": 2,
   "metadata": {
    "collapsed": true
   },
   "outputs": [],
   "source": [
    "import pandas as pd\n",
    "pd.options.display.max_columns = 999\n",
    "from itertools import product\n",
    "import numpy as np\n",
    "import os \n",
    "import sys\n",
    "import matplotlib.pyplot as plt \n",
    "import matplotlib.gridspec as gridspec\n",
    "from matplotlib import rcParams\n",
    "\n",
    "from scipy.stats import binned_statistic_2d\n",
    "from astropy.table import Table\n",
    "from astropy.table import vstack\n",
    "from astropy.table import Column\n",
    "\n",
    "import datetime"
   ]
  },
  {
   "cell_type": "code",
   "execution_count": null,
   "metadata": {
    "collapsed": true
   },
   "outputs": [],
   "source": [
    "%time \n",
    "# NCSA \n",
    "# using astropy Table : discussion about speed \n",
    "# https://github.com/astropy/astropy/issues/3334 \n",
    "\n",
    "# In the last resort : line-by-line ascii approach\n",
    "# http://hea-www.harvard.edu/~aldcroft/tmp/p4a/hamogu/html/files/asciifiles.html\n",
    "    \n",
    "# old processing ( using old error even for faint objects, instead of \n",
    "# using the new faintRMS ).  \n",
    "# fname1 =  'Var_ugriz_11_patches_NCSA_narrow.csv' \n",
    "# fname2 =  'Var_ugriz_11_patches_IN2P3_narrow.csv.gz' \n",
    "\n",
    "fname1 = 'VarD_ugriz_11_patches_NCSA_narrow.csv.gz'\n",
    "fname2 = 'VarD_ugriz_11_patches_IN2P3_narrow.csv.gz'\n",
    "\n",
    "DirIn = '../data_products/varMetricsMerged/'\n",
    "\n",
    "\n",
    "nrows = None\n",
    "if nrows  : \n",
    "    # NCSA\n",
    "    data1_df = pd.read_csv(DirIn+fname1, compression='gzip', \n",
    "                     nrows=5e6 )\n",
    "    data1 = Table.from_pandas(data1_df)\n",
    "    # IN2P3\n",
    "    data1_df = pd.read_csv(DirIn+fname1, compression='gzip', \n",
    "                     nrows=5e6 )\n",
    "    data1 = Table.from_pandas(data1_df)\n",
    "    \n",
    "else : \n",
    "    data1 = Table.read(DirIn+fname1, format='csv')\n",
    "    data2 = Table.read(DirIn+fname2, format='csv')\n",
    "\n",
    "    \n",
    "    \n",
    "#data1 = Table.read(DirIn+fname1, format='csv')\n",
    "\n"
   ]
  }
 ],
 "metadata": {
  "kernelspec": {
   "display_name": "Python 3",
   "language": "python",
   "name": "python3"
  },
  "language_info": {
   "codemirror_mode": {
    "name": "ipython",
    "version": 3
   },
   "file_extension": ".py",
   "mimetype": "text/x-python",
   "name": "python",
   "nbconvert_exporter": "python",
   "pygments_lexer": "ipython3",
   "version": "3.6.0"
  }
 },
 "nbformat": 4,
 "nbformat_minor": 2
}

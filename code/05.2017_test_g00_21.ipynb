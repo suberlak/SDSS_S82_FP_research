{
 "cells": [
  {
   "cell_type": "markdown",
   "metadata": {},
   "source": [
    "Here I test the new version of processPatch.py, to use the appropriate error in faint points treatment. It used to be that the faint fluxes would be replaced by the faintMean,  but errors stayed the same. In fact we would like to replace errors with faintRMS.\n",
    "\n",
    "Here I test how the S/N distribution looks like considering individual lightcurves, as well as the distribution of mean S/N per lightcurve considering all lightcurves in a given patch. "
   ]
  },
  {
   "cell_type": "code",
   "execution_count": 1,
   "metadata": {
    "collapsed": false
   },
   "outputs": [],
   "source": [
    "import numpy as np \n",
    "import matplotlib.pyplot as plt \n",
    "from astropy.table import Table\n",
    "from astropy.table import Column\n",
    "import os\n",
    "import datetime\n",
    "import pandas as pd \n",
    "import sys\n",
    "path_to_home = '/Users/chris/GradResearch/'\n",
    "sys.path.insert(0, path_to_home + 'SDSS_S82_FP_research/packages/')\n",
    "import faintFunctions as faintF \n",
    "import variabilityFunctions as varF\n"
   ]
  },
  {
   "cell_type": "markdown",
   "metadata": {},
   "source": [
    "## Read-in  raw lightcurves for one patch "
   ]
  },
  {
   "cell_type": "code",
   "execution_count": 2,
   "metadata": {
    "collapsed": false
   },
   "outputs": [],
   "source": [
    "# USE ASTROPY !!!! \n",
    "\n",
    "DirIn = '../raw_data/rawDataFPSplit/'\n",
    "fname = 'g00_21.csv.gz'\n",
    "raw_data = Table.read(DirIn+fname, format='csv', include_names =['objectId', 'mjd', \n",
    "                                                                 'psfFlux', 'psfFluxErr'])\n",
    "# http://docs.astropy.org/en/stable/io/ascii/read.html \n",
    "# gives parameters to reading tables "
   ]
  },
  {
   "cell_type": "code",
   "execution_count": 6,
   "metadata": {
    "collapsed": false
   },
   "outputs": [
    {
     "data": {
      "text/plain": [
       "(array([160300]),)"
      ]
     },
     "execution_count": 6,
     "metadata": {},
     "output_type": "execute_result"
    }
   ],
   "source": [
    "oids = np.unique(raw_data['objectId'].data)\n",
    "np.where(oids == 216234361610047257)"
   ]
  },
  {
   "cell_type": "code",
   "execution_count": 7,
   "metadata": {
    "collapsed": false
   },
   "outputs": [
    {
     "data": {
      "text/plain": [
       "490369"
      ]
     },
     "execution_count": 7,
     "metadata": {},
     "output_type": "execute_result"
    }
   ],
   "source": [
    "len(oids)"
   ]
  },
  {
   "cell_type": "code",
   "execution_count": 15,
   "metadata": {
    "collapsed": false
   },
   "outputs": [],
   "source": [
    "##########  STEP 1 : single-epoch data ###########  \n",
    "# 1.1  :  convert Flux from erg/cm2/sec/Hz  to Jansky\n",
    "#         1 Jy = 1.0E-26 W/m^2/Hz = 1.0E-23 erg/s/cm^2/Hz\n",
    "# make new columns with data in Jy, to follow good \n",
    "# programming practice (otherwise, changes are either\n",
    "# on a view or a copy and it's not always clear)\n",
    "\n",
    "raw_data['psfFluxJy'] = raw_data['psfFlux'] * 1E23 \n",
    "raw_data['psfFluxErrJy'] = raw_data['psfFluxErr'] * 1E23 \n",
    "\n"
   ]
  },
  {
   "cell_type": "code",
   "execution_count": null,
   "metadata": {
    "collapsed": true
   },
   "outputs": [],
   "source": []
  },
  {
   "cell_type": "code",
   "execution_count": 182,
   "metadata": {
    "collapsed": false
   },
   "outputs": [],
   "source": [
    "# 1.2  : drop all rows which have NaNs in psfFlux .... \n",
    "m1  = np.isnan(raw_data['psfFlux'].data)  # true if NaN \n",
    "m2 = np.bitwise_not(np.isfinite(raw_data['psfFlux'].data))  # true if not finite... \n",
    "\n",
    "# logical or : true if either condition satisfied \n",
    "m = m1 | m2  \n",
    "\n",
    "if np.sum(m) > 0 :  # only apply if there is anything to drop ... \n",
    "    print('In  file %s there are : \\n.... %d NaN  psfFlux rows'%(fname, np.sum(m1)))\n",
    "    print('.... %d not finite  psfFlux rows'% np.sum(m2))\n",
    "    print('All such rows are dropped')\n",
    "    indices = np.arange(len(test))\n",
    "    rows_to_remove = indices[mask]\n",
    "    raw_data.remove_rows(remove_indices)\n",
    "\n",
    "# 1.3 : check psfFluxErr : drop all rows which have NaN, or 0 ,\n",
    "# to avoid getting error when calculating S/N  = psfFlux / psfFluxErr \n",
    "\n",
    "m1  = np.isnan(raw_data['psfFluxErr'].data)  # true if NaN \n",
    "m2 =  np.bitwise_not(np.isfinite(raw_data['psfFluxErr'].data))  # true if not finite... \n",
    "m3 = raw_data['psfFluxErr'].data == 0 \n",
    "# logical or : true if either condition satisfied \n",
    "m = m1 | m2  | m3\n",
    "\n",
    "if np.sum(m) > 0 :  # only apply if there is anything to drop ... \n",
    "    print('In  file %s there are : \\n.... %d NaN  psfFluxErr rows'%(fname, np.sum(m1)))\n",
    "    print('.... %d not finite  psfFluxErr rows'% np.sum(m2))\n",
    "    print('.... %d psfFluxErr = 0  rows'% np.sum(m3))\n",
    "    print('All such rows are dropped')\n",
    "\n",
    "# 1.4 : select points that have S/N  < 2 , flag as Faint...\n",
    "# initialize a new column with all values set to False :\n",
    "#flagFaint = Column(data = np.zeros(len(raw_data), dtype=bool), name = 'flagFaint')\n",
    "# this would also work, but doesn't allow to select good data type \n",
    "# raw_data['flagFaint'] = True : makes a new col with int64\n",
    "\n",
    "# instead of two-steps, make just one : \n",
    "mask_SN = (raw_data['psfFluxJy'].data / raw_data['psfFluxErrJy'].data) < 2 \n",
    "raw_data['flagFaint'] = mask_SN\n",
    "print('There are %d points of %d that have S/N < 2' %(np.sum(mask_SN),len(mask_SN)))\n",
    "\n",
    "\n",
    "\n"
   ]
  },
  {
   "cell_type": "code",
   "execution_count": 175,
   "metadata": {
    "collapsed": false
   },
   "outputs": [],
   "source": [
    "print('hello')"
   ]
  },
  {
   "cell_type": "code",
   "execution_count": 95,
   "metadata": {
    "collapsed": false
   },
   "outputs": [],
   "source": []
  },
  {
   "cell_type": "markdown",
   "metadata": {},
   "source": [
    "### Aside : Plot the SN demographics using raw photometry "
   ]
  },
  {
   "cell_type": "code",
   "execution_count": null,
   "metadata": {
    "collapsed": true
   },
   "outputs": [],
   "source": [
    "import matplotlib.pyplot as plt\n",
    "from matplotlib import rcParams      \n",
    "rcParams['ytick.labelsize'] = 15\n",
    "rcParams['xtick.labelsize'] = 15\n",
    "rcParams['axes.labelsize'] = 20\n",
    "rcParams['axes.linewidth'] = 2\n",
    "rcParams['font.size'] = 15\n",
    "rcParams['axes.titlesize'] = 20"
   ]
  },
  {
   "cell_type": "code",
   "execution_count": 111,
   "metadata": {
    "collapsed": false
   },
   "outputs": [
    {
     "name": "stdout",
     "output_type": "stream",
     "text": [
      "We will save this figure in  /Users/chris/GradResearch/SDSS_S82_FP_research/data_products/Fig_SN_raw_data/2017-05-09/\n",
      "Saved as SN_demographics.png\n"
     ]
    },
    {
     "data": {
      "image/png": "[encoded data removed]",
      "text/plain": [
       "<matplotlib.figure.Figure at 0x127356be0>"
      ]
     },
     "metadata": {},
     "output_type": "display_data"
    }
   ],
   "source": [
    "outDir = os.path.join(os.getcwd()[:-4],'data_products/'+'Fig_SN_raw_data',\n",
    "                      datetime.datetime.now().strftime('%Y-%m-%d')+ '/')\n",
    "if not os.path.exists(outDir): os.system('mkdir %s' % outDir)\n",
    "print('We will save this figure in  %s'%outDir)\n",
    "\n",
    "\n",
    "%matplotlib inline\n",
    "min_SN, max_SN = -5, 20 \n",
    "m = (min_SN < SN) *  ( SN < max_SN)\n",
    "\n",
    "fig,ax = plt.subplots(1,1,figsize=(10,8))\n",
    "ax.hist(SN[m], bins=45)\n",
    "ax.set_xlabel('psfFlux / psfFluxErr')\n",
    "ax.set_ylabel('counts')\n",
    "ax.set_title(fname+', '+ str(len(SN[m]))+'/'+str(len(SN))+\\\n",
    "             ' raw points\\n with '+ str(min_SN)+' < S/N < '+str(max_SN))\n",
    "\n",
    "ax.axvline(2, ls = '--', color='orange', lw=4)\n",
    "\n",
    "figname = 'SN_demographics.png'\n",
    "plt.savefig(outDir + '/' +figname)\n",
    "print('Saved as %s'%figname)\n"
   ]
  },
  {
   "cell_type": "markdown",
   "metadata": {},
   "source": [
    "### Back to analysis : faint points treatment ... "
   ]
  },
  {
   "cell_type": "code",
   "execution_count": 183,
   "metadata": {
    "collapsed": false
   },
   "outputs": [
    {
     "name": "stderr",
     "output_type": "stream",
     "text": [
      "/Users/chris/GradResearch/SDSS_S82_FP_research/packages/faintFunctions.py:12: RuntimeWarning: divide by zero encountered in true_divide\n",
      "  xMean = (1/ (norm.sf(-xObs )*np.sqrt(2*np.pi))) * np.exp(-(xObs**2.0) / 2.0) + xObs\n",
      "/Users/chris/GradResearch/SDSS_S82_FP_research/packages/faintFunctions.py:12: RuntimeWarning: invalid value encountered in multiply\n",
      "  xMean = (1/ (norm.sf(-xObs )*np.sqrt(2*np.pi))) * np.exp(-(xObs**2.0) / 2.0) + xObs\n",
      "/Users/chris/GradResearch/SDSS_S82_FP_research/packages/faintFunctions.py:27: RuntimeWarning: divide by zero encountered in true_divide\n",
      "  xMean = (1/ (norm.sf(-xObs )*np.sqrt(2*np.pi))) * np.exp(-(xObs**2.0) / 2.0) + xObs\n",
      "/Users/chris/GradResearch/SDSS_S82_FP_research/packages/faintFunctions.py:27: RuntimeWarning: invalid value encountered in multiply\n",
      "  xMean = (1/ (norm.sf(-xObs )*np.sqrt(2*np.pi))) * np.exp(-(xObs**2.0) / 2.0) + xObs\n",
      "/Users/chris/GradResearch/SDSS_S82_FP_research/packages/faintFunctions.py:30: RuntimeWarning: invalid value encountered in multiply\n",
      "  I0bysig2 = 0.5*erf(xObs/np.sqrt(2)) + (1.0/np.sqrt(2*np.pi))*np.exp(-(xObs**2.0) / 2.0)*(2*delX - xObs) + 0.5 + delX*delX*norm.sf(-xObs)\n",
      "/Users/chris/GradResearch/SDSS_S82_FP_research/packages/faintFunctions.py:31: RuntimeWarning: invalid value encountered in sqrt\n",
      "  xRMS = np.sqrt(I0bysig2 / I1)\n"
     ]
    }
   ],
   "source": [
    "\n",
    "\n",
    "\n",
    "# 1.5  calculate faint quantities for all rows  where S/N < 2 \n",
    "\n",
    "# make new columns ...\n",
    "for faintColname in ['faintMean', 'faintMedian','faintTwoSigma','faintRMS']:\n",
    "    raw_data[faintColname] = np.nan\n",
    "    \n",
    "# temporary assignment \n",
    "flux, flux_err = raw_data['psfFluxJy'][mask_SN].data, raw_data['psfFluxErrJy'][mask_SN].data\n",
    "\n",
    "raw_data['faintMean'][mask_SN]= faintF.calculate_mean(flux, flux_err)\n",
    "raw_data['faintMedian'][mask_SN] = faintF.calculate_median(flux, flux_err)\n",
    "raw_data['faintTwoSigma'][mask_SN] = faintF.calculate_2sigma(flux, flux_err)\n",
    "raw_data['faintRMS'][mask_SN] = faintF.calculate_rms(flux, flux_err)\n"
   ]
  },
  {
   "cell_type": "code",
   "execution_count": 184,
   "metadata": {
    "collapsed": false
   },
   "outputs": [
    {
     "data": {
      "text/plain": [
       "288"
      ]
     },
     "execution_count": 184,
     "metadata": {},
     "output_type": "execute_result"
    }
   ],
   "source": [
    "np.sum(np.isnan(raw_data['psfFluxErrJy'][mask_SN] /raw_data['faintRMS'][mask_SN]))"
   ]
  },
  {
   "cell_type": "markdown",
   "metadata": {},
   "source": [
    "### Plot rawError  / faintRMS ..."
   ]
  },
  {
   "cell_type": "code",
   "execution_count": 219,
   "metadata": {
    "collapsed": false
   },
   "outputs": [
    {
     "name": "stderr",
     "output_type": "stream",
     "text": [
      "/Users/chris/anaconda3/envs/py36/lib/python3.6/site-packages/ipykernel/__main__.py:5: RuntimeWarning: invalid value encountered in greater\n",
      "/Users/chris/anaconda3/envs/py36/lib/python3.6/site-packages/ipykernel/__main__.py:5: RuntimeWarning: invalid value encountered in less\n"
     ]
    },
    {
     "data": {
      "image/png": "[encoded data removed]",
      "text/plain": [
       "<matplotlib.figure.Figure at 0x121cb7da0>"
      ]
     },
     "metadata": {},
     "output_type": "display_data"
    }
   ],
   "source": [
    "# remove nan rows ... \n",
    "flux_err, rms =  raw_data['psfFluxErrJy'][mask_SN].data, raw_data['faintRMS'][mask_SN].data\n",
    "\n",
    "m1 = np.bitwise_not(np.isnan(rms))\n",
    "m2 =  (0.99 < flux_err / rms  )*( flux_err / rms < 3.5)\n",
    "m = m1 * m2 \n",
    "\n",
    "\n",
    "fig,ax = plt.subplots(1,1,figsize=(10,8))\n",
    "ax.hist(flux_err[m] / rms[m], bins=30)\n",
    "ax.set_xlabel('psfFluxErr / faintRMS')\n",
    "ax.set_ylabel('counts')\n",
    "ax.set_title(fname+', '+ str(len(rms[m]))+'/'+str(len(rms))+\\\n",
    "             ' faint raw points')\n",
    "\n",
    "figname = 'FluxErr_RMS_ratio.png'\n",
    "plt.savefig(outDir + '/' +figname, bbox_inches = 'tight')\n",
    "print('Saved as %s'%figname)\n",
    "\n",
    "\n"
   ]
  },
  {
   "cell_type": "markdown",
   "metadata": {},
   "source": [
    "Conclude: the new error is smaller from the original error up to even 3 times ! "
   ]
  },
  {
   "cell_type": "code",
   "execution_count": 224,
   "metadata": {
    "collapsed": false
   },
   "outputs": [
    {
     "name": "stderr",
     "output_type": "stream",
     "text": [
      "/Users/chris/anaconda3/envs/py36/lib/python3.6/site-packages/ipykernel/__main__.py:9: RuntimeWarning: invalid value encountered in greater\n",
      "/Users/chris/anaconda3/envs/py36/lib/python3.6/site-packages/ipykernel/__main__.py:9: RuntimeWarning: invalid value encountered in less\n",
      "/Users/chris/anaconda3/envs/py36/lib/python3.6/site-packages/ipykernel/__main__.py:28: RuntimeWarning: divide by zero encountered in log10\n"
     ]
    },
    {
     "data": {
      "image/png": "[encoded data removed]",
      "text/plain": [
       "<matplotlib.figure.Figure at 0x192697e48>"
      ]
     },
     "metadata": {},
     "output_type": "display_data"
    }
   ],
   "source": [
    "# Plot also     S/N    vs  psfFluxErr / faintRMS : color by counts ....\n",
    "from matplotlib import ticker\n",
    "from scipy.stats import binned_statistic_2d\n",
    "\n",
    "flux_err, rms =  raw_data['psfFluxErrJy'][mask_SN].data, raw_data['faintRMS'][mask_SN].data\n",
    "SN = raw_data['psfFluxJy'][mask_SN].data / raw_data['psfFluxErrJy'][mask_SN].data \n",
    "\n",
    "m1 = np.bitwise_not(np.isnan(rms))\n",
    "m2 =  (0.99 < (flux_err / rms)  )*( (flux_err / rms) < 3.5)\n",
    "m3 = SN > -5\n",
    "m = m1 * m2 *m3\n",
    "\n",
    "x = flux_err[m] / rms[m]\n",
    "y = SN[m]\n",
    "\n",
    "fig,ax = plt.subplots(1,1,figsize=(8,8))\n",
    "stats = binned_statistic_2d(x=x, y=y, values=x, statistic='count', bins=50)\n",
    "\n",
    "z_sigma, x_edges, y_edges = stats[0], stats[1], stats[2]\n",
    "z_sigma[np.isnan(z_sigma)] =0 # replace all nan's by 0 ...\n",
    "z_reduce  =  z_sigma\n",
    "z_min, z_max = z_reduce.min(), np.abs(z_reduce).max()\n",
    "z_rot = np.rot90(z_reduce)  # rotate and flip to properly display... \n",
    "z_rot_flip = np.flipud(z_rot)\n",
    "z_masked = np.ma.masked_where(z_rot_flip == 0 , z_rot_flip)\n",
    "\n",
    "# Plot 2D histogram using pcolor\n",
    "image = ax.pcolormesh(x_edges,y_edges, np.log10(z_masked), cmap='jet')\n",
    "cax =   fig.add_axes([0.25, 0.77, 0.5, 0.05]) \n",
    "colorbar = fig.colorbar(image,  cax=cax, orientation='horizontal')\n",
    "colorbar.set_label(r'$\\log_{10}(\\mathrm{counts})$', fontsize=20)\n",
    "\n",
    "ax.set_xlabel('psfFluxErr / faintRMS')\n",
    "ax.set_ylabel('S/N = psfFlux / psfFluxErr')\n",
    "\n",
    "ax.set_title(fname+', '+ str(len(rms[m]))+'/'+str(len(rms))+\\\n",
    "             '\\n faint raw points')\n",
    "figname = 'FluxErr_RMS_ratio_vs_SN.png'\n",
    "plt.savefig(outDir + '/' +figname, bbox_inches = 'tight')\n",
    "print('Saved as %s'%figname)\n",
    "\n",
    "\n"
   ]
  },
  {
   "cell_type": "code",
   "execution_count": 226,
   "metadata": {
    "collapsed": false
   },
   "outputs": [],
   "source": [
    "# 1.6  replace psfFluxJy  by  faintMean ,\n",
    "\n",
    "# make sure we are only taking values  that are not NaN ... \n",
    "mask_NaNs = np.bitwise_not(np.isnan(raw_data['faintRMS'][mask_SN]))\n",
    "\n",
    "# psfFluxErrJy  by  faintRMS \n",
    "raw_data['psfFluxJy'][mask_SN][mask_NaNs] = raw_data['faintMean'][mask_SN][mask_NaNs]\n",
    "raw_data['psfFluxErrJy'][mask_SN][mask_NaNs] = raw_data['faintRMS'][mask_SN][mask_NaNs]\n"
   ]
  },
  {
   "cell_type": "code",
   "execution_count": null,
   "metadata": {
    "collapsed": true
   },
   "outputs": [],
   "source": [
    "%timeit "
   ]
  },
  {
   "cell_type": "code",
   "execution_count": 13,
   "metadata": {
    "collapsed": false
   },
   "outputs": [],
   "source": [
    "#\n",
    "##########  STEP 2 : Derived Quantities ###########  \n",
    "#\n",
    "# Here the main choice is whether we want to introduce \n",
    "# selection of which points to use per lightcurve based \n",
    "# on S/N before grouping, or after grouping . \n",
    "#\n",
    "\n",
    "# At the moment, it is impossible to apply complicated \n",
    "# functions to groupby objects....\n",
    "# Easier at this point to just convert AstroPy table \n",
    "# to Pandas,  and do it from here on in Pandas ...\n",
    "# Bummer. \n",
    "\n",
    "# But thankfully it only takes a few seconds \n",
    "# even on mac,  on the full patch  file \n",
    "raw_data_df = raw_data[:100].to_pandas()\n",
    "\n"
   ]
  },
  {
   "cell_type": "code",
   "execution_count": null,
   "metadata": {
    "collapsed": true
   },
   "outputs": [],
   "source": [
    "raw_data_"
   ]
  },
  {
   "cell_type": "code",
   "execution_count": 12,
   "metadata": {
    "collapsed": false
   },
   "outputs": [
    {
     "ename": "KeyError",
     "evalue": "'flagFaint'",
     "output_type": "error",
     "traceback": [
      "\u001b[0;31m---------------------------------------------------------------------------\u001b[0m",
      "\u001b[0;31mKeyError\u001b[0m                                  Traceback (most recent call last)",
      "\u001b[0;32m/Users/chris/anaconda3/envs/py36/lib/python3.6/site-packages/pandas/indexes/base.py\u001b[0m in \u001b[0;36mget_loc\u001b[0;34m(self, key, method, tolerance)\u001b[0m\n\u001b[1;32m   2133\u001b[0m             \u001b[0;32mtry\u001b[0m\u001b[0;34m:\u001b[0m\u001b[0;34m\u001b[0m\u001b[0m\n\u001b[0;32m-> 2134\u001b[0;31m                 \u001b[0;32mreturn\u001b[0m \u001b[0mself\u001b[0m\u001b[0;34m.\u001b[0m\u001b[0m_engine\u001b[0m\u001b[0;34m.\u001b[0m\u001b[0mget_loc\u001b[0m\u001b[0;34m(\u001b[0m\u001b[0mkey\u001b[0m\u001b[0;34m)\u001b[0m\u001b[0;34m\u001b[0m\u001b[0m\n\u001b[0m\u001b[1;32m   2135\u001b[0m             \u001b[0;32mexcept\u001b[0m \u001b[0mKeyError\u001b[0m\u001b[0;34m:\u001b[0m\u001b[0;34m\u001b[0m\u001b[0m\n",
      "\u001b[0;32mpandas/index.pyx\u001b[0m in \u001b[0;36mpandas.index.IndexEngine.get_loc (pandas/index.c:4433)\u001b[0;34m()\u001b[0m\n",
      "\u001b[0;32mpandas/index.pyx\u001b[0m in \u001b[0;36mpandas.index.IndexEngine.get_loc (pandas/index.c:4279)\u001b[0;34m()\u001b[0m\n",
      "\u001b[0;32mpandas/src/hashtable_class_helper.pxi\u001b[0m in \u001b[0;36mpandas.hashtable.PyObjectHashTable.get_item (pandas/hashtable.c:13742)\u001b[0;34m()\u001b[0m\n",
      "\u001b[0;32mpandas/src/hashtable_class_helper.pxi\u001b[0m in \u001b[0;36mpandas.hashtable.PyObjectHashTable.get_item (pandas/hashtable.c:13696)\u001b[0;34m()\u001b[0m\n",
      "\u001b[0;31mKeyError\u001b[0m: 'flagFaint'",
      "\nDuring handling of the above exception, another exception occurred:\n",
      "\u001b[0;31mKeyError\u001b[0m                                  Traceback (most recent call last)",
      "\u001b[0;32m<ipython-input-12-5fa7fbe7ff65>\u001b[0m in \u001b[0;36m<module>\u001b[0;34m()\u001b[0m\n\u001b[1;32m      2\u001b[0m \u001b[0mimp\u001b[0m\u001b[0;34m.\u001b[0m\u001b[0mreload\u001b[0m\u001b[0;34m(\u001b[0m\u001b[0mvarF\u001b[0m\u001b[0;34m)\u001b[0m\u001b[0;34m\u001b[0m\u001b[0m\n\u001b[1;32m      3\u001b[0m \u001b[0;31m# 2.2 Calculate stats for LC using only bright points\u001b[0m\u001b[0;34m\u001b[0m\u001b[0;34m\u001b[0m\u001b[0m\n\u001b[0;32m----> 4\u001b[0;31m \u001b[0mmask_bright\u001b[0m \u001b[0;34m=\u001b[0m \u001b[0;34m~\u001b[0m\u001b[0mraw_data_df\u001b[0m\u001b[0;34m[\u001b[0m\u001b[0;34m'flagFaint'\u001b[0m\u001b[0;34m]\u001b[0m\u001b[0;34m.\u001b[0m\u001b[0mvalues\u001b[0m\u001b[0;34m\u001b[0m\u001b[0m\n\u001b[0m\u001b[1;32m      5\u001b[0m \u001b[0mbright_grouped\u001b[0m \u001b[0;34m=\u001b[0m \u001b[0mraw_data_df\u001b[0m\u001b[0;34m[\u001b[0m\u001b[0mmask_bright\u001b[0m\u001b[0;34m]\u001b[0m\u001b[0;34m.\u001b[0m\u001b[0mgroupby\u001b[0m\u001b[0;34m(\u001b[0m\u001b[0;34m'objectId'\u001b[0m\u001b[0;34m)\u001b[0m\u001b[0;34m\u001b[0m\u001b[0m\n",
      "\u001b[0;32m/Users/chris/anaconda3/envs/py36/lib/python3.6/site-packages/pandas/core/frame.py\u001b[0m in \u001b[0;36m__getitem__\u001b[0;34m(self, key)\u001b[0m\n\u001b[1;32m   2057\u001b[0m             \u001b[0;32mreturn\u001b[0m \u001b[0mself\u001b[0m\u001b[0;34m.\u001b[0m\u001b[0m_getitem_multilevel\u001b[0m\u001b[0;34m(\u001b[0m\u001b[0mkey\u001b[0m\u001b[0;34m)\u001b[0m\u001b[0;34m\u001b[0m\u001b[0m\n\u001b[1;32m   2058\u001b[0m         \u001b[0;32melse\u001b[0m\u001b[0;34m:\u001b[0m\u001b[0;34m\u001b[0m\u001b[0m\n\u001b[0;32m-> 2059\u001b[0;31m             \u001b[0;32mreturn\u001b[0m \u001b[0mself\u001b[0m\u001b[0;34m.\u001b[0m\u001b[0m_getitem_column\u001b[0m\u001b[0;34m(\u001b[0m\u001b[0mkey\u001b[0m\u001b[0;34m)\u001b[0m\u001b[0;34m\u001b[0m\u001b[0m\n\u001b[0m\u001b[1;32m   2060\u001b[0m \u001b[0;34m\u001b[0m\u001b[0m\n\u001b[1;32m   2061\u001b[0m     \u001b[0;32mdef\u001b[0m \u001b[0m_getitem_column\u001b[0m\u001b[0;34m(\u001b[0m\u001b[0mself\u001b[0m\u001b[0;34m,\u001b[0m \u001b[0mkey\u001b[0m\u001b[0;34m)\u001b[0m\u001b[0;34m:\u001b[0m\u001b[0;34m\u001b[0m\u001b[0m\n",
      "\u001b[0;32m/Users/chris/anaconda3/envs/py36/lib/python3.6/site-packages/pandas/core/frame.py\u001b[0m in \u001b[0;36m_getitem_column\u001b[0;34m(self, key)\u001b[0m\n\u001b[1;32m   2064\u001b[0m         \u001b[0;31m# get column\u001b[0m\u001b[0;34m\u001b[0m\u001b[0;34m\u001b[0m\u001b[0m\n\u001b[1;32m   2065\u001b[0m         \u001b[0;32mif\u001b[0m \u001b[0mself\u001b[0m\u001b[0;34m.\u001b[0m\u001b[0mcolumns\u001b[0m\u001b[0;34m.\u001b[0m\u001b[0mis_unique\u001b[0m\u001b[0;34m:\u001b[0m\u001b[0;34m\u001b[0m\u001b[0m\n\u001b[0;32m-> 2066\u001b[0;31m             \u001b[0;32mreturn\u001b[0m \u001b[0mself\u001b[0m\u001b[0;34m.\u001b[0m\u001b[0m_get_item_cache\u001b[0m\u001b[0;34m(\u001b[0m\u001b[0mkey\u001b[0m\u001b[0;34m)\u001b[0m\u001b[0;34m\u001b[0m\u001b[0m\n\u001b[0m\u001b[1;32m   2067\u001b[0m \u001b[0;34m\u001b[0m\u001b[0m\n\u001b[1;32m   2068\u001b[0m         \u001b[0;31m# duplicate columns & possible reduce dimensionality\u001b[0m\u001b[0;34m\u001b[0m\u001b[0;34m\u001b[0m\u001b[0m\n",
      "\u001b[0;32m/Users/chris/anaconda3/envs/py36/lib/python3.6/site-packages/pandas/core/generic.py\u001b[0m in \u001b[0;36m_get_item_cache\u001b[0;34m(self, item)\u001b[0m\n\u001b[1;32m   1384\u001b[0m         \u001b[0mres\u001b[0m \u001b[0;34m=\u001b[0m \u001b[0mcache\u001b[0m\u001b[0;34m.\u001b[0m\u001b[0mget\u001b[0m\u001b[0;34m(\u001b[0m\u001b[0mitem\u001b[0m\u001b[0;34m)\u001b[0m\u001b[0;34m\u001b[0m\u001b[0m\n\u001b[1;32m   1385\u001b[0m         \u001b[0;32mif\u001b[0m \u001b[0mres\u001b[0m \u001b[0;32mis\u001b[0m \u001b[0;32mNone\u001b[0m\u001b[0;34m:\u001b[0m\u001b[0;34m\u001b[0m\u001b[0m\n\u001b[0;32m-> 1386\u001b[0;31m             \u001b[0mvalues\u001b[0m \u001b[0;34m=\u001b[0m \u001b[0mself\u001b[0m\u001b[0;34m.\u001b[0m\u001b[0m_data\u001b[0m\u001b[0;34m.\u001b[0m\u001b[0mget\u001b[0m\u001b[0;34m(\u001b[0m\u001b[0mitem\u001b[0m\u001b[0;34m)\u001b[0m\u001b[0;34m\u001b[0m\u001b[0m\n\u001b[0m\u001b[1;32m   1387\u001b[0m             \u001b[0mres\u001b[0m \u001b[0;34m=\u001b[0m \u001b[0mself\u001b[0m\u001b[0;34m.\u001b[0m\u001b[0m_box_item_values\u001b[0m\u001b[0;34m(\u001b[0m\u001b[0mitem\u001b[0m\u001b[0;34m,\u001b[0m \u001b[0mvalues\u001b[0m\u001b[0;34m)\u001b[0m\u001b[0;34m\u001b[0m\u001b[0m\n\u001b[1;32m   1388\u001b[0m             \u001b[0mcache\u001b[0m\u001b[0;34m[\u001b[0m\u001b[0mitem\u001b[0m\u001b[0;34m]\u001b[0m \u001b[0;34m=\u001b[0m \u001b[0mres\u001b[0m\u001b[0;34m\u001b[0m\u001b[0m\n",
      "\u001b[0;32m/Users/chris/anaconda3/envs/py36/lib/python3.6/site-packages/pandas/core/internals.py\u001b[0m in \u001b[0;36mget\u001b[0;34m(self, item, fastpath)\u001b[0m\n\u001b[1;32m   3541\u001b[0m \u001b[0;34m\u001b[0m\u001b[0m\n\u001b[1;32m   3542\u001b[0m             \u001b[0;32mif\u001b[0m \u001b[0;32mnot\u001b[0m \u001b[0misnull\u001b[0m\u001b[0;34m(\u001b[0m\u001b[0mitem\u001b[0m\u001b[0;34m)\u001b[0m\u001b[0;34m:\u001b[0m\u001b[0;34m\u001b[0m\u001b[0m\n\u001b[0;32m-> 3543\u001b[0;31m                 \u001b[0mloc\u001b[0m \u001b[0;34m=\u001b[0m \u001b[0mself\u001b[0m\u001b[0;34m.\u001b[0m\u001b[0mitems\u001b[0m\u001b[0;34m.\u001b[0m\u001b[0mget_loc\u001b[0m\u001b[0;34m(\u001b[0m\u001b[0mitem\u001b[0m\u001b[0;34m)\u001b[0m\u001b[0;34m\u001b[0m\u001b[0m\n\u001b[0m\u001b[1;32m   3544\u001b[0m             \u001b[0;32melse\u001b[0m\u001b[0;34m:\u001b[0m\u001b[0;34m\u001b[0m\u001b[0m\n\u001b[1;32m   3545\u001b[0m                 \u001b[0mindexer\u001b[0m \u001b[0;34m=\u001b[0m \u001b[0mnp\u001b[0m\u001b[0;34m.\u001b[0m\u001b[0marange\u001b[0m\u001b[0;34m(\u001b[0m\u001b[0mlen\u001b[0m\u001b[0;34m(\u001b[0m\u001b[0mself\u001b[0m\u001b[0;34m.\u001b[0m\u001b[0mitems\u001b[0m\u001b[0;34m)\u001b[0m\u001b[0;34m)\u001b[0m\u001b[0;34m[\u001b[0m\u001b[0misnull\u001b[0m\u001b[0;34m(\u001b[0m\u001b[0mself\u001b[0m\u001b[0;34m.\u001b[0m\u001b[0mitems\u001b[0m\u001b[0;34m)\u001b[0m\u001b[0;34m]\u001b[0m\u001b[0;34m\u001b[0m\u001b[0m\n",
      "\u001b[0;32m/Users/chris/anaconda3/envs/py36/lib/python3.6/site-packages/pandas/indexes/base.py\u001b[0m in \u001b[0;36mget_loc\u001b[0;34m(self, key, method, tolerance)\u001b[0m\n\u001b[1;32m   2134\u001b[0m                 \u001b[0;32mreturn\u001b[0m \u001b[0mself\u001b[0m\u001b[0;34m.\u001b[0m\u001b[0m_engine\u001b[0m\u001b[0;34m.\u001b[0m\u001b[0mget_loc\u001b[0m\u001b[0;34m(\u001b[0m\u001b[0mkey\u001b[0m\u001b[0;34m)\u001b[0m\u001b[0;34m\u001b[0m\u001b[0m\n\u001b[1;32m   2135\u001b[0m             \u001b[0;32mexcept\u001b[0m \u001b[0mKeyError\u001b[0m\u001b[0;34m:\u001b[0m\u001b[0;34m\u001b[0m\u001b[0m\n\u001b[0;32m-> 2136\u001b[0;31m                 \u001b[0;32mreturn\u001b[0m \u001b[0mself\u001b[0m\u001b[0;34m.\u001b[0m\u001b[0m_engine\u001b[0m\u001b[0;34m.\u001b[0m\u001b[0mget_loc\u001b[0m\u001b[0;34m(\u001b[0m\u001b[0mself\u001b[0m\u001b[0;34m.\u001b[0m\u001b[0m_maybe_cast_indexer\u001b[0m\u001b[0;34m(\u001b[0m\u001b[0mkey\u001b[0m\u001b[0;34m)\u001b[0m\u001b[0;34m)\u001b[0m\u001b[0;34m\u001b[0m\u001b[0m\n\u001b[0m\u001b[1;32m   2137\u001b[0m \u001b[0;34m\u001b[0m\u001b[0m\n\u001b[1;32m   2138\u001b[0m         \u001b[0mindexer\u001b[0m \u001b[0;34m=\u001b[0m \u001b[0mself\u001b[0m\u001b[0;34m.\u001b[0m\u001b[0mget_indexer\u001b[0m\u001b[0;34m(\u001b[0m\u001b[0;34m[\u001b[0m\u001b[0mkey\u001b[0m\u001b[0;34m]\u001b[0m\u001b[0;34m,\u001b[0m \u001b[0mmethod\u001b[0m\u001b[0;34m=\u001b[0m\u001b[0mmethod\u001b[0m\u001b[0;34m,\u001b[0m \u001b[0mtolerance\u001b[0m\u001b[0;34m=\u001b[0m\u001b[0mtolerance\u001b[0m\u001b[0;34m)\u001b[0m\u001b[0;34m\u001b[0m\u001b[0m\n",
      "\u001b[0;32mpandas/index.pyx\u001b[0m in \u001b[0;36mpandas.index.IndexEngine.get_loc (pandas/index.c:4433)\u001b[0;34m()\u001b[0m\n",
      "\u001b[0;32mpandas/index.pyx\u001b[0m in \u001b[0;36mpandas.index.IndexEngine.get_loc (pandas/index.c:4279)\u001b[0;34m()\u001b[0m\n",
      "\u001b[0;32mpandas/src/hashtable_class_helper.pxi\u001b[0m in \u001b[0;36mpandas.hashtable.PyObjectHashTable.get_item (pandas/hashtable.c:13742)\u001b[0;34m()\u001b[0m\n",
      "\u001b[0;32mpandas/src/hashtable_class_helper.pxi\u001b[0m in \u001b[0;36mpandas.hashtable.PyObjectHashTable.get_item (pandas/hashtable.c:13696)\u001b[0;34m()\u001b[0m\n",
      "\u001b[0;31mKeyError\u001b[0m: 'flagFaint'"
     ]
    }
   ],
   "source": [
    "import imp\n",
    "imp.reload(varF)\n",
    "# 2.2 Calculate stats for LC using only bright points \n",
    "mask_bright = ~raw_data_df['flagFaint'].values\n",
    "bright_grouped = raw_data_df[mask_bright].groupby('objectId')\n"
   ]
  },
  {
   "cell_type": "code",
   "execution_count": 11,
   "metadata": {
    "collapsed": false
   },
   "outputs": [
    {
     "ename": "NameError",
     "evalue": "name 'bright_grouped' is not defined",
     "output_type": "error",
     "traceback": [
      "\u001b[0;31m---------------------------------------------------------------------------\u001b[0m",
      "\u001b[0;31mNameError\u001b[0m                                 Traceback (most recent call last)",
      "\u001b[0;32m<ipython-input-11-29f064122c68>\u001b[0m in \u001b[0;36m<module>\u001b[0;34m()\u001b[0m\n\u001b[0;32m----> 1\u001b[0;31m \u001b[0mget_ipython\u001b[0m\u001b[0;34m(\u001b[0m\u001b[0;34m)\u001b[0m\u001b[0;34m.\u001b[0m\u001b[0mmagic\u001b[0m\u001b[0;34m(\u001b[0m\u001b[0;34m\"timeit varMetricsFull_bright  = bright_grouped.apply(varF.computeVarMetrics, flux_column='psfFluxJy', error_column = 'psfFluxErrJy', time_column = 'mjd', calc_sigma_pdf =True)\"\u001b[0m\u001b[0;34m)\u001b[0m\u001b[0;34m\u001b[0m\u001b[0m\n\u001b[0m",
      "\u001b[0;32m/Users/chris/anaconda3/envs/py36/lib/python3.6/site-packages/IPython/core/interactiveshell.py\u001b[0m in \u001b[0;36mmagic\u001b[0;34m(self, arg_s)\u001b[0m\n\u001b[1;32m   2156\u001b[0m         \u001b[0mmagic_name\u001b[0m\u001b[0;34m,\u001b[0m \u001b[0m_\u001b[0m\u001b[0;34m,\u001b[0m \u001b[0mmagic_arg_s\u001b[0m \u001b[0;34m=\u001b[0m \u001b[0marg_s\u001b[0m\u001b[0;34m.\u001b[0m\u001b[0mpartition\u001b[0m\u001b[0;34m(\u001b[0m\u001b[0;34m' '\u001b[0m\u001b[0;34m)\u001b[0m\u001b[0;34m\u001b[0m\u001b[0m\n\u001b[1;32m   2157\u001b[0m         \u001b[0mmagic_name\u001b[0m \u001b[0;34m=\u001b[0m \u001b[0mmagic_name\u001b[0m\u001b[0;34m.\u001b[0m\u001b[0mlstrip\u001b[0m\u001b[0;34m(\u001b[0m\u001b[0mprefilter\u001b[0m\u001b[0;34m.\u001b[0m\u001b[0mESC_MAGIC\u001b[0m\u001b[0;34m)\u001b[0m\u001b[0;34m\u001b[0m\u001b[0m\n\u001b[0;32m-> 2158\u001b[0;31m         \u001b[0;32mreturn\u001b[0m \u001b[0mself\u001b[0m\u001b[0;34m.\u001b[0m\u001b[0mrun_line_magic\u001b[0m\u001b[0;34m(\u001b[0m\u001b[0mmagic_name\u001b[0m\u001b[0;34m,\u001b[0m \u001b[0mmagic_arg_s\u001b[0m\u001b[0;34m)\u001b[0m\u001b[0;34m\u001b[0m\u001b[0m\n\u001b[0m\u001b[1;32m   2159\u001b[0m \u001b[0;34m\u001b[0m\u001b[0m\n\u001b[1;32m   2160\u001b[0m     \u001b[0;31m#-------------------------------------------------------------------------\u001b[0m\u001b[0;34m\u001b[0m\u001b[0;34m\u001b[0m\u001b[0m\n",
      "\u001b[0;32m/Users/chris/anaconda3/envs/py36/lib/python3.6/site-packages/IPython/core/interactiveshell.py\u001b[0m in \u001b[0;36mrun_line_magic\u001b[0;34m(self, magic_name, line)\u001b[0m\n\u001b[1;32m   2077\u001b[0m                 \u001b[0mkwargs\u001b[0m\u001b[0;34m[\u001b[0m\u001b[0;34m'local_ns'\u001b[0m\u001b[0;34m]\u001b[0m \u001b[0;34m=\u001b[0m \u001b[0msys\u001b[0m\u001b[0;34m.\u001b[0m\u001b[0m_getframe\u001b[0m\u001b[0;34m(\u001b[0m\u001b[0mstack_depth\u001b[0m\u001b[0;34m)\u001b[0m\u001b[0;34m.\u001b[0m\u001b[0mf_locals\u001b[0m\u001b[0;34m\u001b[0m\u001b[0m\n\u001b[1;32m   2078\u001b[0m             \u001b[0;32mwith\u001b[0m \u001b[0mself\u001b[0m\u001b[0;34m.\u001b[0m\u001b[0mbuiltin_trap\u001b[0m\u001b[0;34m:\u001b[0m\u001b[0;34m\u001b[0m\u001b[0m\n\u001b[0;32m-> 2079\u001b[0;31m                 \u001b[0mresult\u001b[0m \u001b[0;34m=\u001b[0m \u001b[0mfn\u001b[0m\u001b[0;34m(\u001b[0m\u001b[0;34m*\u001b[0m\u001b[0margs\u001b[0m\u001b[0;34m,\u001b[0m\u001b[0;34m**\u001b[0m\u001b[0mkwargs\u001b[0m\u001b[0;34m)\u001b[0m\u001b[0;34m\u001b[0m\u001b[0m\n\u001b[0m\u001b[1;32m   2080\u001b[0m             \u001b[0;32mreturn\u001b[0m \u001b[0mresult\u001b[0m\u001b[0;34m\u001b[0m\u001b[0m\n\u001b[1;32m   2081\u001b[0m \u001b[0;34m\u001b[0m\u001b[0m\n",
      "\u001b[0;32m<decorator-gen-58>\u001b[0m in \u001b[0;36mtimeit\u001b[0;34m(self, line, cell)\u001b[0m\n",
      "\u001b[0;32m/Users/chris/anaconda3/envs/py36/lib/python3.6/site-packages/IPython/core/magic.py\u001b[0m in \u001b[0;36m<lambda>\u001b[0;34m(f, *a, **k)\u001b[0m\n\u001b[1;32m    186\u001b[0m     \u001b[0;31m# but it's overkill for just that one bit of state.\u001b[0m\u001b[0;34m\u001b[0m\u001b[0;34m\u001b[0m\u001b[0m\n\u001b[1;32m    187\u001b[0m     \u001b[0;32mdef\u001b[0m \u001b[0mmagic_deco\u001b[0m\u001b[0;34m(\u001b[0m\u001b[0marg\u001b[0m\u001b[0;34m)\u001b[0m\u001b[0;34m:\u001b[0m\u001b[0;34m\u001b[0m\u001b[0m\n\u001b[0;32m--> 188\u001b[0;31m         \u001b[0mcall\u001b[0m \u001b[0;34m=\u001b[0m \u001b[0;32mlambda\u001b[0m \u001b[0mf\u001b[0m\u001b[0;34m,\u001b[0m \u001b[0;34m*\u001b[0m\u001b[0ma\u001b[0m\u001b[0;34m,\u001b[0m \u001b[0;34m**\u001b[0m\u001b[0mk\u001b[0m\u001b[0;34m:\u001b[0m \u001b[0mf\u001b[0m\u001b[0;34m(\u001b[0m\u001b[0;34m*\u001b[0m\u001b[0ma\u001b[0m\u001b[0;34m,\u001b[0m \u001b[0;34m**\u001b[0m\u001b[0mk\u001b[0m\u001b[0;34m)\u001b[0m\u001b[0;34m\u001b[0m\u001b[0m\n\u001b[0m\u001b[1;32m    189\u001b[0m \u001b[0;34m\u001b[0m\u001b[0m\n\u001b[1;32m    190\u001b[0m         \u001b[0;32mif\u001b[0m \u001b[0mcallable\u001b[0m\u001b[0;34m(\u001b[0m\u001b[0marg\u001b[0m\u001b[0;34m)\u001b[0m\u001b[0;34m:\u001b[0m\u001b[0;34m\u001b[0m\u001b[0m\n",
      "\u001b[0;32m/Users/chris/anaconda3/envs/py36/lib/python3.6/site-packages/IPython/core/magics/execution.py\u001b[0m in \u001b[0;36mtimeit\u001b[0;34m(self, line, cell)\u001b[0m\n\u001b[1;32m   1042\u001b[0m             \u001b[0mnumber\u001b[0m \u001b[0;34m=\u001b[0m \u001b[0;36m1\u001b[0m\u001b[0;34m\u001b[0m\u001b[0m\n\u001b[1;32m   1043\u001b[0m             \u001b[0;32mfor\u001b[0m \u001b[0m_\u001b[0m \u001b[0;32min\u001b[0m \u001b[0mrange\u001b[0m\u001b[0;34m(\u001b[0m\u001b[0;36m1\u001b[0m\u001b[0;34m,\u001b[0m \u001b[0;36m10\u001b[0m\u001b[0;34m)\u001b[0m\u001b[0;34m:\u001b[0m\u001b[0;34m\u001b[0m\u001b[0m\n\u001b[0;32m-> 1044\u001b[0;31m                 \u001b[0mtime_number\u001b[0m \u001b[0;34m=\u001b[0m \u001b[0mtimer\u001b[0m\u001b[0;34m.\u001b[0m\u001b[0mtimeit\u001b[0m\u001b[0;34m(\u001b[0m\u001b[0mnumber\u001b[0m\u001b[0;34m)\u001b[0m\u001b[0;34m\u001b[0m\u001b[0m\n\u001b[0m\u001b[1;32m   1045\u001b[0m                 \u001b[0mworst_tuning\u001b[0m \u001b[0;34m=\u001b[0m \u001b[0mmax\u001b[0m\u001b[0;34m(\u001b[0m\u001b[0mworst_tuning\u001b[0m\u001b[0;34m,\u001b[0m \u001b[0mtime_number\u001b[0m \u001b[0;34m/\u001b[0m \u001b[0mnumber\u001b[0m\u001b[0;34m)\u001b[0m\u001b[0;34m\u001b[0m\u001b[0m\n\u001b[1;32m   1046\u001b[0m                 \u001b[0;32mif\u001b[0m \u001b[0mtime_number\u001b[0m \u001b[0;34m>=\u001b[0m \u001b[0;36m0.2\u001b[0m\u001b[0;34m:\u001b[0m\u001b[0;34m\u001b[0m\u001b[0m\n",
      "\u001b[0;32m/Users/chris/anaconda3/envs/py36/lib/python3.6/site-packages/IPython/core/magics/execution.py\u001b[0m in \u001b[0;36mtimeit\u001b[0;34m(self, number)\u001b[0m\n\u001b[1;32m    137\u001b[0m         \u001b[0mgc\u001b[0m\u001b[0;34m.\u001b[0m\u001b[0mdisable\u001b[0m\u001b[0;34m(\u001b[0m\u001b[0;34m)\u001b[0m\u001b[0;34m\u001b[0m\u001b[0m\n\u001b[1;32m    138\u001b[0m         \u001b[0;32mtry\u001b[0m\u001b[0;34m:\u001b[0m\u001b[0;34m\u001b[0m\u001b[0m\n\u001b[0;32m--> 139\u001b[0;31m             \u001b[0mtiming\u001b[0m \u001b[0;34m=\u001b[0m \u001b[0mself\u001b[0m\u001b[0;34m.\u001b[0m\u001b[0minner\u001b[0m\u001b[0;34m(\u001b[0m\u001b[0mit\u001b[0m\u001b[0;34m,\u001b[0m \u001b[0mself\u001b[0m\u001b[0;34m.\u001b[0m\u001b[0mtimer\u001b[0m\u001b[0;34m)\u001b[0m\u001b[0;34m\u001b[0m\u001b[0m\n\u001b[0m\u001b[1;32m    140\u001b[0m         \u001b[0;32mfinally\u001b[0m\u001b[0;34m:\u001b[0m\u001b[0;34m\u001b[0m\u001b[0m\n\u001b[1;32m    141\u001b[0m             \u001b[0;32mif\u001b[0m \u001b[0mgcold\u001b[0m\u001b[0;34m:\u001b[0m\u001b[0;34m\u001b[0m\u001b[0m\n",
      "\u001b[0;32m<magic-timeit>\u001b[0m in \u001b[0;36minner\u001b[0;34m(_it, _timer)\u001b[0m\n",
      "\u001b[0;31mNameError\u001b[0m: name 'bright_grouped' is not defined"
     ]
    }
   ],
   "source": [
    "%timeit varMetricsFull_bright  = bright_grouped.apply(varF.computeVarMetrics, flux_column='psfFluxJy', error_column = 'psfFluxErrJy', time_column = 'mjd', calc_sigma_pdf =True)"
   ]
  },
  {
   "cell_type": "code",
   "execution_count": null,
   "metadata": {
    "collapsed": false
   },
   "outputs": [],
   "source": [
    "import imp\n",
    "imp.reload(varF)\n",
    "# 2.2 Calculate stats for LC using only bright points \n",
    "mask_bright = ~raw_data_df['flagFaint'].values\n",
    "bright_grouped = raw_data_df[mask_bright].groupby('objectId')\n",
    "varMetricsFull_bright  = bright_grouped.apply(varF.computeVarMetrics, \n",
    "                                              flux_column='psfFluxJy',\n",
    "                                              error_column = 'psfFluxErrJy',\n",
    "                                              time_column = 'mjd')\n",
    "\n",
    "# 2.3 Calculate stats for LC using all points \n",
    "all_grouped = raw_data_df.groupby('objectId')\n",
    "varMetricsFull_all  = all_grouped.apply(varF.computeVarMetrics, \n",
    "                                              flux_column='psfFluxJy',\n",
    "                                              error_column = 'psfFluxErrJy',\n",
    "                                              time_column = 'mjd') \n",
    "\n"
   ]
  },
  {
   "cell_type": "markdown",
   "metadata": {},
   "source": [
    "The two are very different!  Now we want to prepend some string to each column, so that I know which chi2 was calculated using all points, and which using only bright points.Then we want to stack them  : at this point, it's easier to convert all back to AstroPy and use hstack  http://docs.astropy.org/en/stable/api/astropy.table.hstack.html"
   ]
  },
  {
   "cell_type": "code",
   "execution_count": 317,
   "metadata": {
    "collapsed": false
   },
   "outputs": [],
   "source": [
    "# 2.4  calculate magnitudes from fluxes ... \n",
    "def flux2absigma(flux, fluxsigma):\n",
    "      \"\"\"Compute AB mag sigma given flux and flux sigma\n",
    "\n",
    "      Here units of flux,  fluxsigma  don't matter \n",
    "      as long as they are consistent, since we are dividing \n",
    "      one by the other, so all the units cancel out.\n",
    "      \"\"\"\n",
    "      FIVE_OVER_2LOG10 = 1.085736204758129569\n",
    "      return FIVE_OVER_2LOG10 * fluxsigma / flux;\n",
    "\n",
    "\n",
    "def flux2ab(flux, unit = 'Jy'):\n",
    "  \"\"\"Compute AB mag given flux. \n",
    "\n",
    "  Accept two unit types :  \n",
    "  *  'cgs', meaning flux is in  ergs / s / Hz / cm2\n",
    "  *  'Jy', meaning flux is in Jy.  1 Jy = 1E-23 * ergs/s/Hz/cm2\n",
    "  \"\"\"\n",
    "  if unit == 'Jy':\n",
    "    return -2.5 * np.log10(flux) + 8.90\n",
    "  elif unit == 'cgs':\n",
    "    return -2.5 * np.log10(flux) - 48.6\n",
    "\n",
    "# Calculate magnitudes based on average fluxes :\n",
    "# psfMean  psfMedian  psfMeanErr  psfMedianErr \n",
    "varMetricsFull_all['psfMean'] = flux2ab(varMetricsFull_all['psfFluxMean'], unit='Jy')\n",
    "varMetricsFull_all['psfMedian'] = flux2ab(varMetricsFull_all['psfFluxMedian'], unit='Jy')\n",
    "varMetricsFull_all['psfMeanErr'] = flux2absigma(varMetricsFull_all['psfFluxMean'],\n",
    "                                                varMetricsFull_all['psfFluxMeanErr'])\n",
    "varMetricsFull_all['psfMedianErr'] = flux2absigma(varMetricsFull_all['psfFluxMedian'],\n",
    "                                                  varMetricsFull_all['psfFluxMedianErr'])\n",
    "\n",
    "\n",
    "varMetricsFull_bright['psfMean'] = flux2ab(varMetricsFull_bright['psfFluxMean'], unit='Jy')\n",
    "varMetricsFull_bright['psfMedian'] = flux2ab(varMetricsFull_bright['psfFluxMedian'], unit='Jy')\n",
    "varMetricsFull_bright['psfMeanErr'] = flux2absigma(varMetricsFull_bright['psfFluxMean'],\n",
    "                                                varMetricsFull_bright['psfFluxMeanErr'])\n",
    "varMetricsFull_bright['psfMedianErr'] = flux2absigma(varMetricsFull_bright['psfFluxMedian'],\n",
    "                                                  varMetricsFull_bright['psfFluxMedianErr'])\n",
    "\n",
    "print('Calculating magnitudes from fluxes is finished')\n",
    "\n",
    "\n",
    "# 2.5  change colnames to reflect which subset of points per lightcurve was used \n",
    "# the easiest way to do it is to add_suffix in pandas \n",
    "\n",
    "varMetricsFull_all = varMetricsFull_all.add_suffix('_all')\n",
    "varMetricsFull_bright = varMetricsFull_bright.add_suffix('_bright')\n",
    "\n",
    "# 2.6 combine the two ... \n",
    "varMetricsFull_combined = pd.concat([varMetricsFull_all,varMetricsFull_bright], axis=1)\n"
   ]
  },
  {
   "cell_type": "code",
   "execution_count": 323,
   "metadata": {
    "collapsed": false
   },
   "outputs": [
    {
     "data": {
      "text/plain": [
       "<matplotlib.collections.PathCollection at 0x122fab630>"
      ]
     },
     "execution_count": 323,
     "metadata": {},
     "output_type": "execute_result"
    },
    {
     "data": {
      "image/png": "[encoded data removed]",
      "text/plain": [
       "<matplotlib.figure.Figure at 0x115e58978>"
      ]
     },
     "metadata": {},
     "output_type": "display_data"
    }
   ],
   "source": [
    "# Now we can easily plot quantities calculated using all points \n",
    "# or only bright points,\n",
    "# as well as select 'bright' objects , which have high meanSN_all,  \n",
    "# or those that are 'dim' - have a low meanSN_all...  \n",
    "\n",
    "#plt.hist(varMetricsFull_combined['N_all'])\n",
    "#plt.hist(varMetricsFull_combined['N_bright'])\n",
    "\n",
    "plt.scatter(varMetricsFull_combined.chi2DOF_all, varMetricsFull_combined.chi2DOF_bright)"
   ]
  },
  {
   "cell_type": "code",
   "execution_count": 325,
   "metadata": {
    "collapsed": false
   },
   "outputs": [
    {
     "data": {
      "text/plain": [
       "56"
      ]
     },
     "execution_count": 325,
     "metadata": {},
     "output_type": "execute_result"
    }
   ],
   "source": [
    "# How many cols we have now per band?\n",
    "\n",
    "len(varMetricsFull_combined.columns)"
   ]
  },
  {
   "cell_type": "code",
   "execution_count": null,
   "metadata": {
    "collapsed": true
   },
   "outputs": [],
   "source": [
    "# this means over 250 cols in combined file !  \n",
    "# starts getting overwhelming... \n",
    "\n"
   ]
  }
 ],
 "metadata": {
  "kernelspec": {
   "display_name": "Python 3",
   "language": "python",
   "name": "python3"
  },
  "language_info": {
   "codemirror_mode": {
    "name": "ipython",
    "version": 3
   },
   "file_extension": ".py",
   "mimetype": "text/x-python",
   "name": "python",
   "nbconvert_exporter": "python",
   "pygments_lexer": "ipython3",
   "version": "3.6.0"
  }
 },
 "nbformat": 4,
 "nbformat_minor": 2
}

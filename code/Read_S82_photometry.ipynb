{
 "cells": [
  {
   "cell_type": "markdown",
   "metadata": {},
   "source": [
    "## Extracting the LSST-reprocessed Summer 2013 Stripe 82 photometry for a given object.  \n",
    "\n",
    "We show the steps for an object SDSS J013007.13+002635.4 , a carbon star at [(ra,dec) = (22.529730609, 0.443172890)](http://skyserver.sdss.org/dr12/en/tools/explore/summary.aspx?ra=01+30+07.1&dec=00+26+35.4)\n",
    "\n"
   ]
  },
  {
   "cell_type": "code",
   "execution_count": 1,
   "metadata": {
    "collapsed": true
   },
   "outputs": [],
   "source": [
    "import pandas as pd\n",
    "import numpy as np \n",
    "import matplotlib.pyplot as plt "
   ]
  },
  {
   "cell_type": "markdown",
   "metadata": {},
   "source": [
    "### Figure out which path ... "
   ]
  },
  {
   "cell_type": "markdown",
   "metadata": {},
   "source": [
    "SDSS S82 is divided into patches labeled (I,J), with I index running along RA from right to left (with values 0:409), and J index running along DEC from bottom to top (with values 0 to 11). "
   ]
  },
  {
   "cell_type": "code",
   "execution_count": 2,
   "metadata": {},
   "outputs": [
    {
     "data": {
      "text/html": [
       "<div>\n",
       "<style>\n",
       "    .dataframe thead tr:only-child th {\n",
       "        text-align: right;\n",
       "    }\n",
       "\n",
       "    .dataframe thead th {\n",
       "        text-align: left;\n",
       "    }\n",
       "\n",
       "    .dataframe tbody tr th {\n",
       "        vertical-align: top;\n",
       "    }\n",
       "</style>\n",
       "<table border=\"1\" class=\"dataframe\">\n",
       "  <thead>\n",
       "    <tr style=\"text-align: right;\">\n",
       "      <th></th>\n",
       "      <th>minRA</th>\n",
       "      <th>minDec</th>\n",
       "      <th>maxRA</th>\n",
       "      <th>maxDec</th>\n",
       "      <th>tract</th>\n",
       "      <th>patchI</th>\n",
       "      <th>patchJ</th>\n",
       "      <th>filePath</th>\n",
       "    </tr>\n",
       "  </thead>\n",
       "  <tbody>\n",
       "    <tr>\n",
       "      <th>1778</th>\n",
       "      <td>22.56324</td>\n",
       "      <td>0.4163</td>\n",
       "      <td>22.33665</td>\n",
       "      <td>0.63268</td>\n",
       "      <td>0</td>\n",
       "      <td>307</td>\n",
       "      <td>8</td>\n",
       "      <td>deepCoadd/r/0/307,8/coadd-r-0-307,8.fits</td>\n",
       "    </tr>\n",
       "  </tbody>\n",
       "</table>\n",
       "</div>"
      ],
      "text/plain": [
       "         minRA  minDec     maxRA   maxDec  tract  patchI  patchJ  \\\n",
       "1778  22.56324  0.4163  22.33665  0.63268      0     307       8   \n",
       "\n",
       "                                      filePath  \n",
       "1778  deepCoadd/r/0/307,8/coadd-r-0-307,8.fits  "
      ]
     },
     "execution_count": 2,
     "metadata": {},
     "output_type": "execute_result"
    }
   ],
   "source": [
    "# finding patch in which desired object lays .\n",
    "ra = 22.5297306\n",
    "dec = 0.443172890\n",
    "patch_bounds = pd.read_table('../raw_data/repo_fls/coaddBounds.txt', \n",
    "                             delim_whitespace=True)\n",
    "mask_ra = (patch_bounds['maxRA'].values<ra)*(ra < patch_bounds['minRA'].values)\n",
    "mask_dec = (patch_bounds['minDec'].values<dec)*(dec < patch_bounds['maxDec'].values)\n",
    "mask = mask_ra * mask_dec\n",
    "patch_bounds[mask]"
   ]
  },
  {
   "cell_type": "markdown",
   "metadata": {},
   "source": [
    "Patches are aggregated along I index (as in ../packages/LC_processing.py ) : \n",
    "\n",
    " NCSA : \n",
    " \n",
    "    ['00_21', '22_43','44_65', '66_87' ,'88_109','110_131',\n",
    "    '132_153', '154_175',  '176_181', '365_387', '388_409'] \n",
    "\n",
    "  IN2P3 : \n",
    "    \n",
    "    ['155_176', '176_197','197_218', '218_239', '239_260',\n",
    "    '260_281', '281_302', '302_323','323_344', '344_365', '365_386']  "
   ]
  },
  {
   "cell_type": "markdown",
   "metadata": {},
   "source": [
    "Thus given the I index we know in which of the above patch files we should look for photometry for that object. In our case patchI=307, so the photometry is in collection  302_323, processed at IN2P3"
   ]
  },
  {
   "cell_type": "markdown",
   "metadata": {},
   "source": [
    "### Download the patch files from /astro/store/pogo4/ (if not already present)"
   ]
  },
  {
   "cell_type": "markdown",
   "metadata": {},
   "source": [
    "This can be done with scp : \n",
    "    \n",
    "    cd ~/GradResearch/SDSS_S82_FP_research/raw_data/rawDataFPSplit\n",
    "    scp suberlak@epyc.astro.washington.edu:/astro/store/pogo4/s13_stripe82/forced_phot_lt_23/IN2P3/*302_323.csv.gz ."
   ]
  },
  {
   "cell_type": "markdown",
   "metadata": {},
   "source": [
    "and  should take about 5 mins per tar file."
   ]
  },
  {
   "cell_type": "markdown",
   "metadata": {},
   "source": [
    "### Find out from DeepSource files what is the ra,dec per object"
   ]
  },
  {
   "cell_type": "markdown",
   "metadata": {},
   "source": [
    "The DeepSource files contain \n",
    "    \n",
    "    deepSourceId\tparentDeepSourceId\tdeepCoaddId\tra\tdecl\tpsfMag\tpsfMagSigma\ttract\tpatch\tdetect_is_primary"
   ]
  },
  {
   "cell_type": "code",
   "execution_count": 7,
   "metadata": {
    "collapsed": true
   },
   "outputs": [],
   "source": [
    "fname = '../raw_data/repo_fls/DeepSourceIN2P3_i_lt235_narrow.csv.gz'\n",
    "ds = Table.read(fname,format='csv')"
   ]
  },
  {
   "cell_type": "code",
   "execution_count": 9,
   "metadata": {},
   "outputs": [],
   "source": [
    "from astropy.table import hstack\n",
    "from astropy.coordinates import SkyCoord\n",
    "from astropy import units as u\n",
    "# Use the SkyCoord  : express the coords of my object as 1-element catalog,\n",
    "# find the best matches within the DeepSource catalog \n",
    "ra = 22.5297306\n",
    "dec = 0.443172890\n",
    "coord1 = SkyCoord(ra  = ra *u.degree, \n",
    "                  dec = dec*u.degree)\n",
    "coord2 = SkyCoord(ra  = ds['ra']*u.degree, \n",
    "                  dec = ds['decl']*u.degree)\n",
    "        "
   ]
  },
  {
   "cell_type": "code",
   "execution_count": 12,
   "metadata": {},
   "outputs": [],
   "source": [
    "# Find nearest matches to coord1 in catalog coord2\n",
    "idx, d2d, d3d = coord1.match_to_catalog_sky(coord2) "
   ]
  },
  {
   "cell_type": "code",
   "execution_count": 20,
   "metadata": {},
   "outputs": [
    {
     "data": {
      "text/html": [
       "<i>Row index=697781</i>\n",
       "<table id=\"table4584214712\">\n",
       "<thead><tr><th>deepSourceId</th><th>parentDeepSourceId</th><th>deepCoaddId</th><th>ra</th><th>decl</th><th>psfMag</th><th>psfMagSigma</th><th>tract</th><th>patch</th><th>detect_is_primary</th></tr></thead>\n",
       "<thead><tr><th>int64</th><th>int64</th><th>int64</th><th>float64</th><th>float64</th><th>float64</th><th>float64</th><th>int64</th><th>str6</th><th>int64</th></tr></thead>\n",
       "<tr><td>2700409550411752</td><td>2700409550406756</td><td>20119619</td><td>22.5297397479</td><td>0.443172667135</td><td>17.2881431069</td><td>0.00974444156076</td><td>0</td><td>307,8</td><td>1</td></tr>\n",
       "</table>"
      ],
      "text/plain": [
       "<Row index=697781>\n",
       "  deepSourceId   parentDeepSourceId deepCoaddId       ra           decl          psfMag      psfMagSigma    tract patch detect_is_primary\n",
       "     int64             int64           int64       float64       float64        float64        float64      int64  str6       int64      \n",
       "---------------- ------------------ ----------- ------------- -------------- ------------- ---------------- ----- ----- -----------------\n",
       "2700409550411752   2700409550406756    20119619 22.5297397479 0.443172667135 17.2881431069 0.00974444156076     0 307,8                 1"
      ]
     },
     "execution_count": 20,
     "metadata": {},
     "output_type": "execute_result"
    }
   ],
   "source": [
    "# Print the row of DeepSource catalog \n",
    "# corresponding to that object \n",
    "objectId = ds[idx]['deepSourceId']\n",
    "ds[idx]"
   ]
  },
  {
   "cell_type": "markdown",
   "metadata": {},
   "source": [
    "Thus now we know that the deepSourceId is 2700409550411752 , which corresponds to objectId in the patches ."
   ]
  },
  {
   "cell_type": "markdown",
   "metadata": {},
   "source": [
    "### Read in the  patch files"
   ]
  },
  {
   "cell_type": "markdown",
   "metadata": {},
   "source": [
    "Here we read in all the files, select and extract photometry for that object (taking much code from processPatch2.py )  . The patch files contain \n",
    "\n",
    "    deepForcedSourceId\tobjectId\texposure_id\tmjd\tpsfFlux\tpsfFluxErr"
   ]
  },
  {
   "cell_type": "code",
   "execution_count": 3,
   "metadata": {},
   "outputs": [
    {
     "data": {
      "text/plain": [
       "'3.0.2'"
      ]
     },
     "execution_count": 3,
     "metadata": {},
     "output_type": "execute_result"
    }
   ],
   "source": [
    "from astropy.table import Table\n",
    "from astropy.table import vstack\n",
    "from astropy.io import ascii\n",
    "from astropy import version\n",
    "version.version"
   ]
  },
  {
   "cell_type": "code",
   "execution_count": 74,
   "metadata": {
    "scrolled": true
   },
   "outputs": [
    {
     "name": "stdout",
     "output_type": "stream",
     "text": [
      "Reading  u 302_323\n",
      "Adding  1811810  rows\n",
      "Adding  1810306  rows\n",
      "Adding  1812844  rows\n",
      "Adding  1810861  rows\n",
      "Adding  1809465  rows\n",
      "Adding  1810545  rows\n",
      "Adding  1811391  rows\n",
      "Adding  1811760  rows\n",
      "Adding  1811005  rows\n",
      "Adding  1810546  rows\n",
      "Adding  1811437  rows\n",
      "Adding  1812963  rows\n",
      "Adding  1811297  rows\n",
      "Adding  1809409  rows\n",
      "Reading  g 302_323\n",
      "Adding  1809296  rows\n",
      "Adding  1808649  rows\n",
      "Adding  1808363  rows\n",
      "Adding  1808541  rows\n",
      "Adding  1808826  rows\n",
      "Adding  1809134  rows\n",
      "Adding  1808841  rows\n",
      "Adding  1809178  rows\n",
      "Adding  1809106  rows\n",
      "Adding  1808273  rows\n",
      "Adding  1808781  rows\n",
      "Adding  1808592  rows\n",
      "Adding  1808762  rows\n",
      "Adding  1808280  rows\n",
      "Adding  857925  rows\n",
      "Reading  r 302_323\n",
      "Adding  1811351  rows\n",
      "Adding  1811439  rows\n",
      "Adding  1811459  rows\n",
      "Adding  1811835  rows\n",
      "Adding  1811573  rows\n",
      "Adding  1811217  rows\n",
      "Adding  1810989  rows\n",
      "Adding  1811411  rows\n",
      "Adding  1811468  rows\n",
      "Adding  1810470  rows\n",
      "Adding  1810902  rows\n",
      "Adding  1811013  rows\n",
      "Adding  1810801  rows\n",
      "Adding  1810779  rows\n",
      "Adding  870929  rows\n",
      "Reading  i 302_323\n",
      "Adding  1810681  rows\n",
      "Adding  1811147  rows\n",
      "Adding  1810975  rows\n",
      "Adding  1810570  rows\n",
      "Adding  1810725  rows\n",
      "Adding  1810235  rows\n",
      "Adding  1810729  rows\n",
      "Adding  1809958  rows\n",
      "Adding  1810559  rows\n",
      "Adding  1809892  rows\n",
      "Adding  1810226  rows\n",
      "Adding  1809775  rows\n",
      "Adding  1810102  rows\n",
      "Adding  1809576  rows\n",
      "Adding  862730  rows\n",
      "Reading  z 302_323\n",
      "Adding  1809738  rows\n",
      "Adding  1809694  rows\n",
      "Adding  1809505  rows\n",
      "Adding  1810531  rows\n",
      "Adding  1810002  rows\n",
      "Adding  1810157  rows\n",
      "Adding  1809902  rows\n",
      "Adding  1809686  rows\n",
      "Adding  1810116  rows\n",
      "Adding  1810013  rows\n",
      "Adding  1809813  rows\n",
      "Adding  1809891  rows\n",
      "Adding  1809471  rows\n",
      "Adding  1809893  rows\n",
      "Adding  892692  rows\n"
     ]
    }
   ],
   "source": [
    "# Read in chunks , and save only those rows that may correspond to that object :\n",
    "DirIn = '../raw_data/rawDataFPSplit/'\n",
    "p = '302_323'\n",
    "# initialize storing results \n",
    "out_tbl_comb = Table()\n",
    "for f in 'ugriz':\n",
    "    print('Reading ',f,p)\n",
    "    fname = DirIn + f+p+'.csv.gz'\n",
    "    \n",
    "    # set up an iterator over table chunks of 200 mb (no actual reading done yet)\n",
    "    tbls = ascii.read(fname, format='csv', guess=False,\n",
    "                      fast_reader={'chunk_size': 200*1000000,'chunk_generator':True})\n",
    "    out_tbls = []\n",
    "    # At this point the file is actually read in chunks.\n",
    "    for tbl in tbls:\n",
    "        # choose only rows with photometry for the given object \n",
    "        selected = tbl['objectId'] == objectId\n",
    "        print('Adding ', np.sum(selected), ' rows')\n",
    "        if np.count_nonzero(selected):\n",
    "            tbl['filter'] = f\n",
    "            out_tbls.append(tbl[selected])\n",
    "    out_tbl = vstack(out_tbls)\n",
    "\n",
    "    # Add the photometry from this filter to the overall table ... \n",
    "    out_tbl_comb = vstack([out_tbl, out_tbl_comb])"
   ]
  },
  {
   "cell_type": "code",
   "execution_count": 75,
   "metadata": {
    "collapsed": true
   },
   "outputs": [],
   "source": [
    "# store the raw forced photometry \n",
    "out_tbl_comb.write('photometry_ugriz.txt', format='ascii', overwrite='True')"
   ]
  },
  {
   "cell_type": "markdown",
   "metadata": {},
   "source": [
    "### Calculate magnitudes "
   ]
  },
  {
   "cell_type": "code",
   "execution_count": 67,
   "metadata": {
    "collapsed": true
   },
   "outputs": [],
   "source": [
    "def flux2absigma(flux, fluxsigma):\n",
    "    \"\"\"Compute AB mag sigma given flux and flux sigma\n",
    "\n",
    "    Here units of flux,  fluxsigma  don't matter \n",
    "    as long as they are consistent, since we are dividing \n",
    "    one by the other, so all the units cancel out.\n",
    "    \"\"\"\n",
    "    FIVE_OVER_2LOG10 = 1.085736204758129569\n",
    "    return FIVE_OVER_2LOG10 * fluxsigma / flux;\n",
    "\n",
    "\n",
    "def flux2ab(flux, unit = 'Jy'):\n",
    "    \"\"\"Compute AB mag given flux. \n",
    "\n",
    "    Accept two unit types :  \n",
    "    *  'cgs', meaning flux is in  ergs / s / Hz / cm2\n",
    "    *  'Jy', meaning flux is in Jy.  1 Jy = 1E-23 * ergs/s/Hz/cm2\n",
    "    \"\"\"\n",
    "    if unit == 'Jy':\n",
    "        return -2.5 * np.log10(flux) + 8.90\n",
    "    elif unit == 'cgs':\n",
    "        return -2.5 * np.log10(flux) - 48.6"
   ]
  },
  {
   "cell_type": "code",
   "execution_count": 78,
   "metadata": {},
   "outputs": [],
   "source": [
    "raw_data = out_tbl_comb\n",
    "raw_data['psfFluxJy'] = raw_data['psfFlux'] * 1E23 \n",
    "raw_data['psfFluxErrJy'] = raw_data['psfFluxErr'] * 1E23 \n",
    "    \n",
    "# 1.2  : drop all rows which have NaNs in psfFlux .... \n",
    "m1  = np.isnan(raw_data['psfFlux'].data)  # true if NaN \n",
    " # true if not finite... \n",
    "m2 = np.bitwise_not(np.isfinite(raw_data['psfFlux'].data))  \n",
    "\n",
    " # logical or : true if either condition satisfied \n",
    "m = m1 | m2  \n",
    "    \n",
    "indices = np.arange(len(raw_data))\n",
    "remove_rows= indices[m]\n",
    "raw_data.remove_rows(remove_rows)\n",
    "\n",
    "# calculate magnitudes \n",
    "raw_data['psfMag'] = flux2ab(raw_data['psfFluxJy'], unit='Jy')\n",
    "raw_data['psfMagErr'] = flux2absigma(raw_data['psfFluxJy'], \n",
    "                                              raw_data['psfFluxErrJy'])"
   ]
  },
  {
   "cell_type": "markdown",
   "metadata": {
    "collapsed": true
   },
   "source": [
    "### Correct for extinction "
   ]
  },
  {
   "cell_type": "code",
   "execution_count": 99,
   "metadata": {},
   "outputs": [
    {
     "name": "stdout",
     "output_type": "stream",
     "text": [
      "E(B-V) is  0.0257108627942\n"
     ]
    }
   ],
   "source": [
    "site = 'IN2P3'\n",
    "DirEBV = '../raw_data/repo_fls/'\n",
    "ebv_file = 'ebv_'+site+'_lt235.dat'\n",
    "ebv = pd.read_table(DirEBV+ebv_file, delimiter=' ', usecols=[0,1])\n",
    "ebv.columns = ['objectId','ebv']\n",
    "\n",
    "# Find what is the EBV for this object \n",
    "object_ebv = ebv[ebv['objectId'].values == objectId]['ebv'].values[0]\n",
    "print('E(B-V) is ', object_ebv)"
   ]
  },
  {
   "cell_type": "code",
   "execution_count": 130,
   "metadata": {},
   "outputs": [],
   "source": [
    "# Correct for extinction \n",
    "A = [5.155, 3.793, 2.751, 2.086, 1.479]\n",
    "filters = 'ugriz'\n",
    "raw_data['psfMagDered'] = np.zeros(len(raw_data), dtype=float)\n",
    "\n",
    "for i,f in enumerate(filters)  : \n",
    "    mask = raw_data['filter'] == f\n",
    "    raw_data['psfMagDered'][mask] = raw_data['psfMag'][mask]+object_ebv * A[i]"
   ]
  },
  {
   "cell_type": "code",
   "execution_count": 135,
   "metadata": {},
   "outputs": [
    {
     "data": {
      "text/plain": [
       "<matplotlib.legend.Legend at 0x10e93ff98>"
      ]
     },
     "execution_count": 135,
     "metadata": {},
     "output_type": "execute_result"
    },
    {
     "data": {
      "image/png": "[encoded data removed]",
      "text/plain": [
       "<matplotlib.figure.Figure at 0x10f079748>"
      ]
     },
     "metadata": {},
     "output_type": "display_data"
    }
   ],
   "source": [
    "%matplotlib inline\n",
    "for f in 'ugriz':\n",
    "    mask = raw_data['filter'] == f\n",
    "    plt.scatter(raw_data['mjd'][mask], raw_data['psfMagDered'][mask] , label=f)\n",
    "plt.legend()"
   ]
  },
  {
   "cell_type": "code",
   "execution_count": 138,
   "metadata": {},
   "outputs": [
    {
     "data": {
      "text/plain": [
       "<matplotlib.text.Text at 0x10f11fc50>"
      ]
     },
     "execution_count": 138,
     "metadata": {},
     "output_type": "execute_result"
    },
    {
     "data": {
      "image/png": "[encoded data removed]",
      "text/plain": [
       "<matplotlib.figure.Figure at 0x116fa0240>"
      ]
     },
     "metadata": {},
     "output_type": "display_data"
    }
   ],
   "source": [
    "f = 'u'\n",
    "mask = raw_data['filter'] == f\n",
    "plt.errorbar(raw_data['mjd'][mask],raw_data['psfMagDered'][mask],\n",
    "             raw_data['psfMagErr'][mask], fmt='o')\n",
    "plt.xlabel('mjd [days]')\n",
    "plt.ylabel(f +' [mag]')"
   ]
  },
  {
   "cell_type": "code",
   "execution_count": 139,
   "metadata": {
    "collapsed": true
   },
   "outputs": [],
   "source": [
    "# Save the data for J013007.13+002635.4\n",
    "raw_data.write('photometry_ugriz_J013007.13+002635.4.txt', format='ascii')"
   ]
  },
  {
   "cell_type": "code",
   "execution_count": 146,
   "metadata": {
    "collapsed": true
   },
   "outputs": [],
   "source": [
    "# Example of file reading \n",
    "from astropy.table import Table\n",
    "data = Table.read('photometry_ugriz_J013007.13+002635.4.txt', format='ascii')\n",
    "mag,magerr, band = data['psfMagDered'], data['psfMagErr'], data['filter']\n",
    "u,uErr = mag[band=='u'], magerr[band=='u']"
   ]
  },
  {
   "cell_type": "code",
   "execution_count": null,
   "metadata": {
    "collapsed": true
   },
   "outputs": [],
   "source": []
  }
 ],
 "metadata": {
  "kernelspec": {
   "display_name": "Python 3",
   "language": "python",
   "name": "python3"
  },
  "language_info": {
   "codemirror_mode": {
    "name": "ipython",
    "version": 3
   },
   "file_extension": ".py",
   "mimetype": "text/x-python",
   "name": "python",
   "nbconvert_exporter": "python",
   "pygments_lexer": "ipython3",
   "version": "3.6.2"
  }
 },
 "nbformat": 4,
 "nbformat_minor": 2
}

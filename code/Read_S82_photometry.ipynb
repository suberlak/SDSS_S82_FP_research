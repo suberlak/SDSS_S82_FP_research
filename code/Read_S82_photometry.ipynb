{
 "cells": [
  {
   "cell_type": "markdown",
   "metadata": {},
   "source": [
    "## Extracting the LSST-reprocessed Summer 2013 Stripe 82 photometry for a given object.  \n",
    "\n",
    "We show the steps for an object SDSS J013007.13+002635.4 , a carbon star at [(ra,dec) = (22.529730609, 0.443172890)](http://skyserver.sdss.org/dr12/en/tools/explore/summary.aspx?ra=01+30+07.1&dec=00+26+35.4)\n",
    "\n"
   ]
  },
  {
   "cell_type": "code",
   "execution_count": 1,
   "metadata": {
    "collapsed": true
   },
   "outputs": [],
   "source": [
    "import pandas as pd\n",
    "import numpy as np \n",
    "import matplotlib.pyplot as plt "
   ]
  },
  {
   "cell_type": "markdown",
   "metadata": {},
   "source": [
    "### Figure out which path ... "
   ]
  },
  {
   "cell_type": "markdown",
   "metadata": {},
   "source": [
    "SDSS S82 is divided into patches labeled (I,J), with I index running along RA from right to left (with values 0:409), and J index running along DEC from bottom to top (with values 0 to 11). "
   ]
  },
  {
   "cell_type": "code",
   "execution_count": 2,
   "metadata": {},
   "outputs": [
    {
     "data": {
      "text/html": [
       "<div>\n",
       "<style>\n",
       "    .dataframe thead tr:only-child th {\n",
       "        text-align: right;\n",
       "    }\n",
       "\n",
       "    .dataframe thead th {\n",
       "        text-align: left;\n",
       "    }\n",
       "\n",
       "    .dataframe tbody tr th {\n",
       "        vertical-align: top;\n",
       "    }\n",
       "</style>\n",
       "<table border=\"1\" class=\"dataframe\">\n",
       "  <thead>\n",
       "    <tr style=\"text-align: right;\">\n",
       "      <th></th>\n",
       "      <th>minRA</th>\n",
       "      <th>minDec</th>\n",
       "      <th>maxRA</th>\n",
       "      <th>maxDec</th>\n",
       "      <th>tract</th>\n",
       "      <th>patchI</th>\n",
       "      <th>patchJ</th>\n",
       "      <th>filePath</th>\n",
       "    </tr>\n",
       "  </thead>\n",
       "  <tbody>\n",
       "    <tr>\n",
       "      <th>1778</th>\n",
       "      <td>22.56324</td>\n",
       "      <td>0.4163</td>\n",
       "      <td>22.33665</td>\n",
       "      <td>0.63268</td>\n",
       "      <td>0</td>\n",
       "      <td>307</td>\n",
       "      <td>8</td>\n",
       "      <td>deepCoadd/r/0/307,8/coadd-r-0-307,8.fits</td>\n",
       "    </tr>\n",
       "  </tbody>\n",
       "</table>\n",
       "</div>"
      ],
      "text/plain": [
       "         minRA  minDec     maxRA   maxDec  tract  patchI  patchJ  \\\n",
       "1778  22.56324  0.4163  22.33665  0.63268      0     307       8   \n",
       "\n",
       "                                      filePath  \n",
       "1778  deepCoadd/r/0/307,8/coadd-r-0-307,8.fits  "
      ]
     },
     "execution_count": 2,
     "metadata": {},
     "output_type": "execute_result"
    }
   ],
   "source": [
    "# finding patch in which desired object lays .\n",
    "ra = 22.5297306\n",
    "dec = 0.443172890\n",
    "patch_bounds = pd.read_table('../raw_data/repo_fls/coaddBounds.txt', \n",
    "                             delim_whitespace=True)\n",
    "mask_ra = (patch_bounds['maxRA'].values<ra)*(ra < patch_bounds['minRA'].values)\n",
    "mask_dec = (patch_bounds['minDec'].values<dec)*(dec < patch_bounds['maxDec'].values)\n",
    "mask = mask_ra * mask_dec\n",
    "patch_bounds[mask]"
   ]
  },
  {
   "cell_type": "markdown",
   "metadata": {},
   "source": [
    "Patches are aggregated along I index (as in ../packages/LC_processing.py ) : \n",
    "\n",
    " NCSA : \n",
    " \n",
    "    ['00_21', '22_43','44_65', '66_87' ,'88_109','110_131',\n",
    "    '132_153', '154_175',  '176_181', '365_387', '388_409'] \n",
    "\n",
    "  IN2P3 : \n",
    "    \n",
    "    ['155_176', '176_197','197_218', '218_239', '239_260',\n",
    "    '260_281', '281_302', '302_323','323_344', '344_365', '365_386']  "
   ]
  },
  {
   "cell_type": "markdown",
   "metadata": {},
   "source": [
    "Thus given the I index we know in which of the above patch files we should look for photometry for that object. In our case patchI=307, so the photometry is in collection  302_323, processed at IN2P3"
   ]
  },
  {
   "cell_type": "markdown",
   "metadata": {},
   "source": [
    "### Download the patch files from /astro/store/pogo4/ (if not already present)"
   ]
  },
  {
   "cell_type": "markdown",
   "metadata": {},
   "source": [
    "This can be done with scp : \n",
    "    \n",
    "    cd ~/GradResearch/SDSS_S82_FP_research/raw_data/rawDataFPSplit\n",
    "    scp suberlak@epyc.astro.washington.edu:/astro/store/pogo4/s13_stripe82/forced_phot_lt_23/IN2P3/*302_323.csv.gz ."
   ]
  },
  {
   "cell_type": "markdown",
   "metadata": {},
   "source": [
    "and  should take about 5 mins per tar file."
   ]
  },
  {
   "cell_type": "markdown",
   "metadata": {},
   "source": [
    "### Find out from DeepSource files what is the ra,dec per object"
   ]
  },
  {
   "cell_type": "markdown",
   "metadata": {},
   "source": [
    "The DeepSource files contain \n",
    "    \n",
    "    deepSourceId\tparentDeepSourceId\tdeepCoaddId\tra\tdecl\tpsfMag\tpsfMagSigma\ttract\tpatch\tdetect_is_primary"
   ]
  },
  {
   "cell_type": "code",
   "execution_count": 7,
   "metadata": {
    "collapsed": true
   },
   "outputs": [],
   "source": [
    "fname = '../raw_data/repo_fls/DeepSourceIN2P3_i_lt235_narrow.csv.gz'\n",
    "ds = Table.read(fname,format='csv')"
   ]
  },
  {
   "cell_type": "code",
   "execution_count": 9,
   "metadata": {
    "collapsed": true
   },
   "outputs": [],
   "source": [
    "from astropy.table import hstack\n",
    "from astropy.coordinates import SkyCoord\n",
    "from astropy import units as u\n",
    "# Use the SkyCoord  : express the coords of my object as 1-element catalog,\n",
    "# find the best matches within the DeepSource catalog \n",
    "ra = 22.5297306\n",
    "dec = 0.443172890\n",
    "coord1 = SkyCoord(ra  = ra *u.degree, \n",
    "                  dec = dec*u.degree)\n",
    "coord2 = SkyCoord(ra  = ds['ra']*u.degree, \n",
    "                  dec = ds['decl']*u.degree)\n",
    "        "
   ]
  },
  {
   "cell_type": "code",
   "execution_count": 12,
   "metadata": {
    "collapsed": true
   },
   "outputs": [],
   "source": [
    "# Find nearest matches to coord1 in catalog coord2\n",
    "idx, d2d, d3d = coord1.match_to_catalog_sky(coord2) "
   ]
  },
  {
   "cell_type": "code",
   "execution_count": 20,
   "metadata": {},
   "outputs": [
    {
     "data": {
      "text/html": [
       "<i>Row index=697781</i>\n",
       "<table id=\"table4584214712\">\n",
       "<thead><tr><th>deepSourceId</th><th>parentDeepSourceId</th><th>deepCoaddId</th><th>ra</th><th>decl</th><th>psfMag</th><th>psfMagSigma</th><th>tract</th><th>patch</th><th>detect_is_primary</th></tr></thead>\n",
       "<thead><tr><th>int64</th><th>int64</th><th>int64</th><th>float64</th><th>float64</th><th>float64</th><th>float64</th><th>int64</th><th>str6</th><th>int64</th></tr></thead>\n",
       "<tr><td>2700409550411752</td><td>2700409550406756</td><td>20119619</td><td>22.5297397479</td><td>0.443172667135</td><td>17.2881431069</td><td>0.00974444156076</td><td>0</td><td>307,8</td><td>1</td></tr>\n",
       "</table>"
      ],
      "text/plain": [
       "<Row index=697781>\n",
       "  deepSourceId   parentDeepSourceId deepCoaddId       ra           decl          psfMag      psfMagSigma    tract patch detect_is_primary\n",
       "     int64             int64           int64       float64       float64        float64        float64      int64  str6       int64      \n",
       "---------------- ------------------ ----------- ------------- -------------- ------------- ---------------- ----- ----- -----------------\n",
       "2700409550411752   2700409550406756    20119619 22.5297397479 0.443172667135 17.2881431069 0.00974444156076     0 307,8                 1"
      ]
     },
     "execution_count": 20,
     "metadata": {},
     "output_type": "execute_result"
    }
   ],
   "source": [
    "# Print the row of DeepSource catalog \n",
    "# corresponding to that object \n",
    "objectId = ds[idx]['deepSourceId']\n",
    "ds[idx]"
   ]
  },
  {
   "cell_type": "markdown",
   "metadata": {},
   "source": [
    "Thus now we know that the deepSourceId is 2700409550411752 , which corresponds to objectId in the patches ."
   ]
  },
  {
   "cell_type": "markdown",
   "metadata": {},
   "source": [
    "### Read in the  patch files"
   ]
  },
  {
   "cell_type": "markdown",
   "metadata": {},
   "source": [
    "Here we read in all the files, select and extract photometry for that object (taking much code from processPatch2.py )  . The patch files contain \n",
    "\n",
    "    deepForcedSourceId\tobjectId\texposure_id\tmjd\tpsfFlux\tpsfFluxErr"
   ]
  },
  {
   "cell_type": "code",
   "execution_count": 3,
   "metadata": {},
   "outputs": [
    {
     "data": {
      "text/plain": [
       "'3.0.2'"
      ]
     },
     "execution_count": 3,
     "metadata": {},
     "output_type": "execute_result"
    }
   ],
   "source": [
    "from astropy.table import Table\n",
    "from astropy.table import vstack\n",
    "from astropy.io import ascii\n",
    "from astropy import version\n",
    "version.version"
   ]
  },
  {
   "cell_type": "code",
   "execution_count": 74,
   "metadata": {
    "scrolled": true
   },
   "outputs": [
    {
     "name": "stdout",
     "output_type": "stream",
     "text": [
      "Reading  u 302_323\n",
      "Adding  1811810  rows\n",
      "Adding  1810306  rows\n",
      "Adding  1812844  rows\n",
      "Adding  1810861  rows\n",
      "Adding  1809465  rows\n",
      "Adding  1810545  rows\n",
      "Adding  1811391  rows\n",
      "Adding  1811760  rows\n",
      "Adding  1811005  rows\n",
      "Adding  1810546  rows\n",
      "Adding  1811437  rows\n",
      "Adding  1812963  rows\n",
      "Adding  1811297  rows\n",
      "Adding  1809409  rows\n",
      "Reading  g 302_323\n",
      "Adding  1809296  rows\n",
      "Adding  1808649  rows\n",
      "Adding  1808363  rows\n",
      "Adding  1808541  rows\n",
      "Adding  1808826  rows\n",
      "Adding  1809134  rows\n",
      "Adding  1808841  rows\n",
      "Adding  1809178  rows\n",
      "Adding  1809106  rows\n",
      "Adding  1808273  rows\n",
      "Adding  1808781  rows\n",
      "Adding  1808592  rows\n",
      "Adding  1808762  rows\n",
      "Adding  1808280  rows\n",
      "Adding  857925  rows\n",
      "Reading  r 302_323\n",
      "Adding  1811351  rows\n",
      "Adding  1811439  rows\n",
      "Adding  1811459  rows\n",
      "Adding  1811835  rows\n",
      "Adding  1811573  rows\n",
      "Adding  1811217  rows\n",
      "Adding  1810989  rows\n",
      "Adding  1811411  rows\n",
      "Adding  1811468  rows\n",
      "Adding  1810470  rows\n",
      "Adding  1810902  rows\n",
      "Adding  1811013  rows\n",
      "Adding  1810801  rows\n",
      "Adding  1810779  rows\n",
      "Adding  870929  rows\n",
      "Reading  i 302_323\n",
      "Adding  1810681  rows\n",
      "Adding  1811147  rows\n",
      "Adding  1810975  rows\n",
      "Adding  1810570  rows\n",
      "Adding  1810725  rows\n",
      "Adding  1810235  rows\n",
      "Adding  1810729  rows\n",
      "Adding  1809958  rows\n",
      "Adding  1810559  rows\n",
      "Adding  1809892  rows\n",
      "Adding  1810226  rows\n",
      "Adding  1809775  rows\n",
      "Adding  1810102  rows\n",
      "Adding  1809576  rows\n",
      "Adding  862730  rows\n",
      "Reading  z 302_323\n",
      "Adding  1809738  rows\n",
      "Adding  1809694  rows\n",
      "Adding  1809505  rows\n",
      "Adding  1810531  rows\n",
      "Adding  1810002  rows\n",
      "Adding  1810157  rows\n",
      "Adding  1809902  rows\n",
      "Adding  1809686  rows\n",
      "Adding  1810116  rows\n",
      "Adding  1810013  rows\n",
      "Adding  1809813  rows\n",
      "Adding  1809891  rows\n",
      "Adding  1809471  rows\n",
      "Adding  1809893  rows\n",
      "Adding  892692  rows\n"
     ]
    }
   ],
   "source": [
    "# Read in chunks , and save only those rows that may correspond to that object :\n",
    "DirIn = '../raw_data/rawDataFPSplit/'\n",
    "p = '302_323'\n",
    "# initialize storing results \n",
    "out_tbl_comb = Table()\n",
    "for f in 'ugriz':\n",
    "    print('Reading ',f,p)\n",
    "    fname = DirIn + f+p+'.csv.gz'\n",
    "    \n",
    "    # set up an iterator over table chunks of 200 mb (no actual reading done yet)\n",
    "    tbls = ascii.read(fname, format='csv', guess=False,\n",
    "                      fast_reader={'chunk_size': 200*1000000,'chunk_generator':True})\n",
    "    out_tbls = []\n",
    "    # At this point the file is actually read in chunks.\n",
    "    for tbl in tbls:\n",
    "        # choose only rows with photometry for the given object \n",
    "        selected = tbl['objectId'] == objectId\n",
    "        print('Adding ', np.sum(selected), ' rows')\n",
    "        if np.count_nonzero(selected):\n",
    "            tbl['filter'] = f\n",
    "            out_tbls.append(tbl[selected])\n",
    "    out_tbl = vstack(out_tbls)\n",
    "\n",
    "    # Add the photometry from this filter to the overall table ... \n",
    "    out_tbl_comb = vstack([out_tbl, out_tbl_comb])"
   ]
  },
  {
   "cell_type": "code",
   "execution_count": 75,
   "metadata": {
    "collapsed": true
   },
   "outputs": [],
   "source": [
    "# store the raw forced photometry \n",
    "out_tbl_comb.write('photometry_ugriz.txt', format='ascii', overwrite='True')"
   ]
  },
  {
   "cell_type": "markdown",
   "metadata": {},
   "source": [
    "### Calculate magnitudes "
   ]
  },
  {
   "cell_type": "code",
   "execution_count": 67,
   "metadata": {
    "collapsed": true
   },
   "outputs": [],
   "source": [
    "def flux2absigma(flux, fluxsigma):\n",
    "    \"\"\"Compute AB mag sigma given flux and flux sigma\n",
    "\n",
    "    Here units of flux,  fluxsigma  don't matter \n",
    "    as long as they are consistent, since we are dividing \n",
    "    one by the other, so all the units cancel out.\n",
    "    \"\"\"\n",
    "    FIVE_OVER_2LOG10 = 1.085736204758129569\n",
    "    return FIVE_OVER_2LOG10 * fluxsigma / flux;\n",
    "\n",
    "\n",
    "def flux2ab(flux, unit = 'Jy'):\n",
    "    \"\"\"Compute AB mag given flux. \n",
    "\n",
    "    Accept two unit types :  \n",
    "    *  'cgs', meaning flux is in  ergs / s / Hz / cm2\n",
    "    *  'Jy', meaning flux is in Jy.  1 Jy = 1E-23 * ergs/s/Hz/cm2\n",
    "    \"\"\"\n",
    "    if unit == 'Jy':\n",
    "        return -2.5 * np.log10(flux) + 8.90\n",
    "    elif unit == 'cgs':\n",
    "        return -2.5 * np.log10(flux) - 48.6"
   ]
  },
  {
   "cell_type": "code",
   "execution_count": 78,
   "metadata": {
    "collapsed": true
   },
   "outputs": [],
   "source": [
    "raw_data = out_tbl_comb\n",
    "raw_data['psfFluxJy'] = raw_data['psfFlux'] * 1E23 \n",
    "raw_data['psfFluxErrJy'] = raw_data['psfFluxErr'] * 1E23 \n",
    "    \n",
    "# 1.2  : drop all rows which have NaNs in psfFlux .... \n",
    "m1  = np.isnan(raw_data['psfFlux'].data)  # true if NaN \n",
    " # true if not finite... \n",
    "m2 = np.bitwise_not(np.isfinite(raw_data['psfFlux'].data))  \n",
    "\n",
    " # logical or : true if either condition satisfied \n",
    "m = m1 | m2  \n",
    "    \n",
    "indices = np.arange(len(raw_data))\n",
    "remove_rows= indices[m]\n",
    "raw_data.remove_rows(remove_rows)\n",
    "\n",
    "# calculate magnitudes \n",
    "raw_data['psfMag'] = flux2ab(raw_data['psfFluxJy'], unit='Jy')\n",
    "raw_data['psfMagErr'] = flux2absigma(raw_data['psfFluxJy'], \n",
    "                                              raw_data['psfFluxErrJy'])"
   ]
  },
  {
   "cell_type": "markdown",
   "metadata": {
    "collapsed": true
   },
   "source": [
    "### Correct for extinction "
   ]
  },
  {
   "cell_type": "code",
   "execution_count": 99,
   "metadata": {},
   "outputs": [
    {
     "name": "stdout",
     "output_type": "stream",
     "text": [
      "E(B-V) is  0.0257108627942\n"
     ]
    }
   ],
   "source": [
    "site = 'IN2P3'\n",
    "DirEBV = '../raw_data/repo_fls/'\n",
    "ebv_file = 'ebv_'+site+'_lt235.dat'\n",
    "ebv = pd.read_table(DirEBV+ebv_file, delimiter=' ', usecols=[0,1])\n",
    "ebv.columns = ['objectId','ebv']\n",
    "\n",
    "# Find what is the EBV for this object \n",
    "object_ebv = ebv[ebv['objectId'].values == objectId]['ebv'].values[0]\n",
    "print('E(B-V) is ', object_ebv)"
   ]
  },
  {
   "cell_type": "code",
   "execution_count": 130,
   "metadata": {
    "collapsed": true
   },
   "outputs": [],
   "source": [
    "# Correct for extinction \n",
    "A = [5.155, 3.793, 2.751, 2.086, 1.479]\n",
    "filters = 'ugriz'\n",
    "raw_data['psfMagDered'] = np.zeros(len(raw_data), dtype=float)\n",
    "\n",
    "for i,f in enumerate(filters)  : \n",
    "    mask = raw_data['filter'] == f\n",
    "    raw_data['psfMagDered'][mask] = raw_data['psfMag'][mask]+object_ebv * A[i]"
   ]
  },
  {
   "cell_type": "code",
   "execution_count": 135,
   "metadata": {},
   "outputs": [
    {
     "data": {
      "text/plain": [
       "<matplotlib.legend.Legend at 0x10e93ff98>"
      ]
     },
     "execution_count": 135,
     "metadata": {},
     "output_type": "execute_result"
    },
    {
     "data": {
      "image/png": "[encoded data removed]",
      "text/plain": [
       "<matplotlib.figure.Figure at 0x10f079748>"
      ]
     },
     "metadata": {},
     "output_type": "display_data"
    }
   ],
   "source": [
    "%matplotlib inline\n",
    "for f in 'ugriz':\n",
    "    mask = raw_data['filter'] == f\n",
    "    plt.scatter(raw_data['mjd'][mask], raw_data['psfMagDered'][mask] , label=f)\n",
    "plt.legend()"
   ]
  },
  {
   "cell_type": "code",
   "execution_count": 138,
   "metadata": {},
   "outputs": [
    {
     "data": {
      "text/plain": [
       "<matplotlib.text.Text at 0x10f11fc50>"
      ]
     },
     "execution_count": 138,
     "metadata": {},
     "output_type": "execute_result"
    },
    {
     "data": {
      "image/png": "[encoded data removed]",
      "text/plain": [
       "<matplotlib.figure.Figure at 0x116fa0240>"
      ]
     },
     "metadata": {},
     "output_type": "display_data"
    }
   ],
   "source": [
    "f = 'u'\n",
    "mask = raw_data['filter'] == f\n",
    "plt.errorbar(raw_data['mjd'][mask],raw_data['psfMagDered'][mask],\n",
    "             raw_data['psfMagErr'][mask], fmt='o')\n",
    "plt.xlabel('mjd [days]')\n",
    "plt.ylabel(f +' [mag]')"
   ]
  },
  {
   "cell_type": "code",
   "execution_count": 139,
   "metadata": {
    "collapsed": true
   },
   "outputs": [],
   "source": [
    "# Save the data for J013007.13+002635.4\n",
    "raw_data.write('photometry_ugriz_J013007.13+002635.4.txt', format='ascii')"
   ]
  },
  {
   "cell_type": "code",
   "execution_count": 3,
   "metadata": {
    "collapsed": true
   },
   "outputs": [],
   "source": [
    "# Example of file reading \n",
    "from astropy.table import Table\n",
    "data = Table.read('photometry_ugriz_J013007.13+002635.4.txt', format='ascii')\n",
    "mag,magerr, band = data['psfMagDered'], data['psfMagErr'], data['filter']\n",
    "u,uErr = mag[band=='u'], magerr[band=='u']"
   ]
  },
  {
   "cell_type": "code",
   "execution_count": 15,
   "metadata": {},
   "outputs": [
    {
     "data": {
      "text/html": [
       "<i>Table length=376</i>\n",
       "<table id=\"table4768353640\" class=\"table-striped table-bordered table-condensed\">\n",
       "<thead><tr><th>deepForcedSourceId</th><th>objectId</th><th>exposure_id</th><th>mjd</th><th>psfFlux</th><th>psfFluxErr</th><th>filter</th><th>psfFluxJy</th><th>psfFluxErrJy</th><th>psfMag</th><th>psfMagErr</th><th>psfMagDered</th></tr></thead>\n",
       "<thead><tr><th>int64</th><th>int64</th><th>int64</th><th>float64</th><th>float64</th><th>float64</th><th>str1</th><th>float64</th><th>float64</th><th>float64</th><th>float64</th><th>float64</th></tr></thead>\n",
       "<tr><td>117806290675177580</td><td>2700409550411752</td><td>1755450527</td><td>51819.4184608</td><td>6.26867275839e-27</td><td>1.35598855442e-28</td><td>z</td><td>0.000626867275839</td><td>1.35598855442e-05</td><td>16.9070610023</td><td>0.0234857668204</td><td>16.9450873684</td></tr>\n",
       "<tr><td>193706384452223849</td><td>2700409550411752</td><td>2886450059</td><td>52288.0772133</td><td>6.30483543991e-27</td><td>1.87897452353e-28</td><td>z</td><td>0.000630483543991</td><td>1.87897452353e-05</td><td>16.9008156107</td><td>0.0323572389391</td><td>16.9388419768</td></tr>\n",
       "<tr><td>193706384519338920</td><td>2700409550411752</td><td>2886450060</td><td>52288.0776279</td><td>6.25409938072e-27</td><td>1.80587847555e-28</td><td>z</td><td>0.000625409938072</td><td>1.80587847555e-05</td><td>16.9095880547</td><td>0.0313507592851</td><td>16.9476144208</td></tr>\n",
       "<tr><td>223167189102888396</td><td>2700409550411752</td><td>3325450258</td><td>52522.3794253</td><td>6.06399609293e-27</td><td>1.51154102262e-28</td><td>z</td><td>0.000606399609293</td><td>1.51154102262e-05</td><td>16.943102718</td><td>0.0270635862571</td><td>16.9811290841</td></tr>\n",
       "<tr><td>225180439386525086</td><td>2700409550411752</td><td>3355450025</td><td>52551.3507204</td><td>6.06177368973e-27</td><td>1.41862975978e-28</td><td>z</td><td>0.000606177368973</td><td>1.41862975978e-05</td><td>16.943500704</td><td>0.0254093565708</td><td>16.9815270701</td></tr>\n",
       "<tr><td>225516016388545231</td><td>2700409550411752</td><td>3360450512</td><td>52552.3753411</td><td>6.08927625035e-27</td><td>1.02956024624e-28</td><td>z</td><td>0.000608927625035</td><td>1.02956024624e-05</td><td>16.9385858075</td><td>0.0183573677456</td><td>16.9766121736</td></tr>\n",
       "<tr><td>227395061761970409</td><td>2700409550411752</td><td>3388450470</td><td>52558.3836344</td><td>5.94127485704e-27</td><td>1.11865930854e-28</td><td>z</td><td>0.000594127485704</td><td>1.11865930854e-05</td><td>16.9653008892</td><td>0.0204429005778</td><td>17.0033272553</td></tr>\n",
       "<tr><td>230213603582546704</td><td>2700409550411752</td><td>3430450016</td><td>52576.2167162</td><td>5.96529591669e-27</td><td>7.47210287141e-29</td><td>z</td><td>0.000596529591669</td><td>7.47210287141e-06</td><td>16.9609200192</td><td>0.0135998829337</td><td>16.9989463853</td></tr>\n",
       "<tr><td>230482071720560056</td><td>2700409550411752</td><td>3434450503</td><td>52577.2709953</td><td>5.81586536551e-27</td><td>1.05811322569e-28</td><td>z</td><td>0.000581586536551</td><td>1.05811322569e-05</td><td>16.9884641394</td><td>0.0197534118427</td><td>17.0264905054</td></tr>\n",
       "<tr><td>232226870106526997</td><td>2700409550411752</td><td>3460450025</td><td>52585.218279</td><td>5.83889810242e-27</td><td>1.39189241152e-28</td><td>z</td><td>0.000583889810242</td><td>1.39189241152e-05</td><td>16.9841727594</td><td>0.0258820749704</td><td>17.0221991255</td></tr>\n",
       "<tr><td>...</td><td>...</td><td>...</td><td>...</td><td>...</td><td>...</td><td>...</td><td>...</td><td>...</td><td>...</td><td>...</td><td>...</td></tr>\n",
       "<tr><td>476207858615059349</td><td>2700409550411752</td><td>7096050063</td><td>54396.3897489</td><td>8.34267511375e-28</td><td>5.90885999686e-29</td><td>u</td><td>8.34267511375e-05</td><td>5.90885999686e-06</td><td>19.0967366717</td><td>0.0768993535043</td><td>19.2292761694</td></tr>\n",
       "<tr><td>476207858682174556</td><td>2700409550411752</td><td>7096050064</td><td>54396.3901635</td><td>8.03179566181e-28</td><td>6.02362356742e-29</td><td>u</td><td>8.03179566181e-05</td><td>6.02362356742e-06</td><td>19.1379683725</td><td>0.0814271984293</td><td>19.2705078702</td></tr>\n",
       "<tr><td>476543435348640638</td><td>2700409550411752</td><td>7101050546</td><td>54402.3799463</td><td>7.41038564922e-28</td><td>4.59645626453e-29</td><td>u</td><td>7.41038564922e-05</td><td>4.59645626453e-06</td><td>19.225397975</td><td>0.0673451992409</td><td>19.3579374727</td></tr>\n",
       "<tr><td>476543435415755742</td><td>2700409550411752</td><td>7101050547</td><td>54402.380361</td><td>7.57517066418e-28</td><td>4.7470148778e-29</td><td>u</td><td>7.57517066418e-05</td><td>4.7470148778e-06</td><td>19.2015189458</td><td>0.0680381491829</td><td>19.3340584435</td></tr>\n",
       "<tr><td>478892241427894262</td><td>2700409550411752</td><td>7136050484</td><td>54411.2524279</td><td>6.96100920888e-28</td><td>2.67624529892e-29</td><td>u</td><td>6.96100920888e-05</td><td>2.67624529892e-06</td><td>19.2933194793</td><td>0.0417424589835</td><td>19.425858977</td></tr>\n",
       "<tr><td>479965965736480942</td><td>2700409550411752</td><td>7152050223</td><td>54415.3048408</td><td>7.32173466227e-28</td><td>2.43764187664e-29</td><td>u</td><td>7.32173466227e-05</td><td>2.43764187664e-06</td><td>19.2384650347</td><td>0.0361476639319</td><td>19.3710045324</td></tr>\n",
       "<tr><td>480368616437454189</td><td>2700409550411752</td><td>7158050186</td><td>54417.2950551</td><td>7.3694272517e-28</td><td>1.89835724083e-29</td><td>u</td><td>7.3694272517e-05</td><td>1.89835724083e-06</td><td>19.23141566</td><td>0.0279684582741</td><td>19.3639551577</td></tr>\n",
       "<tr><td>480569970678301624</td><td>2700409550411752</td><td>7161050598</td><td>54418.2930404</td><td>7.24328661618e-28</td><td>2.16574281024e-29</td><td>u</td><td>7.24328661618e-05</td><td>2.16574281024e-06</td><td>19.2501608237</td><td>0.0324635142011</td><td>19.3827003214</td></tr>\n",
       "<tr><td>481375275838346416</td><td>2700409550411752</td><td>7173050580</td><td>54422.2978987</td><td>7.09494384654e-28</td><td>2.03443818449e-29</td><td>u</td><td>7.09494384654e-05</td><td>2.03443818449e-06</td><td>19.2726275936</td><td>0.0311329200205</td><td>19.4051670913</td></tr>\n",
       "<tr><td>482046332668744231</td><td>2700409550411752</td><td>7183050106</td><td>54424.2339011</td><td>7.27819393042e-28</td><td>5.42995589347e-29</td><td>u</td><td>7.27819393042e-05</td><td>5.42995589347e-06</td><td>19.2449409416</td><td>0.0810022343474</td><td>19.3774804393</td></tr>\n",
       "</table>"
      ],
      "text/plain": [
       "<Table length=376>\n",
       "deepForcedSourceId     objectId     ...    psfMagErr     psfMagDered \n",
       "      int64             int64       ...     float64        float64   \n",
       "------------------ ---------------- ... --------------- -------------\n",
       "117806290675177580 2700409550411752 ... 0.0234857668204 16.9450873684\n",
       "193706384452223849 2700409550411752 ... 0.0323572389391 16.9388419768\n",
       "193706384519338920 2700409550411752 ... 0.0313507592851 16.9476144208\n",
       "223167189102888396 2700409550411752 ... 0.0270635862571 16.9811290841\n",
       "225180439386525086 2700409550411752 ... 0.0254093565708 16.9815270701\n",
       "225516016388545231 2700409550411752 ... 0.0183573677456 16.9766121736\n",
       "227395061761970409 2700409550411752 ... 0.0204429005778 17.0033272553\n",
       "230213603582546704 2700409550411752 ... 0.0135998829337 16.9989463853\n",
       "230482071720560056 2700409550411752 ... 0.0197534118427 17.0264905054\n",
       "232226870106526997 2700409550411752 ... 0.0258820749704 17.0221991255\n",
       "               ...              ... ...             ...           ...\n",
       "476207858615059349 2700409550411752 ... 0.0768993535043 19.2292761694\n",
       "476207858682174556 2700409550411752 ... 0.0814271984293 19.2705078702\n",
       "476543435348640638 2700409550411752 ... 0.0673451992409 19.3579374727\n",
       "476543435415755742 2700409550411752 ... 0.0680381491829 19.3340584435\n",
       "478892241427894262 2700409550411752 ... 0.0417424589835  19.425858977\n",
       "479965965736480942 2700409550411752 ... 0.0361476639319 19.3710045324\n",
       "480368616437454189 2700409550411752 ... 0.0279684582741 19.3639551577\n",
       "480569970678301624 2700409550411752 ... 0.0324635142011 19.3827003214\n",
       "481375275838346416 2700409550411752 ... 0.0311329200205 19.4051670913\n",
       "482046332668744231 2700409550411752 ... 0.0810022343474 19.3774804393"
      ]
     },
     "execution_count": 15,
     "metadata": {},
     "output_type": "execute_result"
    }
   ],
   "source": []
  },
  {
   "cell_type": "markdown",
   "metadata": {},
   "source": [
    "### Fold on a given period "
   ]
  },
  {
   "cell_type": "code",
   "execution_count": 12,
   "metadata": {},
   "outputs": [],
   "source": [
    "%matplotlib inline \n",
    "#https://www.astroml.org/gatspy/periodic/lomb_scargle_multiband.html\n",
    "#model.best_period"
   ]
  },
  {
   "cell_type": "markdown",
   "metadata": {},
   "source": [
    "#### Example from Jake VdP using Sesar2010 RR Lyr "
   ]
  },
  {
   "cell_type": "code",
   "execution_count": 29,
   "metadata": {},
   "outputs": [
    {
     "name": "stdout",
     "output_type": "stream",
     "text": [
      "Finding optimal frequency:\n",
      " - Estimated peak width = 0.00189\n",
      " - Using 5 steps per peak; omega_step = 0.000378\n",
      " - User-specified period range:  0.2 to 1.2\n",
      " - Computing periods at 69190 steps\n",
      "Zooming-in on 5 candidate peaks:\n",
      " - Computing periods at 1000 steps\n"
     ]
    },
    {
     "data": {
      "image/png": "[encoded data removed]",
      "text/plain": [
       "<matplotlib.figure.Figure at 0x11cc23f98>"
      ]
     },
     "metadata": {},
     "output_type": "display_data"
    }
   ],
   "source": [
    "# Fetch the RRLyrae data\n",
    "from gatspy import datasets, periodic\n",
    "rrlyrae = datasets.fetch_rrlyrae()\n",
    "\n",
    "# Get data from first lightcurve\n",
    "lcid = rrlyrae.ids[0]\n",
    "t, mag, dmag, filts = rrlyrae.get_lightcurve(lcid)\n",
    "\n",
    "# Fit the Lomb-Scargle model\n",
    "model = periodic.LombScargleMultibandFast(fit_period=True)\n",
    "model.optimizer.period_range = (0.2, 1.2)\n",
    "model.fit(t, mag, dmag, filts)\n",
    "\n",
    "# Predict on a regular phase grid\n",
    "tfit = np.linspace(0, model.best_period, 1000)\n",
    "filtsfit = np.array(list('ugriz'))[:, np.newaxis]\n",
    "magfit = model.predict(tfit, filts=filtsfit)\n",
    "\n",
    "# Plot the results\n",
    "phase = (t / model.best_period) % 1\n",
    "phasefit = (tfit / model.best_period)\n",
    "\n",
    "fig, ax = plt.subplots()\n",
    "for i, filt in enumerate('ugriz'):\n",
    "    mask = (filts == filt)\n",
    "    errorbar = ax.errorbar(phase[mask], mag[mask], dmag[mask], fmt='.')\n",
    "    ax.plot(phasefit, magfit[i], color=errorbar.lines[0].get_color())\n",
    "ax.set(xlabel='phase', ylabel='magnitude')\n",
    "ax.invert_yaxis()"
   ]
  },
  {
   "cell_type": "code",
   "execution_count": 30,
   "metadata": {},
   "outputs": [
    {
     "data": {
      "text/plain": [
       "array([[ 18.33426568,  18.3330204 ,  18.33178348, ...,  18.33678112,\n",
       "         18.33551927,  18.33426568],\n",
       "       [ 17.14623355,  17.1445297 ,  17.14283478, ...,  17.14966777,\n",
       "         17.14794626,  17.14623355],\n",
       "       [ 17.02083136,  17.01960187,  17.01837737, ...,  17.02330515,\n",
       "         17.02206581,  17.02083136],\n",
       "       [ 16.98840331,  16.98739343,  16.98638668, ...,  16.99043232,\n",
       "         16.98941629,  16.98840331],\n",
       "       [ 16.9612421 ,  16.96028928,  16.959339  , ...,  16.96315517,\n",
       "         16.96219741,  16.9612421 ]])"
      ]
     },
     "execution_count": 30,
     "metadata": {},
     "output_type": "execute_result"
    }
   ],
   "source": []
  },
  {
   "cell_type": "markdown",
   "metadata": {},
   "source": [
    "#### Using the Carbon star SDSS data "
   ]
  },
  {
   "cell_type": "code",
   "execution_count": 19,
   "metadata": {},
   "outputs": [
    {
     "name": "stdout",
     "output_type": "stream",
     "text": [
      "Finding optimal frequency:\n",
      " - Estimated peak width = 0.00241\n",
      " - Using 5 steps per peak; omega_step = 0.000482\n",
      " - User-specified period range:  1 to 3\n",
      " - Computing periods at 8684 steps\n",
      "Zooming-in on 5 candidate peaks:\n",
      " - Computing periods at 1000 steps\n"
     ]
    },
    {
     "name": "stderr",
     "output_type": "stream",
     "text": [
      "/Users/chris/anaconda3/envs/py36/lib/python3.6/site-packages/gatspy/periodic/_least_squares_mixin.py:33: RuntimeWarning: divide by zero encountered in true_divide\n",
      "  return np.average(y, weights=1 / dy ** 2)\n",
      "/Users/chris/anaconda3/envs/py36/lib/python3.6/site-packages/numpy/lib/function_base.py:1142: RuntimeWarning: invalid value encountered in double_scalars\n",
      "  avg = np.multiply(a, wgt, dtype=result_dtype).sum(axis)/scl\n",
      "/Users/chris/anaconda3/envs/py36/lib/python3.6/site-packages/gatspy/periodic/lomb_scargle_fast.py:254: RuntimeWarning: divide by zero encountered in true_divide\n",
      "  w = 1. / (dy ** 2)\n",
      "/Users/chris/anaconda3/envs/py36/lib/python3.6/site-packages/gatspy/periodic/lomb_scargle_fast.py:255: RuntimeWarning: invalid value encountered in true_divide\n",
      "  w /= w.sum()\n",
      "/Users/chris/anaconda3/envs/py36/lib/python3.6/site-packages/gatspy/periodic/lomb_scargle_fast.py:254: RuntimeWarning: divide by zero encountered in true_divide\n",
      "  w = 1. / (dy ** 2)\n",
      "/Users/chris/anaconda3/envs/py36/lib/python3.6/site-packages/gatspy/periodic/lomb_scargle_fast.py:255: RuntimeWarning: invalid value encountered in true_divide\n",
      "  w /= w.sum()\n",
      "/Users/chris/anaconda3/envs/py36/lib/python3.6/site-packages/gatspy/periodic/lomb_scargle_fast.py:254: RuntimeWarning: divide by zero encountered in true_divide\n",
      "  w = 1. / (dy ** 2)\n",
      "/Users/chris/anaconda3/envs/py36/lib/python3.6/site-packages/gatspy/periodic/lomb_scargle_fast.py:255: RuntimeWarning: invalid value encountered in true_divide\n",
      "  w /= w.sum()\n",
      "/Users/chris/anaconda3/envs/py36/lib/python3.6/site-packages/gatspy/periodic/lomb_scargle_fast.py:254: RuntimeWarning: divide by zero encountered in true_divide\n",
      "  w = 1. / (dy ** 2)\n",
      "/Users/chris/anaconda3/envs/py36/lib/python3.6/site-packages/gatspy/periodic/lomb_scargle_fast.py:255: RuntimeWarning: invalid value encountered in true_divide\n",
      "  w /= w.sum()\n",
      "/Users/chris/anaconda3/envs/py36/lib/python3.6/site-packages/gatspy/periodic/lomb_scargle_fast.py:254: RuntimeWarning: divide by zero encountered in true_divide\n",
      "  w = 1. / (dy ** 2)\n",
      "/Users/chris/anaconda3/envs/py36/lib/python3.6/site-packages/gatspy/periodic/lomb_scargle_fast.py:255: RuntimeWarning: invalid value encountered in true_divide\n",
      "  w /= w.sum()\n",
      "/Users/chris/anaconda3/envs/py36/lib/python3.6/site-packages/gatspy/periodic/lomb_scargle_fast.py:254: RuntimeWarning: divide by zero encountered in true_divide\n",
      "  w = 1. / (dy ** 2)\n",
      "/Users/chris/anaconda3/envs/py36/lib/python3.6/site-packages/gatspy/periodic/lomb_scargle_fast.py:255: RuntimeWarning: invalid value encountered in true_divide\n",
      "  w /= w.sum()\n",
      "/Users/chris/anaconda3/envs/py36/lib/python3.6/site-packages/gatspy/periodic/lomb_scargle_fast.py:254: RuntimeWarning: divide by zero encountered in true_divide\n",
      "  w = 1. / (dy ** 2)\n",
      "/Users/chris/anaconda3/envs/py36/lib/python3.6/site-packages/gatspy/periodic/lomb_scargle_fast.py:255: RuntimeWarning: invalid value encountered in true_divide\n",
      "  w /= w.sum()\n",
      "/Users/chris/anaconda3/envs/py36/lib/python3.6/site-packages/gatspy/periodic/lomb_scargle_fast.py:254: RuntimeWarning: divide by zero encountered in true_divide\n",
      "  w = 1. / (dy ** 2)\n",
      "/Users/chris/anaconda3/envs/py36/lib/python3.6/site-packages/gatspy/periodic/lomb_scargle_fast.py:255: RuntimeWarning: invalid value encountered in true_divide\n",
      "  w /= w.sum()\n",
      "/Users/chris/anaconda3/envs/py36/lib/python3.6/site-packages/gatspy/periodic/lomb_scargle_fast.py:254: RuntimeWarning: divide by zero encountered in true_divide\n",
      "  w = 1. / (dy ** 2)\n",
      "/Users/chris/anaconda3/envs/py36/lib/python3.6/site-packages/gatspy/periodic/lomb_scargle_fast.py:255: RuntimeWarning: invalid value encountered in true_divide\n",
      "  w /= w.sum()\n",
      "/Users/chris/anaconda3/envs/py36/lib/python3.6/site-packages/gatspy/periodic/lomb_scargle_fast.py:254: RuntimeWarning: divide by zero encountered in true_divide\n",
      "  w = 1. / (dy ** 2)\n",
      "/Users/chris/anaconda3/envs/py36/lib/python3.6/site-packages/gatspy/periodic/lomb_scargle_fast.py:255: RuntimeWarning: invalid value encountered in true_divide\n",
      "  w /= w.sum()\n",
      "/Users/chris/anaconda3/envs/py36/lib/python3.6/site-packages/gatspy/periodic/lomb_scargle_fast.py:254: RuntimeWarning: divide by zero encountered in true_divide\n",
      "  w = 1. / (dy ** 2)\n",
      "/Users/chris/anaconda3/envs/py36/lib/python3.6/site-packages/gatspy/periodic/lomb_scargle_fast.py:255: RuntimeWarning: invalid value encountered in true_divide\n",
      "  w /= w.sum()\n",
      "/Users/chris/anaconda3/envs/py36/lib/python3.6/site-packages/gatspy/periodic/lomb_scargle_fast.py:254: RuntimeWarning: divide by zero encountered in true_divide\n",
      "  w = 1. / (dy ** 2)\n",
      "/Users/chris/anaconda3/envs/py36/lib/python3.6/site-packages/gatspy/periodic/lomb_scargle_fast.py:255: RuntimeWarning: invalid value encountered in true_divide\n",
      "  w /= w.sum()\n",
      "/Users/chris/anaconda3/envs/py36/lib/python3.6/site-packages/gatspy/periodic/lomb_scargle.py:108: RuntimeWarning: divide by zero encountered in true_divide\n",
      "  return np.transpose(np.vstack(cols) / dy)\n"
     ]
    },
    {
     "data": {
      "image/png": "[encoded data removed]",
      "text/plain": [
       "<matplotlib.figure.Figure at 0x110191cf8>"
      ]
     },
     "metadata": {},
     "output_type": "display_data"
    }
   ],
   "source": [
    "\n",
    "t, mag, dmag, filts = data['mjd'], data['psfMagDered'], data['psfMagErr'], data['filter']\n",
    "\n",
    "# Fit the Lomb-Scargle model\n",
    "model = periodic.LombScargleMultibandFast(fit_period=True)\n",
    "model.optimizer.period_range = (1, 3)\n",
    "model.fit(t, mag, dmag, filts)\n",
    "\n",
    "# Predict on a regular phase grid\n",
    "tfit = np.linspace(0, model.best_period, 1000)\n",
    "filtsfit = np.array(list('ugriz'))[:, np.newaxis]\n",
    "magfit = model.predict(tfit, filts=filtsfit)\n",
    "\n",
    "# Plot the results\n",
    "phase = (t / model.best_period) % 1\n",
    "phasefit = (tfit / model.best_period)\n",
    "\n",
    "fig, ax = plt.subplots()\n",
    "for i, filt in enumerate('ugriz'):\n",
    "    mask = (filts == filt)\n",
    "    errorbar = ax.errorbar(phase[mask], mag[mask], dmag[mask], fmt='.')\n",
    "    ax.plot(phasefit, magfit[i], color=errorbar.lines[0].get_color())\n",
    "ax.set(xlabel='phase', ylabel='magnitude')\n",
    "ax.invert_yaxis()"
   ]
  },
  {
   "cell_type": "code",
   "execution_count": 28,
   "metadata": {},
   "outputs": [
    {
     "name": "stderr",
     "output_type": "stream",
     "text": [
      "/Users/chris/anaconda3/envs/py36/lib/python3.6/site-packages/gatspy/periodic/lomb_scargle.py:108: RuntimeWarning: divide by zero encountered in true_divide\n",
      "  return np.transpose(np.vstack(cols) / dy)\n"
     ]
    },
    {
     "data": {
      "text/plain": [
       "array([[         nan,          nan,          nan, ...,          nan,\n",
       "                 nan,          nan],\n",
       "       [         nan,          nan,          nan, ...,          nan,\n",
       "                 nan,          nan],\n",
       "       [ 17.79039457,  17.79042038,  17.79044635, ...,  17.78972546,\n",
       "         17.78974611,  17.78976695],\n",
       "       [ 17.32353664,  17.32351336,  17.32349014, ...,  17.32423202,\n",
       "         17.32420727,  17.32418255],\n",
       "       [ 16.97283029,  16.97291907,  16.97300785, ...,  16.97028553,\n",
       "         16.9703728 ,  16.97046016]])"
      ]
     },
     "execution_count": 28,
     "metadata": {},
     "output_type": "execute_result"
    }
   ],
   "source": [
    "model.predict(tfit, filts=filtsfit)"
   ]
  },
  {
   "cell_type": "markdown",
   "metadata": {},
   "source": [
    "We don't find anything - check what it looks like when folded on the cited period : "
   ]
  },
  {
   "cell_type": "code",
   "execution_count": 25,
   "metadata": {},
   "outputs": [
    {
     "data": {
      "image/png": "[encoded data removed]",
      "text/plain": [
       "<matplotlib.figure.Figure at 0x122b8f7f0>"
      ]
     },
     "metadata": {},
     "output_type": "display_data"
    }
   ],
   "source": [
    "# Predict on a regular phase grid\n",
    "period = 2.92217  # days \n",
    "tfit = np.linspace(0,  period, 1000)\n",
    "filtsfit = np.array(list('ugriz'))[:, np.newaxis]\n",
    "\n",
    "#magfit = model.predict(tfit, filts=filtsfit)\n",
    "\n",
    "# Plot the results\n",
    "phase = (t / period) % 1\n",
    "phasefit = (tfit / period)\n",
    "\n",
    "fig, ax = plt.subplots()\n",
    "for i, filt in enumerate('ugriz'):\n",
    "    mask = (filts == filt)\n",
    "    errorbar = ax.errorbar(phase[mask], mag[mask], dmag[mask], fmt='.')\n",
    "    #ax.plot(phasefit, magfit[i], color=errorbar.lines[0].get_color())\n",
    "ax.set(xlabel='phase', ylabel='magnitude')\n",
    "ax.invert_yaxis()"
   ]
  },
  {
   "cell_type": "code",
   "execution_count": 31,
   "metadata": {
    "collapsed": true
   },
   "outputs": [],
   "source": [
    "# Grab photometry for the star, and fold on the cited period \n",
    "t, mag, dmag, filts = data['mjd'], data['psfMagDered'], data['psfMagErr'], data['filter']\n"
   ]
  },
  {
   "cell_type": "code",
   "execution_count": 39,
   "metadata": {},
   "outputs": [
    {
     "data": {
      "text/plain": [
       "<matplotlib.legend.Legend at 0x122b48320>"
      ]
     },
     "execution_count": 39,
     "metadata": {},
     "output_type": "execute_result"
    },
    {
     "data": {
      "image/png": "[encoded data removed]",
      "text/plain": [
       "<matplotlib.figure.Figure at 0x11ee4a780>"
      ]
     },
     "metadata": {},
     "output_type": "display_data"
    }
   ],
   "source": [
    "# define function to phase lightcurves\n",
    "def phase(time, period, t0 = None):\n",
    "    \"\"\" Given an input array of times and a period, return the corresponding phase.\"\"\"\n",
    "    if t0 is None:\n",
    "        t0 = time[0]\n",
    "        phase = ((time - t0) % period)/period\n",
    "    return phase \n",
    "\n",
    "# define function to plot phased lc\n",
    "def plot_phased_lc(mjds, mags, magerrs, period, t0=None, ax = None,f=None):\n",
    "    phases = phase(mjds, period, t0) \n",
    "    ax.errorbar(phases, mags, magerrs, fmt = '_', capsize=0, label=f)\n",
    "    ax.set_xlabel('Phase')\n",
    "    ax.set_ylabel('Magnitude')\n",
    "    plt.gca().invert_yaxis()\n",
    "    \n",
    "    \n",
    "# run function to plot phased lc\n",
    "fig,ax = plt.subplots(1,1,figsize = (8,8))\n",
    "best_period = 2.92217 \n",
    "for f in 'ugriz':\n",
    "    mask = filts == f\n",
    "    tm, m,mErr = t[mask], mag[mask], magerr[mask]\n",
    "    plot_phased_lc(tm, m, mErr, best_period, None, ax,f)\n",
    "plt.legend()\n",
    "plt.title('Folded on ')\n",
    "plt.savefig('carbon_star_phased.png', bbox_inches='tight')"
   ]
  },
  {
   "cell_type": "code",
   "execution_count": null,
   "metadata": {
    "collapsed": true
   },
   "outputs": [],
   "source": []
  }
 ],
 "metadata": {
  "kernelspec": {
   "display_name": "Python 3",
   "language": "python",
   "name": "python3"
  },
  "language_info": {
   "codemirror_mode": {
    "name": "ipython",
    "version": 3
   },
   "file_extension": ".py",
   "mimetype": "text/x-python",
   "name": "python",
   "nbconvert_exporter": "python",
   "pygments_lexer": "ipython3",
   "version": "3.6.2"
  }
 },
 "nbformat": 4,
 "nbformat_minor": 2
}

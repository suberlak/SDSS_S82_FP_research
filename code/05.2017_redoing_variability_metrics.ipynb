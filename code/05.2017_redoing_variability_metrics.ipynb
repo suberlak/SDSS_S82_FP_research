{
 "cells": [
  {
   "cell_type": "markdown",
   "metadata": {},
   "source": [
    "Here I test the new version of processPatch.py, to use the appropriate error in faint points treatment. It used to be that the faint fluxes would be replaced by the faintMean,  but errors stayed the same. In fact we would like to replace errors with faintRMS.\n",
    "\n",
    "Here I test how the S/N distribution looks like considering individual lightcurves, as well as the distribution of mean S/N per lightcurve considering all lightcurves in a given patch. "
   ]
  },
  {
   "cell_type": "code",
   "execution_count": 1,
   "metadata": {
    "collapsed": false
   },
   "outputs": [],
   "source": [
    "import numpy as np \n",
    "import matplotlib.pyplot as plt \n",
    "from astropy.table import Table\n",
    "from astropy.table import Column\n",
    "import os\n",
    "import datetime\n",
    "import pandas as pd \n",
    "import sys\n",
    "path_to_home = '/Users/chris/GradResearch/'\n",
    "sys.path.insert(0, path_to_home + 'SDSS_S82_FP_research/packages/')\n",
    "import faintFunctions as faintF \n",
    "import variabilityFunctions as varF\n"
   ]
  },
  {
   "cell_type": "markdown",
   "metadata": {},
   "source": [
    "## Read-in  raw lightcurves for one patch "
   ]
  },
  {
   "cell_type": "code",
   "execution_count": 40,
   "metadata": {
    "collapsed": true
   },
   "outputs": [],
   "source": [
    "# args for Table.read are passed from  astropy.io.ascii.read\n",
    "from astropy.io import ascii\n",
    "ascii.read?"
   ]
  },
  {
   "cell_type": "code",
   "execution_count": 48,
   "metadata": {
    "collapsed": false
   },
   "outputs": [],
   "source": [
    "# USE ASTROPY !!!! \n",
    "\n",
    "DirIn = '../raw_data/rawDataFPSplit/'\n",
    "fname = 'g00_21.csv.gz'\n",
    "raw_data = Table.read(DirIn+fname, format='csv', include_names =['objectId', 'mjd', \n",
    "                                                                 'psfFlux', 'psfFluxErr'])\n",
    "# http://docs.astropy.org/en/stable/io/ascii/read.html \n",
    "# gives parameters to reading tables \n",
    "# data_end still reads the entire table \n",
    "# and only returns a small portion.... \n",
    "\n",
    "# need to use pd.read_csv,  select nrows, and then convert to AstroPy : \n",
    "# will be much faster : "
   ]
  },
  {
   "cell_type": "code",
   "execution_count": 46,
   "metadata": {
    "collapsed": false
   },
   "outputs": [],
   "source": [
    "# http://docs.astropy.org/en/stable/io/ascii/read.html \n",
    "# gives parameters to reading tables \n",
    "# data_end still reads the entire table \n",
    "# and only returns a small portion.... \n",
    "\n",
    "#raw_data = Table.read(DirIn+fname, format='csv', include_names =['objectId', 'mjd', \n",
    "#                               'psfFlux', 'psfFluxErr'], data_end=1000)\n",
    "\n",
    "# better to use pd.read_csv,  select nrows, and then convert to AstroPy : \n",
    "# will be much faster : \n",
    "limitNrows = None \n",
    "if limitNrows is not None:  \n",
    "    raw_data_df = pd.read_csv(DirIn+fname, compression='gzip',  \n",
    "                         usecols=['objectId', 'mjd', 'psfFlux', 'psfFluxErr'], \n",
    "                              nrows=limitNrows )\n",
    "    raw_data = Table.from_pandas(raw_data_df)"
   ]
  },
  {
   "cell_type": "code",
   "execution_count": 573,
   "metadata": {
    "collapsed": true
   },
   "outputs": [],
   "source": [
    "raw_data_df = pd.read_csv(DirIn+fname, compression='gzip',  \n",
    "                         usecols=['objectId', 'mjd', 'psfFlux', 'psfFluxErr'], \n",
    "                              nrows=None )"
   ]
  },
  {
   "cell_type": "code",
   "execution_count": null,
   "metadata": {
    "collapsed": true
   },
   "outputs": [],
   "source": []
  },
  {
   "cell_type": "code",
   "execution_count": 49,
   "metadata": {
    "collapsed": false
   },
   "outputs": [],
   "source": [
    "##########  STEP 1 : single-epoch data ###########  \n",
    "# 1.1  :  convert Flux from erg/cm2/sec/Hz  to Jansky\n",
    "#         1 Jy = 1.0E-26 W/m^2/Hz = 1.0E-23 erg/s/cm^2/Hz\n",
    "# make new columns with data in Jy, to follow good \n",
    "# programming practice (otherwise, changes are either\n",
    "# on a view or a copy and it's not always clear)\n",
    "\n",
    "raw_data['psfFluxJy'] = raw_data['psfFlux'] * 1E23 \n",
    "raw_data['psfFluxErrJy'] = raw_data['psfFluxErr'] * 1E23 \n",
    "\n"
   ]
  },
  {
   "cell_type": "code",
   "execution_count": 47,
   "metadata": {
    "collapsed": false
   },
   "outputs": [
    {
     "data": {
      "text/plain": [
       "1000"
      ]
     },
     "execution_count": 47,
     "metadata": {},
     "output_type": "execute_result"
    }
   ],
   "source": [
    "len(raw_data)\n"
   ]
  },
  {
   "cell_type": "code",
   "execution_count": 566,
   "metadata": {
    "collapsed": false
   },
   "outputs": [
    {
     "name": "stdout",
     "output_type": "stream",
     "text": [
      "There are 19138954 points of 39238241 that have S/N < 2\n"
     ]
    }
   ],
   "source": [
    "# 1.2  : drop all rows which have NaNs in psfFlux .... \n",
    "m1  = np.isnan(raw_data['psfFlux'].data)  # true if NaN \n",
    "m2 = np.bitwise_not(np.isfinite(raw_data['psfFlux'].data))  # true if not finite... \n",
    "\n",
    "# logical or : true if either condition satisfied \n",
    "m = m1 | m2  \n",
    "\n",
    "if np.sum(m) > 0 :  # only apply if there is anything to drop ... \n",
    "    print('In  file %s there are : \\n.... %d NaN  psfFlux rows'%(fname, np.sum(m1)))\n",
    "    print('.... %d not finite  psfFlux rows'% np.sum(m2))\n",
    "    print('All such rows are dropped')\n",
    "    indices = np.arange(len(test))\n",
    "    rows_to_remove = indices[mask]\n",
    "    raw_data.remove_rows(remove_indices)\n",
    "\n",
    "# 1.3 : check psfFluxErr : drop all rows which have NaN, or 0 ,\n",
    "# to avoid getting error when calculating S/N  = psfFlux / psfFluxErr \n",
    "\n",
    "m1  = np.isnan(raw_data['psfFluxErr'].data)  # true if NaN \n",
    "m2 =  np.bitwise_not(np.isfinite(raw_data['psfFluxErr'].data))  # true if not finite... \n",
    "m3 = raw_data['psfFluxErr'].data == 0 \n",
    "# logical or : true if either condition satisfied \n",
    "m = m1 | m2  | m3\n",
    "\n",
    "if np.sum(m) > 0 :  # only apply if there is anything to drop ... \n",
    "    print('In  file %s there are : \\n.... %d NaN  psfFluxErr rows'%(fname, np.sum(m1)))\n",
    "    print('.... %d not finite  psfFluxErr rows'% np.sum(m2))\n",
    "    print('.... %d psfFluxErr = 0  rows'% np.sum(m3))\n",
    "    print('All such rows are dropped')\n",
    "\n",
    "# 1.4 : select points that have S/N  < 2 , flag as Faint...\n",
    "# initialize a new column with all values set to False :\n",
    "#flagFaint = Column(data = np.zeros(len(raw_data), dtype=bool), name = 'flagFaint')\n",
    "# this would also work, but doesn't allow to select good data type \n",
    "# raw_data['flagFaint'] = True : makes a new col with int64\n",
    "\n",
    "# instead of two-steps, make just one : \n",
    "mask_SN = (raw_data['psfFluxJy'].data / raw_data['psfFluxErrJy'].data) < 2 \n",
    "raw_data['flagFaint'] = mask_SN\n",
    "print('There are %d points of %d that have S/N < 2' %(np.sum(mask_SN),len(mask_SN)))\n",
    "\n",
    "\n",
    "\n"
   ]
  },
  {
   "cell_type": "code",
   "execution_count": 568,
   "metadata": {
    "collapsed": false
   },
   "outputs": [
    {
     "ename": "AttributeError",
     "evalue": "'Column' object has no attribute 'values'",
     "output_type": "error",
     "traceback": [
      "\u001b[0;31m---------------------------------------------------------------------------\u001b[0m",
      "\u001b[0;31mAttributeError\u001b[0m                            Traceback (most recent call last)",
      "\u001b[0;32m<ipython-input-568-b6fe16a95cc1>\u001b[0m in \u001b[0;36m<module>\u001b[0;34m()\u001b[0m\n\u001b[0;32m----> 1\u001b[0;31m \u001b[0mraw_data\u001b[0m\u001b[0;34m[\u001b[0m\u001b[0;34m'flagFaint'\u001b[0m\u001b[0;34m]\u001b[0m\u001b[0;34m.\u001b[0m\u001b[0mvalues\u001b[0m\u001b[0;34m\u001b[0m\u001b[0m\n\u001b[0m",
      "\u001b[0;31mAttributeError\u001b[0m: 'Column' object has no attribute 'values'"
     ]
    }
   ],
   "source": []
  },
  {
   "cell_type": "code",
   "execution_count": 8,
   "metadata": {
    "collapsed": false
   },
   "outputs": [
    {
     "name": "stdout",
     "output_type": "stream",
     "text": [
      "hello\n"
     ]
    }
   ],
   "source": [
    "print('hello')"
   ]
  },
  {
   "cell_type": "code",
   "execution_count": 95,
   "metadata": {
    "collapsed": false
   },
   "outputs": [],
   "source": []
  },
  {
   "cell_type": "markdown",
   "metadata": {},
   "source": [
    "### Aside : Plot the SN demographics using raw photometry "
   ]
  },
  {
   "cell_type": "code",
   "execution_count": 9,
   "metadata": {
    "collapsed": true
   },
   "outputs": [],
   "source": [
    "import matplotlib.pyplot as plt\n",
    "from matplotlib import rcParams      \n",
    "rcParams['ytick.labelsize'] = 15\n",
    "rcParams['xtick.labelsize'] = 15\n",
    "rcParams['axes.labelsize'] = 20\n",
    "rcParams['axes.linewidth'] = 2\n",
    "rcParams['font.size'] = 15\n",
    "rcParams['axes.titlesize'] = 20"
   ]
  },
  {
   "cell_type": "code",
   "execution_count": 111,
   "metadata": {
    "collapsed": false
   },
   "outputs": [
    {
     "name": "stdout",
     "output_type": "stream",
     "text": [
      "We will save this figure in  /Users/chris/GradResearch/SDSS_S82_FP_research/data_products/Fig_SN_raw_data/2017-05-09/\n",
      "Saved as SN_demographics.png\n"
     ]
    },
    {
     "data": {
      "image/png": "[encoded data removed]",
      "text/plain": [
       "<matplotlib.figure.Figure at 0x127356be0>"
      ]
     },
     "metadata": {},
     "output_type": "display_data"
    }
   ],
   "source": [
    "outDir = os.path.join(os.getcwd()[:-4],'data_products/'+'Fig_SN_raw_data',\n",
    "                      datetime.datetime.now().strftime('%Y-%m-%d')+ '/')\n",
    "if not os.path.exists(outDir): os.system('mkdir %s' % outDir)\n",
    "print('We will save this figure in  %s'%outDir)\n",
    "\n",
    "\n",
    "%matplotlib inline\n",
    "min_SN, max_SN = -5, 20 \n",
    "m = (min_SN < SN) *  ( SN < max_SN)\n",
    "\n",
    "fig,ax = plt.subplots(1,1,figsize=(10,8))\n",
    "ax.hist(SN[m], bins=45)\n",
    "ax.set_xlabel('psfFlux / psfFluxErr')\n",
    "ax.set_ylabel('counts')\n",
    "ax.set_title(fname+', '+ str(len(SN[m]))+'/'+str(len(SN))+\\\n",
    "             ' raw points\\n with '+ str(min_SN)+' < S/N < '+str(max_SN))\n",
    "\n",
    "ax.axvline(2, ls = '--', color='orange', lw=4)\n",
    "\n",
    "figname = 'SN_demographics.png'\n",
    "plt.savefig(outDir + '/' +figname)\n",
    "print('Saved as %s'%figname)\n"
   ]
  },
  {
   "cell_type": "code",
   "execution_count": 421,
   "metadata": {
    "collapsed": false
   },
   "outputs": [],
   "source": [
    "SN = raw_data['psfFluxJy'].data / raw_data['psfFluxErrJy'].data\n"
   ]
  },
  {
   "cell_type": "code",
   "execution_count": 434,
   "metadata": {
    "collapsed": false
   },
   "outputs": [
    {
     "data": {
      "text/plain": [
       "<matplotlib.collections.PathCollection at 0x1275dc7f0>"
      ]
     },
     "execution_count": 434,
     "metadata": {},
     "output_type": "execute_result"
    },
    {
     "data": {
      "image/png": "[encoded data removed]",
      "text/plain": [
       "<matplotlib.figure.Figure at 0x1273cecf8>"
      ]
     },
     "metadata": {},
     "output_type": "display_data"
    }
   ],
   "source": [
    "m = raw_data['objectId'].data == 216278347443865913\n",
    "plt.scatter(raw_data['mjd'][m], 1e5*raw_data['psfFluxJy'][m]) # , raw_data.psfFluxErrJy[m] )"
   ]
  },
  {
   "cell_type": "code",
   "execution_count": 452,
   "metadata": {
    "collapsed": false
   },
   "outputs": [
    {
     "data": {
      "text/plain": [
       "[<matplotlib.lines.Line2D at 0x1256ac1d0>]"
      ]
     },
     "execution_count": 452,
     "metadata": {},
     "output_type": "execute_result"
    },
    {
     "data": {
      "image/png": "[encoded data removed]",
      "text/plain": [
       "<matplotlib.figure.Figure at 0x12ead8a20>"
      ]
     },
     "metadata": {},
     "output_type": "display_data"
    }
   ],
   "source": [
    "#plt.hist(SN[:1000])\n",
    "cs = np.cumsum(SN[:10000])\n",
    "plt.plot(np.sort(SN[:10000]), cs)"
   ]
  },
  {
   "cell_type": "code",
   "execution_count": 449,
   "metadata": {
    "collapsed": false
   },
   "outputs": [
    {
     "data": {
      "text/plain": [
       "19138954"
      ]
     },
     "execution_count": 449,
     "metadata": {},
     "output_type": "execute_result"
    }
   ],
   "source": [
    "len(SN[SN<2])"
   ]
  },
  {
   "cell_type": "code",
   "execution_count": 451,
   "metadata": {
    "collapsed": false
   },
   "outputs": [
    {
     "data": {
      "text/plain": [
       "[<matplotlib.lines.Line2D at 0x16bbfcc88>]"
      ]
     },
     "execution_count": 451,
     "metadata": {},
     "output_type": "execute_result"
    },
    {
     "data": {
      "image/png": "[encoded data removed]",
      "text/plain": [
       "<matplotlib.figure.Figure at 0x12ed5d780>"
      ]
     },
     "metadata": {},
     "output_type": "display_data"
    }
   ],
   "source": []
  },
  {
   "cell_type": "markdown",
   "metadata": {},
   "source": [
    "### Back to analysis : faint points treatment ... "
   ]
  },
  {
   "cell_type": "code",
   "execution_count": 88,
   "metadata": {
    "collapsed": false
   },
   "outputs": [
    {
     "data": {
      "text/plain": [
       "<module 'faintFunctions' from '/Users/chris/GradResearch/SDSS_S82_FP_research/packages/faintFunctions.py'>"
      ]
     },
     "execution_count": 88,
     "metadata": {},
     "output_type": "execute_result"
    }
   ],
   "source": [
    "imp.reload(faintF)"
   ]
  },
  {
   "cell_type": "code",
   "execution_count": 133,
   "metadata": {
    "collapsed": false
   },
   "outputs": [],
   "source": [
    "# 1.5  calculate faint quantities for all rows  where S/N < 2 \n",
    "imp.reload(faintF)\n",
    "# make new columns ...\n",
    "for faintColname in ['faintMean', 'faintMedian','faintTwoSigma','faintRMS']:\n",
    "    raw_data[faintColname] = np.nan\n",
    "    # initialize for all rows, \n",
    "    # and we will have not nans \n",
    "    # only wherever it is possible \n",
    "    # to calculate faintMean, faintMedian \n",
    "    # faintRMS, etc., iff    -20 < S/N < 2  \n",
    "      \n",
    "# only perform faint point treatment for \n",
    "# points where S/N > -20 (xObs = S/N) \n",
    "# Above that we are getting into a very very small\n",
    "# portion of the tail, and \n",
    "# norm.sf(-xObs) ~= 0 for such small S/N values\n",
    "# which makes is impossible to properly \n",
    "# calculate faintMean, and faintRMS,\n",
    "# both of which require normalization\n",
    "# I1 = norm.sf(-xObs)\n",
    "\n",
    "\n",
    "SN = raw_data['psfFluxJy'].data / raw_data['psfFluxErrJy'].data\n",
    "mask_faint  =  (-20 < SN ) * (SN < 2 )\n",
    "\n",
    "# temporary assignment\n",
    "flux, flux_err = raw_data['psfFluxJy'][mask_faint].data, raw_data['psfFluxErrJy'][mask_faint].data\n",
    " \n",
    "raw_data['faintMean'][mask_faint]= faintF.calculate_mean(flux, flux_err)\n",
    "raw_data['faintMedian'][mask_faint] = faintF.calculate_median(flux, flux_err)\n",
    "raw_data['faintTwoSigma'][mask_faint] = faintF.calculate_2sigma(flux, flux_err)\n",
    "raw_data['faintRMS'][mask_faint] = faintF.calculate_rms(flux, flux_err)\n"
   ]
  },
  {
   "cell_type": "code",
   "execution_count": null,
   "metadata": {
    "collapsed": true
   },
   "outputs": [],
   "source": []
  },
  {
   "cell_type": "code",
   "execution_count": 138,
   "metadata": {
    "collapsed": false
   },
   "outputs": [
    {
     "data": {
      "text/plain": [
       "array([-8.71830185, -8.64923767, -7.96757668, -8.65326188, -8.30368047,\n",
       "       -8.67095746, -8.37058319, -8.40811155, -8.04410601, -8.20910086,\n",
       "       -8.72142039, -8.08406944, -8.30257383, -8.26571932, -8.42518685,\n",
       "       -8.75606264, -8.63899669, -8.18358915, -8.38975596, -7.8026182 ,\n",
       "       -7.99452456, -8.36598739, -8.31077729, -8.16184057, -8.11794548,\n",
       "       -8.34277117, -8.5130329 , -8.4623343 , -8.59520115, -8.49755989,\n",
       "       -8.22610433, -8.66617302, -8.533499  , -8.65673878, -8.49234924,\n",
       "       -8.11813448, -8.42791908, -8.30114976, -8.33568709, -7.8832635 ,\n",
       "       -7.90318421, -8.51468651, -8.39058153, -8.34698805, -8.78970087,\n",
       "       -8.07389191, -7.99648277, -8.74130879, -8.6556417 , -8.21405544,\n",
       "       -8.49355548, -8.10218657, -8.04460575, -8.52839709, -8.51368594,\n",
       "       -7.93120619, -8.17271933, -8.11052469, -8.41770083, -8.0740914 ,\n",
       "       -8.78020783, -8.03217954, -8.42762337, -7.94325395, -7.91653747,\n",
       "       -7.77691407, -7.98350287, -8.18188524, -7.95113388, -8.38615315,\n",
       "       -8.59366038, -8.1726586 , -8.19582913, -8.33362402, -8.32920907,\n",
       "       -8.33656796, -8.04310977, -7.98510395, -7.84757756, -7.75652765,\n",
       "       -8.7981043 , -7.79292084, -8.53323513, -8.08668669, -8.37920998,\n",
       "       -8.78473523, -8.05359191, -7.88478402, -8.49852121, -8.75893706,\n",
       "       -8.45142693, -8.37695895, -7.92439277, -7.8675765 , -8.5888843 ,\n",
       "       -8.07968255, -8.06420609, -8.00708661, -7.76351809, -7.92631374,\n",
       "       -8.14789886, -8.43766573, -8.6590358 , -8.06565736, -8.21250745,\n",
       "       -8.6108058 , -7.99096903, -8.71987286, -8.34252964, -8.72029433,\n",
       "       -8.44957828, -8.34614307, -8.33745235, -7.71045651, -8.75910805,\n",
       "       -7.85908771, -8.17196397, -8.43875605, -8.38269906, -7.88244344,\n",
       "       -8.49087877, -8.30183713, -8.64493587, -8.21643635, -7.99293788,\n",
       "       -8.77758999, -8.534826  , -8.13451203, -8.7956336 , -8.1817061 ,\n",
       "       -8.10519242, -8.03337111, -8.77607776, -7.8920627 , -8.08271638,\n",
       "       -8.37068569, -8.30700729, -8.30769362, -8.03483188, -8.49344163,\n",
       "       -8.75379947, -7.81729482, -7.84599005, -8.03653608, -8.56710577,\n",
       "       -7.92283721, -8.45889172, -7.81822726, -8.05257238, -8.45039113,\n",
       "       -8.53893464, -8.60634123, -8.30900622, -8.3844893 , -7.94062397,\n",
       "       -8.57178134, -7.89135663, -8.09895014, -8.18468185, -8.73409179,\n",
       "       -8.79425183, -8.53411567, -8.31662106, -8.44000259, -7.81865186,\n",
       "       -8.41463843, -8.13961749, -8.77942669, -8.22184045, -7.78198766,\n",
       "       -8.56088003, -8.79463548, -8.39970733, -8.78294997, -8.35381992,\n",
       "       -8.66908327, -8.59988837, -8.39997389, -7.81144319, -8.66408233,\n",
       "       -8.36553861, -7.95338884, -8.21399508, -7.97415011, -8.12076355,\n",
       "       -7.85182815, -8.47894831, -7.827342  , -8.39143283, -8.16300953,\n",
       "       -7.76363385, -8.15008844, -8.09897976, -8.19911123, -7.93853722,\n",
       "       -8.53097773, -8.74005789, -8.59675601, -8.4963724 , -8.09294781,\n",
       "       -8.73011263, -8.06825916, -8.35730572, -7.81636226, -8.00655847,\n",
       "       -8.49715889, -8.07948574, -8.00277156, -7.97279332, -8.33877537,\n",
       "       -8.37943168, -8.73439002, -7.83344107, -8.45021428, -8.7211802 ,\n",
       "       -8.02975432, -8.03674041, -7.90560527, -8.75192079, -8.60278208,\n",
       "       -8.73930276, -8.19391316, -8.64888263, -8.58892349])"
      ]
     },
     "execution_count": 138,
     "metadata": {},
     "output_type": "execute_result"
    }
   ],
   "source": [
    "\n",
    "SN[mask_faint][np.where(raw_data['faintRMS'][mask_faint] - flux_err == 0)]"
   ]
  },
  {
   "cell_type": "code",
   "execution_count": 125,
   "metadata": {
    "collapsed": false
   },
   "outputs": [],
   "source": [
    "from scipy.special import erf\n",
    "\n",
    "xObs = psfFlux / psfFluxErr\n",
    "xMean = faintF.calculate_mean(psfFlux, psfFluxErr) / psfFluxErr\n",
    "delX = xObs - xMean\n",
    "I1 = norm.sf(-xObs)\n",
    "I0bysig2 = 0.5*erf(xObs/np.sqrt(2)) + (1.0/np.sqrt(2*np.pi))*np.exp(-(xObs**2.0) / 2.0)*(2*delX - xObs) + 0.5 + delX*delX*norm.sf(-xObs)"
   ]
  },
  {
   "cell_type": "markdown",
   "metadata": {},
   "source": [
    "### xMean "
   ]
  },
  {
   "cell_type": "code",
   "execution_count": 467,
   "metadata": {
    "collapsed": false
   },
   "outputs": [
    {
     "name": "stderr",
     "output_type": "stream",
     "text": [
      "/Users/chris/anaconda3/envs/py36/lib/python3.6/site-packages/ipykernel/__main__.py:12: RuntimeWarning: overflow encountered in true_divide\n"
     ]
    },
    {
     "data": {
      "text/plain": [
       "<matplotlib.text.Text at 0x1929e09e8>"
      ]
     },
     "execution_count": 467,
     "metadata": {},
     "output_type": "execute_result"
    },
    {
     "data": {
      "image/png": "[encoded data removed]",
      "text/plain": [
       "<matplotlib.figure.Figure at 0x133d01320>"
      ]
     },
     "metadata": {},
     "output_type": "display_data"
    }
   ],
   "source": [
    "# Figure out if there are any problems with the implementation of the xMean ... \n",
    "\n",
    "xObs = np.linspace(-60,-10, 1000)\n",
    "sf = norm.sf(-xObs )\n",
    "I_norm  = sf \n",
    "\n",
    "# since the norm is in the divisor, if we can't divide by it,  it would be \n",
    "# far better to say \n",
    "xMean = np.zeros_like(xObs)\n",
    "ind = np.where(sf !=0 )\n",
    "# only divide by sf where the divisor is nonzero ... \n",
    "xMean[ind] = (1/ (sf[ind]*np.sqrt(2*np.pi))) *\\\n",
    "             np.exp(-(xObs[ind]**2.0) / 2.0) + xObs[ind]\n",
    "\n",
    "plt.plot(xObs, xMean)\n",
    "plt.plot(xObs[xObs>0], xObs[xObs>0], ls='--')\n",
    "#plt.plot(np.linspace(-30,-20,100), np.zeros(100))\n",
    "plt.xlabel('xObs')\n",
    "plt.ylabel('xMean')"
   ]
  },
  {
   "cell_type": "code",
   "execution_count": 476,
   "metadata": {
    "collapsed": false
   },
   "outputs": [
    {
     "data": {
      "text/plain": [
       "<matplotlib.text.Text at 0x19341b780>"
      ]
     },
     "execution_count": 476,
     "metadata": {},
     "output_type": "execute_result"
    },
    {
     "data": {
      "image/png": "[encoded data removed]",
      "text/plain": [
       "<matplotlib.figure.Figure at 0x193272940>"
      ]
     },
     "metadata": {},
     "output_type": "display_data"
    }
   ],
   "source": [
    "# Fit a spline to a region between -35 and -25 \n",
    "from scipy.interpolate import spline\n",
    "\n",
    "mask = (-35<xObs)*(xObs<-25)\n",
    "x = xObs[mask]\n",
    "y = xMean[mask]\n",
    "\n",
    "x = np.append(x,-100)\n",
    "y = np.append(y,0)\n",
    "\n",
    "x_new = np.linspace(min(x), max(x), 1000)\n",
    "y_new = spline(np.sort(x), np.sort(y), x_new, order=2)\n",
    "\n",
    "#x_new = np.append(x_new, np.linspace(-120,-100,100))\n",
    "#y_new = np.append(y_new, np.zeros(100))\n",
    "\n",
    "plt.plot(x_new,y_new, 'o',  x, y, 'o')\n",
    "plt.ylabel('xMean')\n",
    "\n",
    "\n"
   ]
  },
  {
   "cell_type": "code",
   "execution_count": 480,
   "metadata": {
    "collapsed": false
   },
   "outputs": [
    {
     "name": "stderr",
     "output_type": "stream",
     "text": [
      "/Users/chris/anaconda3/envs/py36/lib/python3.6/site-packages/ipykernel/__main__.py:11: RuntimeWarning: overflow encountered in true_divide\n"
     ]
    },
    {
     "data": {
      "text/plain": [
       "<matplotlib.text.Text at 0x193121898>"
      ]
     },
     "execution_count": 480,
     "metadata": {},
     "output_type": "execute_result"
    },
    {
     "data": {
      "image/png": "[encoded data removed]",
      "text/plain": [
       "<matplotlib.figure.Figure at 0x1923e7080>"
      ]
     },
     "metadata": {},
     "output_type": "display_data"
    }
   ],
   "source": [
    "# Patch all together...\n",
    "xObs = np.linspace(-60,-5, 1000)\n",
    "sf = norm.sf(-xObs )\n",
    "I_norm  = sf \n",
    "\n",
    "xMean = np.zeros_like(xObs)\n",
    "ind = np.where(sf !=0 )\n",
    "# only divide by sf where the divisor is nonzero ... \n",
    "xMean[ind] = (1/ (sf[ind]*np.sqrt(2*np.pi))) *\\\n",
    "             np.exp(-(xObs[ind]**2.0) / 2.0) + xObs[ind]\n",
    "\n",
    "plt.plot(xObs[ind], xMean[ind], 'o', x_new, y_new)\n",
    "plt.ylabel('yMean')\n"
   ]
  },
  {
   "cell_type": "code",
   "execution_count": 522,
   "metadata": {
    "collapsed": false
   },
   "outputs": [],
   "source": [
    "# Mean  : pull all together ....\n",
    "from scipy.interpolate import spline\n",
    "\n",
    "# evaluate xMean analytically where I know sf is nonzero....\n",
    "xObs = np.arange(-35,3,0.01)\n",
    "sf = norm.sf(-xObs )\n",
    "xMean = (1/ (sf*np.sqrt(2*np.pi))) *\\\n",
    "             np.exp(-(xObs**2.0) / 2.0) + xObs\n",
    "    \n",
    "# region of analytic expression to which we fit a spline \n",
    "mask = (-35<xObs)*(xObs<-25)\n",
    "x = xObs[mask]\n",
    "y = xMean[mask]\n",
    "\n",
    "# add a fitting 'peg' at (x,y) = (-100, 0)\n",
    "x = np.append(x,-100)\n",
    "y = np.append(y,0)\n",
    "\n",
    "# here x goes from -100 to -25 \n",
    "x_new = np.arange(min(x), max(x), step=0.01)\n",
    "y_new = spline(np.sort(x), np.sort(y), x_new, order=2)\n",
    "\n",
    "# combine the old and the new : \n",
    "xObs = np.append(xObs, x_new[x_new<-35])\n",
    "xMean = np.append(xMean, y_new[x_new<-35])\n",
    "\n",
    "xObs = np.sort(xObs)\n",
    "xMean = np.sort(xMean)\n",
    "\n",
    "# make sure that it is indeed as equally spaced (has the same length)\n",
    "# as if we just made it from scratch \n",
    "assert len(np.arange(-100,3,0.01)) == len(xObs)\n",
    "\n",
    "# initialize the lookup table here  : \n",
    "# in each next element need to ensure that\n",
    "# indeed we will have the same number of elements \n",
    "# as xObs,  i.e. 10300  \n",
    "lookup_table = {'xObs':xObs, 'xMean':xMean}"
   ]
  },
  {
   "cell_type": "code",
   "execution_count": 525,
   "metadata": {
    "collapsed": false
   },
   "outputs": [
    {
     "data": {
      "text/plain": [
       "{'xMean': array([ -3.63797881e-12,   6.50408360e-07,   1.30197070e-06, ...,\n",
       "          2.97485426e+00,   2.98471175e+00,   2.99457297e+00]),\n",
       " 'xObs': array([-100.  ,  -99.99,  -99.98, ...,    2.97,    2.98,    2.99])}"
      ]
     },
     "execution_count": 525,
     "metadata": {},
     "output_type": "execute_result"
    }
   ],
   "source": [
    "lookup_table"
   ]
  },
  {
   "cell_type": "markdown",
   "metadata": {},
   "source": [
    "### xMedian"
   ]
  },
  {
   "cell_type": "code",
   "execution_count": 238,
   "metadata": {
    "collapsed": false
   },
   "outputs": [
    {
     "data": {
      "text/plain": [
       "[<matplotlib.lines.Line2D at 0x10eeba710>,\n",
       " <matplotlib.lines.Line2D at 0x10eeba898>]"
      ]
     },
     "execution_count": 238,
     "metadata": {},
     "output_type": "execute_result"
    },
    {
     "data": {
      "image/png": "[encoded data removed]",
      "text/plain": [
       "<matplotlib.figure.Figure at 0x10ed7f080>"
      ]
     },
     "metadata": {},
     "output_type": "display_data"
    }
   ],
   "source": [
    "# xMedian \n",
    "\n",
    "# fit a sigmoid  to the region between -7 and -3 \n",
    "from scipy.optimize import curve_fit\n",
    "mask = (-7<xObs)*(xObs<-4)\n",
    "x = xObs[mask]\n",
    "y = xMed[mask]\n",
    "\n",
    "x = np.append(x,-30)\n",
    "y = np.append(y,0)\n",
    "\n",
    "# calculate polynomial\n",
    "z = np.polyfit(x, y, 4)\n",
    "f = np.poly1d(z)\n",
    "\n",
    "def sigmoid(x, x0, k):\n",
    "     y = 1 / (1 + np.exp(-k*(x-x0)))\n",
    "     return y\n",
    "popt, pcov = curve_fit(sigmoid, x,y)\n",
    "\n",
    "x_new = np.linspace(x[0], x[-1], 100)\n",
    "y_new = sigmoid(x_new, *popt) \n",
    "\n",
    "plt.plot(x,y,'o', x_new, y_new, 'o')"
   ]
  },
  {
   "cell_type": "code",
   "execution_count": 244,
   "metadata": {
    "collapsed": false
   },
   "outputs": [
    {
     "data": {
      "text/plain": [
       "[<matplotlib.lines.Line2D at 0x10f0f1e48>]"
      ]
     },
     "execution_count": 244,
     "metadata": {},
     "output_type": "execute_result"
    },
    {
     "data": {
      "image/png": "[encoded data removed]",
      "text/plain": [
       "<matplotlib.figure.Figure at 0x10ec08dd8>"
      ]
     },
     "metadata": {},
     "output_type": "display_data"
    }
   ],
   "source": [
    "# plot patching the analytical calculation and the \n",
    "# functional fit below \n",
    "xObs = np.linspace(-7,2, 1000)\n",
    "xMed = np.zeros_like(xObs)\n",
    "indices = norm.cdf(-xObs) < 1 \n",
    "xMed[indices] = norm.ppf((1+norm.cdf(-xObs[indices]))/2.0) + xObs[indices]\n",
    "plt.plot(xObs,xMed)\n",
    "plt.plot(x_new, y_new)"
   ]
  },
  {
   "cell_type": "code",
   "execution_count": 526,
   "metadata": {
    "collapsed": false
   },
   "outputs": [],
   "source": [
    "# xMedian : combine all ... \n",
    "\n",
    "# 1) initialize \n",
    "xpeg, xmin,xmid, xmax = -30,-7,-4,3\n",
    "step = 0.01\n",
    "x0 = -100 \n",
    "xObs = np.arange(xmin, xmax, step)\n",
    "xMed= norm.ppf((1+norm.cdf(-xObs))/2.0) + xObs\n",
    "\n",
    "\n",
    "# 2) fit a sigmoid  to the region between -7 and -3 \n",
    "from scipy.optimize import curve_fit\n",
    "mask = (xmin<xObs)*(xObs<xmid)\n",
    "x = xObs[mask]\n",
    "y = xMed[mask]\n",
    "\n",
    "x = np.append(x,xpeg)\n",
    "y = np.append(y,0)\n",
    "\n",
    "def sigmoid(x, x0, k):\n",
    "     y = 1 / (1 + np.exp(-k*(x-x0)))\n",
    "     return y\n",
    "popt, pcov = curve_fit(sigmoid, x,y)\n",
    "\n",
    "x_new = np.arange(x0, max(x), step)\n",
    "y_new = sigmoid(x_new, *popt) \n",
    "\n",
    "# combine the old and the new : \n",
    "mask  = x_new<xmin\n",
    "xObs = np.append(xObs, x_new[mask])\n",
    "xMed= np.append(xMed, y_new[mask])\n",
    "\n",
    "# 4) sort , since function monotonically increasing ... \n",
    "xObs = np.sort(xObs)\n",
    "xMed = np.sort(xMed)\n",
    "\n",
    "# 5) make sure that it is indeed as equally spaced (has the same length)\n",
    "# as if we just made it from scratch \n",
    "assert len(np.arange(x0,xmax, step)) == len(xObs)\n",
    "lookup_table['xMedian'] = xMed"
   ]
  },
  {
   "cell_type": "markdown",
   "metadata": {},
   "source": [
    "\n",
    "### xRMS"
   ]
  },
  {
   "cell_type": "code",
   "execution_count": 580,
   "metadata": {
    "collapsed": false
   },
   "outputs": [
    {
     "name": "stderr",
     "output_type": "stream",
     "text": [
      "/Users/chris/anaconda3/envs/py36/lib/python3.6/site-packages/ipykernel/__main__.py:20: RuntimeWarning: invalid value encountered in sqrt\n"
     ]
    },
    {
     "data": {
      "text/plain": [
       "<matplotlib.text.Text at 0x15cc2bba8>"
      ]
     },
     "execution_count": 580,
     "metadata": {},
     "output_type": "execute_result"
    },
    {
     "data": {
      "image/png": "[encoded data removed]",
      "text/plain": [
       "<matplotlib.figure.Figure at 0x15c6d94e0>"
      ]
     },
     "metadata": {},
     "output_type": "display_data"
    }
   ],
   "source": [
    "# x RMS  ... \n",
    "\n",
    "xObs = np.linspace(-8,-2, 1000)\n",
    "sf = norm.sf(-xObs )\n",
    "I_norm  = sf \n",
    "\n",
    "# since the norm is in the divisor, if we can't divide by it,  it would be \n",
    "# far better to say \n",
    "xMean = np.zeros_like(xObs)\n",
    "ind = np.where(sf !=0 )\n",
    "# only divide by sf where the divisor is nonzero ... \n",
    "xMean[ind] = (1/ (sf[ind]*np.sqrt(2*np.pi))) *\\\n",
    "             np.exp(-(xObs[ind]**2.0) / 2.0) + xObs[ind]\n",
    "\n",
    "\n",
    "delX  = xObs - xMean\n",
    "\n",
    "numerator = 0.5*erf(xObs/np.sqrt(2)) +\\\n",
    "           (1.0/np.sqrt(2*np.pi))*np.exp(-(xObs**2.0) / 2.0)*(2*delX - xObs) +\\\n",
    "           0.5 + delX*delX*norm.sf(-xObs)\n",
    "\n",
    "index = I_norm >0 \n",
    "xRMS = np.sqrt(numerator[index] / I_norm[index])\n",
    "\n",
    "%matplotlib inline\n",
    "plt.plot(xObs[index], xRMS )\n",
    "\n",
    "plt.xlabel('xObs')\n",
    "plt.ylabel('xRMS')"
   ]
  },
  {
   "cell_type": "code",
   "execution_count": 581,
   "metadata": {
    "collapsed": false
   },
   "outputs": [
    {
     "data": {
      "text/plain": [
       "<matplotlib.text.Text at 0x15cca92b0>"
      ]
     },
     "execution_count": 581,
     "metadata": {},
     "output_type": "execute_result"
    },
    {
     "data": {
      "image/png": "[encoded data removed]",
      "text/plain": [
       "<matplotlib.figure.Figure at 0x15c3d0a58>"
      ]
     },
     "metadata": {},
     "output_type": "display_data"
    }
   ],
   "source": [
    "# fit a sigmoid function ... to xObs between  -3 and -7  :\n",
    "\n",
    "from scipy.optimize import curve_fit\n",
    "mask = (-7<xObs)*(xObs<-4)\n",
    "x = xObs[mask]\n",
    "y = xRMS[mask]\n",
    "# add a pegging at 0 \n",
    "x = np.append(x,-30)\n",
    "y = np.append(y,0)\n",
    "\n",
    "# function to fit \n",
    "def sigmoid(x, x0, k):\n",
    "     y = 1 / (1 + np.exp(-k*(x-x0)))\n",
    "     return y\n",
    "popt, pcov = curve_fit(sigmoid, x,y)\n",
    "\n",
    "x_new = np.linspace(x[0], x[-1], 100)\n",
    "y_new = sigmoid(x_new, *popt) \n",
    "\n",
    "plt.plot(x,y,'o', x_new, y_new, 'o')\n",
    "plt.ylabel('xRMS')\n",
    "\n"
   ]
  },
  {
   "cell_type": "code",
   "execution_count": 591,
   "metadata": {
    "collapsed": false
   },
   "outputs": [
    {
     "data": {
      "image/png": "[encoded data removed]",
      "text/plain": [
       "<matplotlib.figure.Figure at 0x11566c128>"
      ]
     },
     "metadata": {},
     "output_type": "display_data"
    }
   ],
   "source": [
    "# plot patching the analytical calculation and the \n",
    "# functional fit below \n",
    "xObs = np.linspace(-7,5, 1000)\n",
    "xRMS = np.zeros_like(xObs)\n",
    "\n",
    "sf = norm.sf(-xObs )\n",
    "I_norm  = sf \n",
    "\n",
    "# since the norm is in the divisor, if we can't divide by it,  it would be \n",
    "# far better to say \n",
    "xMean = np.zeros_like(xObs)\n",
    "ind = np.where(sf !=0 )\n",
    "# only divide by sf where the divisor is nonzero ... \n",
    "xMean[ind] = (1/ (sf[ind]*np.sqrt(2*np.pi))) *\\\n",
    "             np.exp(-(xObs[ind]**2.0) / 2.0) + xObs[ind]\n",
    "\n",
    "\n",
    "delX  = xObs - xMean\n",
    "\n",
    "numerator = 0.5*erf(xObs/np.sqrt(2)) +\\\n",
    "           (1.0/np.sqrt(2*np.pi))*np.exp(-(xObs**2.0) / 2.0)*(2*delX - xObs) +\\\n",
    "           0.5 + delX*delX*norm.sf(-xObs)\n",
    "\n",
    "index = I_norm >0 \n",
    "xRMS[index] = np.sqrt(numerator[index] / I_norm[index])\n",
    "\n",
    "\n",
    "plt.plot(xObs,xRMS, c='b')\n",
    "plt.plot(x_new, y_new, c='b')\n",
    "plt.ylabel('xRMS')\n",
    "plt.xlabel('xObs (=S/N)')\n",
    "plt.grid()\n",
    "plt.savefig(outDir + 'xRMS_total_range.png', bbox_inches='tight')"
   ]
  },
  {
   "cell_type": "code",
   "execution_count": 592,
   "metadata": {
    "collapsed": false
   },
   "outputs": [
    {
     "data": {
      "image/png": "[encoded data removed]",
      "text/plain": [
       "<matplotlib.figure.Figure at 0x11586def0>"
      ]
     },
     "metadata": {},
     "output_type": "display_data"
    }
   ],
   "source": [
    "m = xObs>-4\n",
    "plt.plot(xObs[m],xRMS[m])\n",
    "#plt.plot(x_new, y_new)\n",
    "plt.ylabel('xRMS')\n",
    "plt.xlabel('xObs (=S/N)')\n",
    "plt.grid()\n",
    "plt.savefig(outDir + 'xRMS_detail.png', bbox_inches='tight')"
   ]
  },
  {
   "cell_type": "code",
   "execution_count": 586,
   "metadata": {
    "collapsed": false
   },
   "outputs": [
    {
     "data": {
      "text/plain": [
       "'/Users/chris/GradResearch/SDSS_S82_FP_research/data_products/Fig_faint_integration/2017-05-11/'"
      ]
     },
     "execution_count": 586,
     "metadata": {},
     "output_type": "execute_result"
    }
   ],
   "source": [
    "outDir"
   ]
  },
  {
   "cell_type": "code",
   "execution_count": 527,
   "metadata": {
    "collapsed": false
   },
   "outputs": [],
   "source": [
    "# xRMS : pull all together \n",
    "# to make a lookup table \n",
    "\n",
    "# 1) initialize \n",
    "xpeg, xmin,xmid, xmax = -30,-7,-4,3\n",
    "step = 0.01\n",
    "x0 = -100 \n",
    "xObs = np.arange(xmin, xmax, step)\n",
    "\n",
    "sf = norm.sf(-xObs )\n",
    "xMean = (1/ (sf*np.sqrt(2*np.pi))) *\\\n",
    "             np.exp(-(xObs**2.0) / 2.0) + xObs\n",
    "    \n",
    "    \n",
    "delX  = xObs - xMean\n",
    "\n",
    "numerator = 0.5*erf(xObs/np.sqrt(2)) +\\\n",
    "           (1.0/np.sqrt(2*np.pi))*np.exp(-(xObs**2.0) / 2.0)*(2*delX - xObs) +\\\n",
    "           0.5 + delX*delX*norm.sf(-xObs)   \n",
    "\n",
    "\n",
    "# I know that in this range sf is ~= 0  \n",
    "# so we don't need any further constraints ...\n",
    "xRMS = np.sqrt(numerator /sf)\n",
    "\n",
    "    \n",
    "\n",
    "# 2) fit a sigmoid  to the region between -7 and -3 \n",
    "from scipy.optimize import curve_fit\n",
    "mask = (xmin<xObs)*(xObs<xmid)\n",
    "x = xObs[mask]\n",
    "y = xRMS[mask]\n",
    "\n",
    "x = np.append(x,xpeg)\n",
    "y = np.append(y,0)\n",
    "\n",
    "def sigmoid(x, x0, k):\n",
    "     y = 1 / (1 + np.exp(-k*(x-x0)))\n",
    "     return y\n",
    "popt, pcov = curve_fit(sigmoid, x,y)\n",
    "x_new = np.arange(x0, max(x), step)\n",
    "y_new = sigmoid(x_new, *popt) \n",
    "\n",
    "# 3) combine the old and the new : \n",
    "mask  = x_new<xmin\n",
    "xObs = np.append(xObs, x_new[mask])\n",
    "xRMS= np.append(xRMS, y_new[mask])\n",
    "\n",
    "# 4) sort , since function monotonically increasing ... \n",
    "xObs = np.sort(xObs)\n",
    "xRMS = np.sort(xRMS)\n",
    "\n",
    "# 5) make sure that it is indeed as equally spaced (has the same length)\n",
    "# as if we just made it from scratch \n",
    "assert len(np.arange(x0,xmax, step)) == len(xObs)\n",
    "lookup_table['xRMS'] = xRMS"
   ]
  },
  {
   "cell_type": "markdown",
   "metadata": {},
   "source": [
    "### x 2sigma "
   ]
  },
  {
   "cell_type": "code",
   "execution_count": 336,
   "metadata": {
    "collapsed": false
   },
   "outputs": [
    {
     "data": {
      "text/plain": [
       "<matplotlib.text.Text at 0x12ac5d5c0>"
      ]
     },
     "execution_count": 336,
     "metadata": {},
     "output_type": "execute_result"
    },
    {
     "data": {
      "image/png": "[encoded data removed]",
      "text/plain": [
       "<matplotlib.figure.Figure at 0x12a7a0080>"
      ]
     },
     "metadata": {},
     "output_type": "display_data"
    }
   ],
   "source": [
    "# Does 2-sigma calculation suffer from anything due to floating point precision  ?\n",
    "\n",
    "xObs = np.linspace(-60,-20, 1000)\n",
    "indices = norm.sf(-xObs) > 0 \n",
    "xSigma = np.zeros_like(xObs)\n",
    "\n",
    "xSigma[indices] = xObs[indices] + norm.isf(0.05 * norm.sf(-xObs[indices]))\n",
    "plt.plot(xObs,xSigma)\n",
    "plt.ylabel('2 sigma')\n"
   ]
  },
  {
   "cell_type": "code",
   "execution_count": 413,
   "metadata": {
    "collapsed": false
   },
   "outputs": [
    {
     "data": {
      "text/plain": [
       "<matplotlib.text.Text at 0x133e09c50>"
      ]
     },
     "execution_count": 413,
     "metadata": {},
     "output_type": "execute_result"
    },
    {
     "data": {
      "image/png": "[encoded data removed]",
      "text/plain": [
       "<matplotlib.figure.Figure at 0x1337eae10>"
      ]
     },
     "metadata": {},
     "output_type": "display_data"
    }
   ],
   "source": [
    "# fit a spline ... \n",
    "\n",
    "from scipy.interpolate import spline\n",
    "mask = (-35<xObs)*(xObs<-30)\n",
    "x = xObs[mask]\n",
    "y = xSigma[mask]\n",
    "x = np.append(x,-100)\n",
    "y = np.append(y,0)\n",
    "\n",
    "x_new = np.linspace(min(x), max(x), 1000)\n",
    "y_new = spline(np.sort(x), np.sort(y), x_new, order=2)\n",
    "\n",
    "x_new = np.append(x_new, np.linspace(-120,-100,100))\n",
    "y_new = np.append(y_new, np.zeros(100))\n",
    "\n",
    "plt.plot(x_new,y_new, 'o',  x, y, 'o')\n",
    "plt.ylabel('xSigma')"
   ]
  },
  {
   "cell_type": "code",
   "execution_count": 417,
   "metadata": {
    "collapsed": false
   },
   "outputs": [
    {
     "data": {
      "text/plain": [
       "<matplotlib.text.Text at 0x1342322b0>"
      ]
     },
     "execution_count": 417,
     "metadata": {},
     "output_type": "execute_result"
    },
    {
     "data": {
      "image/png": "[encoded data removed]",
      "text/plain": [
       "<matplotlib.figure.Figure at 0x13396e7b8>"
      ]
     },
     "metadata": {},
     "output_type": "display_data"
    }
   ],
   "source": [
    "# add the patched part to the analytical part ....\n",
    "\n",
    "xObs = np.linspace(-35,2, 1000)\n",
    "xSigma = np.zeros_like(xObs)\n",
    "xSigma = xObs + norm.isf(0.05 * norm.sf(-xObs))\n",
    "\n",
    "xObs   = np.append(xObs, x_new)\n",
    "xSigma = np.append(xSigma, y_new)\n",
    "plt.plot(np.sort(xObs),np.sort(xSigma))\n",
    "plt.ylabel('2 sigma')"
   ]
  },
  {
   "cell_type": "code",
   "execution_count": 528,
   "metadata": {
    "collapsed": false
   },
   "outputs": [],
   "source": [
    "# x 2sigma  : pull all together \n",
    "from scipy.optimize import curve_fit\n",
    "\n",
    "# 1) initialize \n",
    "xpeg, xmin,xmid, xmax = -100,-35,-30,3\n",
    "step = 0.01\n",
    "x0 = -100 \n",
    "xObs = np.arange(xmin, xmax, step)\n",
    "xSigma = xObs + norm.isf(0.05 * norm.sf(-xObs))    \n",
    "    \n",
    "# 2) fit a spline  \n",
    "mask = (xmin<xObs)*(xObs<xmid)\n",
    "x = xObs[mask]\n",
    "y = xSigma[mask]\n",
    "\n",
    "x = np.append(x,xpeg)\n",
    "y = np.append(y,0)\n",
    "\n",
    "x_new = np.arange(x0, xmid, step)\n",
    "y_new = spline(np.sort(x), np.sort(y), x_new, order=2)\n",
    "\n",
    "# 3) combine the old and the new : \n",
    "mask  = x_new<xmin\n",
    "xObs = np.append(xObs, x_new[mask])\n",
    "xSigma= np.append(xSigma, y_new[mask])\n",
    "\n",
    "# 4) sort , since function monotonically increasing ... \n",
    "xObs = np.sort(xObs)\n",
    "xSigma = np.sort(xSigma)\n",
    "\n",
    "# 5) make sure that it is indeed as equally spaced (has the same length)\n",
    "# as if we just made it from scratch \n",
    "assert len(np.arange(x0,xmax, step)) == len(xObs)\n",
    "lookup_table['xSigma'] = xSigma"
   ]
  },
  {
   "cell_type": "code",
   "execution_count": 529,
   "metadata": {
    "collapsed": false
   },
   "outputs": [
    {
     "data": {
      "text/plain": [
       "{'xMean': array([ -3.63797881e-12,   6.50408360e-07,   1.30197070e-06, ...,\n",
       "          2.97485426e+00,   2.98471175e+00,   2.99457297e+00]),\n",
       " 'xMedian': array([  1.12581059e-09,   1.12803273e-09,   1.13025925e-09, ...,\n",
       "          2.97186618e+00,   2.98180633e+00,   2.99174823e+00]),\n",
       " 'xObs': array([-100.  ,  -99.99,  -99.98, ...,    2.97,    2.98,    2.99]),\n",
       " 'xRMS': array([  3.15214923e-09,   3.15815198e-09,   3.16416617e-09, ...,\n",
       "          9.92753384e-01,   9.92943498e-01,   9.93129353e-01]),\n",
       " 'xSigma': array([  0.00000000e+00,   1.96753502e-06,   3.93850865e-06, ...,\n",
       "          4.61557592e+00,   4.62555274e+00,   4.63553024e+00])}"
      ]
     },
     "execution_count": 529,
     "metadata": {},
     "output_type": "execute_result"
    }
   ],
   "source": [
    "lookup_table"
   ]
  },
  {
   "cell_type": "markdown",
   "metadata": {},
   "source": [
    "### Make lookup table for xObs,  xMean, xMedian, xRMS, x2sigma"
   ]
  },
  {
   "cell_type": "code",
   "execution_count": 547,
   "metadata": {
    "collapsed": false
   },
   "outputs": [
    {
     "name": "stderr",
     "output_type": "stream",
     "text": [
      "WARNING: AstropyDeprecationWarning: ../packages/flat_prior_const_couns_lookup.csv already exists. Automatically overwriting ASCII files is deprecated. Use the argument 'overwrite=True' in the future. [astropy.io.ascii.ui]\n"
     ]
    }
   ],
   "source": [
    "# Combine all parts of making the lookup table into one thing that \n",
    "# can be easily rerun if needed ... \n",
    "\n",
    "from scipy.interpolate import spline\n",
    "\n",
    "###############################\n",
    "# Mean  : pull all together ....\n",
    "###############################\n",
    "\n",
    "# 1) initialize \n",
    "xpeg, xmin,xmid, xmax = -100,-35,-25,3\n",
    "step = 0.01\n",
    "x0 = -100 \n",
    "\n",
    "xObs = np.arange(xmin,xmax,0.01)\n",
    "sf = norm.sf(-xObs )\n",
    "# evaluate xMean analytically where I know sf is nonzero....\n",
    "xMean = (1/ (sf*np.sqrt(2*np.pi))) *\\\n",
    "             np.exp(-(xObs**2.0) / 2.0) + xObs\n",
    "    \n",
    "# region of analytic expression to which we fit a spline \n",
    "mask = (xmin<xObs)*(xObs<xmid)\n",
    "x = xObs[mask]\n",
    "y = xMean[mask]\n",
    "\n",
    "# add a fitting 'peg' at (x,y) = (-100, 0)\n",
    "x = np.append(x,xpeg)\n",
    "y = np.append(y,0)\n",
    "\n",
    "# here x goes from -100 to -25 \n",
    "x_new = np.arange(min(x), max(x),step)\n",
    "y_new = spline(np.sort(x), np.sort(y), x_new, order=2)\n",
    "\n",
    "# combine the old and the new : \n",
    "xObs = np.append(xObs, x_new[x_new<xmin])\n",
    "xMean = np.append(xMean, y_new[x_new<xmin])\n",
    "\n",
    "xObs = np.sort(xObs)\n",
    "xMean = np.sort(xMean)\n",
    "\n",
    "# make sure that it is indeed as equally spaced (has the same length)\n",
    "# as if we just made it from scratch \n",
    "assert len(np.arange(x0,xmax,step)) == len(xObs)\n",
    "\n",
    "# initialize the lookup table here  : \n",
    "# in each next element need to ensure that\n",
    "# indeed we will have the same number of elements \n",
    "# as xObs,  i.e. 10300  \n",
    "lookup_table = {'xObs':xObs, 'xMean':xMean}\n",
    "\n",
    "###############################\n",
    "# xMedian : combine all ... \n",
    "###############################\n",
    "\n",
    "# 1) initialize \n",
    "xpeg, xmin,xmid, xmax = -30,-7,-4,3\n",
    "step = 0.01\n",
    "x0 = -100 \n",
    "xObs = np.arange(xmin, xmax, step)\n",
    "xMed= norm.ppf((1+norm.cdf(-xObs))/2.0) + xObs\n",
    "\n",
    "\n",
    "# 2) fit a sigmoid  to the region between -7 and -3 \n",
    "from scipy.optimize import curve_fit\n",
    "mask = (xmin<xObs)*(xObs<xmid)\n",
    "x = xObs[mask]\n",
    "y = xMed[mask]\n",
    "\n",
    "x = np.append(x,xpeg)\n",
    "y = np.append(y,0)\n",
    "\n",
    "def sigmoid(x, x0, k):\n",
    "     y = 1 / (1 + np.exp(-k*(x-x0)))\n",
    "     return y\n",
    "popt, pcov = curve_fit(sigmoid, x,y)\n",
    "\n",
    "x_new = np.arange(x0, max(x), step)\n",
    "y_new = sigmoid(x_new, *popt) \n",
    "\n",
    "# combine the old and the new : \n",
    "mask  = x_new<xmin\n",
    "xObs = np.append(xObs, x_new[mask])\n",
    "xMed= np.append(xMed, y_new[mask])\n",
    "\n",
    "# 4) sort , since function monotonically increasing ... \n",
    "xObs = np.sort(xObs)\n",
    "xMed = np.sort(xMed)\n",
    "\n",
    "# 5) make sure that it is indeed as equally spaced (has the same length)\n",
    "# as if we just made it from scratch \n",
    "assert len(np.arange(x0,xmax, step)) == len(xObs)\n",
    "lookup_table['xMedian'] = xMed\n",
    "\n",
    "\n",
    "###############################\n",
    "# xRMS : pull all together \n",
    "###############################\n",
    "\n",
    "# 1) initialize \n",
    "xpeg, xmin,xmid, xmax = -30,-7,-4,3\n",
    "step = 0.01\n",
    "x0 = -100 \n",
    "xObs = np.arange(xmin, xmax, step)\n",
    "\n",
    "sf = norm.sf(-xObs )\n",
    "xMean = (1/ (sf*np.sqrt(2*np.pi))) *\\\n",
    "             np.exp(-(xObs**2.0) / 2.0) + xObs\n",
    "      \n",
    "delX  = xObs - xMean\n",
    "\n",
    "numerator = 0.5*erf(xObs/np.sqrt(2)) +\\\n",
    "           (1.0/np.sqrt(2*np.pi))*np.exp(-(xObs**2.0) / 2.0)*(2*delX - xObs) +\\\n",
    "           0.5 + delX*delX*norm.sf(-xObs)   \n",
    "\n",
    "# I know that in this range sf is != 0  \n",
    "# so we don't need any further constraints ...\n",
    "xRMS = np.sqrt(numerator /sf)\n",
    "\n",
    "# 2) fit a sigmoid  to the region between -7 and -3 \n",
    "from scipy.optimize import curve_fit\n",
    "mask = (xmin<xObs)*(xObs<xmid)\n",
    "x = xObs[mask]\n",
    "y = xRMS[mask]\n",
    "\n",
    "x = np.append(x,xpeg)\n",
    "y = np.append(y,0)\n",
    "\n",
    "def sigmoid(x, x0, k):\n",
    "     y = 1 / (1 + np.exp(-k*(x-x0)))\n",
    "     return y\n",
    "popt, pcov = curve_fit(sigmoid, x,y)\n",
    "x_new = np.arange(x0, max(x), step)\n",
    "y_new = sigmoid(x_new, *popt) \n",
    "\n",
    "# 3) combine the old and the new : \n",
    "mask  = x_new<xmin\n",
    "xObs = np.append(xObs, x_new[mask])\n",
    "xRMS= np.append(xRMS, y_new[mask])\n",
    "\n",
    "# 4) sort , since function monotonically increasing ... \n",
    "xObs = np.sort(xObs)\n",
    "xRMS = np.sort(xRMS)\n",
    "\n",
    "# 5) make sure that it is indeed as equally spaced (has the same length)\n",
    "# as if we just made it from scratch \n",
    "assert len(np.arange(x0,xmax, step)) == len(xObs)\n",
    "lookup_table['xRMS'] = xRMS\n",
    "\n",
    "\n",
    "###############################\n",
    "# x 2sigma  : pull all together \n",
    "################################\n",
    "from scipy.optimize import curve_fit\n",
    "\n",
    "# 1) initialize \n",
    "xpeg, xmin,xmid, xmax = -100,-35,-30,3\n",
    "step = 0.01\n",
    "x0 = -100 \n",
    "xObs = np.arange(xmin, xmax, step)\n",
    "xSigma = xObs + norm.isf(0.05 * norm.sf(-xObs))    \n",
    "    \n",
    "# 2) fit a spline  \n",
    "mask = (xmin<xObs)*(xObs<xmid)\n",
    "x = xObs[mask]\n",
    "y = xSigma[mask]\n",
    "\n",
    "x = np.append(x,xpeg)\n",
    "y = np.append(y,0)\n",
    "\n",
    "x_new = np.arange(x0, xmid, step)\n",
    "y_new = spline(np.sort(x), np.sort(y), x_new, order=2)\n",
    "\n",
    "# 3) combine the old and the new : \n",
    "mask  = x_new<xmin\n",
    "xObs = np.append(xObs, x_new[mask])\n",
    "xSigma= np.append(xSigma, y_new[mask])\n",
    "\n",
    "# 4) sort , since function monotonically increasing ... \n",
    "xObs = np.sort(xObs)\n",
    "xSigma = np.sort(xSigma)\n",
    "\n",
    "# 5) make sure that it is indeed as equally spaced (has the same length)\n",
    "# as if we just made it from scratch \n",
    "assert len(np.arange(x0,xmax, step)) == len(xObs)\n",
    "lookup_table['xSigma'] = xSigma\n",
    "\n",
    "\n",
    "################################################\n",
    "# convert to AstroPy table to display and save ... \n",
    "################################################\n",
    "\n",
    "lookup = Table(lookup_table)\n",
    "table_address = '../packages/flat_prior_const_couns_lookup.csv'\n",
    "lookup.write(table_address)\n"
   ]
  },
  {
   "cell_type": "markdown",
   "metadata": {},
   "source": [
    "### Check that interpolation works  on a subset of g00_21 raw FP data "
   ]
  },
  {
   "cell_type": "code",
   "execution_count": 550,
   "metadata": {
    "collapsed": false
   },
   "outputs": [],
   "source": [
    "# given S/N,  i.e. xObs,   which is the \n",
    "# flux scaled by error, we are able to \n",
    "# return values of xMean, xMedian , xRMS, x2sigma \n",
    "faint_SN = SN[SN<2]\n",
    "\n",
    "lookup = Table.read(table_address)\n",
    "\n",
    "# takes just a few seconds to run on an entire filter- patch !\n",
    "# I think we are fine, I hit the sweetspot \n",
    "xMean =  np.interp(faint_SN, lookup['xObs'].data, lookup['xMean'].data)\n",
    "xMed =  np.interp(faint_SN, lookup['xObs'].data, lookup['xMedian'].data)\n",
    "xSigma =  np.interp(faint_SN, lookup['xObs'].data, lookup['xSigma'].data)\n",
    "xRMS = np.interp(faint_SN, lookup['xObs'].data, lookup['xRMS'].data)\n",
    "\n"
   ]
  },
  {
   "cell_type": "code",
   "execution_count": 549,
   "metadata": {
    "collapsed": false
   },
   "outputs": [
    {
     "data": {
      "text/plain": [
       "['objectId',\n",
       " 'mjd',\n",
       " 'psfFlux',\n",
       " 'psfFluxErr',\n",
       " 'psfFluxJy',\n",
       " 'psfFluxErrJy',\n",
       " 'flagFaint',\n",
       " 'faintMean',\n",
       " 'faintMedian',\n",
       " 'faintTwoSigma',\n",
       " 'faintRMS']"
      ]
     },
     "execution_count": 549,
     "metadata": {},
     "output_type": "execute_result"
    }
   ],
   "source": [
    "raw_data.colnames"
   ]
  },
  {
   "cell_type": "code",
   "execution_count": 552,
   "metadata": {
    "collapsed": false
   },
   "outputs": [],
   "source": [
    "# Integrate this into \n",
    "# LC_processing.py \n",
    "mask_faint = SN < 2 \n",
    "flux = raw_data['psfFluxJy'][mask_faint].data\n",
    "flux_err = raw_data['psfFluxErrJy'][mask_faint].data\n",
    " \n",
    "raw_data['faintMean'][mask_faint]     = xMean * flux_err\n",
    "raw_data['faintMedian'][mask_faint]   = xMed * flux_err\n",
    "raw_data['faintTwoSigma'][mask_faint] = xSigma * flux_err\n",
    "raw_data['faintRMS'][mask_faint]      = xRMS * flux_err"
   ]
  },
  {
   "cell_type": "code",
   "execution_count": 558,
   "metadata": {
    "collapsed": false
   },
   "outputs": [
    {
     "data": {
      "text/plain": [
       "True"
      ]
     },
     "execution_count": 558,
     "metadata": {},
     "output_type": "execute_result"
    }
   ],
   "source": [
    "2 in range(0,11)"
   ]
  },
  {
   "cell_type": "code",
   "execution_count": null,
   "metadata": {
    "collapsed": true
   },
   "outputs": [],
   "source": []
  },
  {
   "cell_type": "code",
   "execution_count": null,
   "metadata": {
    "collapsed": true
   },
   "outputs": [],
   "source": []
  },
  {
   "cell_type": "markdown",
   "metadata": {},
   "source": [
    "### Aside : Illustrate the flat prior with Gaussian flux likelihood "
   ]
  },
  {
   "cell_type": "code",
   "execution_count": 3,
   "metadata": {
    "collapsed": false
   },
   "outputs": [
    {
     "data": {
      "image/png": "[encoded data removed]",
      "text/plain": [
       "<matplotlib.figure.Figure at 0x10c817b38>"
      ]
     },
     "metadata": {},
     "output_type": "display_data"
    }
   ],
   "source": [
    "%matplotlib inline\n",
    "# depict the three distributions .. .\n",
    "\n",
    "from scipy.stats import norm\n",
    "\n",
    "fig,(ax1,ax2,ax3) = plt.subplots(3,1, figsize=(7,21))\n",
    "\n",
    "# F - space\n",
    "F_obs = 2\n",
    "sigF = 3\n",
    "width  = 10 \n",
    "F = np.arange(F_obs-width,F_obs+width, 0.001)\n",
    "ax1.plot(F,norm.pdf(F,F_obs, sigF), lw=4 , label='p(F)')\n",
    "ax1.axvline(F_obs, ls='--', lw=2)\n",
    "ax1.set_ylim(-.01)\n",
    "ax1.set_ylabel(r'$p(F)$', fontsize=20)\n",
    "ax1.set_xlabel(r'$F$', fontsize=20)\n",
    "ax1.tick_params(axis='both', which='major', labelsize=15) \n",
    "ax1.set_title(' Flux space : '+r'$F_{obs} = 2$'+', '+r'$\\sigma_{F}=3$', fontsize=15)\n",
    "# shade the positive part \n",
    "mask = F>0\n",
    "ax1.fill_between(F[mask],norm.pdf(F[mask],F_obs, sigF), alpha=0.3, color='red' )\n",
    "\n",
    "\n",
    "# x-space \n",
    "\n",
    "F_obs = 2\n",
    "sigF = 3\n",
    "x_obs = F_obs / sigF\n",
    "width  = 4\n",
    "x = np.arange(x_obs-width,x_obs+width, 0.001)\n",
    "ax2.plot(x,norm.pdf(x,x_obs, 1), lw=4 , label='p(x)')\n",
    "ax2.axvline(x_obs, ls='--', lw=2)\n",
    "ax2.set_ylim(-.01)\n",
    "ax2.set_ylabel(r'$p(x)$', fontsize=20)\n",
    "ax2.set_xlabel(r'$x$', fontsize=20)\n",
    "ax2.tick_params(axis='both', which='major', labelsize=15) \n",
    "ax2.set_title(r'$ x = F /\\sigma_{F}$'+'  space : '+r'$x_{obs} = 2/3$'+\\\n",
    "             ', '+r'$\\sigma_{x}=1$', fontsize=15)\n",
    "# shade the positive part \n",
    "mask = x>0\n",
    "ax2.fill_between(x[mask],norm.pdf(x[mask],x_obs, 1), alpha=0.3, color='red' )\n",
    "\n",
    "# z-space \n",
    "\n",
    "F_obs = 2\n",
    "sigF = 3\n",
    "x_obs = F_obs / sigF\n",
    "width  = 4\n",
    "x = np.arange(x_obs-width,x_obs+width, 0.001)\n",
    "z = x - x_obs\n",
    "ax3.plot(z,norm.pdf(z,0, 1), lw=4 , label='p(x)')\n",
    "ax3.axvline(0, ls='--', lw=2)\n",
    "ax3.set_ylim(-.01)\n",
    "ax3.set_ylabel(r'$p(z)$', fontsize=20)\n",
    "ax3.set_xlabel(r'$z$', fontsize=20)\n",
    "ax3.tick_params(axis='both', which='major', labelsize=15) \n",
    "ax3.set_title(r'$ z = x - x_{obs}$'+'  space : '+r'$z_{obs} = 0$'+\\\n",
    "             ', '+r'$\\sigma_{z}=1$', fontsize=15)\n",
    "# shade the xobs part....  : sf \n",
    "mask = z>-x_obs\n",
    "ax3.fill_between(z[mask],norm.pdf(z[mask],0, 1), alpha=0.3, color='red' )\n",
    "ax3.text(0.5, 0.05, 'sf', fontsize=20, color='brown')\n",
    "\n",
    "# shade the xobs part....  : cdf\n",
    "mask = z<-x_obs\n",
    "ax3.fill_between(z[mask],norm.pdf(z[mask],0, 1), alpha=0.3, color='orange' )\n",
    "ax3.text(-1.8, 0.05, 'cdf', fontsize=20, color='brown')\n",
    "\n",
    "outDir ='/Users/chris/GradResearch/SDSS_S82_FP_research/data_products/Fig_faint_integration/2017-05-11/'\n",
    "plt.savefig(outDir + 'faintPipeline_F_x_z_spaces.pdf', bbox_inches='tight')"
   ]
  },
  {
   "cell_type": "code",
   "execution_count": 4,
   "metadata": {
    "collapsed": false
   },
   "outputs": [
    {
     "data": {
      "text/plain": [
       "<matplotlib.collections.PolyCollection at 0x110eba320>"
      ]
     },
     "execution_count": 4,
     "metadata": {},
     "output_type": "execute_result"
    },
    {
     "data": {
      "image/png": "[encoded data removed]",
      "text/plain": [
       "<matplotlib.figure.Figure at 0x10c51c3c8>"
      ]
     },
     "metadata": {},
     "output_type": "display_data"
    }
   ],
   "source": [
    "# Just illustrate the new F_mean, F_median, F_rms , F_2sigma....\n",
    "\n",
    "%matplotlib inline\n",
    "# depict the three distributions .. .\n",
    "\n",
    "from scipy.stats import norm\n",
    "\n",
    "fig,ax = plt.subplots(1,1, figsize=(7,7))\n",
    "\n",
    "# F - space\n",
    "F_obs = 2\n",
    "sigF = 3\n",
    "width  = 10 \n",
    "F = np.arange(F_obs-width,F_obs+width, 0.001)\n",
    "ax.plot(F,norm.pdf(F,F_obs, sigF), lw=4 , label='p(F)')\n",
    "ax.axvline(F_obs, ls='--', lw=2)\n",
    "ax.set_ylim(-.01)\n",
    "ax.set_ylabel(r'$p(F)$', fontsize=20)\n",
    "ax.set_xlabel(r'$F$', fontsize=20)\n",
    "ax.tick_params(axis='both', which='major', labelsize=15) \n",
    "ax.set_title(' Flux space : '+r'$F_{obs} = 2$'+', '+r'$\\sigma_{F}=3$', fontsize=15)\n",
    "# shade the positive part \n",
    "mask = F>0\n",
    "ax.fill_between(F[mask],norm.pdf(F[mask],F_obs, sigF), alpha=0.3, color='red' )\n",
    "\n",
    "\n",
    "# x"
   ]
  },
  {
   "cell_type": "markdown",
   "metadata": {},
   "source": [
    "### Plot rawError  / faintRMS ..."
   ]
  },
  {
   "cell_type": "code",
   "execution_count": 553,
   "metadata": {
    "collapsed": false
   },
   "outputs": [
    {
     "data": {
      "text/plain": [
       "'/Users/chris/GradResearch/SDSS_S82_FP_research/data_products/Fig_faint_integration/2017-05-11/'"
      ]
     },
     "execution_count": 553,
     "metadata": {},
     "output_type": "execute_result"
    }
   ],
   "source": [
    "outDir"
   ]
  },
  {
   "cell_type": "code",
   "execution_count": 554,
   "metadata": {
    "collapsed": false
   },
   "outputs": [
    {
     "name": "stdout",
     "output_type": "stream",
     "text": [
      "Saved as FluxErr_RMS_ratio_NEW.png\n"
     ]
    },
    {
     "data": {
      "image/png": "[encoded data removed]",
      "text/plain": [
       "<matplotlib.figure.Figure at 0x12f8e4c50>"
      ]
     },
     "metadata": {},
     "output_type": "display_data"
    }
   ],
   "source": [
    "# remove nan rows ... \n",
    "flux_err, rms =  raw_data['psfFluxErrJy'][mask_SN].data, raw_data['faintRMS'][mask_SN].data\n",
    "\n",
    "m1 = np.bitwise_not(np.isnan(rms))\n",
    "m2 =  (0.99 < flux_err / rms  )*( flux_err / rms < 3.5)\n",
    "m = m1 * m2 \n",
    "\n",
    "\n",
    "fig,ax = plt.subplots(1,1,figsize=(10,8))\n",
    "ax.hist(flux_err[m] / rms[m], bins=30)\n",
    "ax.set_xlabel('psfFluxErr / faintRMS')\n",
    "ax.set_ylabel('counts')\n",
    "ax.set_title(fname+', '+ str(len(rms[m]))+'/'+str(len(rms))+\\\n",
    "             ' faint raw points')\n",
    "\n",
    "figname = 'FluxErr_RMS_ratio_NEW.png'\n",
    "plt.savefig(outDir + '/' +figname, bbox_inches = 'tight')\n",
    "print('Saved as %s'%figname)\n",
    "\n",
    "\n"
   ]
  },
  {
   "cell_type": "markdown",
   "metadata": {},
   "source": [
    "Conclude: the new error is smaller from the original error up to even 3 times ! "
   ]
  },
  {
   "cell_type": "code",
   "execution_count": 555,
   "metadata": {
    "collapsed": false
   },
   "outputs": [
    {
     "name": "stderr",
     "output_type": "stream",
     "text": [
      "/Users/chris/anaconda3/envs/py36/lib/python3.6/site-packages/ipykernel/__main__.py:28: RuntimeWarning: divide by zero encountered in log10\n"
     ]
    },
    {
     "name": "stdout",
     "output_type": "stream",
     "text": [
      "Saved as FluxErr_RMS_ratio_vs_SN_NEW.png\n"
     ]
    },
    {
     "data": {
      "image/png": "[encoded data removed]",
      "text/plain": [
       "<matplotlib.figure.Figure at 0x15c2c8710>"
      ]
     },
     "metadata": {},
     "output_type": "display_data"
    }
   ],
   "source": [
    "# Plot also     S/N    vs  psfFluxErr / faintRMS : color by counts ....\n",
    "from matplotlib import ticker\n",
    "from scipy.stats import binned_statistic_2d\n",
    "\n",
    "flux_err, rms =  raw_data['psfFluxErrJy'][mask_SN].data, raw_data['faintRMS'][mask_SN].data\n",
    "SN = raw_data['psfFluxJy'][mask_SN].data / raw_data['psfFluxErrJy'][mask_SN].data \n",
    "\n",
    "m1 = np.bitwise_not(np.isnan(rms))\n",
    "m2 =  (0.99 < (flux_err / rms)  )*( (flux_err / rms) < 3.5)\n",
    "m3 = SN > -5\n",
    "m = m1 * m2 *m3\n",
    "\n",
    "x = flux_err[m] / rms[m]\n",
    "y = SN[m]\n",
    "\n",
    "fig,ax = plt.subplots(1,1,figsize=(8,8))\n",
    "stats = binned_statistic_2d(x=x, y=y, values=x, statistic='count', bins=50)\n",
    "\n",
    "z_sigma, x_edges, y_edges = stats[0], stats[1], stats[2]\n",
    "z_sigma[np.isnan(z_sigma)] =0 # replace all nan's by 0 ...\n",
    "z_reduce       =  z_sigma\n",
    "z_min, z_max   =  z_reduce.min(), np.abs(z_reduce).max()\n",
    "z_rot = np.rot90(z_reduce)  # rotate and flip to properly display... \n",
    "z_rot_flip = np.flipud(z_rot)\n",
    "z_masked = np.ma.masked_where(z_rot_flip == 0 , z_rot_flip)\n",
    "\n",
    "# Plot 2D histogram using pcolor\n",
    "image = ax.pcolormesh(x_edges,y_edges, np.log10(z_masked), cmap='jet')\n",
    "cax =   fig.add_axes([0.25, 0.77, 0.5, 0.05]) \n",
    "colorbar = fig.colorbar(image,  cax=cax, orientation='horizontal')\n",
    "colorbar.set_label(r'$\\log_{10}(\\mathrm{counts})$', fontsize=20)\n",
    "\n",
    "ax.set_xlabel('psfFluxErr / faintRMS')\n",
    "ax.set_ylabel('S/N = psfFlux / psfFluxErr')\n",
    "\n",
    "ax.set_title(fname+', '+ str(len(rms[m]))+'/'+str(len(rms))+\\\n",
    "             '\\n faint raw points')\n",
    "figname = 'FluxErr_RMS_ratio_vs_SN_NEW.png'\n",
    "plt.savefig(outDir + '/' +figname, bbox_inches = 'tight')\n",
    "print('Saved as %s'%figname)\n",
    "\n",
    "\n"
   ]
  },
  {
   "cell_type": "code",
   "execution_count": 12,
   "metadata": {
    "collapsed": false
   },
   "outputs": [],
   "source": [
    "# 1.6  replace psfFluxJy  by  faintMean ,\n",
    "\n",
    "# make sure we are only taking values  that are not NaN ... \n",
    "mask_NaNs = np.bitwise_not(np.isnan(raw_data['faintRMS'][mask_SN]))\n",
    "\n",
    "# psfFluxErrJy  by  faintRMS \n",
    "raw_data['psfFluxJy'][mask_SN][mask_NaNs] = raw_data['faintMean'][mask_SN][mask_NaNs]\n",
    "raw_data['psfFluxErrJy'][mask_SN][mask_NaNs] = raw_data['faintRMS'][mask_SN][mask_NaNs]\n"
   ]
  },
  {
   "cell_type": "code",
   "execution_count": 13,
   "metadata": {
    "collapsed": false
   },
   "outputs": [],
   "source": [
    "#\n",
    "##########  STEP 2 : Derived Quantities ###########  \n",
    "#\n",
    "# Here the main choice is whether we want to introduce \n",
    "# selection of which points to use per lightcurve based \n",
    "# on S/N before grouping, or after grouping . \n",
    "#\n",
    "\n",
    "# At the moment, it is impossible to apply complicated \n",
    "# functions to groupby objects....\n",
    "# Easier at this point to just convert AstroPy table \n",
    "# to Pandas,  and do it from here on in Pandas ...\n",
    "# Bummer. \n",
    "\n",
    "# But thankfully it only takes a few seconds \n",
    "# even on mac,  on the full patch  file \n",
    "raw_data_df = raw_data[:100].to_pandas()\n",
    "\n"
   ]
  },
  {
   "cell_type": "code",
   "execution_count": 38,
   "metadata": {
    "collapsed": false
   },
   "outputs": [
    {
     "data": {
      "text/plain": [
       "66.44499950000001"
      ]
     },
     "execution_count": 38,
     "metadata": {},
     "output_type": "execute_result"
    }
   ],
   "source": []
  },
  {
   "cell_type": "code",
   "execution_count": 21,
   "metadata": {
    "collapsed": true
   },
   "outputs": [],
   "source": [
    "oid = np.unique(raw_data['objectId'].data)"
   ]
  },
  {
   "cell_type": "code",
   "execution_count": 31,
   "metadata": {
    "collapsed": false
   },
   "outputs": [],
   "source": [
    "# isolate data for only one object with LC length of 71, \n",
    "# to test the speed of execution of computeVarMetrics\n",
    "# on one object only .\n",
    "mask_oid = raw_data['objectId'].data == oid[0]\n",
    "raw_data_df = raw_data[mask_oid].to_pandas()"
   ]
  },
  {
   "cell_type": "code",
   "execution_count": 33,
   "metadata": {
    "collapsed": false
   },
   "outputs": [
    {
     "name": "stdout",
     "output_type": "stream",
     "text": [
      "10 loops, best of 3: 24.9 ms per loop\n"
     ]
    }
   ],
   "source": [
    "%timeit varMetricsFull_bright  = bright_grouped.apply(varF.computeVarMetrics, flux_column='psfFluxJy',  error_column = 'psfFluxErrJy',time_column = 'mjd', verbose=False, calc_sigma_pdf = True)\n",
    "\n",
    "# with calc_sigma_pdf = True : 10 loops, best of 3: 25.2 ms per loop  \n",
    "# with calc_sigma_pdf = False : 100 loops, best of 3: 8.01 ms per loop"
   ]
  },
  {
   "cell_type": "code",
   "execution_count": null,
   "metadata": {
    "collapsed": true
   },
   "outputs": [],
   "source": []
  },
  {
   "cell_type": "code",
   "execution_count": 569,
   "metadata": {
    "collapsed": false
   },
   "outputs": [],
   "source": [
    "raw_data_df = raw_data.to_pandas()"
   ]
  },
  {
   "cell_type": "code",
   "execution_count": 576,
   "metadata": {
    "collapsed": false
   },
   "outputs": [],
   "source": [
    "cols_save= ['objectId', 'meanSN', 'mjd']\n",
    "raw_data_subset = raw_data_df.loc[:100, cols_save]  "
   ]
  },
  {
   "cell_type": "code",
   "execution_count": 578,
   "metadata": {
    "collapsed": false
   },
   "outputs": [],
   "source": [
    "#/raw_data_subset"
   ]
  },
  {
   "cell_type": "code",
   "execution_count": 570,
   "metadata": {
    "collapsed": false
   },
   "outputs": [
    {
     "name": "stdout",
     "output_type": "stream",
     "text": [
      "objectId= 216172782516437336\n",
      "objectId= 216172782516437336\n",
      "objectId= 216172782516437339\n",
      "objectId= 216172782516437345\n",
      "objectId= 216172782516437346\n",
      "objectId= 216172782516437358\n",
      "objectId= 216172782516437360\n",
      "objectId= 216172782516437362\n",
      "objectId= 216172782516437371\n",
      "objectId= 216172782516437379\n",
      "objectId= 216172782516437381\n",
      "objectId= 216172782516437383\n",
      "objectId= 216172782516437384\n",
      "objectId= 216172782516437388\n",
      "objectId= 216172782516437394\n",
      "objectId= 216172782516437396\n",
      "objectId= 216172782516437400\n",
      "objectId= 216172782516437405\n",
      "objectId= 216172782516437407\n",
      "objectId= 216172782516437414\n",
      "objectId= 216172782516437415\n",
      "objectId= 216172782516437420\n",
      "objectId= 216172782516437427\n",
      "objectId= 216172782516437437\n",
      "objectId= 216172782516437440\n",
      "objectId= 216172782516437442\n",
      "objectId= 216172782516437443\n",
      "objectId= 216172782516437448\n",
      "objectId= 216172782516437449\n",
      "objectId= 216172782516437451\n",
      "objectId= 216172782516437453\n",
      "objectId= 216172782516437458\n",
      "objectId= 216172782516437465\n",
      "objectId= 216172782516437476\n",
      "objectId= 216172782516437477\n",
      "objectId= 216172782516437479\n",
      "objectId= 216172782516437481\n",
      "objectId= 216172782516437492\n",
      "objectId= 216172782516437493\n",
      "objectId= 216172782516437494\n",
      "objectId= 216172782516437498\n",
      "objectId= 216172782516437508\n",
      "objectId= 216172782516437513\n",
      "objectId= 216172782516437515\n",
      "objectId= 216172782516437516\n",
      "objectId= 216172782516437518\n",
      "objectId= 216172782516437521\n",
      "objectId= 216172782516437525\n",
      "objectId= 216172782516437537\n",
      "objectId= 216172782516437545\n",
      "objectId= 216172782516437547\n",
      "objectId= 216172782516437551\n",
      "objectId= 216172782516437554\n",
      "objectId= 216172782516437561\n",
      "objectId= 216172782516437564\n",
      "objectId= 216172782516437574\n",
      "objectId= 216172782516437576\n",
      "objectId= 216172782516437577\n",
      "objectId= 216172782516437578\n",
      "objectId= 216172782516437589\n",
      "objectId= 216172782516437591\n",
      "objectId= 216172782516437609\n",
      "objectId= 216172782516437618\n",
      "objectId= 216172782516437636\n",
      "objectId= 216172782516437643\n",
      "objectId= 216172782516437644\n",
      "objectId= 216172782516437647\n",
      "objectId= 216172782516437652\n",
      "objectId= 216172782516437653\n",
      "objectId= 216172782516437655\n",
      "objectId= 216172782516437663\n",
      "objectId= 216172782516437665\n",
      "objectId= 216172782516437675\n",
      "objectId= 216172782516437681\n",
      "objectId= 216172782516437686\n",
      "objectId= 216172782516437691\n",
      "objectId= 216172782516437695\n",
      "objectId= 216172782516437709\n",
      "objectId= 216172782516437710\n",
      "objectId= 216172782516437724\n",
      "objectId= 216172782516437726\n",
      "objectId= 216172782516437732\n",
      "objectId= 216172782516437738\n",
      "objectId= 216172782516437741\n",
      "objectId= 216172782516437743\n",
      "objectId= 216172782516437746\n",
      "objectId= 216172782516437747\n",
      "objectId= 216172782516437774\n",
      "objectId= 216172782516437781\n",
      "objectId= 216172782516437782\n",
      "objectId= 216172782516437796\n",
      "objectId= 216172782516437804\n",
      "objectId= 216172782516437811\n",
      "objectId= 216172782516437819\n",
      "objectId= 216172782516437821\n",
      "objectId= 216172782516437823\n",
      "objectId= 216172782516437828\n",
      "objectId= 216172782516437837\n",
      "objectId= 216172782516437839\n",
      "objectId= 216172782516437841\n",
      "objectId= 216172782516437848\n",
      "objectId= 216172782516437854\n",
      "objectId= 216172782516437857\n",
      "objectId= 216172782516437859\n",
      "objectId= 216172782516437863\n",
      "objectId= 216172782516437876\n",
      "objectId= 216172782516437887\n",
      "objectId= 216172782516437891\n",
      "objectId= 216172782516437905\n",
      "objectId= 216172782516437912\n",
      "objectId= 216172782516437931\n",
      "objectId= 216172782516437932\n",
      "objectId= 216172782516437942\n",
      "objectId= 216172782516437943\n",
      "objectId= 216172782516437950\n",
      "objectId= 216172782516437957\n",
      "objectId= 216172782516437963\n",
      "objectId= 216172782516437967\n",
      "objectId= 216172782516437969\n",
      "objectId= 216172782516437971\n",
      "objectId= 216172782516437972\n",
      "objectId= 216172782516437977\n",
      "objectId= 216172782516437992\n",
      "objectId= 216172782516437994\n",
      "objectId= 216172782516438005\n",
      "objectId= 216172782516438007\n",
      "objectId= 216172782516438022\n",
      "objectId= 216172782516438035\n",
      "objectId= 216172782516438040\n",
      "objectId= 216172782516438063\n",
      "objectId= 216172782516438065\n",
      "objectId= 216172782516438075\n",
      "objectId= 216172782516438081\n",
      "objectId= 216172782516438095\n",
      "objectId= 216172782516438099\n",
      "objectId= 216172782516438103\n",
      "objectId= 216172782516438106\n",
      "objectId= 216172782516438110\n",
      "objectId= 216172782516438117\n",
      "objectId= 216172782516438119\n",
      "objectId= 216172782516438120\n",
      "objectId= 216172782516438134\n",
      "objectId= 216172782516438136\n",
      "objectId= 216172782516438144\n",
      "objectId= 216172782516438158\n",
      "objectId= 216172782516438165\n",
      "objectId= 216172782516438169\n",
      "objectId= 216172782516438172\n",
      "objectId= 216172782516438174\n",
      "objectId= 216172782516438180\n",
      "objectId= 216172782516438182\n",
      "objectId= 216172782516438193\n",
      "objectId= 216172782516438203\n",
      "objectId= 216172782516438205\n",
      "objectId= 216172782516438207\n",
      "objectId= 216172782516438214\n",
      "objectId= 216172782516438221\n",
      "objectId= 216172782516438224\n",
      "objectId= 216172782516438243\n",
      "objectId= 216172782516438245\n",
      "objectId= 216172782516438247\n",
      "objectId= 216172782516438269\n",
      "objectId= 216172782516438274\n",
      "objectId= 216172782516438277\n",
      "objectId= 216172782516438280\n",
      "objectId= 216172782516438282\n",
      "objectId= 216172782516438284\n",
      "objectId= 216172782516438285\n",
      "objectId= 216172782516438286\n",
      "objectId= 216172782516438291\n",
      "objectId= 216172782516438293\n",
      "objectId= 216172782516438297\n",
      "objectId= 216172782516438300\n",
      "objectId= 216172782516438317\n",
      "objectId= 216172782516438325\n",
      "objectId= 216172782516438327\n",
      "objectId= 216172782516438329\n",
      "objectId= 216172782516438331\n",
      "objectId= 216172782516438332\n",
      "objectId= 216172782516438333\n",
      "objectId= 216172782516438334\n",
      "objectId= 216172782516438335\n",
      "objectId= 216172782516438344\n",
      "objectId= 216172782516438345\n",
      "objectId= 216172782516438346\n",
      "objectId= 216172782516438351\n",
      "objectId= 216172782516438356\n",
      "objectId= 216172782516438357\n",
      "objectId= 216172782516438362\n",
      "objectId= 216172782516438363\n",
      "objectId= 216172782516438367\n",
      "objectId= 216172782516438369\n",
      "objectId= 216172782516438371\n",
      "objectId= 216172782516438372\n",
      "objectId= 216172782516438376\n",
      "objectId= 216172782516438380\n",
      "objectId= 216172782516438386\n",
      "objectId= 216172782516438392\n",
      "objectId= 216172782516438394\n",
      "objectId= 216172782516438395\n",
      "objectId= 216172782516438399\n",
      "objectId= 216172782516438411\n",
      "objectId= 216172782516438412\n",
      "objectId= 216172782516438420\n",
      "objectId= 216172782516438421\n",
      "objectId= 216172782516438429\n",
      "objectId= 216172782516438431\n",
      "objectId= 216172782516438438\n",
      "objectId= 216172782516438443\n",
      "objectId= 216172782516438445\n",
      "objectId= 216172782516438452\n",
      "objectId= 216172782516438453\n",
      "objectId= 216172782516438455\n",
      "objectId= 216172782516438456\n",
      "objectId= 216172782516438457\n",
      "objectId= 216172782516438466\n",
      "objectId= 216172782516438479\n",
      "objectId= 216172782516438480\n",
      "objectId= 216172782516438481\n",
      "objectId= 216172782516438484\n",
      "objectId= 216172782516438486\n",
      "objectId= 216172782516438488\n",
      "objectId= 216172782516438493\n",
      "objectId= 216172782516438511\n",
      "objectId= 216172782516438512\n",
      "objectId= 216172782516438516\n",
      "objectId= 216172782516438522\n",
      "objectId= 216172782516438526\n",
      "objectId= 216172782516438532\n",
      "objectId= 216172782516438539\n",
      "objectId= 216172782516438542\n",
      "objectId= 216172782516438548\n",
      "objectId= 216172782516438551\n",
      "objectId= 216172782516438553\n",
      "objectId= 216172782516438558\n",
      "objectId= 216172782516438559\n",
      "objectId= 216172782516438562\n",
      "objectId= 216172782516438563\n",
      "objectId= 216172782516438581\n",
      "objectId= 216172782516438582\n",
      "objectId= 216172782516438585\n",
      "objectId= 216172782516438605\n",
      "objectId= 216172782516438611\n",
      "objectId= 216172782516438612\n",
      "objectId= 216172782516438613\n",
      "objectId= 216172782516438614\n",
      "objectId= 216172782516438616\n",
      "objectId= 216172782516438621\n",
      "objectId= 216172782516438627\n",
      "objectId= 216172782516438633\n",
      "objectId= 216172782516438637\n",
      "objectId= 216172782516438638\n",
      "objectId= 216172782516438641\n",
      "objectId= 216172782516438656\n",
      "objectId= 216172782516438667\n",
      "objectId= 216172782516438678\n",
      "objectId= 216172782516438683\n",
      "objectId= 216172782516438685\n",
      "objectId= 216172782516438686\n",
      "objectId= 216172782516438692\n",
      "objectId= 216172782516438694\n",
      "objectId= 216172782516438695\n",
      "objectId= 216172782516438701\n",
      "objectId= 216172782516438716\n",
      "objectId= 216172782516438722\n",
      "objectId= 216172782516438730\n",
      "objectId= 216172782516438733\n",
      "objectId= 216172782516438737\n",
      "objectId= 216172782516438746\n",
      "objectId= 216172782516438748\n",
      "objectId= 216172782516438750\n",
      "objectId= 216172782516438755\n",
      "objectId= 216172782516438761\n",
      "objectId= 216172782516438767\n",
      "objectId= 216172782516438768\n",
      "objectId= 216172782516438770\n",
      "objectId= 216172782516438771\n",
      "objectId= 216172782516438774\n",
      "objectId= 216172782516438776\n",
      "objectId= 216172782516438777\n",
      "objectId= 216172782516438781\n",
      "objectId= 216172782516438786\n",
      "objectId= 216172782516438793\n",
      "objectId= 216172782516438800\n",
      "objectId= 216172782516438807\n",
      "objectId= 216172782516438809\n",
      "objectId= 216172782516438811\n",
      "objectId= 216172782516438820\n",
      "objectId= 216172782516438826\n",
      "objectId= 216172782516438829\n",
      "objectId= 216172782516438847\n",
      "objectId= 216172782516438850\n",
      "objectId= 216172782516438851\n",
      "objectId= 216172782516438852\n",
      "objectId= 216172782516438863\n",
      "objectId= 216172782516438870\n",
      "objectId= 216172782516438875\n",
      "objectId= 216172782516438883\n",
      "objectId= 216172782516438888\n",
      "objectId= 216172782516438890\n",
      "objectId= 216172782516438893\n",
      "objectId= 216172782516438903\n",
      "objectId= 216172782516438914\n",
      "objectId= 216172782516438916\n",
      "objectId= 216172782516438924\n",
      "objectId= 216172782516438928\n",
      "objectId= 216172782516438938\n",
      "objectId= 216172782516438941\n",
      "objectId= 216172782516438950\n",
      "objectId= 216172782516438955\n",
      "objectId= 216172782516438957\n",
      "objectId= 216172782516438962\n",
      "objectId= 216172782516438968\n",
      "objectId= 216172782516438975\n",
      "objectId= 216172782516438976\n",
      "objectId= 216172782516438996\n",
      "objectId= 216172782516439008\n",
      "objectId= 216172782516439011\n",
      "objectId= 216172782516439014\n",
      "objectId= 216172782516439025\n",
      "objectId= 216172782516439031\n",
      "objectId= 216172782516439037\n",
      "objectId= 216172782516439043\n",
      "objectId= 216172782516439047\n",
      "objectId= 216172782516439081\n",
      "objectId= 216172782516439088\n",
      "objectId= 216172782516439098\n",
      "objectId= 216172782516439114\n",
      "objectId= 216172782516439118\n",
      "objectId= 216172782516439120\n",
      "objectId= 216172782516439130\n",
      "objectId= 216172782516439133\n",
      "objectId= 216172782516439146\n",
      "objectId= 216172782516439148\n",
      "objectId= 216172782516439156\n",
      "objectId= 216172782516439157\n",
      "objectId= 216172782516439162\n",
      "objectId= 216172782516439166\n",
      "objectId= 216172782516439169\n",
      "objectId= 216172782516439185\n",
      "objectId= 216172782516439209\n",
      "objectId= 216172782516439211\n",
      "objectId= 216172782516439217\n",
      "objectId= 216172782516439218\n",
      "objectId= 216172782516439225\n",
      "objectId= 216172782516439226\n",
      "objectId= 216172782516439230\n",
      "objectId= 216172782516439238\n",
      "objectId= 216172782516439243\n",
      "objectId= 216172782516439253\n",
      "objectId= 216172782516439254\n",
      "objectId= 216172782516439255\n",
      "objectId= 216172782516439259\n",
      "objectId= 216172782516439262\n",
      "objectId= 216172782516439270\n",
      "objectId= 216172782516439282\n",
      "objectId= 216172782516439290\n",
      "objectId= 216172782516439296\n",
      "objectId= 216172782516439305\n",
      "objectId= 216172782516439307\n",
      "objectId= 216172782516439310\n",
      "objectId= 216172782516439311\n",
      "objectId= 216172782516439317\n",
      "objectId= 216172782516439319\n",
      "objectId= 216172782516439327\n",
      "objectId= 216172782516439332\n",
      "objectId= 216172782516439342\n",
      "objectId= 216172782516439344\n",
      "objectId= 216172782516439346\n",
      "objectId= 216172782516439347\n",
      "objectId= 216172782516439349\n",
      "objectId= 216172782516439351\n",
      "objectId= 216172782516439365\n",
      "objectId= 216172782516439373\n",
      "objectId= 216172782516439401\n",
      "objectId= 216172782516439404\n",
      "objectId= 216172782516439406\n",
      "objectId= 216172782516439412\n",
      "objectId= 216172782516439428\n",
      "objectId= 216172782516439430\n",
      "objectId= 216172782516439432\n",
      "objectId= 216172782516439433\n",
      "objectId= 216172782516439443\n",
      "objectId= 216172782516439449\n",
      "objectId= 216172782516439450\n",
      "objectId= 216172782516439454\n",
      "objectId= 216172782516439455\n",
      "objectId= 216172782516439462\n",
      "objectId= 216172782516439463\n",
      "objectId= 216172782516439469\n",
      "objectId= 216172782516439471\n",
      "objectId= 216172782516439472\n",
      "objectId= 216172782516439475\n",
      "objectId= 216172782516439478\n",
      "objectId= 216172782516439499\n",
      "objectId= 216172782516439501\n",
      "objectId= 216172782516439505\n",
      "objectId= 216172782516439508\n",
      "objectId= 216172782516439509\n",
      "objectId= 216172782516439510\n",
      "objectId= 216172782516439517\n",
      "objectId= 216172782516439524\n",
      "objectId= 216172782516439525\n",
      "objectId= 216172782516439541\n",
      "objectId= 216172782516439543\n",
      "objectId= 216172782516439546\n",
      "objectId= 216172782516439547\n",
      "objectId= 216172782516439556\n",
      "objectId= 216172782516439560\n",
      "objectId= 216172782516439571\n",
      "objectId= 216172782516439586\n",
      "objectId= 216172782516439587\n",
      "objectId= 216172782516439588\n",
      "objectId= 216172782516439591\n",
      "objectId= 216172782516439601\n",
      "objectId= 216172782516439603\n",
      "objectId= 216172782516439612\n",
      "objectId= 216172782516439619\n",
      "objectId= 216172782516439633\n",
      "objectId= 216172782516439634\n",
      "objectId= 216172782516439641\n",
      "objectId= 216172782516439644\n",
      "objectId= 216172782516439647\n",
      "objectId= 216172782516439652\n",
      "objectId= 216172782516439655\n",
      "objectId= 216172782516439659\n",
      "objectId= 216172782516439660\n",
      "objectId= 216172782516439668\n",
      "objectId= 216172782516439672\n",
      "objectId= 216172782516439679\n",
      "objectId= 216172782516439681\n",
      "objectId= 216172782516439691\n",
      "objectId= 216172782516439695\n",
      "objectId= 216172782516439699\n",
      "objectId= 216172782516439703\n",
      "objectId= 216172782516439707\n",
      "objectId= 216172782516439712\n",
      "objectId= 216172782516439717\n",
      "objectId= 216172782516439719\n",
      "objectId= 216172782516439720\n",
      "objectId= 216172782516439731\n",
      "objectId= 216172782516439732\n",
      "objectId= 216172782516439734\n",
      "objectId= 216172782516439740\n",
      "objectId= 216172782516439745\n",
      "objectId= 216172782516439758\n",
      "objectId= 216172782516439759\n",
      "objectId= 216172782516439771\n",
      "objectId= 216172782516439793\n",
      "objectId= 216172782516439794\n",
      "objectId= 216172782516439812\n",
      "objectId= 216172782516439814\n",
      "objectId= 216172782516439840\n",
      "objectId= 216172782516439843\n",
      "objectId= 216172782516439849\n",
      "objectId= 216172782516439851\n",
      "objectId= 216172782516439857\n",
      "objectId= 216172782516439858\n",
      "objectId= 216172782516439867\n",
      "objectId= 216172782516439893\n",
      "objectId= 216172782516439895\n",
      "objectId= 216172782516439898\n",
      "objectId= 216172782516439899\n",
      "objectId= 216172782516439903\n",
      "objectId= 216172782516439905\n",
      "objectId= 216172782516439917\n",
      "objectId= 216172782516439930\n",
      "objectId= 216172782516439936\n",
      "objectId= 216172782516439937\n",
      "objectId= 216172782516439938\n",
      "objectId= 216172782516439941\n",
      "objectId= 216172782516439945\n",
      "objectId= 216172782516439960\n",
      "objectId= 216172782516439963\n",
      "objectId= 216172782516439967\n",
      "objectId= 216172782516439968\n",
      "objectId= 216172782516439980\n",
      "objectId= 216172782516439982\n",
      "objectId= 216172782516439983\n",
      "objectId= 216172782516439990\n",
      "objectId= 216172782516439991\n",
      "objectId= 216172782516439995\n",
      "objectId= 216172782516439997\n",
      "objectId= 216172782516439998\n",
      "objectId= 216172782516440003\n",
      "objectId= 216172782516440013\n",
      "objectId= 216172782516440015\n",
      "objectId= 216172782516440018\n",
      "objectId= 216172782516440020\n",
      "objectId= 216172782516440025\n",
      "objectId= 216172782516440028\n",
      "objectId= 216172782516440038\n",
      "objectId= 216172782516440040\n",
      "objectId= 216172782516440041\n",
      "objectId= 216172782516440050\n",
      "objectId= 216172782516440057\n",
      "objectId= 216172782516440058\n",
      "objectId= 216172782516440060\n",
      "objectId= 216172782516440065\n",
      "objectId= 216172782516440073\n",
      "objectId= 216172782516440074\n",
      "objectId= 216172782516440082\n",
      "objectId= 216172782516440091\n",
      "objectId= 216172782516440096\n",
      "objectId= 216172782516440097\n",
      "objectId= 216172782516440102\n",
      "objectId= 216172782516440104\n",
      "objectId= 216172782516440107\n",
      "objectId= 216172782516440170\n",
      "objectId= 216172782516440178\n",
      "objectId= 216172782516440179\n",
      "objectId= 216172782516440180\n",
      "objectId= 216172782516440181\n",
      "objectId= 216172782516440187\n",
      "objectId= 216172782516440193\n",
      "objectId= 216172782516440196\n",
      "objectId= 216172782516440197\n",
      "objectId= 216172782516440198\n",
      "objectId= 216172782516440221\n",
      "objectId= 216172782516440223\n",
      "objectId= 216172782516440224\n",
      "objectId= 216172782516440225\n",
      "objectId= 216172782516440226\n",
      "objectId= 216172782516440229\n",
      "objectId= 216172782516440230\n",
      "objectId= 216172782516440231\n",
      "objectId= 216172782516440235\n",
      "objectId= 216172782516440236\n",
      "objectId= 216172782516440240\n",
      "objectId= 216172782516440241\n",
      "objectId= 216172782516440248\n",
      "objectId= 216172782516440249\n",
      "objectId= 216172782516440250\n",
      "objectId= 216172782516440299\n",
      "objectId= 216172782516440300\n",
      "objectId= 216172782516440306\n",
      "objectId= 216172782516440310\n",
      "objectId= 216172782516440316\n",
      "objectId= 216172782516440317\n",
      "objectId= 216172782516440337\n",
      "objectId= 216172782516440338\n",
      "objectId= 216172782516440341\n",
      "objectId= 216172782516440347\n",
      "objectId= 216172782516440348\n",
      "objectId= 216172782516440349\n",
      "objectId= 216172782516440350\n",
      "objectId= 216172782516440351\n",
      "objectId= 216172782516440352\n",
      "objectId= 216172782516440358\n",
      "objectId= 216172782516440359\n",
      "objectId= 216172782516440364\n",
      "objectId= 216172782516440365\n",
      "objectId= 216172782516440366\n",
      "objectId= 216172782516440367\n",
      "objectId= 216172782516440368\n",
      "objectId= 216172782516440370\n",
      "objectId= 216172782516440374\n",
      "objectId= 216172782516440376\n",
      "objectId= 216172782516440396\n",
      "objectId= 216172782516440445\n",
      "objectId= 216172782516440446\n",
      "objectId= 216172782516440453\n",
      "objectId= 216172782516440454\n",
      "objectId= 216172782516440468\n",
      "objectId= 216172782516440469\n",
      "objectId= 216172782516440470\n",
      "objectId= 216172782516440479\n",
      "objectId= 216172782516440480\n",
      "objectId= 216172782516440488\n",
      "objectId= 216172782516440502\n",
      "objectId= 216172782516440504\n",
      "objectId= 216172782516440506\n",
      "objectId= 216172782516440507\n",
      "objectId= 216172782516440508\n",
      "objectId= 216172782516440509\n",
      "objectId= 216172782516440510\n",
      "objectId= 216172782516440511\n",
      "objectId= 216172782516440512\n",
      "objectId= 216172782516440513\n",
      "objectId= 216172782516440514\n",
      "objectId= 216172782516440515\n",
      "objectId= 216172782516440516\n",
      "objectId= 216172782516440517\n",
      "objectId= 216172782516440518\n",
      "objectId= 216172782516440522\n",
      "objectId= 216172782516440531\n",
      "objectId= 216172782516440561\n",
      "objectId= 216172782516440562\n",
      "objectId= 216172782516440566\n",
      "objectId= 216172782516440567\n",
      "objectId= 216172782516440568\n",
      "objectId= 216172782516440571\n",
      "objectId= 216172782516440577\n",
      "objectId= 216172782516440578\n",
      "objectId= 216172782516440579\n",
      "objectId= 216172782516440580\n",
      "objectId= 216172782516440582\n",
      "objectId= 216172782516440583\n",
      "objectId= 216172782516440585\n",
      "objectId= 216172782516440587\n",
      "objectId= 216172782516440589\n",
      "objectId= 216172782516440617\n",
      "objectId= 216172782516440618\n",
      "objectId= 216172782516440619\n",
      "objectId= 216172782516440623\n",
      "objectId= 216172782516440624\n",
      "objectId= 216172782516440637\n",
      "objectId= 216172782516440638\n",
      "objectId= 216172782516440639\n",
      "objectId= 216172782516440654\n",
      "objectId= 216172782516440704\n",
      "objectId= 216172782516440719\n",
      "objectId= 216172782516440726\n",
      "objectId= 216172782516440739\n",
      "objectId= 216172782516440744\n",
      "objectId= 216172782516440745\n",
      "objectId= 216172782516440746\n",
      "objectId= 216172782516440747\n",
      "objectId= 216172782516440748\n",
      "objectId= 216172782516440784\n",
      "objectId= 216172782516440790\n",
      "objectId= 216172782516440791\n",
      "objectId= 216172782516440834\n",
      "objectId= 216172782516440836\n",
      "objectId= 216172782516440837\n",
      "objectId= 216172782516440838\n",
      "objectId= 216172782516440862\n",
      "objectId= 216172782516440863\n",
      "objectId= 216172782516440874\n",
      "objectId= 216172782516440876\n",
      "objectId= 216172782516440877\n",
      "objectId= 216172782516440885\n",
      "objectId= 216172782516440886\n",
      "objectId= 216172782516440887\n",
      "objectId= 216172782516440888\n",
      "objectId= 216172782516440889\n",
      "objectId= 216172782516440890\n",
      "objectId= 216172782516440891\n",
      "objectId= 216172782516440892\n",
      "objectId= 216172782516440893\n",
      "objectId= 216172782516440896\n",
      "objectId= 216172782516440903\n",
      "objectId= 216172782516440904\n",
      "objectId= 216172782516440905\n",
      "objectId= 216172782516440912\n",
      "objectId= 216172782516440913\n",
      "objectId= 216172782516440914\n",
      "objectId= 216172782516440916\n",
      "objectId= 216172782516440926\n",
      "objectId= 216172782516440927\n",
      "objectId= 216172782516440928\n",
      "objectId= 216172782516440929\n",
      "objectId= 216172782516440930\n",
      "objectId= 216172782516440931\n",
      "objectId= 216172782516440932\n",
      "objectId= 216172782516440933\n",
      "objectId= 216172782516440934\n",
      "objectId= 216172782516440936\n",
      "objectId= 216172782516440941\n",
      "objectId= 216172782516440944\n",
      "objectId= 216172782516440946\n",
      "objectId= 216172782516440951\n",
      "objectId= 216172782516440954\n",
      "objectId= 216172782516440958\n",
      "objectId= 216172782516440964\n",
      "objectId= 216172782516440966\n",
      "objectId= 216172782516440967\n",
      "objectId= 216172782516440972\n",
      "objectId= 216172782516440973\n",
      "objectId= 216172782516440975\n",
      "objectId= 216172782516440976\n",
      "objectId= 216172782516440983\n",
      "objectId= 216172782516440987\n",
      "objectId= 216172782516440988\n",
      "objectId= 216172782516440989\n",
      "objectId= 216172782516440990\n",
      "objectId= 216172782516440991\n",
      "objectId= 216172782516440992\n",
      "objectId= 216172782516440995\n",
      "objectId= 216172782516440996\n",
      "objectId= 216172782516440997\n",
      "objectId= 216172782516440998\n",
      "objectId= 216172782516440999\n",
      "objectId= 216172782516441000\n",
      "objectId= 216172782516441001\n",
      "objectId= 216172782516441002\n",
      "objectId= 216172782516441005\n",
      "objectId= 216172782516441006\n",
      "objectId= 216172782516441007\n",
      "objectId= 216172782516441013\n",
      "objectId= 216172782516441014\n",
      "objectId= 216172782516441046\n",
      "objectId= 216172782516441048\n",
      "objectId= 216172782516441052\n",
      "objectId= 216172782516441063\n",
      "objectId= 216172782516441065\n",
      "objectId= 216172782516441071\n",
      "objectId= 216172782516441072\n",
      "objectId= 216172782516441078\n",
      "objectId= 216172782516441080\n",
      "objectId= 216172782516441081\n",
      "objectId= 216172782516441082\n",
      "objectId= 216172782516441083\n",
      "objectId= 216172782516441084\n",
      "objectId= 216172782516441101\n",
      "objectId= 216172782516441118\n",
      "objectId= 216172782516441119\n",
      "objectId= 216172782516441120\n",
      "objectId= 216172782516441121\n",
      "objectId= 216172782516441122\n",
      "objectId= 216172782516441123\n",
      "objectId= 216172782516441140\n",
      "objectId= 216172782516441144\n",
      "objectId= 216172782516441145\n",
      "objectId= 216172782516441146\n",
      "objectId= 216172782516441147\n",
      "objectId= 216172782516441186\n",
      "objectId= 216172782516441187\n",
      "objectId= 216172782516441188\n",
      "objectId= 216172782516441189\n",
      "objectId= 216172782516441191\n",
      "objectId= 216172782516441195\n",
      "objectId= 216172782516441196\n",
      "objectId= 216172782516441205\n",
      "objectId= 216172782516441206\n",
      "objectId= 216172782516441207\n",
      "objectId= 216172782516441263\n",
      "objectId= 216172782516441264\n",
      "objectId= 216172782516441271\n",
      "objectId= 216172782516441275\n",
      "objectId= 216172782516441276\n",
      "objectId= 216172782516441277\n",
      "objectId= 216172782516441278\n",
      "objectId= 216172782516441281\n",
      "objectId= 216172782516441282\n",
      "objectId= 216172782516441283\n",
      "objectId= 216172782516441284\n",
      "objectId= 216172782516441285\n",
      "objectId= 216172782516441288\n",
      "objectId= 216172782516441289\n",
      "objectId= 216172782516441290\n",
      "objectId= 216172782516441291\n",
      "objectId= 216172782516441302\n",
      "objectId= 216172782516441303\n",
      "objectId= 216172782516441305\n",
      "objectId= 216172782516441306\n",
      "objectId= 216172782516441309\n",
      "objectId= 216172782516441319\n",
      "objectId= 216172782516441321\n",
      "objectId= 216172782516441326\n",
      "objectId= 216172782516441327\n",
      "objectId= 216172782516441328\n",
      "objectId= 216172782516441329\n",
      "objectId= 216172782516441330\n",
      "objectId= 216172782516441331\n",
      "objectId= 216172782516441339\n",
      "objectId= 216172782516441343\n",
      "objectId= 216172782516441346\n",
      "objectId= 216172782516441370\n",
      "objectId= 216172782516441376\n",
      "objectId= 216172782516441380\n",
      "objectId= 216172782516441381\n",
      "objectId= 216172782516441382\n",
      "objectId= 216172782516441386\n",
      "objectId= 216172782516441387\n",
      "objectId= 216172782516441388\n",
      "objectId= 216172782516441390\n",
      "objectId= 216172782516441404\n",
      "objectId= 216172782516441406\n",
      "objectId= 216172782516441408\n",
      "objectId= 216172782516441422\n",
      "objectId= 216172782516441423\n",
      "objectId= 216172782516441429\n",
      "objectId= 216172782516441430\n",
      "objectId= 216172782516441434\n",
      "objectId= 216172782516441435\n",
      "objectId= 216172782516441453\n",
      "objectId= 216172782516441454\n",
      "objectId= 216172782516441455\n",
      "objectId= 216172782516441456\n",
      "objectId= 216172782516441467\n",
      "objectId= 216172782516441470\n",
      "objectId= 216172782516441472\n",
      "objectId= 216172782516441473\n",
      "objectId= 216172782516441475\n",
      "objectId= 216172782516441478\n",
      "objectId= 216172782516441480\n",
      "objectId= 216172782516441482\n",
      "objectId= 216172782516441486\n",
      "objectId= 216172782516441487\n",
      "objectId= 216172782516441489\n",
      "objectId= 216172782516441496\n",
      "objectId= 216172782516441498\n",
      "objectId= 216172782516441503\n",
      "objectId= 216172782516441506\n",
      "objectId= 216172782516441512\n",
      "objectId= 216172782516441513\n",
      "objectId= 216172782516441514\n",
      "objectId= 216172782516441516\n",
      "objectId= 216172782516441517\n",
      "objectId= 216172782516441518\n",
      "objectId= 216172782516441525\n",
      "objectId= 216172782516441526\n",
      "objectId= 216172782516441527\n",
      "objectId= 216172782516441533\n",
      "objectId= 216172782516441597\n",
      "objectId= 216172782516441598\n",
      "objectId= 216172782516441599\n",
      "objectId= 216172782516441646\n",
      "objectId= 216172782516441671\n",
      "objectId= 216172782516441675\n",
      "objectId= 216172782516441679\n",
      "objectId= 216172782516441687\n",
      "objectId= 216172782516441688\n",
      "objectId= 216172782516441692\n",
      "objectId= 216172782516441693\n",
      "objectId= 216172782516441705\n",
      "objectId= 216172782516441710\n",
      "objectId= 216172782516441713\n",
      "objectId= 216172782516441714\n",
      "objectId= 216172782516441715\n",
      "objectId= 216172782516441716\n",
      "objectId= 216172782516441727\n",
      "objectId= 216172782516441728\n",
      "objectId= 216172782516441731\n",
      "objectId= 216172782516441733\n",
      "objectId= 216172782516441735\n",
      "objectId= 216172782516441736\n",
      "objectId= 216172782516441741\n",
      "objectId= 216172782516441742\n",
      "objectId= 216172782516441746\n",
      "objectId= 216172782516441753\n",
      "objectId= 216172782516441754\n",
      "objectId= 216172782516441755\n",
      "objectId= 216172782516441763\n",
      "objectId= 216172782516441764\n",
      "objectId= 216172782516441767\n",
      "objectId= 216172782516441769\n",
      "objectId= 216172782516441771\n",
      "objectId= 216172782516441773\n",
      "objectId= 216172782516441774\n",
      "objectId= 216172782516441775\n",
      "objectId= 216172782516441782\n",
      "objectId= 216172782516441783\n",
      "objectId= 216172782516441786\n",
      "objectId= 216172782516441788\n",
      "objectId= 216172782516441789\n",
      "objectId= 216172782516441790\n",
      "objectId= 216172782516441793\n",
      "objectId= 216172782516441794\n",
      "objectId= 216172782516441803\n",
      "objectId= 216172782516441804\n",
      "objectId= 216172782516441806\n",
      "objectId= 216172782516441807\n",
      "objectId= 216172782516441818\n",
      "objectId= 216172782516441821\n",
      "objectId= 216172782516441822\n",
      "objectId= 216172782516441824\n",
      "objectId= 216172782516441825\n",
      "objectId= 216172782516441831\n",
      "objectId= 216172782516441835\n",
      "objectId= 216172782516441836\n",
      "objectId= 216172782516441837\n",
      "objectId= 216172782516441842\n",
      "objectId= 216172782516441844\n",
      "objectId= 216172782516441845\n",
      "objectId= 216172782516441854\n",
      "objectId= 216172782516441855\n",
      "objectId= 216172782516441858\n",
      "objectId= 216172782516441859\n",
      "objectId= 216172782516441860\n",
      "objectId= 216172782516441862\n",
      "objectId= 216172782516441895\n",
      "objectId= 216172782516441896\n",
      "objectId= 216172782516441898\n",
      "objectId= 216172782516441899\n",
      "objectId= 216172782516441909\n",
      "objectId= 216172782516441916\n",
      "objectId= 216172782516441917\n",
      "objectId= 216172782516441919\n",
      "objectId= 216172782516441920\n",
      "objectId= 216172782516441922\n",
      "objectId= 216172782516441927\n",
      "objectId= 216172782516441938\n",
      "objectId= 216172782516441944\n",
      "objectId= 216172782516441945\n",
      "objectId= 216172782516441946\n",
      "objectId= 216172782516441947\n",
      "objectId= 216172782516441956\n",
      "objectId= 216172782516441958\n",
      "objectId= 216172782516441959\n",
      "objectId= 216172782516441963\n",
      "objectId= 216172782516441964\n",
      "objectId= 216172782516441972\n",
      "objectId= 216172782516441974\n",
      "objectId= 216172782516441975\n",
      "objectId= 216172782516441976\n",
      "objectId= 216172782516441977\n",
      "objectId= 216172782516441979\n",
      "objectId= 216172782516441981\n",
      "objectId= 216172782516441982\n",
      "objectId= 216172782516441986\n",
      "objectId= 216172782516441987\n",
      "objectId= 216172782516441988\n",
      "objectId= 216172782516441989\n",
      "objectId= 216172782516441990\n",
      "objectId= 216172782516441991\n",
      "objectId= 216172782516441995\n",
      "objectId= 216172782516441996\n",
      "objectId= 216172782516441997\n",
      "objectId= 216172782516442001\n",
      "objectId= 216172782516442003\n",
      "objectId= 216172782516442012\n",
      "objectId= 216172782516442018\n",
      "objectId= 216172782516442019\n",
      "objectId= 216172782516442020\n",
      "objectId= 216172782516442021\n",
      "objectId= 216172782516442022\n",
      "objectId= 216172782516442023\n",
      "objectId= 216172782516442031\n",
      "objectId= 216172782516442033\n",
      "objectId= 216172782516442034\n",
      "objectId= 216172782516442035\n",
      "objectId= 216172782516442040\n",
      "objectId= 216172782516442050\n",
      "objectId= 216172782516442069\n",
      "objectId= 216172782516442070\n",
      "objectId= 216172782516442075\n",
      "objectId= 216172782516442076\n",
      "objectId= 216172782516442077\n",
      "objectId= 216172782516442078\n",
      "objectId= 216172782516442079\n",
      "objectId= 216172782516442083\n",
      "objectId= 216172782516442084\n",
      "objectId= 216172782516442090\n",
      "objectId= 216172782516442091\n",
      "objectId= 216172782516442093\n",
      "objectId= 216172782516442094\n",
      "objectId= 216172782516442103\n",
      "objectId= 216172782516442107\n",
      "objectId= 216172782516442108\n",
      "objectId= 216172782516442111\n",
      "objectId= 216172782516442117\n",
      "objectId= 216172782516442121\n",
      "objectId= 216172782516442122\n",
      "objectId= 216172782516442126\n",
      "objectId= 216172782516442128\n",
      "objectId= 216172782516442131\n",
      "objectId= 216172782516442135\n",
      "objectId= 216172782516442136\n",
      "objectId= 216172782516442137\n",
      "objectId= 216172782516442146\n",
      "objectId= 216172782516442147\n",
      "objectId= 216172782516442148\n",
      "objectId= 216172782516442149\n",
      "objectId= 216172782516442150\n",
      "objectId= 216172782516442151\n",
      "objectId= 216172782516442152\n",
      "objectId= 216172782516442153\n",
      "objectId= 216172782516442157\n",
      "objectId= 216172782516442162\n",
      "objectId= 216172782516442164\n",
      "objectId= 216172782516442166\n",
      "objectId= 216172782516442167\n",
      "objectId= 216172782516442174\n",
      "objectId= 216172782516442175\n",
      "objectId= 216172782516442185\n",
      "objectId= 216172782516442191\n",
      "objectId= 216172782516442193\n",
      "objectId= 216172782516442201\n",
      "objectId= 216172782516442202\n",
      "objectId= 216172782516442203\n",
      "objectId= 216172782516442204\n",
      "objectId= 216172782516442205\n",
      "objectId= 216172782516442207\n",
      "objectId= 216172782516442208\n",
      "objectId= 216172782516442211\n",
      "objectId= 216172782516442217\n",
      "objectId= 216172782516442218\n",
      "objectId= 216172782516442223\n",
      "objectId= 216172782516442243\n",
      "objectId= 216172782516442244\n",
      "objectId= 216172782516442245\n",
      "objectId= 216172782516442257\n",
      "objectId= 216172782516442268\n",
      "objectId= 216172782516442270\n",
      "objectId= 216172782516442271\n",
      "objectId= 216172782516442272\n",
      "objectId= 216172782516442273\n",
      "objectId= 216172782516442277\n",
      "objectId= 216172782516442282\n",
      "objectId= 216172782516442284\n",
      "objectId= 216172782516442292\n",
      "objectId= 216172782516442294\n",
      "objectId= 216172782516442298\n",
      "objectId= 216172782516442299\n",
      "objectId= 216172782516442303\n",
      "objectId= 216172782516442305\n",
      "objectId= 216172782516442306\n",
      "objectId= 216172782516442307\n",
      "objectId= 216172782516442316\n",
      "objectId= 216172782516442317\n",
      "objectId= 216172782516442318\n",
      "objectId= 216172782516442320\n",
      "objectId= 216172783590179269\n",
      "objectId= 216172783590179274\n",
      "objectId= 216172783590179279\n",
      "objectId= 216172783590179282\n",
      "objectId= 216172783590179287\n",
      "objectId= 216172783590179293\n",
      "objectId= 216172783590179306\n",
      "objectId= 216172783590179318\n",
      "objectId= 216172783590179322\n",
      "objectId= 216172783590179325\n",
      "objectId= 216172783590179330\n",
      "objectId= 216172783590179345\n",
      "objectId= 216172783590179346\n",
      "objectId= 216172783590179351\n",
      "objectId= 216172783590179374\n",
      "objectId= 216172783590179386\n",
      "objectId= 216172783590179395\n",
      "objectId= 216172783590179422\n",
      "objectId= 216172783590179430\n",
      "objectId= 216172783590179440\n",
      "objectId= 216172783590179442\n",
      "objectId= 216172783590179444\n",
      "objectId= 216172783590179449\n",
      "objectId= 216172783590179451\n",
      "objectId= 216172783590179502\n",
      "objectId= 216172783590179508\n",
      "objectId= 216172783590179527\n",
      "objectId= 216172783590179532\n",
      "objectId= 216172783590179534\n",
      "objectId= 216172783590179545\n",
      "objectId= 216172783590179550\n",
      "objectId= 216172783590179557\n",
      "objectId= 216172783590179569\n",
      "objectId= 216172783590179572\n",
      "objectId= 216172783590179581\n",
      "objectId= 216172783590179589\n",
      "objectId= 216172783590179595\n",
      "objectId= 216172783590179596\n",
      "objectId= 216172783590179609\n",
      "objectId= 216172783590179610\n",
      "objectId= 216172783590179614\n",
      "objectId= 216172783590179619\n",
      "objectId= 216172783590179624\n",
      "objectId= 216172783590179626\n",
      "objectId= 216172783590179648\n",
      "objectId= 216172783590179655\n",
      "objectId= 216172783590179675\n",
      "objectId= 216172783590179691\n",
      "objectId= 216172783590179696\n",
      "objectId= 216172783590179703\n",
      "objectId= 216172783590179713\n",
      "objectId= 216172783590179721\n",
      "objectId= 216172783590179724\n",
      "objectId= 216172783590179728\n",
      "objectId= 216172783590179744\n",
      "objectId= 216172783590179780\n",
      "objectId= 216172783590179785\n",
      "objectId= 216172783590179786\n",
      "objectId= 216172783590179789\n",
      "objectId= 216172783590179790\n",
      "objectId= 216172783590179800\n",
      "objectId= 216172783590179805\n",
      "objectId= 216172783590179817\n",
      "objectId= 216172783590179826\n",
      "objectId= 216172783590179828\n",
      "objectId= 216172783590179834\n",
      "objectId= 216172783590179835\n",
      "objectId= 216172783590179858\n",
      "objectId= 216172783590179868\n",
      "objectId= 216172783590179874\n",
      "objectId= 216172783590179875\n",
      "objectId= 216172783590179882\n",
      "objectId= 216172783590179889\n",
      "objectId= 216172783590179916\n",
      "objectId= 216172783590179917\n",
      "objectId= 216172783590179922\n",
      "objectId= 216172783590179928\n",
      "objectId= 216172783590179934\n",
      "objectId= 216172783590179947\n",
      "objectId= 216172783590179951\n",
      "objectId= 216172783590179957\n",
      "objectId= 216172783590179963\n",
      "objectId= 216172783590179966\n",
      "objectId= 216172783590179969\n",
      "objectId= 216172783590179972\n",
      "objectId= 216172783590179973\n",
      "objectId= 216172783590179979\n",
      "objectId= 216172783590180021\n",
      "objectId= 216172783590180026\n",
      "objectId= 216172783590180036\n",
      "objectId= 216172783590180045\n",
      "objectId= 216172783590180051\n",
      "objectId= 216172783590180056\n",
      "objectId= 216172783590180072\n",
      "objectId= 216172783590180073\n",
      "objectId= 216172783590180080\n",
      "objectId= 216172783590180087\n",
      "objectId= 216172783590180091\n",
      "objectId= 216172783590180097\n",
      "objectId= 216172783590180115\n",
      "objectId= 216172783590180130\n",
      "objectId= 216172783590180135\n",
      "objectId= 216172783590180144\n",
      "objectId= 216172783590180156\n",
      "objectId= 216172783590180177\n",
      "objectId= 216172783590180252\n",
      "objectId= 216172783590180253\n",
      "objectId= 216172783590180261\n",
      "objectId= 216172783590180264\n",
      "objectId= 216172783590180269\n",
      "objectId= 216172783590180272\n",
      "objectId= 216172783590180276\n",
      "objectId= 216172783590180278\n",
      "objectId= 216172783590180283\n",
      "objectId= 216172783590180285\n",
      "objectId= 216172783590180297\n",
      "objectId= 216172783590180315\n",
      "objectId= 216172783590180356\n",
      "objectId= 216172783590180359\n",
      "objectId= 216172783590180376\n",
      "objectId= 216172783590180390\n",
      "objectId= 216172783590180406\n",
      "objectId= 216172783590180416\n",
      "objectId= 216172783590180428\n",
      "objectId= 216172783590180435\n",
      "objectId= 216172783590180437\n",
      "objectId= 216172783590180438\n",
      "objectId= 216172783590180446\n",
      "objectId= 216172783590180462\n",
      "objectId= 216172783590180463\n",
      "objectId= 216172783590180488\n",
      "objectId= 216172783590180491\n",
      "objectId= 216172783590180524\n",
      "objectId= 216172783590180527\n",
      "objectId= 216172783590180537\n",
      "objectId= 216172783590180540\n",
      "objectId= 216172783590180546\n",
      "objectId= 216172783590180548\n",
      "objectId= 216172783590180551\n",
      "objectId= 216172783590180560\n",
      "objectId= 216172783590180571\n",
      "objectId= 216172783590180585\n",
      "objectId= 216172783590180593\n",
      "objectId= 216172783590180594\n",
      "objectId= 216172783590180598\n",
      "objectId= 216172783590180616\n",
      "objectId= 216172783590180618\n",
      "objectId= 216172783590180621\n",
      "objectId= 216172783590180626\n",
      "objectId= 216172783590180632\n",
      "objectId= 216172783590180635\n",
      "objectId= 216172783590180662\n",
      "objectId= 216172783590180675\n",
      "objectId= 216172783590180677\n",
      "objectId= 216172783590180692\n",
      "objectId= 216172783590180724\n",
      "objectId= 216172783590180725\n",
      "objectId= 216172783590180732\n",
      "objectId= 216172783590180736\n",
      "objectId= 216172783590180741\n",
      "objectId= 216172783590180744\n",
      "objectId= 216172783590180747\n",
      "objectId= 216172783590180749\n",
      "objectId= 216172783590180754\n",
      "objectId= 216172783590180755\n",
      "objectId= 216172783590180757\n",
      "objectId= 216172783590180759\n",
      "objectId= 216172783590180783\n",
      "objectId= 216172783590180810\n",
      "objectId= 216172783590180816\n",
      "objectId= 216172783590180869\n",
      "objectId= 216172783590180870\n",
      "objectId= 216172783590180876\n",
      "objectId= 216172783590180887\n",
      "objectId= 216172783590180897\n",
      "objectId= 216172783590180916\n",
      "objectId= 216172783590180921\n",
      "objectId= 216172783590180939\n",
      "objectId= 216172783590180941\n",
      "objectId= 216172783590180970\n",
      "objectId= 216172783590180987\n",
      "objectId= 216172783590180995\n",
      "objectId= 216172783590181015\n",
      "objectId= 216172783590181018\n",
      "objectId= 216172783590181031\n",
      "objectId= 216172783590181046\n",
      "objectId= 216172783590181048\n",
      "objectId= 216172783590181064\n",
      "objectId= 216172783590181065\n",
      "objectId= 216172783590181066\n",
      "objectId= 216172783590181068\n",
      "objectId= 216172783590181087\n",
      "objectId= 216172783590181121\n",
      "objectId= 216172783590181157\n",
      "objectId= 216172783590181179\n",
      "objectId= 216172783590181181\n",
      "objectId= 216172783590181197\n",
      "objectId= 216172783590181219\n",
      "objectId= 216172783590181220\n",
      "objectId= 216172783590181240\n",
      "objectId= 216172783590181255\n",
      "objectId= 216172783590181282\n",
      "objectId= 216172783590181294\n",
      "objectId= 216172783590181316\n",
      "objectId= 216172783590181324\n",
      "objectId= 216172783590181339\n",
      "objectId= 216172783590181362\n",
      "objectId= 216172783590181384\n",
      "objectId= 216172783590181401\n",
      "objectId= 216172783590181402\n",
      "objectId= 216172783590181408\n",
      "objectId= 216172783590181415\n",
      "objectId= 216172783590181446\n",
      "objectId= 216172783590181452\n",
      "objectId= 216172783590181467\n",
      "objectId= 216172783590181472\n",
      "objectId= 216172783590181477\n",
      "objectId= 216172783590181500\n",
      "objectId= 216172783590181510\n",
      "objectId= 216172783590181532\n",
      "objectId= 216172783590181533\n",
      "objectId= 216172783590181557\n",
      "objectId= 216172783590181569\n",
      "objectId= 216172783590181575\n",
      "objectId= 216172783590181576\n",
      "objectId= 216172783590181613\n",
      "objectId= 216172783590181622\n",
      "objectId= 216172783590181649\n",
      "objectId= 216172783590181651\n",
      "objectId= 216172783590181660\n",
      "objectId= 216172783590181673\n",
      "objectId= 216172783590181693\n",
      "objectId= 216172783590181703\n",
      "objectId= 216172783590181705\n",
      "objectId= 216172783590181709\n",
      "objectId= 216172783590181719\n",
      "objectId= 216172783590181723\n",
      "objectId= 216172783590181733\n",
      "objectId= 216172783590181740\n",
      "objectId= 216172783590181751\n",
      "objectId= 216172783590181752\n",
      "objectId= 216172783590181753\n",
      "objectId= 216172783590181765\n",
      "objectId= 216172783590181769\n",
      "objectId= 216172783590181780\n",
      "objectId= 216172783590181783\n",
      "objectId= 216172783590181813\n",
      "objectId= 216172783590181814\n",
      "objectId= 216172783590181817\n",
      "objectId= 216172783590181823\n",
      "objectId= 216172783590181838\n",
      "objectId= 216172783590181851\n",
      "objectId= 216172783590181857\n",
      "objectId= 216172783590181858\n",
      "objectId= 216172783590181865\n",
      "objectId= 216172783590181866\n",
      "objectId= 216172783590181870\n",
      "objectId= 216172783590181889\n",
      "objectId= 216172783590181890\n",
      "objectId= 216172783590181892\n",
      "objectId= 216172783590181923\n",
      "objectId= 216172783590181924\n",
      "objectId= 216172783590181950\n",
      "objectId= 216172783590181976\n",
      "objectId= 216172783590181981\n",
      "objectId= 216172783590181985\n",
      "objectId= 216172783590181988\n",
      "objectId= 216172783590181993\n",
      "objectId= 216172783590182010\n",
      "objectId= 216172783590182012\n",
      "objectId= 216172783590182019\n",
      "objectId= 216172783590182020\n",
      "objectId= 216172783590182031\n",
      "objectId= 216172783590182044\n",
      "objectId= 216172783590182056\n",
      "objectId= 216172783590182107\n",
      "objectId= 216172783590182145\n",
      "objectId= 216172783590182162\n",
      "objectId= 216172783590182164\n",
      "objectId= 216172783590182165\n",
      "objectId= 216172783590182242\n",
      "objectId= 216172783590182254\n",
      "objectId= 216172783590182265\n",
      "objectId= 216172783590182290\n",
      "objectId= 216172783590182292\n",
      "objectId= 216172783590182298\n",
      "objectId= 216172783590182319\n",
      "objectId= 216172783590182325\n",
      "objectId= 216172783590182330\n",
      "objectId= 216172783590182340\n",
      "objectId= 216172783590182350\n",
      "objectId= 216172783590182362\n",
      "objectId= 216172783590182369\n",
      "objectId= 216172783590182371\n",
      "objectId= 216172783590182377\n",
      "objectId= 216172783590182384\n",
      "objectId= 216172783590182407\n",
      "objectId= 216172783590182409\n",
      "objectId= 216172783590182429\n",
      "objectId= 216172783590182442\n",
      "objectId= 216172783590182462\n",
      "objectId= 216172783590182463\n",
      "objectId= 216172783590182478\n",
      "objectId= 216172783590182490\n",
      "objectId= 216172783590182520\n",
      "objectId= 216172783590182521\n",
      "objectId= 216172783590182523\n",
      "objectId= 216172783590182524\n",
      "objectId= 216172783590182531\n",
      "objectId= 216172783590182539\n",
      "objectId= 216172783590182544\n",
      "objectId= 216172783590182549\n",
      "objectId= 216172783590182556\n",
      "objectId= 216172783590182562\n",
      "objectId= 216172783590182579\n",
      "objectId= 216172783590182595\n",
      "objectId= 216172783590182597\n",
      "objectId= 216172783590182610\n",
      "objectId= 216172783590182613\n",
      "objectId= 216172783590182619\n",
      "objectId= 216172783590182623\n",
      "objectId= 216172783590182625\n",
      "objectId= 216172783590182641\n",
      "objectId= 216172783590182643\n",
      "objectId= 216172783590182661\n",
      "objectId= 216172783590182695\n",
      "objectId= 216172783590182707\n",
      "objectId= 216172783590182708\n",
      "objectId= 216172783590182718\n",
      "objectId= 216172783590182782\n",
      "objectId= 216172783590182804\n",
      "objectId= 216172783590182830\n",
      "objectId= 216172783590182833\n",
      "objectId= 216172783590182867\n",
      "objectId= 216172783590182886\n",
      "objectId= 216172783590182898\n",
      "objectId= 216172783590182905\n",
      "objectId= 216172783590182910\n",
      "objectId= 216172783590182920\n",
      "objectId= 216172783590182954\n",
      "objectId= 216172783590183082\n",
      "objectId= 216172783590183090\n",
      "objectId= 216172783590183092\n",
      "objectId= 216172783590183100\n",
      "objectId= 216172783590183102\n",
      "objectId= 216172783590183107\n",
      "objectId= 216172783590183109\n",
      "objectId= 216172783590183110\n",
      "objectId= 216172783590183131\n",
      "objectId= 216172783590183135\n",
      "objectId= 216172783590183136\n",
      "objectId= 216172783590183138\n",
      "objectId= 216172783590183139\n",
      "objectId= 216172783590183146\n",
      "objectId= 216172783590183148\n",
      "objectId= 216172783590183149\n",
      "objectId= 216172783590183150\n",
      "objectId= 216172783590183161\n",
      "objectId= 216172783590183167\n",
      "objectId= 216172783590183168\n",
      "objectId= 216172783590183169\n",
      "objectId= 216172783590183170\n",
      "objectId= 216172783590183171\n",
      "objectId= 216172783590183172\n",
      "objectId= 216172783590183176\n",
      "objectId= 216172783590183177\n",
      "objectId= 216172783590183220\n",
      "objectId= 216172783590183221\n",
      "objectId= 216172783590183233\n",
      "objectId= 216172783590183236\n",
      "objectId= 216172783590183237\n",
      "objectId= 216172783590183239\n",
      "objectId= 216172783590183241\n",
      "objectId= 216172783590183242\n",
      "objectId= 216172783590183243\n",
      "objectId= 216172783590183250\n",
      "objectId= 216172783590183251\n",
      "objectId= 216172783590183252\n",
      "objectId= 216172783590183253\n",
      "objectId= 216172783590183254\n",
      "objectId= 216172783590183255\n",
      "objectId= 216172783590183256\n",
      "objectId= 216172783590183257\n",
      "objectId= 216172783590183258\n",
      "objectId= 216172783590183290\n",
      "objectId= 216172783590183292\n",
      "objectId= 216172783590183296\n",
      "objectId= 216172783590183297\n",
      "objectId= 216172783590183298\n",
      "objectId= 216172783590183299\n",
      "objectId= 216172783590183308\n",
      "objectId= 216172783590183309\n",
      "objectId= 216172783590183310\n",
      "objectId= 216172783590183311\n",
      "objectId= 216172783590183312\n",
      "objectId= 216172783590183322\n",
      "objectId= 216172783590183333\n",
      "objectId= 216172783590183344\n",
      "objectId= 216172783590183345\n",
      "objectId= 216172783590183354\n",
      "objectId= 216172783590183355\n",
      "objectId= 216172783590183361\n",
      "objectId= 216172783590183362\n",
      "objectId= 216172783590183363\n",
      "objectId= 216172783590183364\n",
      "objectId= 216172783590183385\n",
      "objectId= 216172783590183386\n",
      "objectId= 216172783590183387\n",
      "objectId= 216172783590183392\n",
      "objectId= 216172783590183394\n",
      "objectId= 216172783590183395\n",
      "objectId= 216172783590183396\n",
      "objectId= 216172783590183400\n",
      "objectId= 216172783590183403\n",
      "objectId= 216172783590183406\n",
      "objectId= 216172783590183410\n",
      "objectId= 216172783590183415\n",
      "objectId= 216172783590183416\n",
      "objectId= 216172783590183420\n",
      "objectId= 216172783590183432\n",
      "objectId= 216172783590183445\n",
      "objectId= 216172783590183446\n",
      "objectId= 216172783590183447\n",
      "objectId= 216172783590183448\n",
      "objectId= 216172783590183449\n",
      "objectId= 216172783590183466\n",
      "objectId= 216172783590183481\n",
      "objectId= 216172783590183518\n",
      "objectId= 216172783590183519\n",
      "objectId= 216172783590183546\n",
      "objectId= 216172783590183548\n",
      "objectId= 216172783590183549\n",
      "objectId= 216172783590183551\n",
      "objectId= 216172783590183553\n",
      "objectId= 216172783590183569\n",
      "objectId= 216172783590183598\n",
      "objectId= 216172783590183603\n",
      "objectId= 216172783590183623\n",
      "objectId= 216172783590183634\n",
      "objectId= 216172783590183643\n",
      "objectId= 216172783590183645\n",
      "objectId= 216172783590183652\n",
      "objectId= 216172783590183653\n",
      "objectId= 216172783590183665\n",
      "objectId= 216172783590183667\n",
      "objectId= 216172783590183668\n",
      "objectId= 216172783590183710\n",
      "objectId= 216172783590183715\n",
      "objectId= 216172783590183716\n",
      "objectId= 216172783590183732\n",
      "objectId= 216172783590183737\n",
      "objectId= 216172783590183738\n",
      "objectId= 216172783590183742\n",
      "objectId= 216172783590183743\n",
      "objectId= 216172783590183748\n",
      "objectId= 216172783590183749\n",
      "objectId= 216172783590183753\n",
      "objectId= 216172783590183755\n",
      "objectId= 216172783590183760\n",
      "objectId= 216172783590183764\n",
      "objectId= 216172783590183776\n",
      "objectId= 216172783590183794\n",
      "objectId= 216172783590183795\n",
      "objectId= 216172783590183799\n",
      "objectId= 216172783590183809\n",
      "objectId= 216172783590183810\n",
      "objectId= 216172783590183813\n",
      "objectId= 216172783590183814\n",
      "objectId= 216172783590183830\n",
      "objectId= 216172783590183831\n",
      "objectId= 216172783590183832\n",
      "objectId= 216172783590183833\n",
      "objectId= 216172783590183834\n",
      "objectId= 216172783590183870\n",
      "objectId= 216172783590183871\n",
      "objectId= 216172783590183876\n",
      "objectId= 216172783590183880\n",
      "objectId= 216172783590183881\n",
      "objectId= 216172783590183882\n",
      "objectId= 216172783590183883\n",
      "objectId= 216172783590183902\n",
      "objectId= 216172783590183904\n",
      "objectId= 216172783590183905\n",
      "objectId= 216172783590183911\n",
      "objectId= 216172783590183917\n",
      "objectId= 216172783590183918\n",
      "objectId= 216172783590183919\n",
      "objectId= 216172783590183920\n",
      "objectId= 216172783590183921\n",
      "objectId= 216172783590183922\n",
      "objectId= 216172783590183924\n",
      "objectId= 216172783590183925\n",
      "objectId= 216172783590183926\n",
      "objectId= 216172783590183927\n",
      "objectId= 216172783590183928\n",
      "objectId= 216172783590183929\n",
      "objectId= 216172783590183930\n",
      "objectId= 216172783590183931\n",
      "objectId= 216172783590183932\n",
      "objectId= 216172783590183933\n",
      "objectId= 216172783590183934\n",
      "objectId= 216172783590183935\n",
      "objectId= 216172783590183937\n",
      "objectId= 216172783590183938\n",
      "objectId= 216172783590183952\n",
      "objectId= 216172783590183959\n",
      "objectId= 216172783590183971\n",
      "objectId= 216172783590184015\n",
      "objectId= 216172783590184023\n",
      "objectId= 216172783590184027\n",
      "objectId= 216172783590184029\n",
      "objectId= 216172783590184030\n",
      "objectId= 216172783590184043\n",
      "objectId= 216172783590184044\n",
      "objectId= 216172783590184045\n",
      "objectId= 216172783590184046\n",
      "objectId= 216172783590184047\n",
      "objectId= 216172783590184048\n",
      "objectId= 216172783590184049\n",
      "objectId= 216172783590184050\n",
      "objectId= 216172783590184051\n",
      "objectId= 216172783590184056\n",
      "objectId= 216172783590184058\n",
      "objectId= 216172783590184059\n",
      "objectId= 216172783590184060\n",
      "objectId= 216172783590184061\n",
      "objectId= 216172783590184070\n",
      "objectId= 216172783590184074\n",
      "objectId= 216172783590184075\n",
      "objectId= 216172783590184076\n",
      "objectId= 216172783590184077\n",
      "objectId= 216172783590184080\n",
      "objectId= 216172783590184084\n",
      "objectId= 216172783590184085\n",
      "objectId= 216172783590184090\n",
      "objectId= 216172783590184091\n",
      "objectId= 216172783590184100\n",
      "objectId= 216172783590184101\n",
      "objectId= 216172783590184103\n",
      "objectId= 216172783590184104\n",
      "objectId= 216172783590184105\n",
      "objectId= 216172783590184111\n",
      "objectId= 216172783590184112\n",
      "objectId= 216172783590184113\n",
      "objectId= 216172783590184114\n",
      "objectId= 216172783590184115\n",
      "objectId= 216172783590184117\n",
      "objectId= 216172783590184118\n",
      "objectId= 216172783590184125\n",
      "objectId= 216172783590184127\n",
      "objectId= 216172783590184128\n",
      "objectId= 216172783590184132\n",
      "objectId= 216172783590184134\n",
      "objectId= 216172783590184135\n",
      "objectId= 216172783590184136\n",
      "objectId= 216172783590184137\n",
      "objectId= 216172783590184138\n",
      "objectId= 216172783590184151\n",
      "objectId= 216172783590184152\n",
      "objectId= 216172783590184154\n",
      "objectId= 216172783590184155\n",
      "objectId= 216172783590184161\n",
      "objectId= 216172783590184162\n",
      "objectId= 216172783590184163\n",
      "objectId= 216172783590184164\n",
      "objectId= 216172783590184165\n",
      "objectId= 216172783590184170\n",
      "objectId= 216172783590184171\n",
      "objectId= 216172783590184173\n",
      "objectId= 216172783590184184\n",
      "objectId= 216172783590184185\n",
      "objectId= 216172783590184187\n",
      "objectId= 216172783590184202\n",
      "objectId= 216172783590184203\n",
      "objectId= 216172783590184204\n",
      "objectId= 216172783590184216\n",
      "objectId= 216172783590184218\n",
      "objectId= 216172783590184220\n",
      "objectId= 216172783590184228\n",
      "objectId= 216172783590184229\n",
      "objectId= 216172783590184264\n",
      "objectId= 216172783590184266\n",
      "objectId= 216172783590184278\n",
      "objectId= 216172783590184287\n",
      "objectId= 216172783590184295\n",
      "objectId= 216172783590184296\n",
      "objectId= 216172783590184310\n",
      "objectId= 216172783590184313\n",
      "objectId= 216172783590184318\n",
      "objectId= 216172783590184319\n",
      "objectId= 216172783590184328\n",
      "objectId= 216172783590184329\n",
      "objectId= 216172783590184333\n",
      "objectId= 216172783590184335\n",
      "objectId= 216172783590184336\n",
      "objectId= 216172783590184337\n",
      "objectId= 216172783590184338\n",
      "objectId= 216172783590184367\n",
      "objectId= 216172783590184368\n",
      "objectId= 216172783590184369\n",
      "objectId= 216172783590184388\n",
      "objectId= 216172783590184398\n",
      "objectId= 216172783590184400\n",
      "objectId= 216172783590184402\n",
      "objectId= 216172783590184404\n",
      "objectId= 216172783590184420\n",
      "objectId= 216172783590184435\n",
      "objectId= 216172783590184436\n",
      "objectId= 216172783590184444\n",
      "objectId= 216172783590184457\n",
      "objectId= 216172783590184467\n",
      "objectId= 216172783590184475\n",
      "objectId= 216172783590184480\n",
      "objectId= 216172783590184481\n",
      "objectId= 216172783590184482\n",
      "objectId= 216172783590184492\n",
      "objectId= 216172783590184493\n",
      "objectId= 216172783590184494\n",
      "objectId= 216172783590184496\n",
      "objectId= 216172783590184527\n",
      "objectId= 216172783590184529\n",
      "objectId= 216172783590184542\n",
      "objectId= 216172783590184544\n",
      "objectId= 216172783590184545\n",
      "objectId= 216172783590184550\n",
      "objectId= 216172783590184572\n",
      "objectId= 216172783590184604\n",
      "objectId= 216172783590184605\n",
      "objectId= 216172783590184626\n",
      "objectId= 216172783590184627\n",
      "objectId= 216172783590184629\n",
      "objectId= 216172783590184630\n",
      "objectId= 216172783590184647\n",
      "objectId= 216172783590184651\n",
      "objectId= 216172783590184652\n",
      "objectId= 216172783590184653\n",
      "objectId= 216172783590184655\n",
      "objectId= 216172783590184675\n",
      "objectId= 216172783590184676\n",
      "objectId= 216172783590184678\n",
      "objectId= 216172783590184680\n",
      "objectId= 216172783590184686\n",
      "objectId= 216172783590184694\n",
      "objectId= 216172783590184695\n",
      "objectId= 216172783590184700\n",
      "objectId= 216172783590184704\n",
      "objectId= 216172783590184705\n",
      "objectId= 216172783590184709\n",
      "objectId= 216172783590184711\n",
      "objectId= 216172783590184721\n",
      "objectId= 216172783590184722\n",
      "objectId= 216172783590184730\n",
      "objectId= 216172783590184732\n",
      "objectId= 216172783590184767\n",
      "objectId= 216172783590184773\n",
      "objectId= 216172783590184779\n",
      "objectId= 216172783590184783\n",
      "objectId= 216172783590184801\n",
      "objectId= 216172783590184802\n",
      "objectId= 216172783590184814\n",
      "objectId= 216172783590184828\n",
      "objectId= 216172783590184832\n",
      "objectId= 216172783590184834\n",
      "objectId= 216172783590184835\n",
      "objectId= 216172783590184845\n",
      "objectId= 216172783590184873\n",
      "objectId= 216172783590184875\n",
      "objectId= 216172783590184876\n",
      "objectId= 216172783590184877\n",
      "objectId= 216172783590184896\n",
      "objectId= 216172783590184898\n",
      "objectId= 216172783590184904\n",
      "objectId= 216172783590184905\n",
      "objectId= 216172783590184906\n",
      "objectId= 216172783590184907\n",
      "objectId= 216172783590184917\n",
      "objectId= 216172783590184928\n",
      "objectId= 216172783590184929\n",
      "objectId= 216172783590184930\n",
      "objectId= 216172783590184931\n",
      "objectId= 216172783590184952\n",
      "objectId= 216172783590184966\n",
      "objectId= 216172783590184993\n",
      "objectId= 216172783590184994\n",
      "objectId= 216172783590184997\n",
      "objectId= 216172783590184999\n",
      "objectId= 216172783590185004\n",
      "objectId= 216172783590185006\n",
      "objectId= 216172783590185012\n",
      "objectId= 216172783590185017\n",
      "objectId= 216172783590185025\n",
      "objectId= 216172783590185026\n",
      "objectId= 216172783590185032\n",
      "objectId= 216172783590185033\n",
      "objectId= 216172783590185034\n",
      "objectId= 216172783590185035\n",
      "objectId= 216172783590185036\n",
      "objectId= 216172783590185037\n",
      "objectId= 216172783590185038\n",
      "objectId= 216172783590185039\n",
      "objectId= 216172783590185040\n",
      "objectId= 216172783590185042\n",
      "objectId= 216172783590185065\n",
      "objectId= 216172783590185100\n",
      "objectId= 216172783590185115\n",
      "objectId= 216172783590185121\n"
     ]
    },
    {
     "ename": "KeyboardInterrupt",
     "evalue": "",
     "output_type": "error",
     "traceback": [
      "\u001b[0;31m---------------------------------------------------------------------------\u001b[0m",
      "\u001b[0;31mKeyboardInterrupt\u001b[0m                         Traceback (most recent call last)",
      "\u001b[0;32m<ipython-input-570-7f9ebf1448b0>\u001b[0m in \u001b[0;36m<module>\u001b[0;34m()\u001b[0m\n\u001b[1;32m      7\u001b[0m                                               \u001b[0mflux_column\u001b[0m\u001b[0;34m=\u001b[0m\u001b[0;34m'psfFluxJy'\u001b[0m\u001b[0;34m,\u001b[0m\u001b[0;34m\u001b[0m\u001b[0m\n\u001b[1;32m      8\u001b[0m                                               \u001b[0merror_column\u001b[0m \u001b[0;34m=\u001b[0m \u001b[0;34m'psfFluxErrJy'\u001b[0m\u001b[0;34m,\u001b[0m\u001b[0;34m\u001b[0m\u001b[0m\n\u001b[0;32m----> 9\u001b[0;31m                                               time_column = 'mjd')\n\u001b[0m\u001b[1;32m     10\u001b[0m \u001b[0;34m\u001b[0m\u001b[0m\n\u001b[1;32m     11\u001b[0m \u001b[0;31m# 2.3 Calculate stats for LC using all points\u001b[0m\u001b[0;34m\u001b[0m\u001b[0;34m\u001b[0m\u001b[0m\n",
      "\u001b[0;32m/Users/chris/anaconda3/envs/py36/lib/python3.6/site-packages/pandas/core/groupby.py\u001b[0m in \u001b[0;36mapply\u001b[0;34m(self, func, *args, **kwargs)\u001b[0m\n\u001b[1;32m    692\u001b[0m         \u001b[0;31m# ignore SettingWithCopy here in case the user mutates\u001b[0m\u001b[0;34m\u001b[0m\u001b[0;34m\u001b[0m\u001b[0m\n\u001b[1;32m    693\u001b[0m         \u001b[0;32mwith\u001b[0m \u001b[0moption_context\u001b[0m\u001b[0;34m(\u001b[0m\u001b[0;34m'mode.chained_assignment'\u001b[0m\u001b[0;34m,\u001b[0m \u001b[0;32mNone\u001b[0m\u001b[0;34m)\u001b[0m\u001b[0;34m:\u001b[0m\u001b[0;34m\u001b[0m\u001b[0m\n\u001b[0;32m--> 694\u001b[0;31m             \u001b[0;32mreturn\u001b[0m \u001b[0mself\u001b[0m\u001b[0;34m.\u001b[0m\u001b[0m_python_apply_general\u001b[0m\u001b[0;34m(\u001b[0m\u001b[0mf\u001b[0m\u001b[0;34m)\u001b[0m\u001b[0;34m\u001b[0m\u001b[0m\n\u001b[0m\u001b[1;32m    695\u001b[0m \u001b[0;34m\u001b[0m\u001b[0m\n\u001b[1;32m    696\u001b[0m     \u001b[0;32mdef\u001b[0m \u001b[0m_python_apply_general\u001b[0m\u001b[0;34m(\u001b[0m\u001b[0mself\u001b[0m\u001b[0;34m,\u001b[0m \u001b[0mf\u001b[0m\u001b[0;34m)\u001b[0m\u001b[0;34m:\u001b[0m\u001b[0;34m\u001b[0m\u001b[0m\n",
      "\u001b[0;32m/Users/chris/anaconda3/envs/py36/lib/python3.6/site-packages/pandas/core/groupby.py\u001b[0m in \u001b[0;36m_python_apply_general\u001b[0;34m(self, f)\u001b[0m\n\u001b[1;32m    696\u001b[0m     \u001b[0;32mdef\u001b[0m \u001b[0m_python_apply_general\u001b[0m\u001b[0;34m(\u001b[0m\u001b[0mself\u001b[0m\u001b[0;34m,\u001b[0m \u001b[0mf\u001b[0m\u001b[0;34m)\u001b[0m\u001b[0;34m:\u001b[0m\u001b[0;34m\u001b[0m\u001b[0m\n\u001b[1;32m    697\u001b[0m         keys, values, mutated = self.grouper.apply(f, self._selected_obj,\n\u001b[0;32m--> 698\u001b[0;31m                                                    self.axis)\n\u001b[0m\u001b[1;32m    699\u001b[0m \u001b[0;34m\u001b[0m\u001b[0m\n\u001b[1;32m    700\u001b[0m         return self._wrap_applied_output(\n",
      "\u001b[0;32m/Users/chris/anaconda3/envs/py36/lib/python3.6/site-packages/pandas/core/groupby.py\u001b[0m in \u001b[0;36mapply\u001b[0;34m(self, f, data, axis)\u001b[0m\n\u001b[1;32m   1593\u001b[0m                 hasattr(splitter, 'fast_apply') and axis == 0):\n\u001b[1;32m   1594\u001b[0m             \u001b[0;32mtry\u001b[0m\u001b[0;34m:\u001b[0m\u001b[0;34m\u001b[0m\u001b[0m\n\u001b[0;32m-> 1595\u001b[0;31m                 \u001b[0mvalues\u001b[0m\u001b[0;34m,\u001b[0m \u001b[0mmutated\u001b[0m \u001b[0;34m=\u001b[0m \u001b[0msplitter\u001b[0m\u001b[0;34m.\u001b[0m\u001b[0mfast_apply\u001b[0m\u001b[0;34m(\u001b[0m\u001b[0mf\u001b[0m\u001b[0;34m,\u001b[0m \u001b[0mgroup_keys\u001b[0m\u001b[0;34m)\u001b[0m\u001b[0;34m\u001b[0m\u001b[0m\n\u001b[0m\u001b[1;32m   1596\u001b[0m                 \u001b[0;32mreturn\u001b[0m \u001b[0mgroup_keys\u001b[0m\u001b[0;34m,\u001b[0m \u001b[0mvalues\u001b[0m\u001b[0;34m,\u001b[0m \u001b[0mmutated\u001b[0m\u001b[0;34m\u001b[0m\u001b[0m\n\u001b[1;32m   1597\u001b[0m             \u001b[0;32mexcept\u001b[0m \u001b[0;34m(\u001b[0m\u001b[0mlib\u001b[0m\u001b[0;34m.\u001b[0m\u001b[0mInvalidApply\u001b[0m\u001b[0;34m)\u001b[0m\u001b[0;34m:\u001b[0m\u001b[0;34m\u001b[0m\u001b[0m\n",
      "\u001b[0;32m/Users/chris/anaconda3/envs/py36/lib/python3.6/site-packages/pandas/core/groupby.py\u001b[0m in \u001b[0;36mfast_apply\u001b[0;34m(self, f, names)\u001b[0m\n\u001b[1;32m   4061\u001b[0m \u001b[0;34m\u001b[0m\u001b[0m\n\u001b[1;32m   4062\u001b[0m         \u001b[0msdata\u001b[0m \u001b[0;34m=\u001b[0m \u001b[0mself\u001b[0m\u001b[0;34m.\u001b[0m\u001b[0m_get_sorted_data\u001b[0m\u001b[0;34m(\u001b[0m\u001b[0;34m)\u001b[0m\u001b[0;34m\u001b[0m\u001b[0m\n\u001b[0;32m-> 4063\u001b[0;31m         \u001b[0mresults\u001b[0m\u001b[0;34m,\u001b[0m \u001b[0mmutated\u001b[0m \u001b[0;34m=\u001b[0m \u001b[0mlib\u001b[0m\u001b[0;34m.\u001b[0m\u001b[0mapply_frame_axis0\u001b[0m\u001b[0;34m(\u001b[0m\u001b[0msdata\u001b[0m\u001b[0;34m,\u001b[0m \u001b[0mf\u001b[0m\u001b[0;34m,\u001b[0m \u001b[0mnames\u001b[0m\u001b[0;34m,\u001b[0m \u001b[0mstarts\u001b[0m\u001b[0;34m,\u001b[0m \u001b[0mends\u001b[0m\u001b[0;34m)\u001b[0m\u001b[0;34m\u001b[0m\u001b[0m\n\u001b[0m\u001b[1;32m   4064\u001b[0m \u001b[0;34m\u001b[0m\u001b[0m\n\u001b[1;32m   4065\u001b[0m         \u001b[0;32mreturn\u001b[0m \u001b[0mresults\u001b[0m\u001b[0;34m,\u001b[0m \u001b[0mmutated\u001b[0m\u001b[0;34m\u001b[0m\u001b[0m\n",
      "\u001b[0;32mpandas/src/reduce.pyx\u001b[0m in \u001b[0;36mpandas.lib.apply_frame_axis0 (pandas/lib.c:43057)\u001b[0;34m()\u001b[0m\n",
      "\u001b[0;32m/Users/chris/anaconda3/envs/py36/lib/python3.6/site-packages/pandas/core/groupby.py\u001b[0m in \u001b[0;36mf\u001b[0;34m(g)\u001b[0m\n\u001b[1;32m    683\u001b[0m                 \u001b[0;32mdef\u001b[0m \u001b[0mf\u001b[0m\u001b[0;34m(\u001b[0m\u001b[0mg\u001b[0m\u001b[0;34m)\u001b[0m\u001b[0;34m:\u001b[0m\u001b[0;34m\u001b[0m\u001b[0m\n\u001b[1;32m    684\u001b[0m                     \u001b[0;32mwith\u001b[0m \u001b[0mnp\u001b[0m\u001b[0;34m.\u001b[0m\u001b[0merrstate\u001b[0m\u001b[0;34m(\u001b[0m\u001b[0mall\u001b[0m\u001b[0;34m=\u001b[0m\u001b[0;34m'ignore'\u001b[0m\u001b[0;34m)\u001b[0m\u001b[0;34m:\u001b[0m\u001b[0;34m\u001b[0m\u001b[0m\n\u001b[0;32m--> 685\u001b[0;31m                         \u001b[0;32mreturn\u001b[0m \u001b[0mfunc\u001b[0m\u001b[0;34m(\u001b[0m\u001b[0mg\u001b[0m\u001b[0;34m,\u001b[0m \u001b[0;34m*\u001b[0m\u001b[0margs\u001b[0m\u001b[0;34m,\u001b[0m \u001b[0;34m**\u001b[0m\u001b[0mkwargs\u001b[0m\u001b[0;34m)\u001b[0m\u001b[0;34m\u001b[0m\u001b[0m\n\u001b[0m\u001b[1;32m    686\u001b[0m             \u001b[0;32melse\u001b[0m\u001b[0;34m:\u001b[0m\u001b[0;34m\u001b[0m\u001b[0m\n\u001b[1;32m    687\u001b[0m                 raise ValueError('func must be a callable if args or '\n",
      "\u001b[0;32m/Users/chris/GradResearch/SDSS_S82_FP_research/packages/variabilityFunctions.py\u001b[0m in \u001b[0;36mcomputeVarMetrics\u001b[0;34m(group, flux_column, error_column, time_column, verbose, calc_sigma_pdf)\u001b[0m\n\u001b[1;32m    569\u001b[0m                      'probInTwoStdev':np.nan ,'GaussLike':np.nan, 'sigmaPdfMax':np.nan}\n\u001b[1;32m    570\u001b[0m         \u001b[0;32melse\u001b[0m \u001b[0;34m:\u001b[0m\u001b[0;34m\u001b[0m\u001b[0m\n\u001b[0;32m--> 571\u001b[0;31m             \u001b[0mstats\u001b[0m\u001b[0;34m,\u001b[0m \u001b[0mmu\u001b[0m\u001b[0;34m,\u001b[0m \u001b[0msigma\u001b[0m \u001b[0;34m=\u001b[0m \u001b[0mget_mu_sigma\u001b[0m\u001b[0;34m(\u001b[0m\u001b[0mFlux\u001b[0m\u001b[0;34m,\u001b[0m \u001b[0mFluxErr\u001b[0m\u001b[0;34m,\u001b[0m \u001b[0;36m1000\u001b[0m\u001b[0;34m,\u001b[0m \u001b[0mreturn_plot_data\u001b[0m\u001b[0;34m=\u001b[0m\u001b[0;32mFalse\u001b[0m\u001b[0;34m,\u001b[0m \u001b[0mreturn_sigma_pdf_info\u001b[0m \u001b[0;34m=\u001b[0m \u001b[0;32mTrue\u001b[0m\u001b[0;34m)\u001b[0m\u001b[0;34m\u001b[0m\u001b[0m\n\u001b[0m\u001b[1;32m    572\u001b[0m \u001b[0;34m\u001b[0m\u001b[0m\n\u001b[1;32m    573\u001b[0m \u001b[0;34m\u001b[0m\u001b[0m\n",
      "\u001b[0;32m/Users/chris/GradResearch/SDSS_S82_FP_research/packages/variabilityFunctions.py\u001b[0m in \u001b[0;36mget_mu_sigma\u001b[0;34m(xi, ei, N_boot, return_plot_data, gridsize, sigma_gridsize, mu_gridsize, return_sigma_pdf_info)\u001b[0m\n\u001b[1;32m    204\u001b[0m         \u001b[0mlogL\u001b[0m \u001b[0;34m=\u001b[0m \u001b[0mgaussgauss_logL\u001b[0m\u001b[0;34m(\u001b[0m\u001b[0mxi\u001b[0m\u001b[0;34m,\u001b[0m \u001b[0mei\u001b[0m\u001b[0;34m,\u001b[0m \u001b[0mmu\u001b[0m\u001b[0;34m,\u001b[0m \u001b[0msigma\u001b[0m\u001b[0;34m[\u001b[0m\u001b[0;34m:\u001b[0m\u001b[0;34m,\u001b[0m \u001b[0mnp\u001b[0m\u001b[0;34m.\u001b[0m\u001b[0mnewaxis\u001b[0m\u001b[0;34m]\u001b[0m\u001b[0;34m)\u001b[0m\u001b[0;34m\u001b[0m\u001b[0m\n\u001b[1;32m    205\u001b[0m         \u001b[0mlogL\u001b[0m \u001b[0;34m-=\u001b[0m \u001b[0mlogL\u001b[0m\u001b[0;34m.\u001b[0m\u001b[0mmax\u001b[0m\u001b[0;34m(\u001b[0m\u001b[0;34m)\u001b[0m\u001b[0;34m\u001b[0m\u001b[0m\n\u001b[0;32m--> 206\u001b[0;31m         \u001b[0mind\u001b[0m \u001b[0;34m=\u001b[0m \u001b[0mnp\u001b[0m\u001b[0;34m.\u001b[0m\u001b[0mwhere\u001b[0m\u001b[0;34m(\u001b[0m\u001b[0mlogL\u001b[0m \u001b[0;34m==\u001b[0m \u001b[0mnp\u001b[0m\u001b[0;34m.\u001b[0m\u001b[0mmax\u001b[0m\u001b[0;34m(\u001b[0m\u001b[0mlogL\u001b[0m\u001b[0;34m)\u001b[0m\u001b[0;34m)\u001b[0m\u001b[0;34m\u001b[0m\u001b[0m\n\u001b[0m\u001b[1;32m    207\u001b[0m         \u001b[0mL\u001b[0m \u001b[0;34m=\u001b[0m \u001b[0mnp\u001b[0m\u001b[0;34m.\u001b[0m\u001b[0mexp\u001b[0m\u001b[0;34m(\u001b[0m\u001b[0mlogL\u001b[0m\u001b[0;34m)\u001b[0m\u001b[0;34m\u001b[0m\u001b[0m\n\u001b[1;32m    208\u001b[0m \u001b[0;34m\u001b[0m\u001b[0m\n",
      "\u001b[0;31mKeyboardInterrupt\u001b[0m: "
     ]
    }
   ],
   "source": [
    "import imp\n",
    "imp.reload(varF)\n",
    "# 2.2 Calculate stats for LC using only bright points \n",
    "mask_bright = ~raw_data_df['flagFaint'].values\n",
    "bright_grouped = raw_data_df[mask_bright].groupby('objectId')\n",
    "varMetricsFull_bright  = bright_grouped.apply(varF.computeVarMetrics, \n",
    "                                              flux_column='psfFluxJy',\n",
    "                                              error_column = 'psfFluxErrJy',\n",
    "                                              time_column = 'mjd')\n",
    "\n",
    "# 2.3 Calculate stats for LC using all points \n",
    "all_grouped = raw_data_df.groupby('objectId')\n",
    "varMetricsFull_all  = all_grouped.apply(varF.computeVarMetrics, \n",
    "                                              flux_column='psfFluxJy',\n",
    "                                              error_column = 'psfFluxErrJy',\n",
    "                                              time_column = 'mjd') \n",
    "\n"
   ]
  },
  {
   "cell_type": "code",
   "execution_count": 571,
   "metadata": {
    "collapsed": false
   },
   "outputs": [
    {
     "data": {
      "text/plain": [
       "array([ True,  True,  True, ..., False, False, False], dtype=bool)"
      ]
     },
     "execution_count": 571,
     "metadata": {},
     "output_type": "execute_result"
    }
   ],
   "source": [
    "mask_bright"
   ]
  },
  {
   "cell_type": "markdown",
   "metadata": {},
   "source": [
    "The two are very different!  Now we want to prepend some string to each column, so that I know which chi2 was calculated using all points, and which using only bright points.Then we want to stack them  : at this point, it's easier to convert all back to AstroPy and use hstack  http://docs.astropy.org/en/stable/api/astropy.table.hstack.html"
   ]
  },
  {
   "cell_type": "code",
   "execution_count": 317,
   "metadata": {
    "collapsed": false
   },
   "outputs": [],
   "source": [
    "# 2.4  calculate magnitudes from fluxes ... \n",
    "def flux2absigma(flux, fluxsigma):\n",
    "      \"\"\"Compute AB mag sigma given flux and flux sigma\n",
    "\n",
    "      Here units of flux,  fluxsigma  don't matter \n",
    "      as long as they are consistent, since we are dividing \n",
    "      one by the other, so all the units cancel out.\n",
    "      \"\"\"\n",
    "      FIVE_OVER_2LOG10 = 1.085736204758129569\n",
    "      return FIVE_OVER_2LOG10 * fluxsigma / flux;\n",
    "\n",
    "\n",
    "def flux2ab(flux, unit = 'Jy'):\n",
    "  \"\"\"Compute AB mag given flux. \n",
    "\n",
    "  Accept two unit types :  \n",
    "  *  'cgs', meaning flux is in  ergs / s / Hz / cm2\n",
    "  *  'Jy', meaning flux is in Jy.  1 Jy = 1E-23 * ergs/s/Hz/cm2\n",
    "  \"\"\"\n",
    "  if unit == 'Jy':\n",
    "    return -2.5 * np.log10(flux) + 8.90\n",
    "  elif unit == 'cgs':\n",
    "    return -2.5 * np.log10(flux) - 48.6\n",
    "\n",
    "# Calculate magnitudes based on average fluxes :\n",
    "# psfMean  psfMedian  psfMeanErr  psfMedianErr \n",
    "varMetricsFull_all['psfMean'] = flux2ab(varMetricsFull_all['psfFluxMean'], unit='Jy')\n",
    "varMetricsFull_all['psfMedian'] = flux2ab(varMetricsFull_all['psfFluxMedian'], unit='Jy')\n",
    "varMetricsFull_all['psfMeanErr'] = flux2absigma(varMetricsFull_all['psfFluxMean'],\n",
    "                                                varMetricsFull_all['psfFluxMeanErr'])\n",
    "varMetricsFull_all['psfMedianErr'] = flux2absigma(varMetricsFull_all['psfFluxMedian'],\n",
    "                                                  varMetricsFull_all['psfFluxMedianErr'])\n",
    "\n",
    "\n",
    "varMetricsFull_bright['psfMean'] = flux2ab(varMetricsFull_bright['psfFluxMean'], unit='Jy')\n",
    "varMetricsFull_bright['psfMedian'] = flux2ab(varMetricsFull_bright['psfFluxMedian'], unit='Jy')\n",
    "varMetricsFull_bright['psfMeanErr'] = flux2absigma(varMetricsFull_bright['psfFluxMean'],\n",
    "                                                varMetricsFull_bright['psfFluxMeanErr'])\n",
    "varMetricsFull_bright['psfMedianErr'] = flux2absigma(varMetricsFull_bright['psfFluxMedian'],\n",
    "                                                  varMetricsFull_bright['psfFluxMedianErr'])\n",
    "\n",
    "print('Calculating magnitudes from fluxes is finished')\n",
    "\n",
    "\n",
    "# 2.5  change colnames to reflect which subset of points per lightcurve was used \n",
    "# the easiest way to do it is to add_suffix in pandas \n",
    "\n",
    "varMetricsFull_all = varMetricsFull_all.add_suffix('_all')\n",
    "varMetricsFull_bright = varMetricsFull_bright.add_suffix('_bright')\n",
    "\n",
    "# 2.6 combine the two ... \n",
    "varMetricsFull_combined = pd.concat([varMetricsFull_all,varMetricsFull_bright], axis=1)\n"
   ]
  },
  {
   "cell_type": "code",
   "execution_count": 323,
   "metadata": {
    "collapsed": false
   },
   "outputs": [
    {
     "data": {
      "text/plain": [
       "<matplotlib.collections.PathCollection at 0x122fab630>"
      ]
     },
     "execution_count": 323,
     "metadata": {},
     "output_type": "execute_result"
    },
    {
     "data": {
      "image/png": "[encoded data removed]",
      "text/plain": [
       "<matplotlib.figure.Figure at 0x115e58978>"
      ]
     },
     "metadata": {},
     "output_type": "display_data"
    }
   ],
   "source": [
    "# Now we can easily plot quantities calculated using all points \n",
    "# or only bright points,\n",
    "# as well as select 'bright' objects , which have high meanSN_all,  \n",
    "# or those that are 'dim' - have a low meanSN_all...  \n",
    "\n",
    "#plt.hist(varMetricsFull_combined['N_all'])\n",
    "#plt.hist(varMetricsFull_combined['N_bright'])\n",
    "\n",
    "plt.scatter(varMetricsFull_combined.chi2DOF_all, varMetricsFull_combined.chi2DOF_bright)"
   ]
  },
  {
   "cell_type": "code",
   "execution_count": 325,
   "metadata": {
    "collapsed": false
   },
   "outputs": [
    {
     "data": {
      "text/plain": [
       "56"
      ]
     },
     "execution_count": 325,
     "metadata": {},
     "output_type": "execute_result"
    }
   ],
   "source": [
    "# How many cols we have now per band?\n",
    "\n",
    "len(varMetricsFull_combined.columns)"
   ]
  },
  {
   "cell_type": "code",
   "execution_count": null,
   "metadata": {
    "collapsed": true
   },
   "outputs": [],
   "source": [
    "# this means over 250 cols in combined file !  \n",
    "# starts getting overwhelming... \n",
    "\n"
   ]
  }
 ],
 "metadata": {
  "kernelspec": {
   "display_name": "Python 3",
   "language": "python",
   "name": "python3"
  },
  "language_info": {
   "codemirror_mode": {
    "name": "ipython",
    "version": 3
   },
   "file_extension": ".py",
   "mimetype": "text/x-python",
   "name": "python",
   "nbconvert_exporter": "python",
   "pygments_lexer": "ipython3",
   "version": "3.6.0"
  }
 },
 "nbformat": 4,
 "nbformat_minor": 2
}

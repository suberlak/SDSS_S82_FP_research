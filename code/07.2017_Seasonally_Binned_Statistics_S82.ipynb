{
 "cells": [
  {
   "cell_type": "markdown",
   "metadata": {},
   "source": [
    "## Testing aggregates on Seasonally Binned S82 light curves "
   ]
  },
  {
   "cell_type": "markdown",
   "metadata": {},
   "source": [
    "This notebook is mainly to test routine \n",
    "\n",
    "    process_patch_seasonally()\n",
    "\n",
    "which is used to calculate aggregate metrics on seasonally-binned data "
   ]
  },
  {
   "cell_type": "markdown",
   "metadata": {},
   "source": [
    "### Standard imports "
   ]
  },
  {
   "cell_type": "code",
   "execution_count": 1,
   "metadata": {
    "collapsed": true
   },
   "outputs": [],
   "source": [
    "import numpy as np\n",
    "import pandas as pd \n",
    "import os\n",
    "import sys\n",
    "import datetime\n",
    "from astropy.time import Time\n",
    "from astropy.table import Table\n",
    "from astropy.table import Column\n",
    "\n",
    "path_to_home = '/Users/chris/GradResearch/'\n",
    "sys.path.insert(0, path_to_home + 'SDSS_S82_FP_research/packages/')\n",
    "pd.options.mode.chained_assignment = None\n",
    "\n",
    "import faintFunctions as faintF \n",
    "import variabilityFunctions as varF\n",
    "import imp\n",
    "import processPatch2 as procP"
   ]
  },
  {
   "cell_type": "markdown",
   "metadata": {},
   "source": [
    "### Testing the code on one filter-patch"
   ]
  },
  {
   "cell_type": "markdown",
   "metadata": {},
   "source": [
    "The args and kwargs  : "
   ]
  },
  {
   "cell_type": "markdown",
   "metadata": {},
   "source": [
    "    process_patch_seasonally(name, DirIn, DirOut, pre='VarD_', \n",
    "    calc_sigma_pdf=False, limitNrows=None, verbose = None )"
   ]
  },
  {
   "cell_type": "code",
   "execution_count": 2,
   "metadata": {
    "collapsed": true
   },
   "outputs": [],
   "source": [
    "name = 'u00_21.csv'\n",
    "DirIn = '/Users/chris/GradResearch/SDSS_S82_FP_research/raw_data/\\\n",
    "rawDataFPSplit/'\n",
    "DirOut = '/Users/chris/GradResearch/SDSS_S82_FP_research/\\\n",
    "data_products/varMetrics/'\n",
    "pre = 'VarD_'\n",
    "calc_sigma_pdf = False\n",
    "limitNrows = 1e5\n",
    "verbose = None "
   ]
  },
  {
   "cell_type": "markdown",
   "metadata": {},
   "source": [
    "start with psfFlux , psfFluxErr,  and convert to Jansky, \n",
    "      remove all NaN or missing rows... "
   ]
  },
  {
   "cell_type": "code",
   "execution_count": 3,
   "metadata": {
    "collapsed": false
   },
   "outputs": [
    {
     "name": "stdout",
     "output_type": "stream",
     "text": [
      "\n",
      " Processing filter_patch file u00_21.csv\n"
     ]
    }
   ],
   "source": [
    "print('\\n Processing filter_patch file %s' % name)\n",
    "    \n",
    "# read in the raw lightcurve... \n",
    "# NOTE : if nrows = None , pd.read_csv() reads the entire file \n",
    "raw_data_df = pd.read_csv(DirIn+name+'.gz', compression='gzip',  \n",
    "             usecols=['objectId', 'mjd', 'psfFlux', 'psfFluxErr'], \n",
    "             nrows=limitNrows )\n",
    "raw_data = Table.from_pandas(raw_data_df)\n",
    "\n",
    "##########  STEP 1 : single-epoch data ###########  \n",
    "#         1 Jy = 1.0E-26 W/m^2/Hz = 1.0E-23 erg/s/cm^2/Hz\n",
    "# 1.1  :  convert Flux from erg/cm2/sec/Hz  to Jansky\n",
    "# make new columns with data in Jy, to follow good \n",
    "# programming practice (otherwise, changes are either\n",
    "# on a view or a copy and it's not always clear)\n",
    "\n",
    "raw_data['psfFluxJy'] = raw_data['psfFlux'] * 1E23 \n",
    "raw_data['psfFluxErrJy'] = raw_data['psfFluxErr'] * 1E23 \n",
    "\n",
    "\n",
    "# 1.2  : drop all rows which have NaNs in psfFlux .... \n",
    "m1  = np.isnan(raw_data['psfFlux'].data)  # true if NaN \n",
    " # true if not finite... \n",
    "m2 = np.bitwise_not(np.isfinite(raw_data['psfFlux'].data))  \n",
    "\n",
    "\n",
    "# logical or : true if either condition satisfied \n",
    "m = m1 | m2  \n",
    "\n",
    "if np.sum(m) > 0 :  # only apply if there is anything to drop ... \n",
    "    print('In  file %s there are : \\n.... %d rows where psfFlux \\\n",
    "        is NaN'%(name, np.sum(m1)))\n",
    "    print('.... %d rows where psfFlux is not finite  '% np.sum(m2))\n",
    "    print('All such rows are dropped')\n",
    "    indices = np.arange(len(raw_data))\n",
    "    remove_rows= indices[m]\n",
    "    raw_data.remove_rows(remove_rows)\n",
    "\n",
    "# 1.3 : check psfFluxErr : drop all rows which have NaN, or 0 ,\n",
    "# to avoid getting error when calculating S/N  = psfFlux / psfFluxErr \n",
    "\n",
    "m1  = np.isnan(raw_data['psfFluxErr'].data)  # true if NaN \n",
    "# true if not finite... \n",
    "m2 =  np.bitwise_not(np.isfinite(raw_data['psfFluxErr'].data))  \n",
    "m3 =  raw_data['psfFluxErr'].data == 0 \n",
    "# logical or : true if either condition satisfied \n",
    "m = m1 | m2  | m3\n",
    "\n",
    "if np.sum(m) > 0 :  # only apply if there is anything to drop ... \n",
    "    print('In  file %s there are : \\n.... %d rows where psfFluxErr \\\n",
    "        is NaN'%(name, np.sum(m1)))\n",
    "    print('.... %d rows where psfFluxErr is not finite'% np.sum(m2))\n",
    "    print('.... %d rows where psfFluxErr = 0 '% np.sum(m3))\n",
    "    print('All such rows are dropped')\n",
    "    indices = np.arange(len(raw_data))\n",
    "    remove_rows= indices[m]\n",
    "    raw_data.remove_rows(remove_rows)"
   ]
  },
  {
   "cell_type": "code",
   "execution_count": 4,
   "metadata": {
    "collapsed": false
   },
   "outputs": [
    {
     "data": {
      "text/html": [
       "&lt;Table length=5&gt;\n",
       "<table id=\"table4507945504\" class=\"table-striped table-bordered table-condensed\">\n",
       "<thead><tr><th>objectId</th><th>mjd</th><th>psfFlux</th><th>psfFluxErr</th><th>psfFluxJy</th><th>psfFluxErrJy</th></tr></thead>\n",
       "<thead><tr><th>int64</th><th>float64</th><th>float64</th><th>float64</th><th>float64</th><th>float64</th></tr></thead>\n",
       "<tr><td>216172782516437336</td><td>51819.3547092</td><td>2.96635973015e-29</td><td>1.00141030769e-29</td><td>2.96635973015e-06</td><td>1.00141030769e-06</td></tr>\n",
       "<tr><td>216172782516437336</td><td>52522.3160904</td><td>-2.57309296039e-30</td><td>9.60874836566e-30</td><td>-2.57309296039e-07</td><td>9.60874836566e-07</td></tr>\n",
       "<tr><td>216172782516437336</td><td>52552.3115881</td><td>-2.57873134338e-30</td><td>1.19206364848e-29</td><td>-2.57873134338e-07</td><td>1.19206364848e-06</td></tr>\n",
       "<tr><td>216172782516437336</td><td>52558.3198825</td><td>2.58962936179e-29</td><td>1.02984796939e-29</td><td>2.58962936179e-06</td><td>1.02984796939e-06</td></tr>\n",
       "<tr><td>216172782516437336</td><td>52577.2076585</td><td>1.09094753294e-29</td><td>7.28209215822e-30</td><td>1.09094753294e-06</td><td>7.28209215822e-07</td></tr>\n",
       "</table>"
      ],
      "text/plain": [
       "<Table length=5>\n",
       "     objectId           mjd      ...     psfFluxJy         psfFluxErrJy  \n",
       "      int64           float64    ...      float64            float64     \n",
       "------------------ ------------- ... ------------------ -----------------\n",
       "216172782516437336 51819.3547092 ...  2.96635973015e-06 1.00141030769e-06\n",
       "216172782516437336 52522.3160904 ... -2.57309296039e-07 9.60874836566e-07\n",
       "216172782516437336 52552.3115881 ... -2.57873134338e-07 1.19206364848e-06\n",
       "216172782516437336 52558.3198825 ...  2.58962936179e-06 1.02984796939e-06\n",
       "216172782516437336 52577.2076585 ...  1.09094753294e-06 7.28209215822e-07"
      ]
     },
     "execution_count": 4,
     "metadata": {},
     "output_type": "execute_result"
    }
   ],
   "source": [
    "raw_data[:5]"
   ]
  },
  {
   "cell_type": "markdown",
   "metadata": {
    "collapsed": true
   },
   "source": [
    "aggregate by objectId, and within each aggregate,  define \n",
    "    in which season is each epochal forced photometry measurement "
   ]
  },
  {
   "cell_type": "code",
   "execution_count": 5,
   "metadata": {
    "collapsed": true
   },
   "outputs": [],
   "source": [
    "# make a new column to designate seasons...\n",
    "raw_data['season'] = np.nan"
   ]
  },
  {
   "cell_type": "code",
   "execution_count": 6,
   "metadata": {
    "collapsed": false
   },
   "outputs": [],
   "source": [
    "# I make a list of boundaries between season start / end : season_bounds\n",
    "# first it's a list with 2005-08-01 , 2006-08-01, etc...\n",
    "season_bounds = [str(year)+'-08-01 00:00:00.000' for year in np.arange(2005,2009)]\n",
    "# Then I insert a very early date at the beginning of the list, \n",
    "season_bounds.insert(0,'1990-08-01 00:00:00.000' )\n",
    "# so that all epochs between\n",
    "# 1990 and 2005 are clustered together.\n",
    "# Thus 1990-08-01 - 2005-08-01  is Season1\n",
    "# 2005-2006  : Season2 ;  2006-2007 : Season3, etc.  \n",
    "# All photometry is averaged within each Season. \n",
    "\n",
    "# Use AstroPy Time module\n",
    "cutDates = Time(season_bounds, format='iso')\n",
    "\n",
    "seasons = np.arange(len(cutDates))+0 "
   ]
  },
  {
   "cell_type": "code",
   "execution_count": 15,
   "metadata": {
    "collapsed": false
   },
   "outputs": [],
   "source": [
    "# Assign value of a season for each row...\n",
    "for i in range(len(cutDates.mjd)-1):\n",
    "    mask = (raw_data['mjd'].data > cutDates[i].mjd) * \\\n",
    "           (raw_data['mjd'].data < cutDates[i+1].mjd)\n",
    "    raw_data['season'][mask]  = seasons[i]  \n",
    "    # this is better than raw_data[mask]['season'] : \n",
    "    # somehow the order  matters "
   ]
  },
  {
   "cell_type": "code",
   "execution_count": 16,
   "metadata": {
    "collapsed": false
   },
   "outputs": [
    {
     "data": {
      "text/plain": [
       "array([ 0.,  0.,  0., ...,  3.,  3.,  3.])"
      ]
     },
     "execution_count": 16,
     "metadata": {},
     "output_type": "execute_result"
    }
   ],
   "source": [
    "raw_data['season'].data"
   ]
  },
  {
   "cell_type": "code",
   "execution_count": 20,
   "metadata": {
    "collapsed": false
   },
   "outputs": [
    {
     "name": "stderr",
     "output_type": "stream",
     "text": [
      "/Users/chris/anaconda3/envs/py36/lib/python3.6/site-packages/matplotlib/figure.py:1742: UserWarning: This figure includes Axes that are not compatible with tight_layout, so its results might be incorrect.\n",
      "  warnings.warn(\"This figure includes Axes that are not \"\n"
     ]
    },
    {
     "data": {
      "image/png": "[encoded data removed]",
      "text/plain": [
       "<matplotlib.figure.Figure at 0x11b69fcf8>"
      ]
     },
     "metadata": {},
     "output_type": "display_data"
    }
   ],
   "source": [
    "%matplotlib inline\n",
    "# plot illustration of how mjd's are grouped into seasons...\n",
    "import matplotlib.pyplot as plt\n",
    "# Generic plot settings...\n",
    "from matplotlib import rcParams      \n",
    "rcParams['ytick.labelsize'] = 15\n",
    "rcParams['xtick.labelsize'] = 15\n",
    "rcParams['axes.labelsize'] = 20\n",
    "rcParams['axes.linewidth'] = 2\n",
    "rcParams['font.size'] = 15\n",
    "rcParams['axes.titlesize'] = 20\n",
    "\n",
    "fig,ax = plt.subplots()\n",
    "ax.scatter( raw_data['mjd'].data, np.array(raw_data['season'].data).astype(int))\n",
    "ax.set_xlabel('mjd')\n",
    "ax.set_ylabel('season')\n",
    "plt.savefig('test.png')"
   ]
  },
  {
   "cell_type": "code",
   "execution_count": 21,
   "metadata": {
    "collapsed": true
   },
   "outputs": [],
   "source": [
    "# At the moment, it is impossible to apply complicated \n",
    "# functions to groupby objects....\n",
    "# Easier at this point to just convert AstroPy table \n",
    "# to Pandas,  and do it from here on in Pandas ...\n",
    "# Bummer. \n",
    "\n",
    "# But thankfully it only takes a few seconds \n",
    "# even on mac,  on the full patch  file \n",
    "raw_data_df = raw_data.to_pandas()\n",
    "\n",
    "# calculate seasonal averages \n",
    "grouped = raw_data_df.groupby(['objectId','season'])"
   ]
  },
  {
   "cell_type": "code",
   "execution_count": 27,
   "metadata": {
    "collapsed": false
   },
   "outputs": [
    {
     "data": {
      "text/plain": [
       "<module 'variabilityFunctions' from '/Users/chris/GradResearch/SDSS_S82_FP_research/packages/variabilityFunctions.py'>"
      ]
     },
     "execution_count": 27,
     "metadata": {},
     "output_type": "execute_result"
    }
   ],
   "source": [
    "imp.reload(varF)"
   ]
  },
  {
   "cell_type": "code",
   "execution_count": 104,
   "metadata": {
    "collapsed": false
   },
   "outputs": [],
   "source": [
    "#seasonal_averages"
   ]
  },
  {
   "cell_type": "code",
   "execution_count": 29,
   "metadata": {
    "collapsed": false
   },
   "outputs": [],
   "source": [
    "seasonal_averages= grouped.apply(varF.computeVarMetrics, \n",
    "                                 flux_column='psfFluxJy',\n",
    "                                 error_column = 'psfFluxErrJy',\n",
    "                                 time_column = 'mjd', \n",
    "                                 calc_sigma_pdf = False, \n",
    "                                 verbose=False,\n",
    "                                 seasonal_average = True)"
   ]
  },
  {
   "cell_type": "code",
   "execution_count": 79,
   "metadata": {
    "collapsed": false
   },
   "outputs": [
    {
     "name": "stdout",
     "output_type": "stream",
     "text": [
      "There are 0 seasons of 5377 that have Mean-based  S/N < 2\n",
      "There are 0 seasons of 5377 that have Median-based  S/N < 2\n"
     ]
    }
   ],
   "source": [
    "# Calculate S/N : first using mean, and then median, and in each case if they\n",
    "# are below 2,  replace by faintMean, faintMedian, faintRMS \n",
    "\n",
    "# read in the lookup interpolation table, \n",
    "# which makes it very fast thanks to the \n",
    "# smoothness of functions used  \n",
    "table_address = 'flat_prior_const_counts_lookup.csv'\n",
    "lookup = Table.read(table_address)\n",
    "\n",
    "\n",
    "# 1.5  calculate faint quantities for all rows  where S/N < 2 \n",
    "for avg_method in ['Mean', 'Median']:\n",
    "    S = seasonal_averages['psfFlux'+avg_method].values\n",
    "    N = seasonal_averages['psfFlux'+avg_method+'Err'].values\n",
    "    SN = S/N\n",
    "    mask_SN = SN < 2 \n",
    "    seasonal_averages['flagFaint'+avg_method] = mask_SN\n",
    "    print('There are %d seasons of %d that have %s-based  S/N < 2' %(np.sum(mask_SN),\\\n",
    "        len(mask_SN), avg_method))\n",
    "\n",
    "    # interpolate at the xObs = SN  locations .... \n",
    "    faint_SN = SN[mask_SN]\n",
    "    xMean =  np.interp(faint_SN, lookup['xObs'].data, lookup['xMean'].data)\n",
    "    xMed =  np.interp(faint_SN,lookup['xObs'].data, lookup['xMedian'].data)\n",
    "    xSigma =  np.interp(faint_SN,lookup['xObs'].data,lookup['xSigma'].data)\n",
    "    xRMS = np.interp(faint_SN, lookup['xObs'].data, lookup['xRMS'].data)\n",
    "\n",
    "    faintMean = xMean * N[mask_SN]\n",
    "    faintRMS = xRMS * N[mask_SN]\n",
    "\n",
    "    # Not sure if need to save these values for anything ... can always do it later,\n",
    "    # but for now we just replace the Signal  by faintMean , \n",
    "    # and Noise by faintRMS \n",
    "    seasonal_averages['psfFlux'+avg_method][mask_SN] = faintMean\n",
    "    seasonal_averages['psfFlux'+avg_method+'Err'][mask_SN] = faintRMS"
   ]
  },
  {
   "cell_type": "code",
   "execution_count": 81,
   "metadata": {
    "collapsed": false
   },
   "outputs": [],
   "source": [
    "#"
   ]
  },
  {
   "cell_type": "code",
   "execution_count": 71,
   "metadata": {
    "collapsed": false
   },
   "outputs": [
    {
     "name": "stderr",
     "output_type": "stream",
     "text": [
      "/Users/chris/anaconda3/envs/py36/lib/python3.6/site-packages/matplotlib/figure.py:1742: UserWarning: This figure includes Axes that are not compatible with tight_layout, so its results might be incorrect.\n",
      "  warnings.warn(\"This figure includes Axes that are not \"\n"
     ]
    },
    {
     "data": {
      "image/png": "[encoded data removed]",
      "text/plain": [
       "<matplotlib.figure.Figure at 0x11d18a390>"
      ]
     },
     "metadata": {},
     "output_type": "display_data"
    }
   ],
   "source": [
    "# Just to prove that everything works just fine ... \n",
    "fig,ax = plt.subplots(1,1,figsize=(8,6))\n",
    "ax.scatter(SN[mask_SN], faintMean/ N[mask_SN])\n",
    "ax.set_xlabel('xObs = S/N')\n",
    "ax.set_ylabel('xMean')\n",
    "ax.set_title('First '+str(len(np.unique(raw_data['objectId']))) + \\\n",
    "             ' objects of u00_21.csv.gz')\n",
    "plt.savefig('test_seasonally_binned_faint_pipeline1.png', bbox_inches='tight')"
   ]
  },
  {
   "cell_type": "code",
   "execution_count": 117,
   "metadata": {
    "collapsed": false
   },
   "outputs": [
    {
     "data": {
      "text/plain": [
       "Int64Index([216172782516437336, 216172782516437339, 216172782516437345,\n",
       "            216172782516437346, 216172782516437358, 216172782516437360,\n",
       "            216172782516437362, 216172782516437371, 216172782516437379,\n",
       "            216172782516437381,\n",
       "            ...\n",
       "            216172783590182804, 216172783590182830, 216172783590182833,\n",
       "            216172783590182867, 216172783590182886, 216172783590182898,\n",
       "            216172783590182905, 216172783590182910, 216172783590182920,\n",
       "            216172783590182954],\n",
       "           dtype='int64', name='objectId', length=1345)"
      ]
     },
     "execution_count": 117,
     "metadata": {},
     "output_type": "execute_result"
    }
   ],
   "source": [
    "seasonal_averages.index.levels[0]"
   ]
  },
  {
   "cell_type": "code",
   "execution_count": 102,
   "metadata": {
    "collapsed": false,
    "scrolled": true
   },
   "outputs": [
    {
     "name": "stdout",
     "output_type": "stream",
     "text": [
      "Number of seasons with error < 0.003 is 8\n",
      "Number of seasons with error < 0.003 is 0\n"
     ]
    }
   ],
   "source": [
    "# Calculate seasonal magnitudes \n",
    "for avg_method in ['Mean', 'Median'] : \n",
    "    flux = 'psfFlux'+avg_method\n",
    "    flux_err = 'psfFlux'+avg_method+'Err'\n",
    "    mag = 'psf'+avg_method\n",
    "    mag_err = 'psf'+avg_method+'Err' \n",
    "    \n",
    "    seasonal_averages[mag]= \\\n",
    "        procP.flux2ab(seasonal_averages[flux], unit='Jy')    \n",
    "    seasonal_averages[mag_err] = \\\n",
    "        procP.flux2absigma(seasonal_averages[flux], seasonal_averages[flux_err])    \n",
    "    \n",
    "    # Wherever the error in magnitudes is smaller than the minimum value, \n",
    "    # add that minimum value\n",
    "\n",
    "    e = seasonal_averages[mag_err].values\n",
    "    # How many seasons have Mean Err < min_err ? \n",
    "    min_err = 0.003\n",
    "    mask_err = e < min_err\n",
    "    print('Number of seasons with error < %.3f is %d'%(min_err,np.sum(mask_err)))\n",
    "    e_new = np.sqrt(min_err + e[mask_err])\n",
    "\n",
    "    f = seasonal_averages[flux][mask_err]\n",
    "    fErr =  seasonal_averages[flux_err][mask_err]\n",
    "    fErrNew = np.sqrt(fErr**2.0 + (min_err * f)**2.0)\n",
    "\n",
    "    seasonal_averages[flux_err][mask_err] = fErrNew\n",
    "\n"
   ]
  },
  {
   "cell_type": "code",
   "execution_count": 120,
   "metadata": {
    "collapsed": false
   },
   "outputs": [],
   "source": [
    "# need to change the multindex to columns, to be able to aggregate again...\n",
    "# https://stackoverflow.com/questions/20110170/turn-pandas-multi-index-into-column \n",
    "seasonal_averages.reset_index(inplace=True)  \n",
    "\n",
    "#### Save the seasonal averages HERE ! "
   ]
  },
  {
   "cell_type": "code",
   "execution_count": 123,
   "metadata": {
    "collapsed": false
   },
   "outputs": [
    {
     "data": {
      "text/html": [
       "<div>\n",
       "<table border=\"1\" class=\"dataframe\">\n",
       "  <thead>\n",
       "    <tr style=\"text-align: right;\">\n",
       "      <th></th>\n",
       "      <th>objectId</th>\n",
       "      <th>season</th>\n",
       "      <th>N</th>\n",
       "      <th>chi2DOF</th>\n",
       "      <th>chi2R</th>\n",
       "      <th>flagLtTenPts</th>\n",
       "      <th>maxMJD</th>\n",
       "      <th>meanMJD</th>\n",
       "      <th>meanSN</th>\n",
       "      <th>minMJD</th>\n",
       "      <th>...</th>\n",
       "      <th>psfFluxSigG</th>\n",
       "      <th>psfFluxSkew</th>\n",
       "      <th>psfFluxStDev</th>\n",
       "      <th>flagFaint</th>\n",
       "      <th>flagFaintMean</th>\n",
       "      <th>flagFaintMedian</th>\n",
       "      <th>psfMean</th>\n",
       "      <th>psfMeanErr</th>\n",
       "      <th>psfMedian</th>\n",
       "      <th>psfMedianErr</th>\n",
       "    </tr>\n",
       "  </thead>\n",
       "  <tbody>\n",
       "    <tr>\n",
       "      <th>0</th>\n",
       "      <td>216172782516437336</td>\n",
       "      <td>0.0</td>\n",
       "      <td>13.0</td>\n",
       "      <td>2.449688</td>\n",
       "      <td>1.541985</td>\n",
       "      <td>NaN</td>\n",
       "      <td>53352.112576</td>\n",
       "      <td>52767.698502</td>\n",
       "      <td>1.279859</td>\n",
       "      <td>51819.354709</td>\n",
       "      <td>...</td>\n",
       "      <td>1.126948e-06</td>\n",
       "      <td>0.0</td>\n",
       "      <td>1.180163e-06</td>\n",
       "      <td>False</td>\n",
       "      <td>False</td>\n",
       "      <td>False</td>\n",
       "      <td>23.903949</td>\n",
       "      <td>0.237600</td>\n",
       "      <td>23.749627</td>\n",
       "      <td>0.258332</td>\n",
       "    </tr>\n",
       "    <tr>\n",
       "      <th>1</th>\n",
       "      <td>216172782516437336</td>\n",
       "      <td>1.0</td>\n",
       "      <td>20.0</td>\n",
       "      <td>1.528823</td>\n",
       "      <td>0.869733</td>\n",
       "      <td>NaN</td>\n",
       "      <td>53705.212024</td>\n",
       "      <td>53666.262256</td>\n",
       "      <td>1.115632</td>\n",
       "      <td>53622.320880</td>\n",
       "      <td>...</td>\n",
       "      <td>1.380788e-06</td>\n",
       "      <td>0.0</td>\n",
       "      <td>1.466114e-06</td>\n",
       "      <td>False</td>\n",
       "      <td>False</td>\n",
       "      <td>False</td>\n",
       "      <td>23.547062</td>\n",
       "      <td>0.213652</td>\n",
       "      <td>23.504472</td>\n",
       "      <td>0.257473</td>\n",
       "    </tr>\n",
       "    <tr>\n",
       "      <th>2</th>\n",
       "      <td>216172782516437336</td>\n",
       "      <td>2.0</td>\n",
       "      <td>20.0</td>\n",
       "      <td>1.319656</td>\n",
       "      <td>0.908277</td>\n",
       "      <td>NaN</td>\n",
       "      <td>54068.218192</td>\n",
       "      <td>54027.121269</td>\n",
       "      <td>0.973769</td>\n",
       "      <td>53975.296819</td>\n",
       "      <td>...</td>\n",
       "      <td>1.139126e-06</td>\n",
       "      <td>0.0</td>\n",
       "      <td>1.357195e-06</td>\n",
       "      <td>False</td>\n",
       "      <td>False</td>\n",
       "      <td>False</td>\n",
       "      <td>23.658872</td>\n",
       "      <td>0.244193</td>\n",
       "      <td>23.591663</td>\n",
       "      <td>0.287681</td>\n",
       "    </tr>\n",
       "    <tr>\n",
       "      <th>3</th>\n",
       "      <td>216172782516437336</td>\n",
       "      <td>3.0</td>\n",
       "      <td>15.0</td>\n",
       "      <td>1.690726</td>\n",
       "      <td>0.727644</td>\n",
       "      <td>NaN</td>\n",
       "      <td>54422.234976</td>\n",
       "      <td>54395.610309</td>\n",
       "      <td>1.216188</td>\n",
       "      <td>54357.275736</td>\n",
       "      <td>...</td>\n",
       "      <td>1.478026e-06</td>\n",
       "      <td>0.0</td>\n",
       "      <td>1.358368e-06</td>\n",
       "      <td>False</td>\n",
       "      <td>False</td>\n",
       "      <td>False</td>\n",
       "      <td>23.564670</td>\n",
       "      <td>0.227112</td>\n",
       "      <td>23.809071</td>\n",
       "      <td>0.356501</td>\n",
       "    </tr>\n",
       "    <tr>\n",
       "      <th>4</th>\n",
       "      <td>216172782516437339</td>\n",
       "      <td>0.0</td>\n",
       "      <td>14.0</td>\n",
       "      <td>1.951810</td>\n",
       "      <td>1.110862</td>\n",
       "      <td>NaN</td>\n",
       "      <td>53352.112576</td>\n",
       "      <td>52777.883569</td>\n",
       "      <td>0.329167</td>\n",
       "      <td>51819.354709</td>\n",
       "      <td>...</td>\n",
       "      <td>7.040100e-07</td>\n",
       "      <td>0.0</td>\n",
       "      <td>1.023135e-06</td>\n",
       "      <td>True</td>\n",
       "      <td>False</td>\n",
       "      <td>False</td>\n",
       "      <td>25.217590</td>\n",
       "      <td>0.505499</td>\n",
       "      <td>24.981383</td>\n",
       "      <td>0.506356</td>\n",
       "    </tr>\n",
       "    <tr>\n",
       "      <th>5</th>\n",
       "      <td>216172782516437339</td>\n",
       "      <td>1.0</td>\n",
       "      <td>18.0</td>\n",
       "      <td>0.947346</td>\n",
       "      <td>0.694827</td>\n",
       "      <td>NaN</td>\n",
       "      <td>53705.212024</td>\n",
       "      <td>53665.430719</td>\n",
       "      <td>-0.120047</td>\n",
       "      <td>53622.320880</td>\n",
       "      <td>...</td>\n",
       "      <td>1.103142e-06</td>\n",
       "      <td>0.0</td>\n",
       "      <td>1.112617e-06</td>\n",
       "      <td>True</td>\n",
       "      <td>False</td>\n",
       "      <td>False</td>\n",
       "      <td>25.459248</td>\n",
       "      <td>0.540960</td>\n",
       "      <td>24.879385</td>\n",
       "      <td>0.526098</td>\n",
       "    </tr>\n",
       "    <tr>\n",
       "      <th>6</th>\n",
       "      <td>216172782516437339</td>\n",
       "      <td>2.0</td>\n",
       "      <td>21.0</td>\n",
       "      <td>1.568071</td>\n",
       "      <td>0.866963</td>\n",
       "      <td>NaN</td>\n",
       "      <td>54068.218192</td>\n",
       "      <td>54026.988690</td>\n",
       "      <td>0.177131</td>\n",
       "      <td>53975.296819</td>\n",
       "      <td>...</td>\n",
       "      <td>1.294525e-06</td>\n",
       "      <td>0.0</td>\n",
       "      <td>1.359208e-06</td>\n",
       "      <td>True</td>\n",
       "      <td>False</td>\n",
       "      <td>False</td>\n",
       "      <td>25.356777</td>\n",
       "      <td>0.534023</td>\n",
       "      <td>25.486133</td>\n",
       "      <td>0.499920</td>\n",
       "    </tr>\n",
       "    <tr>\n",
       "      <th>7</th>\n",
       "      <td>216172782516437339</td>\n",
       "      <td>3.0</td>\n",
       "      <td>17.0</td>\n",
       "      <td>1.060968</td>\n",
       "      <td>1.179825</td>\n",
       "      <td>NaN</td>\n",
       "      <td>54422.234976</td>\n",
       "      <td>54397.095459</td>\n",
       "      <td>0.335943</td>\n",
       "      <td>54357.275736</td>\n",
       "      <td>...</td>\n",
       "      <td>1.437758e-06</td>\n",
       "      <td>0.0</td>\n",
       "      <td>1.092188e-06</td>\n",
       "      <td>True</td>\n",
       "      <td>False</td>\n",
       "      <td>False</td>\n",
       "      <td>24.730772</td>\n",
       "      <td>0.513145</td>\n",
       "      <td>24.495912</td>\n",
       "      <td>0.515320</td>\n",
       "    </tr>\n",
       "    <tr>\n",
       "      <th>8</th>\n",
       "      <td>216172782516437345</td>\n",
       "      <td>0.0</td>\n",
       "      <td>13.0</td>\n",
       "      <td>1.601129</td>\n",
       "      <td>0.878055</td>\n",
       "      <td>NaN</td>\n",
       "      <td>53352.112576</td>\n",
       "      <td>52767.698374</td>\n",
       "      <td>-0.136317</td>\n",
       "      <td>51819.354709</td>\n",
       "      <td>...</td>\n",
       "      <td>7.797275e-07</td>\n",
       "      <td>0.0</td>\n",
       "      <td>8.966255e-07</td>\n",
       "      <td>True</td>\n",
       "      <td>False</td>\n",
       "      <td>False</td>\n",
       "      <td>25.988086</td>\n",
       "      <td>0.499933</td>\n",
       "      <td>25.621999</td>\n",
       "      <td>0.498116</td>\n",
       "    </tr>\n",
       "    <tr>\n",
       "      <th>9</th>\n",
       "      <td>216172782516437345</td>\n",
       "      <td>1.0</td>\n",
       "      <td>17.0</td>\n",
       "      <td>1.758758</td>\n",
       "      <td>1.593516</td>\n",
       "      <td>NaN</td>\n",
       "      <td>53705.212024</td>\n",
       "      <td>53666.029743</td>\n",
       "      <td>-0.228740</td>\n",
       "      <td>53622.320880</td>\n",
       "      <td>...</td>\n",
       "      <td>2.436486e-06</td>\n",
       "      <td>0.0</td>\n",
       "      <td>1.459337e-06</td>\n",
       "      <td>True</td>\n",
       "      <td>False</td>\n",
       "      <td>False</td>\n",
       "      <td>25.860138</td>\n",
       "      <td>0.502205</td>\n",
       "      <td>25.658635</td>\n",
       "      <td>0.502613</td>\n",
       "    </tr>\n",
       "  </tbody>\n",
       "</table>\n",
       "<p>10 rows × 24 columns</p>\n",
       "</div>"
      ],
      "text/plain": [
       "             objectId  season     N   chi2DOF     chi2R  flagLtTenPts  \\\n",
       "0  216172782516437336     0.0  13.0  2.449688  1.541985           NaN   \n",
       "1  216172782516437336     1.0  20.0  1.528823  0.869733           NaN   \n",
       "2  216172782516437336     2.0  20.0  1.319656  0.908277           NaN   \n",
       "3  216172782516437336     3.0  15.0  1.690726  0.727644           NaN   \n",
       "4  216172782516437339     0.0  14.0  1.951810  1.110862           NaN   \n",
       "5  216172782516437339     1.0  18.0  0.947346  0.694827           NaN   \n",
       "6  216172782516437339     2.0  21.0  1.568071  0.866963           NaN   \n",
       "7  216172782516437339     3.0  17.0  1.060968  1.179825           NaN   \n",
       "8  216172782516437345     0.0  13.0  1.601129  0.878055           NaN   \n",
       "9  216172782516437345     1.0  17.0  1.758758  1.593516           NaN   \n",
       "\n",
       "         maxMJD       meanMJD    meanSN        minMJD     ...       \\\n",
       "0  53352.112576  52767.698502  1.279859  51819.354709     ...        \n",
       "1  53705.212024  53666.262256  1.115632  53622.320880     ...        \n",
       "2  54068.218192  54027.121269  0.973769  53975.296819     ...        \n",
       "3  54422.234976  54395.610309  1.216188  54357.275736     ...        \n",
       "4  53352.112576  52777.883569  0.329167  51819.354709     ...        \n",
       "5  53705.212024  53665.430719 -0.120047  53622.320880     ...        \n",
       "6  54068.218192  54026.988690  0.177131  53975.296819     ...        \n",
       "7  54422.234976  54397.095459  0.335943  54357.275736     ...        \n",
       "8  53352.112576  52767.698374 -0.136317  51819.354709     ...        \n",
       "9  53705.212024  53666.029743 -0.228740  53622.320880     ...        \n",
       "\n",
       "    psfFluxSigG  psfFluxSkew  psfFluxStDev  flagFaint  flagFaintMean  \\\n",
       "0  1.126948e-06          0.0  1.180163e-06      False          False   \n",
       "1  1.380788e-06          0.0  1.466114e-06      False          False   \n",
       "2  1.139126e-06          0.0  1.357195e-06      False          False   \n",
       "3  1.478026e-06          0.0  1.358368e-06      False          False   \n",
       "4  7.040100e-07          0.0  1.023135e-06       True          False   \n",
       "5  1.103142e-06          0.0  1.112617e-06       True          False   \n",
       "6  1.294525e-06          0.0  1.359208e-06       True          False   \n",
       "7  1.437758e-06          0.0  1.092188e-06       True          False   \n",
       "8  7.797275e-07          0.0  8.966255e-07       True          False   \n",
       "9  2.436486e-06          0.0  1.459337e-06       True          False   \n",
       "\n",
       "   flagFaintMedian    psfMean psfMeanErr  psfMedian psfMedianErr  \n",
       "0            False  23.903949   0.237600  23.749627     0.258332  \n",
       "1            False  23.547062   0.213652  23.504472     0.257473  \n",
       "2            False  23.658872   0.244193  23.591663     0.287681  \n",
       "3            False  23.564670   0.227112  23.809071     0.356501  \n",
       "4            False  25.217590   0.505499  24.981383     0.506356  \n",
       "5            False  25.459248   0.540960  24.879385     0.526098  \n",
       "6            False  25.356777   0.534023  25.486133     0.499920  \n",
       "7            False  24.730772   0.513145  24.495912     0.515320  \n",
       "8            False  25.988086   0.499933  25.621999     0.498116  \n",
       "9            False  25.860138   0.502205  25.658635     0.502613  \n",
       "\n",
       "[10 rows x 24 columns]"
      ]
     },
     "execution_count": 123,
     "metadata": {},
     "output_type": "execute_result"
    }
   ],
   "source": [
    "seasonal_averages[:10]"
   ]
  },
  {
   "cell_type": "code",
   "execution_count": 126,
   "metadata": {
    "collapsed": false
   },
   "outputs": [
    {
     "data": {
      "text/plain": [
       "Index(['objectId', 'season', 'N', 'chi2DOF', 'chi2R', 'flagLtTenPts', 'maxMJD',\n",
       "       'meanMJD', 'meanSN', 'minMJD', 'psfFluxMean', 'psfFluxMeanErr',\n",
       "       'psfFluxMedian', 'psfFluxMedianErr', 'psfFluxSigG', 'psfFluxSkew',\n",
       "       'psfFluxStDev', 'flagFaint', 'flagFaintMean', 'flagFaintMedian',\n",
       "       'psfMean', 'psfMeanErr', 'psfMedian', 'psfMedianErr'],\n",
       "      dtype='object')"
      ]
     },
     "execution_count": 126,
     "metadata": {},
     "output_type": "execute_result"
    }
   ],
   "source": [
    "seasonal_averages.columns"
   ]
  },
  {
   "cell_type": "code",
   "execution_count": 127,
   "metadata": {
    "collapsed": false
   },
   "outputs": [],
   "source": [
    "# 3a) Aggregate by objectId\n",
    "grouped = seasonal_averages.groupby('objectId')\n",
    "\n",
    "# calculate stats using seasonal averages... \n",
    "# do it only using Mean... \n",
    "# next time around can also do that using Median, and \n",
    "# hstack the two ... \n",
    "varMetricsSeasons  = grouped.apply(varF.computeVarMetrics, \n",
    "                                 flux_column='psfFluxMean',\n",
    "                                 error_column = 'psfFluxMeanErr',\n",
    "                                 time_column = 'meanMJD', \n",
    "                                 calc_sigma_pdf = False, \n",
    "                                 verbose=False,\n",
    "                                 seasonal_average = False)"
   ]
  },
  {
   "cell_type": "code",
   "execution_count": 129,
   "metadata": {
    "collapsed": false
   },
   "outputs": [],
   "source": [
    "# need to rename the columns to reflect the fact that we used seasonal Mean-based averages,\n",
    "# as opposed to Median-based averages \n",
    "\n",
    "# calculate magnitudes for full light curve aggregates based on seasonal averages \n",
    "varMetricsSeasons['psfMean'] = procP.flux2ab(varMetricsSeasons['psfFluxMean'], \n",
    "                                                unit='Jy')\n",
    "varMetricsSeasons['psfMeanErr'] = procP.flux2absigma(varMetricsSeasons['psfFluxMean'], \n",
    "                                                     varMetricsSeasons['psfFluxMeanErr'])    "
   ]
  },
  {
   "cell_type": "code",
   "execution_count": 130,
   "metadata": {
    "collapsed": true
   },
   "outputs": [],
   "source": [
    "#### Save the full LC Metrics based on averaged seasons .... \n"
   ]
  },
  {
   "cell_type": "markdown",
   "metadata": {},
   "source": [
    "Note to self  : return to parts marked by ### ! "
   ]
  },
  {
   "cell_type": "code",
   "execution_count": null,
   "metadata": {
    "collapsed": true
   },
   "outputs": [],
   "source": []
  }
 ],
 "metadata": {
  "kernelspec": {
   "display_name": "Python 3",
   "language": "python",
   "name": "python3"
  },
  "language_info": {
   "codemirror_mode": {
    "name": "ipython",
    "version": 3
   },
   "file_extension": ".py",
   "mimetype": "text/x-python",
   "name": "python",
   "nbconvert_exporter": "python",
   "pygments_lexer": "ipython3",
   "version": "3.6.0"
  }
 },
 "nbformat": 4,
 "nbformat_minor": 2
}

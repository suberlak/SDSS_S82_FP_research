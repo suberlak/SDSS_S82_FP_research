{
 "cells": [
  {
   "cell_type": "markdown",
   "metadata": {},
   "source": [
    "## Fig. 10.15 derivative : use Generalized LS, BIC / AIC to assess significance "
   ]
  },
  {
   "cell_type": "code",
   "execution_count": 6,
   "metadata": {
    "collapsed": false
   },
   "outputs": [
    {
     "data": {
      "image/png": "[encoded data removed]",
      "text/plain": [
       "<matplotlib.figure.Figure at 0x118e643c8>"
      ]
     },
     "metadata": {},
     "output_type": "display_data"
    }
   ],
   "source": [
    "%matplotlib inline \n",
    "    \n",
    "    # Author: Jake VanderPlas\n",
    "# License: BSD\n",
    "#   The figure produced by this code is published in the textbook\n",
    "#   \"Statistics, Data Mining, and Machine Learning in Astronomy\" (2013)\n",
    "#   For more information, see http://astroML.github.com\n",
    "#   To report a bug or issue, use the following forum:\n",
    "#    https://groups.google.com/forum/#!forum/astroml-general\n",
    "import numpy as np\n",
    "from matplotlib import pyplot as plt\n",
    "from astroML.time_series import\\\n",
    "    lomb_scargle, lomb_scargle_BIC, lomb_scargle_bootstrap\n",
    "\n",
    "#----------------------------------------------------------------------\n",
    "# This function adjusts matplotlib settings for a uniform feel in the textbook.\n",
    "# Note that with usetex=True, fonts are rendered with LaTeX.  This may\n",
    "# result in an error if LaTeX is not installed on your system.  In that case,\n",
    "# you can set usetex to False.\n",
    "from astroML.plotting import setup_text_plots\n",
    "setup_text_plots(fontsize=8, usetex=True)\n",
    "\n",
    "#------------------------------------------------------------\n",
    "# Generate Data\n",
    "np.random.seed(0)\n",
    "N = 30\n",
    "P = 0.3\n",
    "\n",
    "t = np.random.randint(100, size=N) + 0.3 + 0.4 * np.random.random(N)\n",
    "y = 10 + np.sin(2 * np.pi * t / P)\n",
    "dy = 0.5 + 0.5 * np.random.random(N)\n",
    "y_obs = np.random.normal(y, dy)\n",
    "\n",
    "#------------------------------------------------------------\n",
    "# Compute periodogram\n",
    "period = 10 ** np.linspace(-1, 0, 10000)\n",
    "omega = 2 * np.pi / period\n",
    "PS = lomb_scargle(t, y_obs, dy, omega, generalized=True)\n",
    "\n",
    "#------------------------------------------------------------\n",
    "# Get significance via bootstrap\n",
    "D = lomb_scargle_bootstrap(t, y_obs, dy, omega, generalized=True,\n",
    "                           N_bootstraps=1000, random_state=0)\n",
    "sig1, sig5 = np.percentile(D, [99, 95])\n",
    "\n",
    "#------------------------------------------------------------\n",
    "# Plot the results\n",
    "fig = plt.figure(figsize=(5, 3.75))\n",
    "fig.subplots_adjust(left=0.1, right=0.9, hspace=0.25)\n",
    "\n",
    "# First panel: the data\n",
    "ax = fig.add_subplot(211)\n",
    "ax.errorbar(t, y_obs, dy, fmt='.k', lw=1, ecolor='gray')\n",
    "ax.set_xlabel('time (days)')\n",
    "ax.set_ylabel('flux')\n",
    "ax.set_xlim(-5, 105)\n",
    "\n",
    "# Second panel: the periodogram & significance levels\n",
    "ax1 = fig.add_subplot(212, xscale='log')\n",
    "ax1.plot(period, PS, '-', c='black', lw=1, zorder=1)\n",
    "ax1.plot([period[0], period[-1]], [sig1, sig1], ':', c='black')\n",
    "ax1.plot([period[0], period[-1]], [sig5, sig5], ':', c='black')\n",
    "\n",
    "ax1.annotate(\"\", (0.3, 0.65), (0.3, 0.85), ha='center',\n",
    "             arrowprops=dict(arrowstyle='->'))\n",
    "\n",
    "ax1.set_xlim(period[0], period[-1])\n",
    "ax1.set_ylim(-0.05, 0.85)\n",
    "\n",
    "ax1.set_xlabel(r'period (days)')\n",
    "ax1.set_ylabel('power')\n",
    "\n",
    "# Twin axis: label BIC on the right side\n",
    "ax2 = ax1.twinx()\n",
    "ax2.set_ylim(tuple(lomb_scargle_BIC(ax1.get_ylim(), y_obs, dy)))\n",
    "ax2.set_ylabel(r'$\\Delta BIC$')\n",
    "\n",
    "ax1.xaxis.set_major_formatter(plt.FormatStrFormatter('%.1f'))\n",
    "ax1.xaxis.set_minor_formatter(plt.FormatStrFormatter('%.1f'))\n",
    "ax1.xaxis.set_major_locator(plt.LogLocator(10))\n",
    "ax1.xaxis.set_major_formatter(plt.FormatStrFormatter('%.3g'))\n",
    "\n",
    "plt.show()"
   ]
  },
  {
   "cell_type": "code",
   "execution_count": 66,
   "metadata": {
    "collapsed": false
   },
   "outputs": [
    {
     "data": {
      "text/plain": [
       "<matplotlib.collections.LineCollection at 0x11e2e20b8>"
      ]
     },
     "execution_count": 66,
     "metadata": {},
     "output_type": "execute_result"
    },
    {
     "data": {
      "image/png": "[encoded data removed]",
      "text/plain": [
       "<matplotlib.figure.Figure at 0x11f9f01d0>"
      ]
     },
     "metadata": {},
     "output_type": "display_data"
    }
   ],
   "source": [
    "plt.plot(np.sort(D))\n",
    "plt.hlines(sig1, 0, len(D))\n",
    "plt.hlines(sig5, 0, len(D))"
   ]
  },
  {
   "cell_type": "code",
   "execution_count": 78,
   "metadata": {
    "collapsed": false
   },
   "outputs": [
    {
     "data": {
      "text/plain": [
       "<matplotlib.legend.Legend at 0x120304a58>"
      ]
     },
     "execution_count": 78,
     "metadata": {},
     "output_type": "execute_result"
    },
    {
     "data": {
      "image/png": "[encoded data removed]",
      "text/plain": [
       "<matplotlib.figure.Figure at 0x11bb3fac8>"
      ]
     },
     "metadata": {},
     "output_type": "display_data"
    }
   ],
   "source": [
    "fig,ax = plt.subplots()\n",
    "\n",
    "ax.hist(D, histtype='step', color='red', lw=2, bins=25)\n",
    "ax.axvline(sig1, ls ='--', lw=2, color='black', label=r'$1 \\sigma$')\n",
    "ax.axvline(sig5, ls = '--', lw=2, color='green',label=r'$5 \\sigma$' )\n",
    "ax.set_xlabel('max(P_{LS})')\n",
    "ax.set_ylabel('count')\n",
    "plt.legend()"
   ]
  },
  {
   "cell_type": "code",
   "execution_count": 60,
   "metadata": {
    "collapsed": false
   },
   "outputs": [
    {
     "data": {
      "text/plain": [
       "0.64491544858553085"
      ]
     },
     "execution_count": 60,
     "metadata": {},
     "output_type": "execute_result"
    }
   ],
   "source": [
    "sig1"
   ]
  },
  {
   "cell_type": "code",
   "execution_count": 5,
   "metadata": {
    "collapsed": false
   },
   "outputs": [
    {
     "data": {
      "text/plain": [
       "(-13.212274717452448, 30.916005214341055)"
      ]
     },
     "execution_count": 5,
     "metadata": {},
     "output_type": "execute_result"
    }
   ],
   "source": [
    "tuple(lomb_scargle_BIC(ax1.get_ylim(), y_obs, dy))"
   ]
  },
  {
   "cell_type": "code",
   "execution_count": 5,
   "metadata": {
    "collapsed": false
   },
   "outputs": [
    {
     "data": {
      "text/plain": [
       "(-13.212274717452448, 30.916005214341055)"
      ]
     },
     "execution_count": 5,
     "metadata": {},
     "output_type": "execute_result"
    }
   ],
   "source": [
    "tuple(lomb_scargle_BIC(ax1.get_ylim(), y_obs, dy))"
   ]
  },
  {
   "cell_type": "code",
   "execution_count": null,
   "metadata": {
    "collapsed": true
   },
   "outputs": [],
   "source": [
    "# LombScargle_BIC.... \n",
    "# https://github.com/astroML/astroML/blob/master/astroML/time_series/periodogram.py"
   ]
  }
 ],
 "metadata": {
  "anaconda-cloud": {},
  "kernelspec": {
   "display_name": "Python [Root]",
   "language": "python",
   "name": "Python [Root]"
  },
  "language_info": {
   "codemirror_mode": {
    "name": "ipython",
    "version": 3
   },
   "file_extension": ".py",
   "mimetype": "text/x-python",
   "name": "python",
   "nbconvert_exporter": "python",
   "pygments_lexer": "ipython3",
   "version": "3.5.2"
  }
 },
 "nbformat": 4,
 "nbformat_minor": 0
}
